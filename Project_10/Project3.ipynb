{
 "cells": [
  {
   "cell_type": "markdown",
   "metadata": {},
   "source": [
    "# Цель проекта:\n",
    "\n",
    "В этом проекте мы будете работать с датасетом, содержащим сведения о 40 000 ресторанах Европы, а модель, которую мы будем обучать, должна будет предсказывать рейтинг ресторана по данным сайта TripAdvisor на основе имеющихся в датасете данных."
   ]
  },
  {
   "cell_type": "markdown",
   "metadata": {},
   "source": [
    "### Первоначальная версия датасета состоит из десяти столбцов, содержащих следующую информацию:\n",
    "\n",
    "- Restaurant_id — идентификационный номер ресторана / сети ресторанов;\n",
    "- City — город, в котором находится ресторан;\n",
    "- Cuisine Style — кухня или кухни, к которым можно отнести блюда, предлагаемые в ресторане;\n",
    "- Ranking — место, которое занимает данный ресторан среди всех ресторанов своего города;\n",
    "- Rating — рейтинг ресторана по данным TripAdvisor (именно это значение должна будет предсказывать модель);\n",
    "- Price Range — диапазон цен в ресторане;\n",
    "- Number of Reviews — количество отзывов о ресторане;\n",
    "- Reviews — данные о двух отзывах, которые отображаются на сайте ресторана;\n",
    "- URL_TA — URL страницы ресторана на TripAdvosor;\n",
    "- ID_TA — идентификатор ресторана в базе данных TripAdvisor."
   ]
  },
  {
   "cell_type": "code",
   "execution_count": 1,
   "metadata": {},
   "outputs": [
    {
     "data": {
      "text/html": [
       "<div>\n",
       "<style scoped>\n",
       "    .dataframe tbody tr th:only-of-type {\n",
       "        vertical-align: middle;\n",
       "    }\n",
       "\n",
       "    .dataframe tbody tr th {\n",
       "        vertical-align: top;\n",
       "    }\n",
       "\n",
       "    .dataframe thead th {\n",
       "        text-align: right;\n",
       "    }\n",
       "</style>\n",
       "<table border=\"1\" class=\"dataframe\">\n",
       "  <thead>\n",
       "    <tr style=\"text-align: right;\">\n",
       "      <th></th>\n",
       "      <th>Restaurant_id</th>\n",
       "      <th>City</th>\n",
       "      <th>Cuisine Style</th>\n",
       "      <th>Ranking</th>\n",
       "      <th>Rating</th>\n",
       "      <th>Price Range</th>\n",
       "      <th>Number of Reviews</th>\n",
       "      <th>Reviews</th>\n",
       "      <th>URL_TA</th>\n",
       "      <th>ID_TA</th>\n",
       "    </tr>\n",
       "  </thead>\n",
       "  <tbody>\n",
       "    <tr>\n",
       "      <td>0</td>\n",
       "      <td>id_5569</td>\n",
       "      <td>Paris</td>\n",
       "      <td>['European', 'French', 'International']</td>\n",
       "      <td>5570.0</td>\n",
       "      <td>3.5</td>\n",
       "      <td>$$ - $$$</td>\n",
       "      <td>194.0</td>\n",
       "      <td>[['Good food at your doorstep', 'A good hotel ...</td>\n",
       "      <td>/Restaurant_Review-g187147-d1912643-Reviews-R_...</td>\n",
       "      <td>d1912643</td>\n",
       "    </tr>\n",
       "    <tr>\n",
       "      <td>1</td>\n",
       "      <td>id_1535</td>\n",
       "      <td>Stockholm</td>\n",
       "      <td>NaN</td>\n",
       "      <td>1537.0</td>\n",
       "      <td>4.0</td>\n",
       "      <td>NaN</td>\n",
       "      <td>10.0</td>\n",
       "      <td>[['Unique cuisine', 'Delicious Nepalese food']...</td>\n",
       "      <td>/Restaurant_Review-g189852-d7992032-Reviews-Bu...</td>\n",
       "      <td>d7992032</td>\n",
       "    </tr>\n",
       "    <tr>\n",
       "      <td>2</td>\n",
       "      <td>id_352</td>\n",
       "      <td>London</td>\n",
       "      <td>['Japanese', 'Sushi', 'Asian', 'Grill', 'Veget...</td>\n",
       "      <td>353.0</td>\n",
       "      <td>4.5</td>\n",
       "      <td>$$$$</td>\n",
       "      <td>688.0</td>\n",
       "      <td>[['Catch up with friends', 'Not exceptional'],...</td>\n",
       "      <td>/Restaurant_Review-g186338-d8632781-Reviews-RO...</td>\n",
       "      <td>d8632781</td>\n",
       "    </tr>\n",
       "    <tr>\n",
       "      <td>3</td>\n",
       "      <td>id_3456</td>\n",
       "      <td>Berlin</td>\n",
       "      <td>NaN</td>\n",
       "      <td>3458.0</td>\n",
       "      <td>5.0</td>\n",
       "      <td>NaN</td>\n",
       "      <td>3.0</td>\n",
       "      <td>[[], []]</td>\n",
       "      <td>/Restaurant_Review-g187323-d1358776-Reviews-Es...</td>\n",
       "      <td>d1358776</td>\n",
       "    </tr>\n",
       "    <tr>\n",
       "      <td>4</td>\n",
       "      <td>id_615</td>\n",
       "      <td>Munich</td>\n",
       "      <td>['German', 'Central European', 'Vegetarian Fri...</td>\n",
       "      <td>621.0</td>\n",
       "      <td>4.0</td>\n",
       "      <td>$$ - $$$</td>\n",
       "      <td>84.0</td>\n",
       "      <td>[['Best place to try a Bavarian food', 'Nice b...</td>\n",
       "      <td>/Restaurant_Review-g187309-d6864963-Reviews-Au...</td>\n",
       "      <td>d6864963</td>\n",
       "    </tr>\n",
       "  </tbody>\n",
       "</table>\n",
       "</div>"
      ],
      "text/plain": [
       "  Restaurant_id       City                                      Cuisine Style  \\\n",
       "0       id_5569      Paris            ['European', 'French', 'International']   \n",
       "1       id_1535  Stockholm                                                NaN   \n",
       "2        id_352     London  ['Japanese', 'Sushi', 'Asian', 'Grill', 'Veget...   \n",
       "3       id_3456     Berlin                                                NaN   \n",
       "4        id_615     Munich  ['German', 'Central European', 'Vegetarian Fri...   \n",
       "\n",
       "   Ranking  Rating Price Range  Number of Reviews  \\\n",
       "0   5570.0     3.5    $$ - $$$              194.0   \n",
       "1   1537.0     4.0         NaN               10.0   \n",
       "2    353.0     4.5        $$$$              688.0   \n",
       "3   3458.0     5.0         NaN                3.0   \n",
       "4    621.0     4.0    $$ - $$$               84.0   \n",
       "\n",
       "                                             Reviews  \\\n",
       "0  [['Good food at your doorstep', 'A good hotel ...   \n",
       "1  [['Unique cuisine', 'Delicious Nepalese food']...   \n",
       "2  [['Catch up with friends', 'Not exceptional'],...   \n",
       "3                                           [[], []]   \n",
       "4  [['Best place to try a Bavarian food', 'Nice b...   \n",
       "\n",
       "                                              URL_TA     ID_TA  \n",
       "0  /Restaurant_Review-g187147-d1912643-Reviews-R_...  d1912643  \n",
       "1  /Restaurant_Review-g189852-d7992032-Reviews-Bu...  d7992032  \n",
       "2  /Restaurant_Review-g186338-d8632781-Reviews-RO...  d8632781  \n",
       "3  /Restaurant_Review-g187323-d1358776-Reviews-Es...  d1358776  \n",
       "4  /Restaurant_Review-g187309-d6864963-Reviews-Au...  d6864963  "
      ]
     },
     "metadata": {},
     "output_type": "display_data"
    }
   ],
   "source": [
    "import pandas as pd\n",
    "import numpy as np\n",
    "import matplotlib.pyplot as plt\n",
    "import seaborn as sns\n",
    "from itertools import combinations\n",
    "from scipy.stats import ttest_ind\n",
    "%matplotlib inline\n",
    "\n",
    "pd.set_option('display.max_rows', 50) # выведем больше строк\n",
    "pd.set_option('display.max_columns', 50) # выведем больше колонок\n",
    "main = pd.read_csv('main_task.csv')\n",
    "display(main.head(5))"
   ]
  },
  {
   "cell_type": "markdown",
   "metadata": {},
   "source": [
    "# 1) ПЕРВИЧНАЯ ОБРАБОТКА ДАННЫХ."
   ]
  },
  {
   "cell_type": "markdown",
   "metadata": {},
   "source": [
    "### Для удобства переименуем столбцы:"
   ]
  },
  {
   "cell_type": "code",
   "execution_count": 2,
   "metadata": {
    "scrolled": true
   },
   "outputs": [
    {
     "data": {
      "text/html": [
       "<div>\n",
       "<style scoped>\n",
       "    .dataframe tbody tr th:only-of-type {\n",
       "        vertical-align: middle;\n",
       "    }\n",
       "\n",
       "    .dataframe tbody tr th {\n",
       "        vertical-align: top;\n",
       "    }\n",
       "\n",
       "    .dataframe thead th {\n",
       "        text-align: right;\n",
       "    }\n",
       "</style>\n",
       "<table border=\"1\" class=\"dataframe\">\n",
       "  <thead>\n",
       "    <tr style=\"text-align: right;\">\n",
       "      <th></th>\n",
       "      <th>id</th>\n",
       "      <th>city</th>\n",
       "      <th>cuisine</th>\n",
       "      <th>ranking</th>\n",
       "      <th>rating</th>\n",
       "      <th>price_range</th>\n",
       "      <th>number_reviews</th>\n",
       "      <th>reviews</th>\n",
       "      <th>url</th>\n",
       "      <th>id_ta</th>\n",
       "    </tr>\n",
       "  </thead>\n",
       "  <tbody>\n",
       "    <tr>\n",
       "      <td>0</td>\n",
       "      <td>id_5569</td>\n",
       "      <td>Paris</td>\n",
       "      <td>['European', 'French', 'International']</td>\n",
       "      <td>5570.0</td>\n",
       "      <td>3.5</td>\n",
       "      <td>$$ - $$$</td>\n",
       "      <td>194.0</td>\n",
       "      <td>[['Good food at your doorstep', 'A good hotel ...</td>\n",
       "      <td>/Restaurant_Review-g187147-d1912643-Reviews-R_...</td>\n",
       "      <td>d1912643</td>\n",
       "    </tr>\n",
       "    <tr>\n",
       "      <td>1</td>\n",
       "      <td>id_1535</td>\n",
       "      <td>Stockholm</td>\n",
       "      <td>NaN</td>\n",
       "      <td>1537.0</td>\n",
       "      <td>4.0</td>\n",
       "      <td>NaN</td>\n",
       "      <td>10.0</td>\n",
       "      <td>[['Unique cuisine', 'Delicious Nepalese food']...</td>\n",
       "      <td>/Restaurant_Review-g189852-d7992032-Reviews-Bu...</td>\n",
       "      <td>d7992032</td>\n",
       "    </tr>\n",
       "    <tr>\n",
       "      <td>2</td>\n",
       "      <td>id_352</td>\n",
       "      <td>London</td>\n",
       "      <td>['Japanese', 'Sushi', 'Asian', 'Grill', 'Veget...</td>\n",
       "      <td>353.0</td>\n",
       "      <td>4.5</td>\n",
       "      <td>$$$$</td>\n",
       "      <td>688.0</td>\n",
       "      <td>[['Catch up with friends', 'Not exceptional'],...</td>\n",
       "      <td>/Restaurant_Review-g186338-d8632781-Reviews-RO...</td>\n",
       "      <td>d8632781</td>\n",
       "    </tr>\n",
       "    <tr>\n",
       "      <td>3</td>\n",
       "      <td>id_3456</td>\n",
       "      <td>Berlin</td>\n",
       "      <td>NaN</td>\n",
       "      <td>3458.0</td>\n",
       "      <td>5.0</td>\n",
       "      <td>NaN</td>\n",
       "      <td>3.0</td>\n",
       "      <td>[[], []]</td>\n",
       "      <td>/Restaurant_Review-g187323-d1358776-Reviews-Es...</td>\n",
       "      <td>d1358776</td>\n",
       "    </tr>\n",
       "    <tr>\n",
       "      <td>4</td>\n",
       "      <td>id_615</td>\n",
       "      <td>Munich</td>\n",
       "      <td>['German', 'Central European', 'Vegetarian Fri...</td>\n",
       "      <td>621.0</td>\n",
       "      <td>4.0</td>\n",
       "      <td>$$ - $$$</td>\n",
       "      <td>84.0</td>\n",
       "      <td>[['Best place to try a Bavarian food', 'Nice b...</td>\n",
       "      <td>/Restaurant_Review-g187309-d6864963-Reviews-Au...</td>\n",
       "      <td>d6864963</td>\n",
       "    </tr>\n",
       "  </tbody>\n",
       "</table>\n",
       "</div>"
      ],
      "text/plain": [
       "        id       city                                            cuisine  \\\n",
       "0  id_5569      Paris            ['European', 'French', 'International']   \n",
       "1  id_1535  Stockholm                                                NaN   \n",
       "2   id_352     London  ['Japanese', 'Sushi', 'Asian', 'Grill', 'Veget...   \n",
       "3  id_3456     Berlin                                                NaN   \n",
       "4   id_615     Munich  ['German', 'Central European', 'Vegetarian Fri...   \n",
       "\n",
       "   ranking  rating price_range  number_reviews  \\\n",
       "0   5570.0     3.5    $$ - $$$           194.0   \n",
       "1   1537.0     4.0         NaN            10.0   \n",
       "2    353.0     4.5        $$$$           688.0   \n",
       "3   3458.0     5.0         NaN             3.0   \n",
       "4    621.0     4.0    $$ - $$$            84.0   \n",
       "\n",
       "                                             reviews  \\\n",
       "0  [['Good food at your doorstep', 'A good hotel ...   \n",
       "1  [['Unique cuisine', 'Delicious Nepalese food']...   \n",
       "2  [['Catch up with friends', 'Not exceptional'],...   \n",
       "3                                           [[], []]   \n",
       "4  [['Best place to try a Bavarian food', 'Nice b...   \n",
       "\n",
       "                                                 url     id_ta  \n",
       "0  /Restaurant_Review-g187147-d1912643-Reviews-R_...  d1912643  \n",
       "1  /Restaurant_Review-g189852-d7992032-Reviews-Bu...  d7992032  \n",
       "2  /Restaurant_Review-g186338-d8632781-Reviews-RO...  d8632781  \n",
       "3  /Restaurant_Review-g187323-d1358776-Reviews-Es...  d1358776  \n",
       "4  /Restaurant_Review-g187309-d6864963-Reviews-Au...  d6864963  "
      ]
     },
     "metadata": {},
     "output_type": "display_data"
    }
   ],
   "source": [
    "main=main.rename(columns={'Restaurant_id': 'id', 'City': 'city','Cuisine Style': 'cuisine', 'Ranking': 'ranking','Rating': 'rating','Price Range': 'price_range','Number of Reviews': 'number_reviews','Reviews': 'reviews','URL_TA': 'url','ID_TA': 'id_ta'})\n",
    "display(main.head(5))"
   ]
  },
  {
   "cell_type": "markdown",
   "metadata": {},
   "source": [
    "### Рассмотрим, какие типы данных у столбцов и сколько пропусков:"
   ]
  },
  {
   "cell_type": "code",
   "execution_count": 3,
   "metadata": {
    "scrolled": true
   },
   "outputs": [
    {
     "name": "stdout",
     "output_type": "stream",
     "text": [
      "<class 'pandas.core.frame.DataFrame'>\n",
      "RangeIndex: 40000 entries, 0 to 39999\n",
      "Data columns (total 10 columns):\n",
      "id                40000 non-null object\n",
      "city              40000 non-null object\n",
      "cuisine           30717 non-null object\n",
      "ranking           40000 non-null float64\n",
      "rating            40000 non-null float64\n",
      "price_range       26114 non-null object\n",
      "number_reviews    37457 non-null float64\n",
      "reviews           40000 non-null object\n",
      "url               40000 non-null object\n",
      "id_ta             40000 non-null object\n",
      "dtypes: float64(3), object(7)\n",
      "memory usage: 3.1+ MB\n"
     ]
    }
   ],
   "source": [
    "main.info()"
   ]
  },
  {
   "cell_type": "code",
   "execution_count": 4,
   "metadata": {},
   "outputs": [
    {
     "data": {
      "text/html": [
       "<div>\n",
       "<style scoped>\n",
       "    .dataframe tbody tr th:only-of-type {\n",
       "        vertical-align: middle;\n",
       "    }\n",
       "\n",
       "    .dataframe tbody tr th {\n",
       "        vertical-align: top;\n",
       "    }\n",
       "\n",
       "    .dataframe thead th {\n",
       "        text-align: right;\n",
       "    }\n",
       "</style>\n",
       "<table border=\"1\" class=\"dataframe\">\n",
       "  <thead>\n",
       "    <tr style=\"text-align: right;\">\n",
       "      <th></th>\n",
       "      <th>count</th>\n",
       "      <th>unique</th>\n",
       "      <th>top</th>\n",
       "      <th>freq</th>\n",
       "      <th>mean</th>\n",
       "      <th>std</th>\n",
       "      <th>min</th>\n",
       "      <th>25%</th>\n",
       "      <th>50%</th>\n",
       "      <th>75%</th>\n",
       "      <th>max</th>\n",
       "    </tr>\n",
       "  </thead>\n",
       "  <tbody>\n",
       "    <tr>\n",
       "      <td>id</td>\n",
       "      <td>40000</td>\n",
       "      <td>11909</td>\n",
       "      <td>id_436</td>\n",
       "      <td>18</td>\n",
       "      <td>NaN</td>\n",
       "      <td>NaN</td>\n",
       "      <td>NaN</td>\n",
       "      <td>NaN</td>\n",
       "      <td>NaN</td>\n",
       "      <td>NaN</td>\n",
       "      <td>NaN</td>\n",
       "    </tr>\n",
       "    <tr>\n",
       "      <td>city</td>\n",
       "      <td>40000</td>\n",
       "      <td>31</td>\n",
       "      <td>London</td>\n",
       "      <td>5757</td>\n",
       "      <td>NaN</td>\n",
       "      <td>NaN</td>\n",
       "      <td>NaN</td>\n",
       "      <td>NaN</td>\n",
       "      <td>NaN</td>\n",
       "      <td>NaN</td>\n",
       "      <td>NaN</td>\n",
       "    </tr>\n",
       "    <tr>\n",
       "      <td>cuisine</td>\n",
       "      <td>30717</td>\n",
       "      <td>9007</td>\n",
       "      <td>['Italian']</td>\n",
       "      <td>1032</td>\n",
       "      <td>NaN</td>\n",
       "      <td>NaN</td>\n",
       "      <td>NaN</td>\n",
       "      <td>NaN</td>\n",
       "      <td>NaN</td>\n",
       "      <td>NaN</td>\n",
       "      <td>NaN</td>\n",
       "    </tr>\n",
       "    <tr>\n",
       "      <td>ranking</td>\n",
       "      <td>40000</td>\n",
       "      <td>NaN</td>\n",
       "      <td>NaN</td>\n",
       "      <td>NaN</td>\n",
       "      <td>3676.03</td>\n",
       "      <td>3708.75</td>\n",
       "      <td>1</td>\n",
       "      <td>973</td>\n",
       "      <td>2285</td>\n",
       "      <td>5260</td>\n",
       "      <td>16444</td>\n",
       "    </tr>\n",
       "    <tr>\n",
       "      <td>rating</td>\n",
       "      <td>40000</td>\n",
       "      <td>NaN</td>\n",
       "      <td>NaN</td>\n",
       "      <td>NaN</td>\n",
       "      <td>3.99304</td>\n",
       "      <td>0.668417</td>\n",
       "      <td>1</td>\n",
       "      <td>3.5</td>\n",
       "      <td>4</td>\n",
       "      <td>4.5</td>\n",
       "      <td>5</td>\n",
       "    </tr>\n",
       "    <tr>\n",
       "      <td>price_range</td>\n",
       "      <td>26114</td>\n",
       "      <td>3</td>\n",
       "      <td>$$ - $$$</td>\n",
       "      <td>18412</td>\n",
       "      <td>NaN</td>\n",
       "      <td>NaN</td>\n",
       "      <td>NaN</td>\n",
       "      <td>NaN</td>\n",
       "      <td>NaN</td>\n",
       "      <td>NaN</td>\n",
       "      <td>NaN</td>\n",
       "    </tr>\n",
       "    <tr>\n",
       "      <td>number_reviews</td>\n",
       "      <td>37457</td>\n",
       "      <td>NaN</td>\n",
       "      <td>NaN</td>\n",
       "      <td>NaN</td>\n",
       "      <td>124.825</td>\n",
       "      <td>295.666</td>\n",
       "      <td>2</td>\n",
       "      <td>9</td>\n",
       "      <td>33</td>\n",
       "      <td>115</td>\n",
       "      <td>9660</td>\n",
       "    </tr>\n",
       "    <tr>\n",
       "      <td>reviews</td>\n",
       "      <td>40000</td>\n",
       "      <td>33516</td>\n",
       "      <td>[[], []]</td>\n",
       "      <td>6471</td>\n",
       "      <td>NaN</td>\n",
       "      <td>NaN</td>\n",
       "      <td>NaN</td>\n",
       "      <td>NaN</td>\n",
       "      <td>NaN</td>\n",
       "      <td>NaN</td>\n",
       "      <td>NaN</td>\n",
       "    </tr>\n",
       "    <tr>\n",
       "      <td>url</td>\n",
       "      <td>40000</td>\n",
       "      <td>39980</td>\n",
       "      <td>/Restaurant_Review-g187514-d8753348-Reviews-Tr...</td>\n",
       "      <td>2</td>\n",
       "      <td>NaN</td>\n",
       "      <td>NaN</td>\n",
       "      <td>NaN</td>\n",
       "      <td>NaN</td>\n",
       "      <td>NaN</td>\n",
       "      <td>NaN</td>\n",
       "      <td>NaN</td>\n",
       "    </tr>\n",
       "    <tr>\n",
       "      <td>id_ta</td>\n",
       "      <td>40000</td>\n",
       "      <td>39980</td>\n",
       "      <td>d3161682</td>\n",
       "      <td>2</td>\n",
       "      <td>NaN</td>\n",
       "      <td>NaN</td>\n",
       "      <td>NaN</td>\n",
       "      <td>NaN</td>\n",
       "      <td>NaN</td>\n",
       "      <td>NaN</td>\n",
       "      <td>NaN</td>\n",
       "    </tr>\n",
       "  </tbody>\n",
       "</table>\n",
       "</div>"
      ],
      "text/plain": [
       "                count unique  \\\n",
       "id              40000  11909   \n",
       "city            40000     31   \n",
       "cuisine         30717   9007   \n",
       "ranking         40000    NaN   \n",
       "rating          40000    NaN   \n",
       "price_range     26114      3   \n",
       "number_reviews  37457    NaN   \n",
       "reviews         40000  33516   \n",
       "url             40000  39980   \n",
       "id_ta           40000  39980   \n",
       "\n",
       "                                                              top   freq  \\\n",
       "id                                                         id_436     18   \n",
       "city                                                       London   5757   \n",
       "cuisine                                               ['Italian']   1032   \n",
       "ranking                                                       NaN    NaN   \n",
       "rating                                                        NaN    NaN   \n",
       "price_range                                              $$ - $$$  18412   \n",
       "number_reviews                                                NaN    NaN   \n",
       "reviews                                                  [[], []]   6471   \n",
       "url             /Restaurant_Review-g187514-d8753348-Reviews-Tr...      2   \n",
       "id_ta                                                    d3161682      2   \n",
       "\n",
       "                   mean       std  min  25%   50%   75%    max  \n",
       "id                  NaN       NaN  NaN  NaN   NaN   NaN    NaN  \n",
       "city                NaN       NaN  NaN  NaN   NaN   NaN    NaN  \n",
       "cuisine             NaN       NaN  NaN  NaN   NaN   NaN    NaN  \n",
       "ranking         3676.03   3708.75    1  973  2285  5260  16444  \n",
       "rating          3.99304  0.668417    1  3.5     4   4.5      5  \n",
       "price_range         NaN       NaN  NaN  NaN   NaN   NaN    NaN  \n",
       "number_reviews  124.825   295.666    2    9    33   115   9660  \n",
       "reviews             NaN       NaN  NaN  NaN   NaN   NaN    NaN  \n",
       "url                 NaN       NaN  NaN  NaN   NaN   NaN    NaN  \n",
       "id_ta               NaN       NaN  NaN  NaN   NaN   NaN    NaN  "
      ]
     },
     "execution_count": 4,
     "metadata": {},
     "output_type": "execute_result"
    }
   ],
   "source": [
    "main.describe(include='all').T"
   ]
  },
  {
   "cell_type": "markdown",
   "metadata": {},
   "source": [
    "### На первый взгляд, в датасете 3 числовых столбца:\n",
    "- Ranking              40000 non-null float64\n",
    "- Rating               40000 non-null float64\n",
    "- Number of Reviews    37457 non-null float64"
   ]
  },
  {
   "cell_type": "markdown",
   "metadata": {},
   "source": [
    "Для корректной работы все данные в датафрейме должны быть в форматах int или float. \n",
    "Есть и ещё одно жёсткое ограничение: в столбцах не должно быть None-значений. \n",
    "\n",
    "На первом этапе для создания такого датафрейма мы просто удалим столбцы, содержащие данные типа object, и заполним пропущенные значения (None или NaN) каким-то одним значением (нулём или средним арифметическим) для  всего столбца."
   ]
  },
  {
   "cell_type": "code",
   "execution_count": 5,
   "metadata": {
    "scrolled": true
   },
   "outputs": [
    {
     "data": {
      "text/plain": [
       "id                    0\n",
       "city                  0\n",
       "cuisine            9283\n",
       "ranking               0\n",
       "rating                0\n",
       "price_range       13886\n",
       "number_reviews     2543\n",
       "reviews               0\n",
       "url                   0\n",
       "id_ta                 0\n",
       "dtype: int64"
      ]
     },
     "execution_count": 5,
     "metadata": {},
     "output_type": "execute_result"
    }
   ],
   "source": [
    "#Посмотрим сколько пропусков для каждого признака\n",
    "main.isnull().sum()"
   ]
  },
  {
   "cell_type": "markdown",
   "metadata": {},
   "source": [
    "###  Пропуски в'number_reviews' возможно означают отсутствие отзывов. Поэтому заполним их нулями:"
   ]
  },
  {
   "cell_type": "code",
   "execution_count": 6,
   "metadata": {},
   "outputs": [
    {
     "data": {
      "text/plain": [
       "id                    0\n",
       "city                  0\n",
       "cuisine            9283\n",
       "ranking               0\n",
       "rating                0\n",
       "price_range       13886\n",
       "number_reviews        0\n",
       "reviews               0\n",
       "url                   0\n",
       "id_ta                 0\n",
       "dtype: int64"
      ]
     },
     "execution_count": 6,
     "metadata": {},
     "output_type": "execute_result"
    }
   ],
   "source": [
    "main.number_reviews.fillna(0, inplace=True)\n",
    "main.isnull().sum()"
   ]
  },
  {
   "cell_type": "markdown",
   "metadata": {},
   "source": [
    "## Рассмотрим все столбцы по отдельности:"
   ]
  },
  {
   "cell_type": "markdown",
   "metadata": {},
   "source": [
    "# 1) id\n",
    "- идентификационный номер ресторана / сети ресторанов\n",
    "- non-null object - пропусков нет. \n",
    "- Посмотрим, нет ли ошибок в датасете"
   ]
  },
  {
   "cell_type": "markdown",
   "metadata": {},
   "source": [
    "### Заменим формат на числовой"
   ]
  },
  {
   "cell_type": "code",
   "execution_count": 7,
   "metadata": {
    "scrolled": false
   },
   "outputs": [
    {
     "data": {
      "text/html": [
       "<div>\n",
       "<style scoped>\n",
       "    .dataframe tbody tr th:only-of-type {\n",
       "        vertical-align: middle;\n",
       "    }\n",
       "\n",
       "    .dataframe tbody tr th {\n",
       "        vertical-align: top;\n",
       "    }\n",
       "\n",
       "    .dataframe thead th {\n",
       "        text-align: right;\n",
       "    }\n",
       "</style>\n",
       "<table border=\"1\" class=\"dataframe\">\n",
       "  <thead>\n",
       "    <tr style=\"text-align: right;\">\n",
       "      <th></th>\n",
       "      <th>id</th>\n",
       "      <th>city</th>\n",
       "      <th>cuisine</th>\n",
       "      <th>ranking</th>\n",
       "      <th>rating</th>\n",
       "      <th>price_range</th>\n",
       "      <th>number_reviews</th>\n",
       "      <th>reviews</th>\n",
       "      <th>url</th>\n",
       "      <th>id_ta</th>\n",
       "    </tr>\n",
       "  </thead>\n",
       "  <tbody>\n",
       "    <tr>\n",
       "      <td>0</td>\n",
       "      <td>5569.0</td>\n",
       "      <td>Paris</td>\n",
       "      <td>['European', 'French', 'International']</td>\n",
       "      <td>5570.0</td>\n",
       "      <td>3.5</td>\n",
       "      <td>$$ - $$$</td>\n",
       "      <td>194.0</td>\n",
       "      <td>[['Good food at your doorstep', 'A good hotel ...</td>\n",
       "      <td>/Restaurant_Review-g187147-d1912643-Reviews-R_...</td>\n",
       "      <td>d1912643</td>\n",
       "    </tr>\n",
       "    <tr>\n",
       "      <td>1</td>\n",
       "      <td>1535.0</td>\n",
       "      <td>Stockholm</td>\n",
       "      <td>NaN</td>\n",
       "      <td>1537.0</td>\n",
       "      <td>4.0</td>\n",
       "      <td>NaN</td>\n",
       "      <td>10.0</td>\n",
       "      <td>[['Unique cuisine', 'Delicious Nepalese food']...</td>\n",
       "      <td>/Restaurant_Review-g189852-d7992032-Reviews-Bu...</td>\n",
       "      <td>d7992032</td>\n",
       "    </tr>\n",
       "    <tr>\n",
       "      <td>2</td>\n",
       "      <td>352.0</td>\n",
       "      <td>London</td>\n",
       "      <td>['Japanese', 'Sushi', 'Asian', 'Grill', 'Veget...</td>\n",
       "      <td>353.0</td>\n",
       "      <td>4.5</td>\n",
       "      <td>$$$$</td>\n",
       "      <td>688.0</td>\n",
       "      <td>[['Catch up with friends', 'Not exceptional'],...</td>\n",
       "      <td>/Restaurant_Review-g186338-d8632781-Reviews-RO...</td>\n",
       "      <td>d8632781</td>\n",
       "    </tr>\n",
       "    <tr>\n",
       "      <td>3</td>\n",
       "      <td>3456.0</td>\n",
       "      <td>Berlin</td>\n",
       "      <td>NaN</td>\n",
       "      <td>3458.0</td>\n",
       "      <td>5.0</td>\n",
       "      <td>NaN</td>\n",
       "      <td>3.0</td>\n",
       "      <td>[[], []]</td>\n",
       "      <td>/Restaurant_Review-g187323-d1358776-Reviews-Es...</td>\n",
       "      <td>d1358776</td>\n",
       "    </tr>\n",
       "    <tr>\n",
       "      <td>4</td>\n",
       "      <td>615.0</td>\n",
       "      <td>Munich</td>\n",
       "      <td>['German', 'Central European', 'Vegetarian Fri...</td>\n",
       "      <td>621.0</td>\n",
       "      <td>4.0</td>\n",
       "      <td>$$ - $$$</td>\n",
       "      <td>84.0</td>\n",
       "      <td>[['Best place to try a Bavarian food', 'Nice b...</td>\n",
       "      <td>/Restaurant_Review-g187309-d6864963-Reviews-Au...</td>\n",
       "      <td>d6864963</td>\n",
       "    </tr>\n",
       "  </tbody>\n",
       "</table>\n",
       "</div>"
      ],
      "text/plain": [
       "       id       city                                            cuisine  \\\n",
       "0  5569.0      Paris            ['European', 'French', 'International']   \n",
       "1  1535.0  Stockholm                                                NaN   \n",
       "2   352.0     London  ['Japanese', 'Sushi', 'Asian', 'Grill', 'Veget...   \n",
       "3  3456.0     Berlin                                                NaN   \n",
       "4   615.0     Munich  ['German', 'Central European', 'Vegetarian Fri...   \n",
       "\n",
       "   ranking  rating price_range  number_reviews  \\\n",
       "0   5570.0     3.5    $$ - $$$           194.0   \n",
       "1   1537.0     4.0         NaN            10.0   \n",
       "2    353.0     4.5        $$$$           688.0   \n",
       "3   3458.0     5.0         NaN             3.0   \n",
       "4    621.0     4.0    $$ - $$$            84.0   \n",
       "\n",
       "                                             reviews  \\\n",
       "0  [['Good food at your doorstep', 'A good hotel ...   \n",
       "1  [['Unique cuisine', 'Delicious Nepalese food']...   \n",
       "2  [['Catch up with friends', 'Not exceptional'],...   \n",
       "3                                           [[], []]   \n",
       "4  [['Best place to try a Bavarian food', 'Nice b...   \n",
       "\n",
       "                                                 url     id_ta  \n",
       "0  /Restaurant_Review-g187147-d1912643-Reviews-R_...  d1912643  \n",
       "1  /Restaurant_Review-g189852-d7992032-Reviews-Bu...  d7992032  \n",
       "2  /Restaurant_Review-g186338-d8632781-Reviews-RO...  d8632781  \n",
       "3  /Restaurant_Review-g187323-d1358776-Reviews-Es...  d1358776  \n",
       "4  /Restaurant_Review-g187309-d6864963-Reviews-Au...  d6864963  "
      ]
     },
     "metadata": {},
     "output_type": "display_data"
    }
   ],
   "source": [
    "main['id'] = main['id'].str.replace('id_', '')\n",
    "main['id'] = main['id'].astype('float')\n",
    "display(main.head(5))"
   ]
  },
  {
   "cell_type": "markdown",
   "metadata": {},
   "source": [
    "Если мы присмотримся, то увидим что два столбца очень похожи друг на друга: 'id' и 'ranking', Посмотрим на матрицу корреляции:"
   ]
  },
  {
   "cell_type": "code",
   "execution_count": 8,
   "metadata": {},
   "outputs": [
    {
     "data": {
      "text/html": [
       "<div>\n",
       "<style scoped>\n",
       "    .dataframe tbody tr th:only-of-type {\n",
       "        vertical-align: middle;\n",
       "    }\n",
       "\n",
       "    .dataframe tbody tr th {\n",
       "        vertical-align: top;\n",
       "    }\n",
       "\n",
       "    .dataframe thead th {\n",
       "        text-align: right;\n",
       "    }\n",
       "</style>\n",
       "<table border=\"1\" class=\"dataframe\">\n",
       "  <thead>\n",
       "    <tr style=\"text-align: right;\">\n",
       "      <th></th>\n",
       "      <th>id</th>\n",
       "      <th>ranking</th>\n",
       "      <th>rating</th>\n",
       "      <th>number_reviews</th>\n",
       "    </tr>\n",
       "  </thead>\n",
       "  <tbody>\n",
       "    <tr>\n",
       "      <td>id</td>\n",
       "      <td>1.000000</td>\n",
       "      <td>1.000000</td>\n",
       "      <td>-0.368308</td>\n",
       "      <td>-0.222036</td>\n",
       "    </tr>\n",
       "    <tr>\n",
       "      <td>ranking</td>\n",
       "      <td>1.000000</td>\n",
       "      <td>1.000000</td>\n",
       "      <td>-0.368371</td>\n",
       "      <td>-0.222072</td>\n",
       "    </tr>\n",
       "    <tr>\n",
       "      <td>rating</td>\n",
       "      <td>-0.368308</td>\n",
       "      <td>-0.368371</td>\n",
       "      <td>1.000000</td>\n",
       "      <td>0.026924</td>\n",
       "    </tr>\n",
       "    <tr>\n",
       "      <td>number_reviews</td>\n",
       "      <td>-0.222036</td>\n",
       "      <td>-0.222072</td>\n",
       "      <td>0.026924</td>\n",
       "      <td>1.000000</td>\n",
       "    </tr>\n",
       "  </tbody>\n",
       "</table>\n",
       "</div>"
      ],
      "text/plain": [
       "                      id   ranking    rating  number_reviews\n",
       "id              1.000000  1.000000 -0.368308       -0.222036\n",
       "ranking         1.000000  1.000000 -0.368371       -0.222072\n",
       "rating         -0.368308 -0.368371  1.000000        0.026924\n",
       "number_reviews -0.222036 -0.222072  0.026924        1.000000"
      ]
     },
     "execution_count": 8,
     "metadata": {},
     "output_type": "execute_result"
    }
   ],
   "source": [
    "main.corr()"
   ]
  },
  {
   "cell_type": "markdown",
   "metadata": {},
   "source": [
    "### Вывод:\n",
    "- Т.к. значения сильно скорелированны, но этот столбец нам нужен в дальнейшем, поэтому мы его оставим"
   ]
  },
  {
   "cell_type": "markdown",
   "metadata": {},
   "source": [
    "# 2) сity\n",
    "- non-null object - пропусков нет. \n",
    "- Посмотрим, нет ли ошибок в датасете.\n",
    "- Посмотрим на распределение."
   ]
  },
  {
   "cell_type": "code",
   "execution_count": 9,
   "metadata": {
    "scrolled": true
   },
   "outputs": [
    {
     "data": {
      "text/plain": [
       "London        0.143925\n",
       "Paris         0.122425\n",
       "Madrid        0.077700\n",
       "Barcelona     0.068350\n",
       "Berlin        0.053875\n",
       "Milan         0.053325\n",
       "Rome          0.051950\n",
       "Prague        0.036075\n",
       "Lisbon        0.032500\n",
       "Vienna        0.029150\n",
       "Amsterdam     0.027150\n",
       "Brussels      0.026500\n",
       "Hamburg       0.023725\n",
       "Munich        0.022325\n",
       "Lyon          0.022300\n",
       "Stockholm     0.020500\n",
       "Budapest      0.020400\n",
       "Warsaw        0.018175\n",
       "Dublin        0.016825\n",
       "Copenhagen    0.016475\n",
       "Athens        0.015700\n",
       "Edinburgh     0.014900\n",
       "Zurich        0.013450\n",
       "Oporto        0.012825\n",
       "Geneva        0.012025\n",
       "Krakow        0.011075\n",
       "Oslo          0.009625\n",
       "Helsinki      0.009400\n",
       "Bratislava    0.007525\n",
       "Luxembourg    0.005250\n",
       "Ljubljana     0.004575\n",
       "Name: city, dtype: float64"
      ]
     },
     "execution_count": 9,
     "metadata": {},
     "output_type": "execute_result"
    }
   ],
   "source": [
    "main.city.value_counts(dropna=False, normalize=True)"
   ]
  },
  {
   "cell_type": "code",
   "execution_count": 10,
   "metadata": {},
   "outputs": [
    {
     "data": {
      "text/plain": [
       "<matplotlib.axes._subplots.AxesSubplot at 0x17c50290c48>"
      ]
     },
     "execution_count": 10,
     "metadata": {},
     "output_type": "execute_result"
    },
    {
     "data": {
      "image/png": "[encoded data removed]",
      "text/plain": [
       "<Figure size 432x288 with 1 Axes>"
      ]
     },
     "metadata": {
      "needs_background": "light"
     },
     "output_type": "display_data"
    }
   ],
   "source": [
    "main['city'].value_counts(dropna = False, ascending=True).plot(kind='barh')"
   ]
  },
  {
   "cell_type": "markdown",
   "metadata": {},
   "source": [
    "'city'  это категориальный признак, а для дальейшей работы модели, нам нужны числа:"
   ]
  },
  {
   "cell_type": "markdown",
   "metadata": {},
   "source": [
    "С помощью интернета найдем численность городов и добавим еще один критерий (в тыс.). Источник: https://dic.academic.ru/dic.nsf/ruwiki/1295572:"
   ]
  },
  {
   "cell_type": "code",
   "execution_count": 11,
   "metadata": {},
   "outputs": [],
   "source": [
    "population_city= {'London' : 8174, 'Paris' : 2204, 'Madrid' : 3213, 'Barcelona' : 1616, \n",
    "                        'Berlin' : 3431, 'Milan' : 1297, 'Rome' : 2711, 'Prague' : 1222, \n",
    "                        'Lisbon' : 510, 'Vienna' : 1550, 'Amsterdam' : 743, 'Brussels' : 148, \n",
    "                        'Hamburg' : 1777, 'Munich' : 1327, 'Lyon' : 472, 'Stockholm' : 810, \n",
    "                        'Budapest' : 1702, 'Warsaw' : 1720, 'Dublin' : 506, \n",
    "                        'Copenhagen' : 529, 'Athens' : 746, 'Edinburgh' : 525, \n",
    "                        'Zurich' : 374, 'Oporto' : 240, 'Geneva' : 185, 'Krakow' : 756, \n",
    "                        'Oslo' : 579, 'Helsinki' : 578, 'Bratislava' : 425, \n",
    "                        'Luxembourg' : 473, 'Ljubljana' : 280}\n",
    "main['population_city'] = main.apply(lambda row: population_city[row['city']], axis = 1)"
   ]
  },
  {
   "cell_type": "markdown",
   "metadata": {},
   "source": [
    "Перекодируем все города в цифры:"
   ]
  },
  {
   "cell_type": "code",
   "execution_count": 12,
   "metadata": {},
   "outputs": [],
   "source": [
    "region_dictionary = {'Amsterdam':0,\n",
    " 'Athens': 1,\n",
    " 'Barcelona': 2,\n",
    " 'Berlin': 3,\n",
    " 'Bratislava': 4,\n",
    " 'Brussels': 5,\n",
    " 'Budapest': 6,\n",
    " 'Copenhagen': 7,\n",
    " 'Dublin': 8,\n",
    " 'Edinburgh': 9,\n",
    " 'Geneva': 10,\n",
    " 'Hamburg': 11,\n",
    " 'Helsinki': 12,\n",
    " 'Krakow': 13,\n",
    " 'Lisbon': 14,\n",
    " 'Ljubljana': 15,\n",
    " 'London': 16,\n",
    " 'Luxembourg': 17,\n",
    " 'Lyon': 18,\n",
    " 'Madrid': 19,\n",
    " 'Milan': 20,\n",
    " 'Munich': 21,\n",
    " 'Oporto': 22,\n",
    " 'Oslo': 23,\n",
    " 'Paris': 24,\n",
    " 'Prague': 25,\n",
    " 'Rome': 26,\n",
    " 'Stockholm': 27,\n",
    " 'Vienna': 28,\n",
    " 'Warsaw': 29,\n",
    " 'Zurich': 30}\n",
    "main['city_number'] = main['city'].apply(lambda x: region_dictionary[x])"
   ]
  },
  {
   "cell_type": "markdown",
   "metadata": {},
   "source": [
    "### Вывод: \n",
    "- Столбец без ошибок и дублей.\n",
    "- Как видим больше всего ресторанов в Лондоне и Париже.\n",
    "- Создали дополнительный признак по численности населения города.\n",
    "- Перекодировали все значения в числа."
   ]
  },
  {
   "cell_type": "code",
   "execution_count": 13,
   "metadata": {},
   "outputs": [
    {
     "data": {
      "text/html": [
       "<div>\n",
       "<style scoped>\n",
       "    .dataframe tbody tr th:only-of-type {\n",
       "        vertical-align: middle;\n",
       "    }\n",
       "\n",
       "    .dataframe tbody tr th {\n",
       "        vertical-align: top;\n",
       "    }\n",
       "\n",
       "    .dataframe thead th {\n",
       "        text-align: right;\n",
       "    }\n",
       "</style>\n",
       "<table border=\"1\" class=\"dataframe\">\n",
       "  <thead>\n",
       "    <tr style=\"text-align: right;\">\n",
       "      <th></th>\n",
       "      <th>id</th>\n",
       "      <th>city</th>\n",
       "      <th>cuisine</th>\n",
       "      <th>ranking</th>\n",
       "      <th>rating</th>\n",
       "      <th>price_range</th>\n",
       "      <th>number_reviews</th>\n",
       "      <th>reviews</th>\n",
       "      <th>url</th>\n",
       "      <th>id_ta</th>\n",
       "      <th>population_city</th>\n",
       "      <th>city_number</th>\n",
       "    </tr>\n",
       "  </thead>\n",
       "  <tbody>\n",
       "    <tr>\n",
       "      <td>0</td>\n",
       "      <td>5569.0</td>\n",
       "      <td>Paris</td>\n",
       "      <td>['European', 'French', 'International']</td>\n",
       "      <td>5570.0</td>\n",
       "      <td>3.5</td>\n",
       "      <td>$$ - $$$</td>\n",
       "      <td>194.0</td>\n",
       "      <td>[['Good food at your doorstep', 'A good hotel ...</td>\n",
       "      <td>/Restaurant_Review-g187147-d1912643-Reviews-R_...</td>\n",
       "      <td>d1912643</td>\n",
       "      <td>2204</td>\n",
       "      <td>24</td>\n",
       "    </tr>\n",
       "    <tr>\n",
       "      <td>1</td>\n",
       "      <td>1535.0</td>\n",
       "      <td>Stockholm</td>\n",
       "      <td>NaN</td>\n",
       "      <td>1537.0</td>\n",
       "      <td>4.0</td>\n",
       "      <td>NaN</td>\n",
       "      <td>10.0</td>\n",
       "      <td>[['Unique cuisine', 'Delicious Nepalese food']...</td>\n",
       "      <td>/Restaurant_Review-g189852-d7992032-Reviews-Bu...</td>\n",
       "      <td>d7992032</td>\n",
       "      <td>810</td>\n",
       "      <td>27</td>\n",
       "    </tr>\n",
       "    <tr>\n",
       "      <td>2</td>\n",
       "      <td>352.0</td>\n",
       "      <td>London</td>\n",
       "      <td>['Japanese', 'Sushi', 'Asian', 'Grill', 'Veget...</td>\n",
       "      <td>353.0</td>\n",
       "      <td>4.5</td>\n",
       "      <td>$$$$</td>\n",
       "      <td>688.0</td>\n",
       "      <td>[['Catch up with friends', 'Not exceptional'],...</td>\n",
       "      <td>/Restaurant_Review-g186338-d8632781-Reviews-RO...</td>\n",
       "      <td>d8632781</td>\n",
       "      <td>8174</td>\n",
       "      <td>16</td>\n",
       "    </tr>\n",
       "    <tr>\n",
       "      <td>3</td>\n",
       "      <td>3456.0</td>\n",
       "      <td>Berlin</td>\n",
       "      <td>NaN</td>\n",
       "      <td>3458.0</td>\n",
       "      <td>5.0</td>\n",
       "      <td>NaN</td>\n",
       "      <td>3.0</td>\n",
       "      <td>[[], []]</td>\n",
       "      <td>/Restaurant_Review-g187323-d1358776-Reviews-Es...</td>\n",
       "      <td>d1358776</td>\n",
       "      <td>3431</td>\n",
       "      <td>3</td>\n",
       "    </tr>\n",
       "    <tr>\n",
       "      <td>4</td>\n",
       "      <td>615.0</td>\n",
       "      <td>Munich</td>\n",
       "      <td>['German', 'Central European', 'Vegetarian Fri...</td>\n",
       "      <td>621.0</td>\n",
       "      <td>4.0</td>\n",
       "      <td>$$ - $$$</td>\n",
       "      <td>84.0</td>\n",
       "      <td>[['Best place to try a Bavarian food', 'Nice b...</td>\n",
       "      <td>/Restaurant_Review-g187309-d6864963-Reviews-Au...</td>\n",
       "      <td>d6864963</td>\n",
       "      <td>1327</td>\n",
       "      <td>21</td>\n",
       "    </tr>\n",
       "  </tbody>\n",
       "</table>\n",
       "</div>"
      ],
      "text/plain": [
       "       id       city                                            cuisine  \\\n",
       "0  5569.0      Paris            ['European', 'French', 'International']   \n",
       "1  1535.0  Stockholm                                                NaN   \n",
       "2   352.0     London  ['Japanese', 'Sushi', 'Asian', 'Grill', 'Veget...   \n",
       "3  3456.0     Berlin                                                NaN   \n",
       "4   615.0     Munich  ['German', 'Central European', 'Vegetarian Fri...   \n",
       "\n",
       "   ranking  rating price_range  number_reviews  \\\n",
       "0   5570.0     3.5    $$ - $$$           194.0   \n",
       "1   1537.0     4.0         NaN            10.0   \n",
       "2    353.0     4.5        $$$$           688.0   \n",
       "3   3458.0     5.0         NaN             3.0   \n",
       "4    621.0     4.0    $$ - $$$            84.0   \n",
       "\n",
       "                                             reviews  \\\n",
       "0  [['Good food at your doorstep', 'A good hotel ...   \n",
       "1  [['Unique cuisine', 'Delicious Nepalese food']...   \n",
       "2  [['Catch up with friends', 'Not exceptional'],...   \n",
       "3                                           [[], []]   \n",
       "4  [['Best place to try a Bavarian food', 'Nice b...   \n",
       "\n",
       "                                                 url     id_ta  \\\n",
       "0  /Restaurant_Review-g187147-d1912643-Reviews-R_...  d1912643   \n",
       "1  /Restaurant_Review-g189852-d7992032-Reviews-Bu...  d7992032   \n",
       "2  /Restaurant_Review-g186338-d8632781-Reviews-RO...  d8632781   \n",
       "3  /Restaurant_Review-g187323-d1358776-Reviews-Es...  d1358776   \n",
       "4  /Restaurant_Review-g187309-d6864963-Reviews-Au...  d6864963   \n",
       "\n",
       "   population_city  city_number  \n",
       "0             2204           24  \n",
       "1              810           27  \n",
       "2             8174           16  \n",
       "3             3431            3  \n",
       "4             1327           21  "
      ]
     },
     "metadata": {},
     "output_type": "display_data"
    }
   ],
   "source": [
    "display(main.head(5))"
   ]
  },
  {
   "cell_type": "markdown",
   "metadata": {},
   "source": [
    "# 3) cuisine"
   ]
  },
  {
   "cell_type": "markdown",
   "metadata": {},
   "source": [
    "- В данном столбце 23% пропущенных значений. Т.к. процент большой и мы не можем заменить их на `моду` или `среднее`, то мы просто создадим новое значение `other`.\n",
    "- Избавимся от `[]` и `''`"
   ]
  },
  {
   "cell_type": "code",
   "execution_count": 14,
   "metadata": {},
   "outputs": [
    {
     "data": {
      "text/plain": [
       "NaN                                                                                                                         0.232075\n",
       "['Italian']                                                                                                                 0.025800\n",
       "['French']                                                                                                                  0.020125\n",
       "['Spanish']                                                                                                                 0.017375\n",
       "['French', 'European']                                                                                                      0.010125\n",
       "                                                                                                                              ...   \n",
       "['Italian', 'Fast Food', 'Mediterranean', 'Delicatessen', 'Vegetarian Friendly', 'Vegan Options', 'Gluten Free Options']    0.000025\n",
       "['Fast Food', 'Delicatessen', 'Healthy', 'Soups']                                                                           0.000025\n",
       "['French', 'Bar', 'European', 'Pub', 'Gluten Free Options']                                                                 0.000025\n",
       "['Moroccan', 'Mediterranean', 'Spanish', 'Arabic']                                                                          0.000025\n",
       "['French', 'American', 'Bar', 'Cafe', 'Pub', 'Street Food', 'Fast Food']                                                    0.000025\n",
       "Name: cuisine, Length: 9008, dtype: float64"
      ]
     },
     "execution_count": 14,
     "metadata": {},
     "output_type": "execute_result"
    }
   ],
   "source": [
    "main.cuisine.value_counts(dropna=False, normalize=True)"
   ]
  },
  {
   "cell_type": "code",
   "execution_count": 15,
   "metadata": {},
   "outputs": [],
   "source": [
    "#main['cuisine_na'] = pd.isnull(main['cuisine']).astype('float64') \n",
    "#main['cuisine'] = main['cuisine'].fillna('other')\n",
    "#pd.DataFrame(main.cuisine.value_counts(dropna=False, normalize=True))"
   ]
  },
  {
   "cell_type": "code",
   "execution_count": 16,
   "metadata": {},
   "outputs": [
    {
     "data": {
      "text/plain": [
       "[('Vegetarian Friendly', 11189)]"
      ]
     },
     "execution_count": 16,
     "metadata": {},
     "output_type": "execute_result"
    }
   ],
   "source": [
    "#Замена пропущенных значений:\n",
    "from collections import Counter\n",
    "main['cuisine'].fillna('other', inplace=True)\n",
    "main['cuisine_list']=main['cuisine'].str.strip(\"'[]\").str.split(\"', '\")\n",
    "s=list(Counter(main['cuisine'].str.strip(\"'[]\").str.split(\"', '\").sum()))\n",
    "#Число различных кухонь\n",
    "count_cuisine=len(s)-1\n",
    "#Наиболее часто встречающаяся кухня\n",
    "cuisine_top=Counter(main['cuisine'].str.strip(\"'[]\").str.split(\"', '\").sum()).most_common(1)\n",
    "cuisine_top"
   ]
  },
  {
   "cell_type": "code",
   "execution_count": 17,
   "metadata": {},
   "outputs": [],
   "source": [
    "#Кол-во кухонь, представленных в ресторане\n",
    "main['cuisine_count']=main['cuisine_list'].str.len()"
   ]
  },
  {
   "cell_type": "code",
   "execution_count": 18,
   "metadata": {},
   "outputs": [
    {
     "data": {
      "text/html": [
       "<div>\n",
       "<style scoped>\n",
       "    .dataframe tbody tr th:only-of-type {\n",
       "        vertical-align: middle;\n",
       "    }\n",
       "\n",
       "    .dataframe tbody tr th {\n",
       "        vertical-align: top;\n",
       "    }\n",
       "\n",
       "    .dataframe thead th {\n",
       "        text-align: right;\n",
       "    }\n",
       "</style>\n",
       "<table border=\"1\" class=\"dataframe\">\n",
       "  <thead>\n",
       "    <tr style=\"text-align: right;\">\n",
       "      <th></th>\n",
       "      <th>id</th>\n",
       "      <th>city</th>\n",
       "      <th>cuisine</th>\n",
       "      <th>ranking</th>\n",
       "      <th>rating</th>\n",
       "      <th>price_range</th>\n",
       "      <th>number_reviews</th>\n",
       "      <th>reviews</th>\n",
       "      <th>url</th>\n",
       "      <th>id_ta</th>\n",
       "      <th>population_city</th>\n",
       "      <th>city_number</th>\n",
       "      <th>cuisine_list</th>\n",
       "      <th>cuisine_count</th>\n",
       "    </tr>\n",
       "  </thead>\n",
       "  <tbody>\n",
       "    <tr>\n",
       "      <td>0</td>\n",
       "      <td>5569.0</td>\n",
       "      <td>Paris</td>\n",
       "      <td>['European', 'French', 'International']</td>\n",
       "      <td>5570.0</td>\n",
       "      <td>3.5</td>\n",
       "      <td>$$ - $$$</td>\n",
       "      <td>194.0</td>\n",
       "      <td>[['Good food at your doorstep', 'A good hotel ...</td>\n",
       "      <td>/Restaurant_Review-g187147-d1912643-Reviews-R_...</td>\n",
       "      <td>d1912643</td>\n",
       "      <td>2204</td>\n",
       "      <td>24</td>\n",
       "      <td>[European, French, International]</td>\n",
       "      <td>3</td>\n",
       "    </tr>\n",
       "    <tr>\n",
       "      <td>1</td>\n",
       "      <td>1535.0</td>\n",
       "      <td>Stockholm</td>\n",
       "      <td>other</td>\n",
       "      <td>1537.0</td>\n",
       "      <td>4.0</td>\n",
       "      <td>NaN</td>\n",
       "      <td>10.0</td>\n",
       "      <td>[['Unique cuisine', 'Delicious Nepalese food']...</td>\n",
       "      <td>/Restaurant_Review-g189852-d7992032-Reviews-Bu...</td>\n",
       "      <td>d7992032</td>\n",
       "      <td>810</td>\n",
       "      <td>27</td>\n",
       "      <td>[other]</td>\n",
       "      <td>1</td>\n",
       "    </tr>\n",
       "    <tr>\n",
       "      <td>2</td>\n",
       "      <td>352.0</td>\n",
       "      <td>London</td>\n",
       "      <td>['Japanese', 'Sushi', 'Asian', 'Grill', 'Veget...</td>\n",
       "      <td>353.0</td>\n",
       "      <td>4.5</td>\n",
       "      <td>$$$$</td>\n",
       "      <td>688.0</td>\n",
       "      <td>[['Catch up with friends', 'Not exceptional'],...</td>\n",
       "      <td>/Restaurant_Review-g186338-d8632781-Reviews-RO...</td>\n",
       "      <td>d8632781</td>\n",
       "      <td>8174</td>\n",
       "      <td>16</td>\n",
       "      <td>[Japanese, Sushi, Asian, Grill, Vegetarian Fri...</td>\n",
       "      <td>7</td>\n",
       "    </tr>\n",
       "    <tr>\n",
       "      <td>3</td>\n",
       "      <td>3456.0</td>\n",
       "      <td>Berlin</td>\n",
       "      <td>other</td>\n",
       "      <td>3458.0</td>\n",
       "      <td>5.0</td>\n",
       "      <td>NaN</td>\n",
       "      <td>3.0</td>\n",
       "      <td>[[], []]</td>\n",
       "      <td>/Restaurant_Review-g187323-d1358776-Reviews-Es...</td>\n",
       "      <td>d1358776</td>\n",
       "      <td>3431</td>\n",
       "      <td>3</td>\n",
       "      <td>[other]</td>\n",
       "      <td>1</td>\n",
       "    </tr>\n",
       "    <tr>\n",
       "      <td>4</td>\n",
       "      <td>615.0</td>\n",
       "      <td>Munich</td>\n",
       "      <td>['German', 'Central European', 'Vegetarian Fri...</td>\n",
       "      <td>621.0</td>\n",
       "      <td>4.0</td>\n",
       "      <td>$$ - $$$</td>\n",
       "      <td>84.0</td>\n",
       "      <td>[['Best place to try a Bavarian food', 'Nice b...</td>\n",
       "      <td>/Restaurant_Review-g187309-d6864963-Reviews-Au...</td>\n",
       "      <td>d6864963</td>\n",
       "      <td>1327</td>\n",
       "      <td>21</td>\n",
       "      <td>[German, Central European, Vegetarian Friendly]</td>\n",
       "      <td>3</td>\n",
       "    </tr>\n",
       "  </tbody>\n",
       "</table>\n",
       "</div>"
      ],
      "text/plain": [
       "       id       city                                            cuisine  \\\n",
       "0  5569.0      Paris            ['European', 'French', 'International']   \n",
       "1  1535.0  Stockholm                                              other   \n",
       "2   352.0     London  ['Japanese', 'Sushi', 'Asian', 'Grill', 'Veget...   \n",
       "3  3456.0     Berlin                                              other   \n",
       "4   615.0     Munich  ['German', 'Central European', 'Vegetarian Fri...   \n",
       "\n",
       "   ranking  rating price_range  number_reviews  \\\n",
       "0   5570.0     3.5    $$ - $$$           194.0   \n",
       "1   1537.0     4.0         NaN            10.0   \n",
       "2    353.0     4.5        $$$$           688.0   \n",
       "3   3458.0     5.0         NaN             3.0   \n",
       "4    621.0     4.0    $$ - $$$            84.0   \n",
       "\n",
       "                                             reviews  \\\n",
       "0  [['Good food at your doorstep', 'A good hotel ...   \n",
       "1  [['Unique cuisine', 'Delicious Nepalese food']...   \n",
       "2  [['Catch up with friends', 'Not exceptional'],...   \n",
       "3                                           [[], []]   \n",
       "4  [['Best place to try a Bavarian food', 'Nice b...   \n",
       "\n",
       "                                                 url     id_ta  \\\n",
       "0  /Restaurant_Review-g187147-d1912643-Reviews-R_...  d1912643   \n",
       "1  /Restaurant_Review-g189852-d7992032-Reviews-Bu...  d7992032   \n",
       "2  /Restaurant_Review-g186338-d8632781-Reviews-RO...  d8632781   \n",
       "3  /Restaurant_Review-g187323-d1358776-Reviews-Es...  d1358776   \n",
       "4  /Restaurant_Review-g187309-d6864963-Reviews-Au...  d6864963   \n",
       "\n",
       "   population_city  city_number  \\\n",
       "0             2204           24   \n",
       "1              810           27   \n",
       "2             8174           16   \n",
       "3             3431            3   \n",
       "4             1327           21   \n",
       "\n",
       "                                        cuisine_list  cuisine_count  \n",
       "0                  [European, French, International]              3  \n",
       "1                                            [other]              1  \n",
       "2  [Japanese, Sushi, Asian, Grill, Vegetarian Fri...              7  \n",
       "3                                            [other]              1  \n",
       "4    [German, Central European, Vegetarian Friendly]              3  "
      ]
     },
     "metadata": {},
     "output_type": "display_data"
    }
   ],
   "source": [
    "display(main.head(5))"
   ]
  },
  {
   "cell_type": "markdown",
   "metadata": {},
   "source": [
    "### Выводы:\n",
    "- Мы заменили пропуски в столбце на `other`\n",
    "- Добавили новые столбцы:\n",
    "        - `cuisine_count` - количество кухонь в ресторанах\n",
    "        - `cuisine_list`- создали список кухонь в ресторанах\n",
    "- Выяснили, что наиболее встречаемая кухняв ресторанах `Vegetarian Friendly`. Неожиданно))"
   ]
  },
  {
   "cell_type": "markdown",
   "metadata": {},
   "source": [
    "# 4) ranking — \n",
    "- место, которое занимает данный ресторан среди всех ресторанов своего города.\n",
    "- это числовой столбец без пропусков.\n",
    "- посмотрим на его распределение.\n",
    "- посмотрим на связь этого параметра с городами."
   ]
  },
  {
   "cell_type": "code",
   "execution_count": 19,
   "metadata": {},
   "outputs": [
    {
     "data": {
      "text/plain": [
       "<matplotlib.axes._subplots.AxesSubplot at 0x17c52803988>"
      ]
     },
     "execution_count": 19,
     "metadata": {},
     "output_type": "execute_result"
    },
    {
     "data": {
      "image/png": "[encoded data removed]",
      "text/plain": [
       "<Figure size 720x504 with 1 Axes>"
      ]
     },
     "metadata": {
      "needs_background": "light"
     },
     "output_type": "display_data"
    }
   ],
   "source": [
    "plt.rcParams['figure.figsize'] = (10,7)\n",
    "main['ranking'].hist(bins=100)"
   ]
  },
  {
   "cell_type": "code",
   "execution_count": 20,
   "metadata": {},
   "outputs": [
    {
     "data": {
      "image/png": "[encoded data removed]",
      "text/plain": [
       "<Figure size 720x504 with 1 Axes>"
      ]
     },
     "metadata": {
      "needs_background": "light"
     },
     "output_type": "display_data"
    }
   ],
   "source": [
    "for x in (main['city'].value_counts())[0:10].index:\n",
    "    main['ranking'][main['city'] == x].hist(bins=100)\n",
    "plt.show()"
   ]
  },
  {
   "cell_type": "markdown",
   "metadata": {},
   "source": [
    "Как мы видим распределение нормальное и скорее всего зависит от размера города, чем больше город, тем больше там ресторанов.\n",
    "\n",
    "Чтобы этот параметр можно было соотносить с ranking в других городах- нормируем его."
   ]
  },
  {
   "cell_type": "code",
   "execution_count": 21,
   "metadata": {},
   "outputs": [],
   "source": [
    "# найдём для каждого города максимальный и средний ranking\n",
    "max_ranking_on_city = main.groupby(['city'])['ranking'].max() \n",
    "mean_ranking_on_city = main.groupby(['city'])['ranking'].mean()\n",
    "std_ranking_on_city = main.groupby(['city'])['ranking'].std()\n",
    " \n",
    "#Создадим новые признакми:\n",
    "#Количество ресторанов в городе:\n",
    "main['max_ranking_on_city'] = main['city'].apply(lambda x: max_ranking_on_city[x])\n",
    "\n",
    "#Средний рейтинг в городе:\n",
    "main['mean_ranking_on_city'] = main['city'].apply(lambda x: mean_ranking_on_city[x])\n",
    "    \n",
    "#Cтандартное отклонение в рейтинге города.\n",
    "main['std_restorant_in_city'] = main['city'].apply(lambda x: std_ranking_on_city[x])\n"
   ]
  },
  {
   "cell_type": "code",
   "execution_count": 22,
   "metadata": {},
   "outputs": [
    {
     "data": {
      "text/html": [
       "<div>\n",
       "<style scoped>\n",
       "    .dataframe tbody tr th:only-of-type {\n",
       "        vertical-align: middle;\n",
       "    }\n",
       "\n",
       "    .dataframe tbody tr th {\n",
       "        vertical-align: top;\n",
       "    }\n",
       "\n",
       "    .dataframe thead th {\n",
       "        text-align: right;\n",
       "    }\n",
       "</style>\n",
       "<table border=\"1\" class=\"dataframe\">\n",
       "  <thead>\n",
       "    <tr style=\"text-align: right;\">\n",
       "      <th></th>\n",
       "      <th>id</th>\n",
       "      <th>city</th>\n",
       "      <th>cuisine</th>\n",
       "      <th>ranking</th>\n",
       "      <th>rating</th>\n",
       "      <th>price_range</th>\n",
       "      <th>number_reviews</th>\n",
       "      <th>reviews</th>\n",
       "      <th>url</th>\n",
       "      <th>id_ta</th>\n",
       "      <th>population_city</th>\n",
       "      <th>city_number</th>\n",
       "      <th>cuisine_list</th>\n",
       "      <th>cuisine_count</th>\n",
       "      <th>max_ranking_on_city</th>\n",
       "      <th>mean_ranking_on_city</th>\n",
       "      <th>std_restorant_in_city</th>\n",
       "    </tr>\n",
       "  </thead>\n",
       "  <tbody>\n",
       "    <tr>\n",
       "      <td>0</td>\n",
       "      <td>5569.0</td>\n",
       "      <td>Paris</td>\n",
       "      <td>['European', 'French', 'International']</td>\n",
       "      <td>5570.0</td>\n",
       "      <td>3.5</td>\n",
       "      <td>$$ - $$$</td>\n",
       "      <td>194.0</td>\n",
       "      <td>[['Good food at your doorstep', 'A good hotel ...</td>\n",
       "      <td>/Restaurant_Review-g187147-d1912643-Reviews-R_...</td>\n",
       "      <td>d1912643</td>\n",
       "      <td>2204</td>\n",
       "      <td>24</td>\n",
       "      <td>[European, French, International]</td>\n",
       "      <td>3</td>\n",
       "      <td>13986.0</td>\n",
       "      <td>6933.012048</td>\n",
       "      <td>4045.728867</td>\n",
       "    </tr>\n",
       "    <tr>\n",
       "      <td>1</td>\n",
       "      <td>1535.0</td>\n",
       "      <td>Stockholm</td>\n",
       "      <td>other</td>\n",
       "      <td>1537.0</td>\n",
       "      <td>4.0</td>\n",
       "      <td>NaN</td>\n",
       "      <td>10.0</td>\n",
       "      <td>[['Unique cuisine', 'Delicious Nepalese food']...</td>\n",
       "      <td>/Restaurant_Review-g189852-d7992032-Reviews-Bu...</td>\n",
       "      <td>d7992032</td>\n",
       "      <td>810</td>\n",
       "      <td>27</td>\n",
       "      <td>[other]</td>\n",
       "      <td>1</td>\n",
       "      <td>2464.0</td>\n",
       "      <td>1242.386585</td>\n",
       "      <td>723.422474</td>\n",
       "    </tr>\n",
       "    <tr>\n",
       "      <td>2</td>\n",
       "      <td>352.0</td>\n",
       "      <td>London</td>\n",
       "      <td>['Japanese', 'Sushi', 'Asian', 'Grill', 'Veget...</td>\n",
       "      <td>353.0</td>\n",
       "      <td>4.5</td>\n",
       "      <td>$$$$</td>\n",
       "      <td>688.0</td>\n",
       "      <td>[['Catch up with friends', 'Not exceptional'],...</td>\n",
       "      <td>/Restaurant_Review-g186338-d8632781-Reviews-RO...</td>\n",
       "      <td>d8632781</td>\n",
       "      <td>8174</td>\n",
       "      <td>16</td>\n",
       "      <td>[Japanese, Sushi, Asian, Grill, Vegetarian Fri...</td>\n",
       "      <td>7</td>\n",
       "      <td>16444.0</td>\n",
       "      <td>8198.461873</td>\n",
       "      <td>4734.698715</td>\n",
       "    </tr>\n",
       "    <tr>\n",
       "      <td>3</td>\n",
       "      <td>3456.0</td>\n",
       "      <td>Berlin</td>\n",
       "      <td>other</td>\n",
       "      <td>3458.0</td>\n",
       "      <td>5.0</td>\n",
       "      <td>NaN</td>\n",
       "      <td>3.0</td>\n",
       "      <td>[[], []]</td>\n",
       "      <td>/Restaurant_Review-g187323-d1358776-Reviews-Es...</td>\n",
       "      <td>d1358776</td>\n",
       "      <td>3431</td>\n",
       "      <td>3</td>\n",
       "      <td>[other]</td>\n",
       "      <td>1</td>\n",
       "      <td>6372.0</td>\n",
       "      <td>3266.237123</td>\n",
       "      <td>1817.662549</td>\n",
       "    </tr>\n",
       "    <tr>\n",
       "      <td>4</td>\n",
       "      <td>615.0</td>\n",
       "      <td>Munich</td>\n",
       "      <td>['German', 'Central European', 'Vegetarian Fri...</td>\n",
       "      <td>621.0</td>\n",
       "      <td>4.0</td>\n",
       "      <td>$$ - $$$</td>\n",
       "      <td>84.0</td>\n",
       "      <td>[['Best place to try a Bavarian food', 'Nice b...</td>\n",
       "      <td>/Restaurant_Review-g187309-d6864963-Reviews-Au...</td>\n",
       "      <td>d6864963</td>\n",
       "      <td>1327</td>\n",
       "      <td>21</td>\n",
       "      <td>[German, Central European, Vegetarian Friendly]</td>\n",
       "      <td>3</td>\n",
       "      <td>2763.0</td>\n",
       "      <td>1370.539754</td>\n",
       "      <td>808.676383</td>\n",
       "    </tr>\n",
       "  </tbody>\n",
       "</table>\n",
       "</div>"
      ],
      "text/plain": [
       "       id       city                                            cuisine  \\\n",
       "0  5569.0      Paris            ['European', 'French', 'International']   \n",
       "1  1535.0  Stockholm                                              other   \n",
       "2   352.0     London  ['Japanese', 'Sushi', 'Asian', 'Grill', 'Veget...   \n",
       "3  3456.0     Berlin                                              other   \n",
       "4   615.0     Munich  ['German', 'Central European', 'Vegetarian Fri...   \n",
       "\n",
       "   ranking  rating price_range  number_reviews  \\\n",
       "0   5570.0     3.5    $$ - $$$           194.0   \n",
       "1   1537.0     4.0         NaN            10.0   \n",
       "2    353.0     4.5        $$$$           688.0   \n",
       "3   3458.0     5.0         NaN             3.0   \n",
       "4    621.0     4.0    $$ - $$$            84.0   \n",
       "\n",
       "                                             reviews  \\\n",
       "0  [['Good food at your doorstep', 'A good hotel ...   \n",
       "1  [['Unique cuisine', 'Delicious Nepalese food']...   \n",
       "2  [['Catch up with friends', 'Not exceptional'],...   \n",
       "3                                           [[], []]   \n",
       "4  [['Best place to try a Bavarian food', 'Nice b...   \n",
       "\n",
       "                                                 url     id_ta  \\\n",
       "0  /Restaurant_Review-g187147-d1912643-Reviews-R_...  d1912643   \n",
       "1  /Restaurant_Review-g189852-d7992032-Reviews-Bu...  d7992032   \n",
       "2  /Restaurant_Review-g186338-d8632781-Reviews-RO...  d8632781   \n",
       "3  /Restaurant_Review-g187323-d1358776-Reviews-Es...  d1358776   \n",
       "4  /Restaurant_Review-g187309-d6864963-Reviews-Au...  d6864963   \n",
       "\n",
       "   population_city  city_number  \\\n",
       "0             2204           24   \n",
       "1              810           27   \n",
       "2             8174           16   \n",
       "3             3431            3   \n",
       "4             1327           21   \n",
       "\n",
       "                                        cuisine_list  cuisine_count  \\\n",
       "0                  [European, French, International]              3   \n",
       "1                                            [other]              1   \n",
       "2  [Japanese, Sushi, Asian, Grill, Vegetarian Fri...              7   \n",
       "3                                            [other]              1   \n",
       "4    [German, Central European, Vegetarian Friendly]              3   \n",
       "\n",
       "   max_ranking_on_city  mean_ranking_on_city  std_restorant_in_city  \n",
       "0              13986.0           6933.012048            4045.728867  \n",
       "1               2464.0           1242.386585             723.422474  \n",
       "2              16444.0           8198.461873            4734.698715  \n",
       "3               6372.0           3266.237123            1817.662549  \n",
       "4               2763.0           1370.539754             808.676383  "
      ]
     },
     "metadata": {},
     "output_type": "display_data"
    }
   ],
   "source": [
    "display(main.head(5))"
   ]
  },
  {
   "cell_type": "markdown",
   "metadata": {},
   "source": [
    "### Выводы: \n",
    "\n",
    "- числовой признак без пропусков.\n",
    "- распределение нормальное.\n",
    "- сгенерировали новые признаки:\n",
    "    - max_ranking_on_city - количество ресторанов в городе.\n",
    "    - mean_ranking_on_city - средний рейтинг в городе.\n",
    "    - std_restorant_in_city - стандартное отклонение в рейтинге города."
   ]
  },
  {
   "cell_type": "markdown",
   "metadata": {},
   "source": [
    "# 5) rating\n",
    "- рейтинг ресторана по данным TripAdvisor (именно это значение должна будет предсказывать модель);\n",
    "- числовой столбец без пропусков.\n",
    "- посмотрим на распределение."
   ]
  },
  {
   "cell_type": "code",
   "execution_count": 23,
   "metadata": {
    "scrolled": true
   },
   "outputs": [
    {
     "data": {
      "text/plain": [
       "count    40000.000000\n",
       "mean         3.993037\n",
       "std          0.668417\n",
       "min          1.000000\n",
       "25%          3.500000\n",
       "50%          4.000000\n",
       "75%          4.500000\n",
       "max          5.000000\n",
       "Name: rating, dtype: float64"
      ]
     },
     "execution_count": 23,
     "metadata": {},
     "output_type": "execute_result"
    },
    {
     "data": {
      "image/png": "[encoded data removed]",
      "text/plain": [
       "<Figure size 720x504 with 1 Axes>"
      ]
     },
     "metadata": {
      "needs_background": "light"
     },
     "output_type": "display_data"
    }
   ],
   "source": [
    "main.rating.hist()\n",
    "main.rating.describe()"
   ]
  },
  {
   "cell_type": "code",
   "execution_count": 24,
   "metadata": {},
   "outputs": [
    {
     "data": {
      "text/plain": [
       "array([[<matplotlib.axes._subplots.AxesSubplot object at 0x0000017C52EAC388>]],\n",
       "      dtype=object)"
      ]
     },
     "execution_count": 24,
     "metadata": {},
     "output_type": "execute_result"
    },
    {
     "data": {
      "image/png": "[encoded data removed]",
      "text/plain": [
       "<Figure size 720x504 with 1 Axes>"
      ]
     },
     "metadata": {
      "needs_background": "light"
     },
     "output_type": "display_data"
    }
   ],
   "source": [
    "#так распределение выглядит красивее, без разрывов\n",
    "main.hist(column = 'rating', bins = len(main.rating.value_counts()))"
   ]
  },
  {
   "cell_type": "markdown",
   "metadata": {},
   "source": [
    "Скорее всего тут есть выбросы:"
   ]
  },
  {
   "cell_type": "code",
   "execution_count": 25,
   "metadata": {},
   "outputs": [
    {
     "data": {
      "image/png": "[encoded data removed]",
      "text/plain": [
       "<Figure size 720x504 with 1 Axes>"
      ]
     },
     "metadata": {
      "needs_background": "light"
     },
     "output_type": "display_data"
    }
   ],
   "source": [
    "sns.boxplot(main.rating, color='yellow');"
   ]
  },
  {
   "cell_type": "markdown",
   "metadata": {},
   "source": [
    "### Выводы:\n",
    "- это наш целевой числовой столбец.\n",
    "- есть выбросы."
   ]
  },
  {
   "cell_type": "markdown",
   "metadata": {},
   "source": [
    "# 6) price_range\n",
    "- диапазон цен в ресторане.\n",
    "- 26114 non-null object. Есть пропуски (13886)\n",
    "- посмотрим распределение:"
   ]
  },
  {
   "cell_type": "code",
   "execution_count": 28,
   "metadata": {},
   "outputs": [
    {
     "data": {
      "text/plain": [
       "count    26114.000000\n",
       "mean         1.814046\n",
       "std          0.510263\n",
       "min          1.000000\n",
       "25%          2.000000\n",
       "50%          2.000000\n",
       "75%          2.000000\n",
       "max          3.000000\n",
       "Name: price, dtype: float64"
      ]
     },
     "execution_count": 28,
     "metadata": {},
     "output_type": "execute_result"
    }
   ],
   "source": [
    "#Заполним значения в переменной по словарю:\n",
    "price = {'$':1,'$$ - $$$':2,'$$$$':3}\n",
    "main['price']=main['price_range'].map(lambda x: price.get(x,x))\n",
    "main.price.describe()"
   ]
  },
  {
   "cell_type": "markdown",
   "metadata": {},
   "source": [
    "Т.к. половина ресторанов имеют среднюю цену (2), то и пропуски заменим на это значение:"
   ]
  },
  {
   "cell_type": "code",
   "execution_count": 29,
   "metadata": {},
   "outputs": [
    {
     "data": {
      "text/plain": [
       "<matplotlib.axes._subplots.AxesSubplot at 0x17c52878788>"
      ]
     },
     "execution_count": 29,
     "metadata": {},
     "output_type": "execute_result"
    },
    {
     "data": {
      "image/png": "[encoded data removed]",
      "text/plain": [
       "<Figure size 720x504 with 1 Axes>"
      ]
     },
     "metadata": {
      "needs_background": "light"
     },
     "output_type": "display_data"
    }
   ],
   "source": [
    "main['price'] = main['price'].fillna(2)\n",
    "main.price.describe()\n",
    "main.price.hist()"
   ]
  },
  {
   "cell_type": "markdown",
   "metadata": {},
   "source": [
    "### Выводы:\n",
    "- В переменной очень много пропусков 34.7%.\n",
    "- Cоздан новый признак числового кодирования цены - `price` (низкая цена - 1, средняя цена -2 , высокая цена - 3). \n",
    "- Пропуски заполнили модой `2`."
   ]
  },
  {
   "cell_type": "code",
   "execution_count": 30,
   "metadata": {},
   "outputs": [
    {
     "data": {
      "text/html": [
       "<div>\n",
       "<style scoped>\n",
       "    .dataframe tbody tr th:only-of-type {\n",
       "        vertical-align: middle;\n",
       "    }\n",
       "\n",
       "    .dataframe tbody tr th {\n",
       "        vertical-align: top;\n",
       "    }\n",
       "\n",
       "    .dataframe thead th {\n",
       "        text-align: right;\n",
       "    }\n",
       "</style>\n",
       "<table border=\"1\" class=\"dataframe\">\n",
       "  <thead>\n",
       "    <tr style=\"text-align: right;\">\n",
       "      <th></th>\n",
       "      <th>id</th>\n",
       "      <th>city</th>\n",
       "      <th>cuisine</th>\n",
       "      <th>ranking</th>\n",
       "      <th>rating</th>\n",
       "      <th>price_range</th>\n",
       "      <th>number_reviews</th>\n",
       "      <th>reviews</th>\n",
       "      <th>url</th>\n",
       "      <th>id_ta</th>\n",
       "      <th>population_city</th>\n",
       "      <th>city_number</th>\n",
       "      <th>cuisine_list</th>\n",
       "      <th>cuisine_count</th>\n",
       "      <th>max_ranking_on_city</th>\n",
       "      <th>mean_ranking_on_city</th>\n",
       "      <th>std_restorant_in_city</th>\n",
       "      <th>price</th>\n",
       "    </tr>\n",
       "  </thead>\n",
       "  <tbody>\n",
       "    <tr>\n",
       "      <td>0</td>\n",
       "      <td>5569.0</td>\n",
       "      <td>Paris</td>\n",
       "      <td>['European', 'French', 'International']</td>\n",
       "      <td>5570.0</td>\n",
       "      <td>3.5</td>\n",
       "      <td>$$ - $$$</td>\n",
       "      <td>194.0</td>\n",
       "      <td>[['Good food at your doorstep', 'A good hotel ...</td>\n",
       "      <td>/Restaurant_Review-g187147-d1912643-Reviews-R_...</td>\n",
       "      <td>d1912643</td>\n",
       "      <td>2204</td>\n",
       "      <td>24</td>\n",
       "      <td>[European, French, International]</td>\n",
       "      <td>3</td>\n",
       "      <td>13986.0</td>\n",
       "      <td>6933.012048</td>\n",
       "      <td>4045.728867</td>\n",
       "      <td>2.0</td>\n",
       "    </tr>\n",
       "    <tr>\n",
       "      <td>1</td>\n",
       "      <td>1535.0</td>\n",
       "      <td>Stockholm</td>\n",
       "      <td>other</td>\n",
       "      <td>1537.0</td>\n",
       "      <td>4.0</td>\n",
       "      <td>NaN</td>\n",
       "      <td>10.0</td>\n",
       "      <td>[['Unique cuisine', 'Delicious Nepalese food']...</td>\n",
       "      <td>/Restaurant_Review-g189852-d7992032-Reviews-Bu...</td>\n",
       "      <td>d7992032</td>\n",
       "      <td>810</td>\n",
       "      <td>27</td>\n",
       "      <td>[other]</td>\n",
       "      <td>1</td>\n",
       "      <td>2464.0</td>\n",
       "      <td>1242.386585</td>\n",
       "      <td>723.422474</td>\n",
       "      <td>2.0</td>\n",
       "    </tr>\n",
       "    <tr>\n",
       "      <td>2</td>\n",
       "      <td>352.0</td>\n",
       "      <td>London</td>\n",
       "      <td>['Japanese', 'Sushi', 'Asian', 'Grill', 'Veget...</td>\n",
       "      <td>353.0</td>\n",
       "      <td>4.5</td>\n",
       "      <td>$$$$</td>\n",
       "      <td>688.0</td>\n",
       "      <td>[['Catch up with friends', 'Not exceptional'],...</td>\n",
       "      <td>/Restaurant_Review-g186338-d8632781-Reviews-RO...</td>\n",
       "      <td>d8632781</td>\n",
       "      <td>8174</td>\n",
       "      <td>16</td>\n",
       "      <td>[Japanese, Sushi, Asian, Grill, Vegetarian Fri...</td>\n",
       "      <td>7</td>\n",
       "      <td>16444.0</td>\n",
       "      <td>8198.461873</td>\n",
       "      <td>4734.698715</td>\n",
       "      <td>3.0</td>\n",
       "    </tr>\n",
       "    <tr>\n",
       "      <td>3</td>\n",
       "      <td>3456.0</td>\n",
       "      <td>Berlin</td>\n",
       "      <td>other</td>\n",
       "      <td>3458.0</td>\n",
       "      <td>5.0</td>\n",
       "      <td>NaN</td>\n",
       "      <td>3.0</td>\n",
       "      <td>[[], []]</td>\n",
       "      <td>/Restaurant_Review-g187323-d1358776-Reviews-Es...</td>\n",
       "      <td>d1358776</td>\n",
       "      <td>3431</td>\n",
       "      <td>3</td>\n",
       "      <td>[other]</td>\n",
       "      <td>1</td>\n",
       "      <td>6372.0</td>\n",
       "      <td>3266.237123</td>\n",
       "      <td>1817.662549</td>\n",
       "      <td>2.0</td>\n",
       "    </tr>\n",
       "    <tr>\n",
       "      <td>4</td>\n",
       "      <td>615.0</td>\n",
       "      <td>Munich</td>\n",
       "      <td>['German', 'Central European', 'Vegetarian Fri...</td>\n",
       "      <td>621.0</td>\n",
       "      <td>4.0</td>\n",
       "      <td>$$ - $$$</td>\n",
       "      <td>84.0</td>\n",
       "      <td>[['Best place to try a Bavarian food', 'Nice b...</td>\n",
       "      <td>/Restaurant_Review-g187309-d6864963-Reviews-Au...</td>\n",
       "      <td>d6864963</td>\n",
       "      <td>1327</td>\n",
       "      <td>21</td>\n",
       "      <td>[German, Central European, Vegetarian Friendly]</td>\n",
       "      <td>3</td>\n",
       "      <td>2763.0</td>\n",
       "      <td>1370.539754</td>\n",
       "      <td>808.676383</td>\n",
       "      <td>2.0</td>\n",
       "    </tr>\n",
       "  </tbody>\n",
       "</table>\n",
       "</div>"
      ],
      "text/plain": [
       "       id       city                                            cuisine  \\\n",
       "0  5569.0      Paris            ['European', 'French', 'International']   \n",
       "1  1535.0  Stockholm                                              other   \n",
       "2   352.0     London  ['Japanese', 'Sushi', 'Asian', 'Grill', 'Veget...   \n",
       "3  3456.0     Berlin                                              other   \n",
       "4   615.0     Munich  ['German', 'Central European', 'Vegetarian Fri...   \n",
       "\n",
       "   ranking  rating price_range  number_reviews  \\\n",
       "0   5570.0     3.5    $$ - $$$           194.0   \n",
       "1   1537.0     4.0         NaN            10.0   \n",
       "2    353.0     4.5        $$$$           688.0   \n",
       "3   3458.0     5.0         NaN             3.0   \n",
       "4    621.0     4.0    $$ - $$$            84.0   \n",
       "\n",
       "                                             reviews  \\\n",
       "0  [['Good food at your doorstep', 'A good hotel ...   \n",
       "1  [['Unique cuisine', 'Delicious Nepalese food']...   \n",
       "2  [['Catch up with friends', 'Not exceptional'],...   \n",
       "3                                           [[], []]   \n",
       "4  [['Best place to try a Bavarian food', 'Nice b...   \n",
       "\n",
       "                                                 url     id_ta  \\\n",
       "0  /Restaurant_Review-g187147-d1912643-Reviews-R_...  d1912643   \n",
       "1  /Restaurant_Review-g189852-d7992032-Reviews-Bu...  d7992032   \n",
       "2  /Restaurant_Review-g186338-d8632781-Reviews-RO...  d8632781   \n",
       "3  /Restaurant_Review-g187323-d1358776-Reviews-Es...  d1358776   \n",
       "4  /Restaurant_Review-g187309-d6864963-Reviews-Au...  d6864963   \n",
       "\n",
       "   population_city  city_number  \\\n",
       "0             2204           24   \n",
       "1              810           27   \n",
       "2             8174           16   \n",
       "3             3431            3   \n",
       "4             1327           21   \n",
       "\n",
       "                                        cuisine_list  cuisine_count  \\\n",
       "0                  [European, French, International]              3   \n",
       "1                                            [other]              1   \n",
       "2  [Japanese, Sushi, Asian, Grill, Vegetarian Fri...              7   \n",
       "3                                            [other]              1   \n",
       "4    [German, Central European, Vegetarian Friendly]              3   \n",
       "\n",
       "   max_ranking_on_city  mean_ranking_on_city  std_restorant_in_city  price  \n",
       "0              13986.0           6933.012048            4045.728867    2.0  \n",
       "1               2464.0           1242.386585             723.422474    2.0  \n",
       "2              16444.0           8198.461873            4734.698715    3.0  \n",
       "3               6372.0           3266.237123            1817.662549    2.0  \n",
       "4               2763.0           1370.539754             808.676383    2.0  "
      ]
     },
     "metadata": {},
     "output_type": "display_data"
    }
   ],
   "source": [
    "display(main.head(5))"
   ]
  },
  {
   "cell_type": "markdown",
   "metadata": {},
   "source": [
    "# 7) number_reviews\n",
    "- Количество отзывов о ресторане\n",
    "- 37457 non-null float64. Есь пропуски (2543 (6%))\n",
    "- Посморим распределение.\n"
   ]
  },
  {
   "cell_type": "code",
   "execution_count": 31,
   "metadata": {},
   "outputs": [
    {
     "data": {
      "text/plain": [
       "count    40000.000000\n",
       "mean       116.889700\n",
       "std        287.729821\n",
       "min          0.000000\n",
       "25%          7.000000\n",
       "50%         28.000000\n",
       "75%        105.000000\n",
       "max       9660.000000\n",
       "Name: number_reviews, dtype: float64"
      ]
     },
     "execution_count": 31,
     "metadata": {},
     "output_type": "execute_result"
    },
    {
     "data": {
      "image/png": "[encoded data removed]",
      "text/plain": [
       "<Figure size 720x504 with 1 Axes>"
      ]
     },
     "metadata": {
      "needs_background": "light"
     },
     "output_type": "display_data"
    }
   ],
   "source": [
    "main.number_reviews.hist()\n",
    "main.number_reviews.describe()"
   ]
  },
  {
   "cell_type": "code",
   "execution_count": 32,
   "metadata": {},
   "outputs": [
    {
     "data": {
      "image/png": "[encoded data removed]",
      "text/plain": [
       "<Figure size 720x504 with 1 Axes>"
      ]
     },
     "metadata": {
      "needs_background": "light"
     },
     "output_type": "display_data"
    }
   ],
   "source": [
    "sns.boxplot(main.number_reviews, color='yellow');"
   ]
  },
  {
   "cell_type": "markdown",
   "metadata": {},
   "source": [
    "Метод межквартильного расстояния выделяет как выбросы все значения, находящиеся за пределами коробки. \n",
    "Посмотрим, сколько выбросов он найдет."
   ]
  },
  {
   "cell_type": "code",
   "execution_count": 33,
   "metadata": {
    "scrolled": true
   },
   "outputs": [
    {
     "data": {
      "text/plain": [
       "4758"
      ]
     },
     "execution_count": 33,
     "metadata": {},
     "output_type": "execute_result"
    }
   ],
   "source": [
    "def outliers_iqr(ys):\n",
    "    #находим квартили\n",
    "    quartile_1, quartile_3 = np.percentile(ys, [25, 75])\n",
    "    #находим межквартильное расстояние\n",
    "    iqr = quartile_3 - quartile_1\n",
    "    #нижняя граница коробки\n",
    "    lower_bound = quartile_1 - (iqr * 1.5)\n",
    "    #верхняя граница коробки\n",
    "    upper_bound = quartile_3 + (iqr * 1.5)\n",
    "    #возращаем только те значения и их индексы, ктр больше upper_bound и меньше lower_bound\n",
    "    return ys[((ys > upper_bound) | (ys < lower_bound))]\n",
    "\n",
    "out = outliers_iqr(main.number_reviews)\n",
    "#кол-во выбросов\n",
    "len(out)"
   ]
  },
  {
   "cell_type": "code",
   "execution_count": 34,
   "metadata": {},
   "outputs": [],
   "source": [
    "# выделю медиану и среднее количество отзывов по городу\n",
    "main = main.assign(city_mean_reviews = main.groupby('city')['number_reviews'].transform(np.mean))\n",
    "main = main.assign(city_median_reviews = main.groupby('city')['number_reviews'].transform(np.median))"
   ]
  },
  {
   "cell_type": "code",
   "execution_count": 35,
   "metadata": {},
   "outputs": [],
   "source": [
    "# заполню пустые значения медианой по городу \n",
    "main['number_reviews'].fillna(main.city_median_reviews, inplace = True)"
   ]
  },
  {
   "cell_type": "code",
   "execution_count": 36,
   "metadata": {},
   "outputs": [
    {
     "data": {
      "text/plain": [
       "id                           0\n",
       "city                         0\n",
       "cuisine                      0\n",
       "ranking                      0\n",
       "rating                       0\n",
       "price_range              13886\n",
       "number_reviews               0\n",
       "reviews                      0\n",
       "url                          0\n",
       "id_ta                        0\n",
       "population_city              0\n",
       "city_number                  0\n",
       "cuisine_list                 0\n",
       "cuisine_count                0\n",
       "max_ranking_on_city          0\n",
       "mean_ranking_on_city         0\n",
       "std_restorant_in_city        0\n",
       "price                        0\n",
       "city_mean_reviews            0\n",
       "city_median_reviews          0\n",
       "dtype: int64"
      ]
     },
     "execution_count": 36,
     "metadata": {},
     "output_type": "execute_result"
    }
   ],
   "source": [
    "#Посмотрим сколько сейчас пропусков:\n",
    "main.isnull().sum()"
   ]
  },
  {
   "cell_type": "markdown",
   "metadata": {},
   "source": [
    "### Вывод:\n",
    "- В столбце было 6% пропусков, которые мы заменили на `моду`.\n",
    "- В данном столбце много выбросов, но мы их не будем удалять, т.к. это отзывы и они существенно влияют на рейтинг ресторанов."
   ]
  },
  {
   "cell_type": "markdown",
   "metadata": {},
   "source": [
    "# 8) reviews:\n",
    "- данные о двух отзывах, которые отображаются на сайте ресторана;\n",
    "- это категориальный столбец."
   ]
  },
  {
   "cell_type": "code",
   "execution_count": 37,
   "metadata": {},
   "outputs": [],
   "source": [
    "#Нет пропусков, но много строк со значением [[], []]. По сути это пустые строки сохраним их:\n",
    "main['empty_reviews'] = (main['reviews']=='[[], []]').astype('float64')"
   ]
  },
  {
   "cell_type": "code",
   "execution_count": 38,
   "metadata": {},
   "outputs": [],
   "source": [
    "# есть пропуски, и есть значение [[], []], что есть пропуск:\n",
    "main['reviews'] = main['reviews'].fillna('[[], []]')\n",
    "main['reviews_na'] = (main['reviews']=='[[], []]').astype('float64')"
   ]
  },
  {
   "cell_type": "code",
   "execution_count": 39,
   "metadata": {},
   "outputs": [],
   "source": [
    "#Cоздадим новый столбец:\n",
    "main['date_of_review'] = main['reviews'].str.findall('\\d+/\\d+/\\d+')"
   ]
  },
  {
   "cell_type": "code",
   "execution_count": 40,
   "metadata": {},
   "outputs": [],
   "source": [
    "# Признак количества обзоров:\n",
    "main['reviews_number'] = main['date_of_review'].apply(lambda x: len(x))\n",
    "\n",
    "#Признак, если нет обзоров:\n",
    "main['no_reviews'] = (main['reviews_number'] == 0).astype('float64')"
   ]
  },
  {
   "cell_type": "code",
   "execution_count": 41,
   "metadata": {},
   "outputs": [
    {
     "data": {
      "text/html": [
       "<div>\n",
       "<style scoped>\n",
       "    .dataframe tbody tr th:only-of-type {\n",
       "        vertical-align: middle;\n",
       "    }\n",
       "\n",
       "    .dataframe tbody tr th {\n",
       "        vertical-align: top;\n",
       "    }\n",
       "\n",
       "    .dataframe thead th {\n",
       "        text-align: right;\n",
       "    }\n",
       "</style>\n",
       "<table border=\"1\" class=\"dataframe\">\n",
       "  <thead>\n",
       "    <tr style=\"text-align: right;\">\n",
       "      <th></th>\n",
       "      <th>id</th>\n",
       "      <th>city</th>\n",
       "      <th>cuisine</th>\n",
       "      <th>ranking</th>\n",
       "      <th>rating</th>\n",
       "      <th>price_range</th>\n",
       "      <th>number_reviews</th>\n",
       "      <th>reviews</th>\n",
       "      <th>url</th>\n",
       "      <th>id_ta</th>\n",
       "      <th>population_city</th>\n",
       "      <th>city_number</th>\n",
       "      <th>cuisine_list</th>\n",
       "      <th>cuisine_count</th>\n",
       "      <th>max_ranking_on_city</th>\n",
       "      <th>mean_ranking_on_city</th>\n",
       "      <th>std_restorant_in_city</th>\n",
       "      <th>price</th>\n",
       "      <th>city_mean_reviews</th>\n",
       "      <th>city_median_reviews</th>\n",
       "      <th>empty_reviews</th>\n",
       "      <th>reviews_na</th>\n",
       "      <th>date_of_review</th>\n",
       "      <th>reviews_number</th>\n",
       "      <th>no_reviews</th>\n",
       "    </tr>\n",
       "  </thead>\n",
       "  <tbody>\n",
       "    <tr>\n",
       "      <td>0</td>\n",
       "      <td>5569.0</td>\n",
       "      <td>Paris</td>\n",
       "      <td>['European', 'French', 'International']</td>\n",
       "      <td>5570.0</td>\n",
       "      <td>3.5</td>\n",
       "      <td>$$ - $$$</td>\n",
       "      <td>194.0</td>\n",
       "      <td>[['Good food at your doorstep', 'A good hotel ...</td>\n",
       "      <td>/Restaurant_Review-g187147-d1912643-Reviews-R_...</td>\n",
       "      <td>d1912643</td>\n",
       "      <td>2204</td>\n",
       "      <td>24</td>\n",
       "      <td>[European, French, International]</td>\n",
       "      <td>3</td>\n",
       "      <td>13986.0</td>\n",
       "      <td>6933.012048</td>\n",
       "      <td>4045.728867</td>\n",
       "      <td>2.0</td>\n",
       "      <td>114.650602</td>\n",
       "      <td>41.0</td>\n",
       "      <td>0.0</td>\n",
       "      <td>0.0</td>\n",
       "      <td>[12/31/2017, 11/20/2017]</td>\n",
       "      <td>2</td>\n",
       "      <td>0.0</td>\n",
       "    </tr>\n",
       "    <tr>\n",
       "      <td>1</td>\n",
       "      <td>1535.0</td>\n",
       "      <td>Stockholm</td>\n",
       "      <td>other</td>\n",
       "      <td>1537.0</td>\n",
       "      <td>4.0</td>\n",
       "      <td>NaN</td>\n",
       "      <td>10.0</td>\n",
       "      <td>[['Unique cuisine', 'Delicious Nepalese food']...</td>\n",
       "      <td>/Restaurant_Review-g189852-d7992032-Reviews-Bu...</td>\n",
       "      <td>d7992032</td>\n",
       "      <td>810</td>\n",
       "      <td>27</td>\n",
       "      <td>[other]</td>\n",
       "      <td>1</td>\n",
       "      <td>2464.0</td>\n",
       "      <td>1242.386585</td>\n",
       "      <td>723.422474</td>\n",
       "      <td>2.0</td>\n",
       "      <td>72.042683</td>\n",
       "      <td>16.0</td>\n",
       "      <td>0.0</td>\n",
       "      <td>0.0</td>\n",
       "      <td>[07/06/2017, 06/19/2016]</td>\n",
       "      <td>2</td>\n",
       "      <td>0.0</td>\n",
       "    </tr>\n",
       "    <tr>\n",
       "      <td>2</td>\n",
       "      <td>352.0</td>\n",
       "      <td>London</td>\n",
       "      <td>['Japanese', 'Sushi', 'Asian', 'Grill', 'Veget...</td>\n",
       "      <td>353.0</td>\n",
       "      <td>4.5</td>\n",
       "      <td>$$$$</td>\n",
       "      <td>688.0</td>\n",
       "      <td>[['Catch up with friends', 'Not exceptional'],...</td>\n",
       "      <td>/Restaurant_Review-g186338-d8632781-Reviews-RO...</td>\n",
       "      <td>d8632781</td>\n",
       "      <td>8174</td>\n",
       "      <td>16</td>\n",
       "      <td>[Japanese, Sushi, Asian, Grill, Vegetarian Fri...</td>\n",
       "      <td>7</td>\n",
       "      <td>16444.0</td>\n",
       "      <td>8198.461873</td>\n",
       "      <td>4734.698715</td>\n",
       "      <td>3.0</td>\n",
       "      <td>129.605524</td>\n",
       "      <td>31.0</td>\n",
       "      <td>0.0</td>\n",
       "      <td>0.0</td>\n",
       "      <td>[01/08/2018, 01/06/2018]</td>\n",
       "      <td>2</td>\n",
       "      <td>0.0</td>\n",
       "    </tr>\n",
       "    <tr>\n",
       "      <td>3</td>\n",
       "      <td>3456.0</td>\n",
       "      <td>Berlin</td>\n",
       "      <td>other</td>\n",
       "      <td>3458.0</td>\n",
       "      <td>5.0</td>\n",
       "      <td>NaN</td>\n",
       "      <td>3.0</td>\n",
       "      <td>[[], []]</td>\n",
       "      <td>/Restaurant_Review-g187323-d1358776-Reviews-Es...</td>\n",
       "      <td>d1358776</td>\n",
       "      <td>3431</td>\n",
       "      <td>3</td>\n",
       "      <td>[other]</td>\n",
       "      <td>1</td>\n",
       "      <td>6372.0</td>\n",
       "      <td>3266.237123</td>\n",
       "      <td>1817.662549</td>\n",
       "      <td>2.0</td>\n",
       "      <td>60.225522</td>\n",
       "      <td>14.0</td>\n",
       "      <td>1.0</td>\n",
       "      <td>1.0</td>\n",
       "      <td>[]</td>\n",
       "      <td>0</td>\n",
       "      <td>1.0</td>\n",
       "    </tr>\n",
       "    <tr>\n",
       "      <td>4</td>\n",
       "      <td>615.0</td>\n",
       "      <td>Munich</td>\n",
       "      <td>['German', 'Central European', 'Vegetarian Fri...</td>\n",
       "      <td>621.0</td>\n",
       "      <td>4.0</td>\n",
       "      <td>$$ - $$$</td>\n",
       "      <td>84.0</td>\n",
       "      <td>[['Best place to try a Bavarian food', 'Nice b...</td>\n",
       "      <td>/Restaurant_Review-g187309-d6864963-Reviews-Au...</td>\n",
       "      <td>d6864963</td>\n",
       "      <td>1327</td>\n",
       "      <td>21</td>\n",
       "      <td>[German, Central European, Vegetarian Friendly]</td>\n",
       "      <td>3</td>\n",
       "      <td>2763.0</td>\n",
       "      <td>1370.539754</td>\n",
       "      <td>808.676383</td>\n",
       "      <td>2.0</td>\n",
       "      <td>75.365062</td>\n",
       "      <td>25.0</td>\n",
       "      <td>0.0</td>\n",
       "      <td>0.0</td>\n",
       "      <td>[11/18/2017, 02/19/2017]</td>\n",
       "      <td>2</td>\n",
       "      <td>0.0</td>\n",
       "    </tr>\n",
       "  </tbody>\n",
       "</table>\n",
       "</div>"
      ],
      "text/plain": [
       "       id       city                                            cuisine  \\\n",
       "0  5569.0      Paris            ['European', 'French', 'International']   \n",
       "1  1535.0  Stockholm                                              other   \n",
       "2   352.0     London  ['Japanese', 'Sushi', 'Asian', 'Grill', 'Veget...   \n",
       "3  3456.0     Berlin                                              other   \n",
       "4   615.0     Munich  ['German', 'Central European', 'Vegetarian Fri...   \n",
       "\n",
       "   ranking  rating price_range  number_reviews  \\\n",
       "0   5570.0     3.5    $$ - $$$           194.0   \n",
       "1   1537.0     4.0         NaN            10.0   \n",
       "2    353.0     4.5        $$$$           688.0   \n",
       "3   3458.0     5.0         NaN             3.0   \n",
       "4    621.0     4.0    $$ - $$$            84.0   \n",
       "\n",
       "                                             reviews  \\\n",
       "0  [['Good food at your doorstep', 'A good hotel ...   \n",
       "1  [['Unique cuisine', 'Delicious Nepalese food']...   \n",
       "2  [['Catch up with friends', 'Not exceptional'],...   \n",
       "3                                           [[], []]   \n",
       "4  [['Best place to try a Bavarian food', 'Nice b...   \n",
       "\n",
       "                                                 url     id_ta  \\\n",
       "0  /Restaurant_Review-g187147-d1912643-Reviews-R_...  d1912643   \n",
       "1  /Restaurant_Review-g189852-d7992032-Reviews-Bu...  d7992032   \n",
       "2  /Restaurant_Review-g186338-d8632781-Reviews-RO...  d8632781   \n",
       "3  /Restaurant_Review-g187323-d1358776-Reviews-Es...  d1358776   \n",
       "4  /Restaurant_Review-g187309-d6864963-Reviews-Au...  d6864963   \n",
       "\n",
       "   population_city  city_number  \\\n",
       "0             2204           24   \n",
       "1              810           27   \n",
       "2             8174           16   \n",
       "3             3431            3   \n",
       "4             1327           21   \n",
       "\n",
       "                                        cuisine_list  cuisine_count  \\\n",
       "0                  [European, French, International]              3   \n",
       "1                                            [other]              1   \n",
       "2  [Japanese, Sushi, Asian, Grill, Vegetarian Fri...              7   \n",
       "3                                            [other]              1   \n",
       "4    [German, Central European, Vegetarian Friendly]              3   \n",
       "\n",
       "   max_ranking_on_city  mean_ranking_on_city  std_restorant_in_city  price  \\\n",
       "0              13986.0           6933.012048            4045.728867    2.0   \n",
       "1               2464.0           1242.386585             723.422474    2.0   \n",
       "2              16444.0           8198.461873            4734.698715    3.0   \n",
       "3               6372.0           3266.237123            1817.662549    2.0   \n",
       "4               2763.0           1370.539754             808.676383    2.0   \n",
       "\n",
       "   city_mean_reviews  city_median_reviews  empty_reviews  reviews_na  \\\n",
       "0         114.650602                 41.0            0.0         0.0   \n",
       "1          72.042683                 16.0            0.0         0.0   \n",
       "2         129.605524                 31.0            0.0         0.0   \n",
       "3          60.225522                 14.0            1.0         1.0   \n",
       "4          75.365062                 25.0            0.0         0.0   \n",
       "\n",
       "             date_of_review  reviews_number  no_reviews  \n",
       "0  [12/31/2017, 11/20/2017]               2         0.0  \n",
       "1  [07/06/2017, 06/19/2016]               2         0.0  \n",
       "2  [01/08/2018, 01/06/2018]               2         0.0  \n",
       "3                        []               0         1.0  \n",
       "4  [11/18/2017, 02/19/2017]               2         0.0  "
      ]
     },
     "metadata": {},
     "output_type": "display_data"
    }
   ],
   "source": [
    "display(main.head(5))"
   ]
  },
  {
   "cell_type": "markdown",
   "metadata": {},
   "source": [
    "### Выводы:\n",
    "- В данном стобце не было пропусков, но были пустые значения с `[[, ]]`, что приравнивается к пропускам.\n",
    "- Создали несколько новых признаков:\n",
    "    - `reviews_na` - количество пропусков.\n",
    "    - `date_of_review` - дата обзора.\n",
    "    - `reviews_number` - количество обзоров.\n",
    "    - `no_reviews` - нет обзоров."
   ]
  },
  {
   "cell_type": "markdown",
   "metadata": {},
   "source": [
    "## 9) url:\n",
    "- URL страницы ресторана на TripAdvosor.\n",
    "- Этот столбец нам не понадобиться для модели."
   ]
  },
  {
   "cell_type": "markdown",
   "metadata": {},
   "source": [
    "## 10) id_ta:\n",
    "- ID_TA — идентификатор ресторана в базе данных TripAdvisor.\n",
    "- Этот столбец нам также не понадобиться для модели"
   ]
  },
  {
   "cell_type": "markdown",
   "metadata": {},
   "source": [
    "## Итоги:\n",
    "- Мы убрали пустые значения.\n",
    "- Создали новые признаки.\n",
    "- И подготовим наш датасет к созданию модели."
   ]
  },
  {
   "cell_type": "code",
   "execution_count": 42,
   "metadata": {},
   "outputs": [
    {
     "data": {
      "text/html": [
       "<div>\n",
       "<style scoped>\n",
       "    .dataframe tbody tr th:only-of-type {\n",
       "        vertical-align: middle;\n",
       "    }\n",
       "\n",
       "    .dataframe tbody tr th {\n",
       "        vertical-align: top;\n",
       "    }\n",
       "\n",
       "    .dataframe thead th {\n",
       "        text-align: right;\n",
       "    }\n",
       "</style>\n",
       "<table border=\"1\" class=\"dataframe\">\n",
       "  <thead>\n",
       "    <tr style=\"text-align: right;\">\n",
       "      <th></th>\n",
       "      <th>city</th>\n",
       "      <th>cuisine</th>\n",
       "      <th>price_range</th>\n",
       "      <th>reviews</th>\n",
       "      <th>url</th>\n",
       "      <th>id_ta</th>\n",
       "      <th>cuisine_list</th>\n",
       "      <th>date_of_review</th>\n",
       "    </tr>\n",
       "  </thead>\n",
       "  <tbody>\n",
       "    <tr>\n",
       "      <td>count</td>\n",
       "      <td>40000</td>\n",
       "      <td>40000</td>\n",
       "      <td>26114</td>\n",
       "      <td>40000</td>\n",
       "      <td>40000</td>\n",
       "      <td>40000</td>\n",
       "      <td>40000</td>\n",
       "      <td>40000</td>\n",
       "    </tr>\n",
       "    <tr>\n",
       "      <td>unique</td>\n",
       "      <td>31</td>\n",
       "      <td>9008</td>\n",
       "      <td>3</td>\n",
       "      <td>33516</td>\n",
       "      <td>39980</td>\n",
       "      <td>39980</td>\n",
       "      <td>9008</td>\n",
       "      <td>24606</td>\n",
       "    </tr>\n",
       "    <tr>\n",
       "      <td>top</td>\n",
       "      <td>London</td>\n",
       "      <td>other</td>\n",
       "      <td>$$ - $$$</td>\n",
       "      <td>[[], []]</td>\n",
       "      <td>/Restaurant_Review-g187514-d8753348-Reviews-Tr...</td>\n",
       "      <td>d3161682</td>\n",
       "      <td>[other]</td>\n",
       "      <td>[]</td>\n",
       "    </tr>\n",
       "    <tr>\n",
       "      <td>freq</td>\n",
       "      <td>5757</td>\n",
       "      <td>9283</td>\n",
       "      <td>18412</td>\n",
       "      <td>6471</td>\n",
       "      <td>2</td>\n",
       "      <td>2</td>\n",
       "      <td>9283</td>\n",
       "      <td>6471</td>\n",
       "    </tr>\n",
       "  </tbody>\n",
       "</table>\n",
       "</div>"
      ],
      "text/plain": [
       "          city cuisine price_range   reviews  \\\n",
       "count    40000   40000       26114     40000   \n",
       "unique      31    9008           3     33516   \n",
       "top     London   other    $$ - $$$  [[], []]   \n",
       "freq      5757    9283       18412      6471   \n",
       "\n",
       "                                                      url     id_ta  \\\n",
       "count                                               40000     40000   \n",
       "unique                                              39980     39980   \n",
       "top     /Restaurant_Review-g187514-d8753348-Reviews-Tr...  d3161682   \n",
       "freq                                                    2         2   \n",
       "\n",
       "       cuisine_list date_of_review  \n",
       "count         40000          40000  \n",
       "unique         9008          24606  \n",
       "top         [other]             []  \n",
       "freq           9283           6471  "
      ]
     },
     "execution_count": 42,
     "metadata": {},
     "output_type": "execute_result"
    }
   ],
   "source": [
    "main.describe(include=['object'])"
   ]
  },
  {
   "cell_type": "code",
   "execution_count": 43,
   "metadata": {},
   "outputs": [
    {
     "data": {
      "text/html": [
       "<div>\n",
       "<style scoped>\n",
       "    .dataframe tbody tr th:only-of-type {\n",
       "        vertical-align: middle;\n",
       "    }\n",
       "\n",
       "    .dataframe tbody tr th {\n",
       "        vertical-align: top;\n",
       "    }\n",
       "\n",
       "    .dataframe thead th {\n",
       "        text-align: right;\n",
       "    }\n",
       "</style>\n",
       "<table border=\"1\" class=\"dataframe\">\n",
       "  <thead>\n",
       "    <tr style=\"text-align: right;\">\n",
       "      <th></th>\n",
       "      <th>id</th>\n",
       "      <th>ranking</th>\n",
       "      <th>rating</th>\n",
       "      <th>number_reviews</th>\n",
       "      <th>population_city</th>\n",
       "      <th>city_number</th>\n",
       "      <th>cuisine_count</th>\n",
       "      <th>max_ranking_on_city</th>\n",
       "      <th>mean_ranking_on_city</th>\n",
       "      <th>std_restorant_in_city</th>\n",
       "      <th>price</th>\n",
       "      <th>city_mean_reviews</th>\n",
       "      <th>city_median_reviews</th>\n",
       "      <th>empty_reviews</th>\n",
       "      <th>reviews_na</th>\n",
       "      <th>reviews_number</th>\n",
       "      <th>no_reviews</th>\n",
       "    </tr>\n",
       "  </thead>\n",
       "  <tbody>\n",
       "    <tr>\n",
       "      <td>count</td>\n",
       "      <td>40000</td>\n",
       "      <td>40000</td>\n",
       "      <td>40000</td>\n",
       "      <td>40000</td>\n",
       "      <td>40000</td>\n",
       "      <td>40000</td>\n",
       "      <td>40000</td>\n",
       "      <td>40000</td>\n",
       "      <td>40000</td>\n",
       "      <td>40000</td>\n",
       "      <td>40000</td>\n",
       "      <td>40000</td>\n",
       "      <td>40000</td>\n",
       "      <td>40000</td>\n",
       "      <td>40000</td>\n",
       "      <td>40000</td>\n",
       "      <td>40000</td>\n",
       "    </tr>\n",
       "    <tr>\n",
       "      <td>unique</td>\n",
       "      <td>1</td>\n",
       "      <td>1</td>\n",
       "      <td>1</td>\n",
       "      <td>1</td>\n",
       "      <td>1</td>\n",
       "      <td>1</td>\n",
       "      <td>1</td>\n",
       "      <td>1</td>\n",
       "      <td>1</td>\n",
       "      <td>1</td>\n",
       "      <td>1</td>\n",
       "      <td>1</td>\n",
       "      <td>1</td>\n",
       "      <td>1</td>\n",
       "      <td>1</td>\n",
       "      <td>1</td>\n",
       "      <td>1</td>\n",
       "    </tr>\n",
       "    <tr>\n",
       "      <td>top</td>\n",
       "      <td>False</td>\n",
       "      <td>False</td>\n",
       "      <td>False</td>\n",
       "      <td>False</td>\n",
       "      <td>False</td>\n",
       "      <td>False</td>\n",
       "      <td>False</td>\n",
       "      <td>False</td>\n",
       "      <td>False</td>\n",
       "      <td>False</td>\n",
       "      <td>False</td>\n",
       "      <td>False</td>\n",
       "      <td>False</td>\n",
       "      <td>False</td>\n",
       "      <td>False</td>\n",
       "      <td>False</td>\n",
       "      <td>False</td>\n",
       "    </tr>\n",
       "    <tr>\n",
       "      <td>freq</td>\n",
       "      <td>40000</td>\n",
       "      <td>40000</td>\n",
       "      <td>40000</td>\n",
       "      <td>40000</td>\n",
       "      <td>40000</td>\n",
       "      <td>40000</td>\n",
       "      <td>40000</td>\n",
       "      <td>40000</td>\n",
       "      <td>40000</td>\n",
       "      <td>40000</td>\n",
       "      <td>40000</td>\n",
       "      <td>40000</td>\n",
       "      <td>40000</td>\n",
       "      <td>40000</td>\n",
       "      <td>40000</td>\n",
       "      <td>40000</td>\n",
       "      <td>40000</td>\n",
       "    </tr>\n",
       "  </tbody>\n",
       "</table>\n",
       "</div>"
      ],
      "text/plain": [
       "           id ranking rating number_reviews population_city city_number  \\\n",
       "count   40000   40000  40000          40000           40000       40000   \n",
       "unique      1       1      1              1               1           1   \n",
       "top     False   False  False          False           False       False   \n",
       "freq    40000   40000  40000          40000           40000       40000   \n",
       "\n",
       "       cuisine_count max_ranking_on_city mean_ranking_on_city  \\\n",
       "count          40000               40000                40000   \n",
       "unique             1                   1                    1   \n",
       "top            False               False                False   \n",
       "freq           40000               40000                40000   \n",
       "\n",
       "       std_restorant_in_city  price city_mean_reviews city_median_reviews  \\\n",
       "count                  40000  40000             40000               40000   \n",
       "unique                     1      1                 1                   1   \n",
       "top                    False  False             False               False   \n",
       "freq                   40000  40000             40000               40000   \n",
       "\n",
       "       empty_reviews reviews_na reviews_number no_reviews  \n",
       "count          40000      40000          40000      40000  \n",
       "unique             1          1              1          1  \n",
       "top            False      False          False      False  \n",
       "freq           40000      40000          40000      40000  "
      ]
     },
     "execution_count": 43,
     "metadata": {},
     "output_type": "execute_result"
    }
   ],
   "source": [
    "#удаление категориальных столбцов\n",
    "main_ready = main.drop(['city', 'cuisine', 'price_range', 'reviews', \n",
    "                  'url', 'id_ta', 'cuisine_list', 'date_of_review'], axis = 1)\n",
    "\n",
    "main_ready.isnull().describe()"
   ]
  },
  {
   "cell_type": "code",
   "execution_count": 44,
   "metadata": {},
   "outputs": [
    {
     "data": {
      "text/html": [
       "<div>\n",
       "<style scoped>\n",
       "    .dataframe tbody tr th:only-of-type {\n",
       "        vertical-align: middle;\n",
       "    }\n",
       "\n",
       "    .dataframe tbody tr th {\n",
       "        vertical-align: top;\n",
       "    }\n",
       "\n",
       "    .dataframe thead th {\n",
       "        text-align: right;\n",
       "    }\n",
       "</style>\n",
       "<table border=\"1\" class=\"dataframe\">\n",
       "  <thead>\n",
       "    <tr style=\"text-align: right;\">\n",
       "      <th></th>\n",
       "      <th>id</th>\n",
       "      <th>ranking</th>\n",
       "      <th>rating</th>\n",
       "      <th>number_reviews</th>\n",
       "      <th>population_city</th>\n",
       "      <th>city_number</th>\n",
       "      <th>cuisine_count</th>\n",
       "      <th>max_ranking_on_city</th>\n",
       "      <th>mean_ranking_on_city</th>\n",
       "      <th>std_restorant_in_city</th>\n",
       "      <th>price</th>\n",
       "      <th>city_mean_reviews</th>\n",
       "      <th>city_median_reviews</th>\n",
       "      <th>empty_reviews</th>\n",
       "      <th>reviews_na</th>\n",
       "      <th>reviews_number</th>\n",
       "      <th>no_reviews</th>\n",
       "    </tr>\n",
       "  </thead>\n",
       "  <tbody>\n",
       "    <tr>\n",
       "      <td>0</td>\n",
       "      <td>5569.0</td>\n",
       "      <td>5570.0</td>\n",
       "      <td>3.5</td>\n",
       "      <td>194.0</td>\n",
       "      <td>2204</td>\n",
       "      <td>24</td>\n",
       "      <td>3</td>\n",
       "      <td>13986.0</td>\n",
       "      <td>6933.012048</td>\n",
       "      <td>4045.728867</td>\n",
       "      <td>2.0</td>\n",
       "      <td>114.650602</td>\n",
       "      <td>41.0</td>\n",
       "      <td>0.0</td>\n",
       "      <td>0.0</td>\n",
       "      <td>2</td>\n",
       "      <td>0.0</td>\n",
       "    </tr>\n",
       "    <tr>\n",
       "      <td>1</td>\n",
       "      <td>1535.0</td>\n",
       "      <td>1537.0</td>\n",
       "      <td>4.0</td>\n",
       "      <td>10.0</td>\n",
       "      <td>810</td>\n",
       "      <td>27</td>\n",
       "      <td>1</td>\n",
       "      <td>2464.0</td>\n",
       "      <td>1242.386585</td>\n",
       "      <td>723.422474</td>\n",
       "      <td>2.0</td>\n",
       "      <td>72.042683</td>\n",
       "      <td>16.0</td>\n",
       "      <td>0.0</td>\n",
       "      <td>0.0</td>\n",
       "      <td>2</td>\n",
       "      <td>0.0</td>\n",
       "    </tr>\n",
       "    <tr>\n",
       "      <td>2</td>\n",
       "      <td>352.0</td>\n",
       "      <td>353.0</td>\n",
       "      <td>4.5</td>\n",
       "      <td>688.0</td>\n",
       "      <td>8174</td>\n",
       "      <td>16</td>\n",
       "      <td>7</td>\n",
       "      <td>16444.0</td>\n",
       "      <td>8198.461873</td>\n",
       "      <td>4734.698715</td>\n",
       "      <td>3.0</td>\n",
       "      <td>129.605524</td>\n",
       "      <td>31.0</td>\n",
       "      <td>0.0</td>\n",
       "      <td>0.0</td>\n",
       "      <td>2</td>\n",
       "      <td>0.0</td>\n",
       "    </tr>\n",
       "    <tr>\n",
       "      <td>3</td>\n",
       "      <td>3456.0</td>\n",
       "      <td>3458.0</td>\n",
       "      <td>5.0</td>\n",
       "      <td>3.0</td>\n",
       "      <td>3431</td>\n",
       "      <td>3</td>\n",
       "      <td>1</td>\n",
       "      <td>6372.0</td>\n",
       "      <td>3266.237123</td>\n",
       "      <td>1817.662549</td>\n",
       "      <td>2.0</td>\n",
       "      <td>60.225522</td>\n",
       "      <td>14.0</td>\n",
       "      <td>1.0</td>\n",
       "      <td>1.0</td>\n",
       "      <td>0</td>\n",
       "      <td>1.0</td>\n",
       "    </tr>\n",
       "    <tr>\n",
       "      <td>4</td>\n",
       "      <td>615.0</td>\n",
       "      <td>621.0</td>\n",
       "      <td>4.0</td>\n",
       "      <td>84.0</td>\n",
       "      <td>1327</td>\n",
       "      <td>21</td>\n",
       "      <td>3</td>\n",
       "      <td>2763.0</td>\n",
       "      <td>1370.539754</td>\n",
       "      <td>808.676383</td>\n",
       "      <td>2.0</td>\n",
       "      <td>75.365062</td>\n",
       "      <td>25.0</td>\n",
       "      <td>0.0</td>\n",
       "      <td>0.0</td>\n",
       "      <td>2</td>\n",
       "      <td>0.0</td>\n",
       "    </tr>\n",
       "  </tbody>\n",
       "</table>\n",
       "</div>"
      ],
      "text/plain": [
       "       id  ranking  rating  number_reviews  population_city  city_number  \\\n",
       "0  5569.0   5570.0     3.5           194.0             2204           24   \n",
       "1  1535.0   1537.0     4.0            10.0              810           27   \n",
       "2   352.0    353.0     4.5           688.0             8174           16   \n",
       "3  3456.0   3458.0     5.0             3.0             3431            3   \n",
       "4   615.0    621.0     4.0            84.0             1327           21   \n",
       "\n",
       "   cuisine_count  max_ranking_on_city  mean_ranking_on_city  \\\n",
       "0              3              13986.0           6933.012048   \n",
       "1              1               2464.0           1242.386585   \n",
       "2              7              16444.0           8198.461873   \n",
       "3              1               6372.0           3266.237123   \n",
       "4              3               2763.0           1370.539754   \n",
       "\n",
       "   std_restorant_in_city  price  city_mean_reviews  city_median_reviews  \\\n",
       "0            4045.728867    2.0         114.650602                 41.0   \n",
       "1             723.422474    2.0          72.042683                 16.0   \n",
       "2            4734.698715    3.0         129.605524                 31.0   \n",
       "3            1817.662549    2.0          60.225522                 14.0   \n",
       "4             808.676383    2.0          75.365062                 25.0   \n",
       "\n",
       "   empty_reviews  reviews_na  reviews_number  no_reviews  \n",
       "0            0.0         0.0               2         0.0  \n",
       "1            0.0         0.0               2         0.0  \n",
       "2            0.0         0.0               2         0.0  \n",
       "3            1.0         1.0               0         1.0  \n",
       "4            0.0         0.0               2         0.0  "
      ]
     },
     "metadata": {},
     "output_type": "display_data"
    }
   ],
   "source": [
    "display(main_ready.head(5))"
   ]
  },
  {
   "cell_type": "markdown",
   "metadata": {},
   "source": [
    "# 2. Создание, обучение и тестирование модели."
   ]
  },
  {
   "cell_type": "markdown",
   "metadata": {},
   "source": [
    "### Разделение датафрейма."
   ]
  },
  {
   "cell_type": "markdown",
   "metadata": {},
   "source": [
    "Прежде всего для создания модели необходимо разделить датафрейм на набор данных, которые мы будем использовать для обучения модели (X), и на целевую переменную, т.е. величину, значение которой мы будем предсказывать (y).\n",
    "\n",
    "Далее каждый из полученных наборов мы делим на тренировочный (train, используется для обучения модели) и тестовый (test, используется для оценки точности модели).  Такое деление осуществляется с помощью специального метода, входящего в состав библиотеки Scikit-Learn (sklearn). В параметрах метода мы указываем, какую часть исходного датафрейма нужно оставить для тестирования модели. В нашем коде эта часть составляет 25% или 0.25."
   ]
  },
  {
   "cell_type": "code",
   "execution_count": 52,
   "metadata": {},
   "outputs": [],
   "source": [
    "# Разбиваем датафрейм на части, необходимые для обучения и тестирования модели  \n",
    "# Х - данные с информацией о ресторанах, у - целевая переменная (рейтинги ресторанов)  \n",
    "X = main_ready.drop(['id', 'rating'], axis = 1)  \n",
    "y = main_ready['rating']  "
   ]
  },
  {
   "cell_type": "code",
   "execution_count": 53,
   "metadata": {},
   "outputs": [],
   "source": [
    "# Загружаем специальный инструмент для разбивки:  \n",
    "from sklearn.model_selection import train_test_split  "
   ]
  },
  {
   "cell_type": "code",
   "execution_count": 54,
   "metadata": {},
   "outputs": [],
   "source": [
    "# Наборы данных с меткой \"train\" будут использоваться для обучения модели, \"test\" - для тестирования.  \n",
    "# Для тестирования мы будем использовать 25% от исходного датасета. \n",
    "\n",
    "X_train, X_test, y_train, y_test = train_test_split(X, y, test_size=0.25)"
   ]
  },
  {
   "cell_type": "code",
   "execution_count": 55,
   "metadata": {},
   "outputs": [],
   "source": [
    "# Импортируем необходимые библиотеки:  \n",
    "from sklearn.ensemble import RandomForestRegressor # инструмент для создания и обучения модели  \n",
    "from sklearn import metrics # инструменты для оценки точности модели  "
   ]
  },
  {
   "cell_type": "code",
   "execution_count": 56,
   "metadata": {},
   "outputs": [],
   "source": [
    "# Создаём модель  \n",
    "regr = RandomForestRegressor(n_estimators=100)  "
   ]
  },
  {
   "cell_type": "code",
   "execution_count": 57,
   "metadata": {},
   "outputs": [
    {
     "data": {
      "text/plain": [
       "RandomForestRegressor(bootstrap=True, criterion='mse', max_depth=None,\n",
       "                      max_features='auto', max_leaf_nodes=None,\n",
       "                      min_impurity_decrease=0.0, min_impurity_split=None,\n",
       "                      min_samples_leaf=1, min_samples_split=2,\n",
       "                      min_weight_fraction_leaf=0.0, n_estimators=100,\n",
       "                      n_jobs=None, oob_score=False, random_state=None,\n",
       "                      verbose=0, warm_start=False)"
      ]
     },
     "execution_count": 57,
     "metadata": {},
     "output_type": "execute_result"
    }
   ],
   "source": [
    "# Обучаем модель на тестовом наборе данных  \n",
    "regr.fit(X_train, y_train)  "
   ]
  },
  {
   "cell_type": "code",
   "execution_count": 58,
   "metadata": {},
   "outputs": [],
   "source": [
    "# Используем обученную модель для предсказания рейтинга ресторанов в тестовой выборке.  \n",
    "# Предсказанные значения записываем в переменную y_pred  \n",
    "y_pred = regr.predict(X_test)  "
   ]
  },
  {
   "cell_type": "code",
   "execution_count": 59,
   "metadata": {},
   "outputs": [
    {
     "name": "stdout",
     "output_type": "stream",
     "text": [
      "MAE: 0.21089449999999998\n"
     ]
    }
   ],
   "source": [
    "# Сравниваем предсказанные значения (y_pred) с реальными (y_test), и смотрим насколько они в среднем отличаются  \n",
    "# Метрика называется Mean Absolute Error (MAE) и показывает среднее отклонение предсказанных значений от фактических.  \n",
    "print('MAE:', metrics.mean_absolute_error(y_test, y_pred))  "
   ]
  },
  {
   "cell_type": "markdown",
   "metadata": {},
   "source": [
    "# ВЫВОДЫ:\n",
    "- Мы создали свою первую модель с отклонением в 0.21.\n",
    "- Посмотрии какие признаки больше всего повлияли на модель:"
   ]
  },
  {
   "cell_type": "code",
   "execution_count": 64,
   "metadata": {},
   "outputs": [
    {
     "data": {
      "text/plain": [
       "<matplotlib.axes._subplots.AxesSubplot at 0x17c548c0988>"
      ]
     },
     "execution_count": 64,
     "metadata": {},
     "output_type": "execute_result"
    },
    {
     "data": {
      "image/png": "[encoded data removed]",
      "text/plain": [
       "<Figure size 720x720 with 1 Axes>"
      ]
     },
     "metadata": {
      "needs_background": "light"
     },
     "output_type": "display_data"
    }
   ],
   "source": [
    "plt.rcParams['figure.figsize'] = (10,10)\n",
    "feat_importances = pd.Series(regr.feature_importances_, index=X.columns)\n",
    "feat_importances.nlargest(15).plot(kind='barh')"
   ]
  },
  {
   "cell_type": "markdown",
   "metadata": {},
   "source": [
    "\"Количество отзывов\" и \"место, которое занимает ресторан среди всех ресторанов своего города\" наиболее сильно влияют на нашую ключеную переменную \"Рейтинг\""
   ]
  },
  {
   "cell_type": "code",
   "execution_count": null,
   "metadata": {},
   "outputs": [],
   "source": []
  }
 ],
 "metadata": {
  "kernelspec": {
   "display_name": "Python 3",
   "language": "python",
   "name": "python3"
  },
  "language_info": {
   "codemirror_mode": {
    "name": "ipython",
    "version": 3
   },
   "file_extension": ".py",
   "mimetype": "text/x-python",
   "name": "python",
   "nbconvert_exporter": "python",
   "pygments_lexer": "ipython3",
   "version": "3.7.4"
  }
 },
 "nbformat": 4,
 "nbformat_minor": 2
}
