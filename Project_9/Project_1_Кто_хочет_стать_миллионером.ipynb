{
 "cells": [
  {
   "cell_type": "markdown",
   "id": "23ddab96-9031-4b84-a398-58ab0f442f22",
   "metadata": {},
   "source": [
    "# <center>игра \"КТО ХОЧЕТ СТАТЬ МИЛЛИОНЕРОМ\""
   ]
  },
  {
   "cell_type": "code",
   "execution_count": 1,
   "id": "5c1b3a16-52a8-4ec0-a364-b3ba723e36ec",
   "metadata": {},
   "outputs": [],
   "source": [
    "import numpy as np\n",
    "import pandas as pd\n",
    "import seaborn as sns\n",
    "import matplotlib.pyplot as plt\n",
    "import itertools as its\n",
    "from collections import Counter"
   ]
  },
  {
   "cell_type": "code",
   "execution_count": 8,
   "id": "9ef84288-347e-4f0b-900a-fd580f24e164",
   "metadata": {},
   "outputs": [],
   "source": [
    "df = pd.read_excel('data/data.scv')\n",
    "display(df[df.budget == df.budget.max()].original_title)"
   ]
  },
  {
   "cell_type": "markdown",
   "id": "b3108703-e01c-463c-956b-208dd47cd2ac",
   "metadata": {},
   "source": [
    "## 1. У какого фильма из списка самый большой бюджет?"
   ]
  },
  {
   "cell_type": "code",
   "execution_count": null,
   "id": "813ba810-0b3d-4fde-a5f6-dd92ce86103c",
   "metadata": {},
   "outputs": [],
   "source": [
    "display(df[df.budget == df.budget.max()].original_title)"
   ]
  },
  {
   "cell_type": "markdown",
   "id": "6396cf0c-81aa-433c-9b7b-5068e43bf987",
   "metadata": {},
   "source": [
    "## 2. Какой из фильмов самый длительный (в минутах)"
   ]
  },
  {
   "cell_type": "code",
   "execution_count": null,
   "id": "ea5ba4d1-87a4-492e-bb67-e01a59ebcd24",
   "metadata": {},
   "outputs": [],
   "source": [
    "display(df[df.runtime == df.runtime.max()].original_title)"
   ]
  },
  {
   "cell_type": "markdown",
   "id": "37e28ce0-91f3-4b49-b0d5-3a10e02a73dc",
   "metadata": {},
   "source": [
    "## 3. Какой из фильмов самый короткий (в минутах)"
   ]
  },
  {
   "cell_type": "code",
   "execution_count": null,
   "id": "0e8e6423-990e-4a96-9537-f4b9b3ae7772",
   "metadata": {},
   "outputs": [],
   "source": [
    "display(df[df.runtime == df.runtime.min()].original_title)"
   ]
  },
  {
   "cell_type": "markdown",
   "id": "9d2cec13-ccf8-4f56-97e7-fdeb0974784e",
   "metadata": {},
   "source": [
    "## 4. Средняя длительность фильма?"
   ]
  },
  {
   "cell_type": "code",
   "execution_count": null,
   "id": "ed46b426-c5dc-41f7-b4a9-023cb5e118e5",
   "metadata": {},
   "outputs": [],
   "source": [
    "display(df.runtime.mean())"
   ]
  },
  {
   "cell_type": "markdown",
   "id": "59a78fdb-9d1d-4533-983c-2f8644f1b596",
   "metadata": {},
   "source": [
    "## 5. Средняя длительность фильма по медиане?"
   ]
  },
  {
   "cell_type": "code",
   "execution_count": null,
   "id": "095e7fa4-2b91-4ae4-b700-da2f12739bb1",
   "metadata": {},
   "outputs": [],
   "source": [
    "display(df.runtime.median())"
   ]
  },
  {
   "cell_type": "markdown",
   "id": "faafb928-aa44-4338-8a5e-3ab39cb425ea",
   "metadata": {},
   "source": [
    "## 6. Какой самый прибыльный фильм?"
   ]
  },
  {
   "cell_type": "code",
   "execution_count": null,
   "id": "d463d6e3-cb2c-4222-99e7-dbcfd5119a34",
   "metadata": {},
   "outputs": [],
   "source": [
    "df['profit']=df.revenue-df.budget\n",
    "display(df[df.profit == df.profit.max()].original_title) "
   ]
  },
  {
   "cell_type": "markdown",
   "id": "39f87405-6063-4412-918e-60fbf7aef056",
   "metadata": {},
   "source": [
    "## 7. Какой фильм самый убыточный?"
   ]
  },
  {
   "cell_type": "code",
   "execution_count": null,
   "id": "ed1b0ac1-48e3-4559-85e1-1266bfa9f55a",
   "metadata": {},
   "outputs": [],
   "source": [
    "df['loss']=df.budget-df.revenue\n",
    "display(df[df.loss == df.loss.max()].original_title) "
   ]
  },
  {
   "cell_type": "markdown",
   "id": "cc578b96-ff3f-4521-a45d-13106e2a6a31",
   "metadata": {},
   "source": [
    "## 8. Сколько всего фильмов в прибыли?"
   ]
  },
  {
   "cell_type": "code",
   "execution_count": null,
   "id": "e4a06cd2-4449-49b8-8e7a-d43a25df44cc",
   "metadata": {},
   "outputs": [],
   "source": [
    "df['profit']=df.revenue-df.budget\n",
    "display(len(df[df.profit>0].original_title))"
   ]
  },
  {
   "cell_type": "markdown",
   "id": "e15b86be-5865-49fe-abb5-75c2c23b102b",
   "metadata": {},
   "source": [
    "## 9. Самый прибыльный фильм в 2008 году?"
   ]
  },
  {
   "cell_type": "code",
   "execution_count": null,
   "id": "0dc0aa2f-c197-4766-8372-a0dfa017ba6d",
   "metadata": {},
   "outputs": [],
   "source": [
    "df['profit']=df.revenue-df.budget\n",
    "max_profit = df[(df.release_year==2008)].profit.max()\n",
    "display(df[(df.profit == max_profit)].original_title)"
   ]
  },
  {
   "cell_type": "markdown",
   "id": "5c2f2f09-fc0d-4423-a3dc-44cefcbf8638",
   "metadata": {},
   "source": [
    "## 10. Самый убыточный фильм за период с 2012 по 2014 (включительно)?"
   ]
  },
  {
   "cell_type": "code",
   "execution_count": null,
   "id": "813e89dd-ad99-4860-9512-944be44277b4",
   "metadata": {},
   "outputs": [],
   "source": [
    "df['loss']=df.budget-df.revenue\n",
    "max_loss = df[((df.release_year>=2012) & (df.release_year<=2014))].loss.max()\n",
    "display(df[(df.loss == max_loss)].original_title)"
   ]
  },
  {
   "cell_type": "markdown",
   "id": "03b4f846-3880-4e65-ac39-0432209738a2",
   "metadata": {},
   "source": [
    "## 11. Какого жанра фильмов больше всего?"
   ]
  },
  {
   "cell_type": "code",
   "execution_count": null,
   "id": "62bc6471-8fa7-4d85-9fc7-fe46b3bde5f7",
   "metadata": {},
   "outputs": [],
   "source": [
    "list_genres = []\n",
    "for i in df.genres:\n",
    "    for j in i.split('|'):\n",
    "        list_genres.append(j)\n",
    "df1 = pd.Series(list_genres)\n",
    "\n",
    "# print(df1.value_counts())\n",
    "print(df1.value_counts().index[0])"
   ]
  },
  {
   "cell_type": "markdown",
   "id": "3f1e959b-72be-4f9b-b279-bdd150e5e9e2",
   "metadata": {},
   "source": [
    "## 12. Какого жанра среди прибыльных фильмов больше всего?"
   ]
  },
  {
   "cell_type": "code",
   "execution_count": null,
   "id": "60694f8b-e9cc-4874-99e7-0ac6cce02eda",
   "metadata": {},
   "outputs": [],
   "source": [
    "df['profit']=df.revenue-df.budget\n",
    "list_genres = []\n",
    "for i in df[(df.profit > 0)].genres:\n",
    "    for j in i.split('|'):\n",
    "        list_genres.append(j)\n",
    "df1 = pd.Series(list_genres)\n",
    "​\n",
    "# print(df1.value_counts())\n",
    "print(df1.value_counts().index[0])"
   ]
  },
  {
   "cell_type": "markdown",
   "id": "f886a403-3c53-452f-b265-af5cf38b5b8d",
   "metadata": {},
   "source": [
    "## 13. Кто из режиссеров снял больше всего фильмов?"
   ]
  },
  {
   "cell_type": "code",
   "execution_count": null,
   "id": "85e2a5a7-b240-4bce-bb30-387de93ebb8f",
   "metadata": {},
   "outputs": [],
   "source": [
    "list_director = []\n",
    "for i in df.director:\n",
    "    for j in i.split('|'):\n",
    "        list_director.append(j)\n",
    "df1 = pd.Series(list_director)\n",
    "# print(df1.value_counts())\n",
    "print(df1.value_counts().index[0])"
   ]
  },
  {
   "cell_type": "markdown",
   "id": "25e58202-d98c-4e94-88a2-277545227d76",
   "metadata": {},
   "source": [
    "## 14. Кто из режиссеров снял больше всего Прибыльных фильмов?"
   ]
  },
  {
   "cell_type": "code",
   "execution_count": null,
   "id": "764cbfc9-8835-4c33-bf03-e5194487f821",
   "metadata": {},
   "outputs": [],
   "source": [
    "df['profit']=df.revenue-df.budget\n",
    "list_director = []\n",
    "for i in df[(df.profit>0)].director:\n",
    "    for j in i.split('|'):\n",
    "        list_director.append(j)\n",
    "df1 = pd.Series(list_director)\n",
    "​\n",
    "# print(df1.value_counts())\n",
    "print(df1.value_counts().index[0])"
   ]
  },
  {
   "cell_type": "markdown",
   "id": "e6710cff-4edc-4633-90c7-93608656e66d",
   "metadata": {},
   "source": [
    "## 15. Кто из режиссеров принес больше всего прибыли?"
   ]
  },
  {
   "cell_type": "code",
   "execution_count": null,
   "id": "c1370ae0-e4c7-4e23-914f-828f2926d171",
   "metadata": {},
   "outputs": [],
   "source": [
    "df['profit']=df.revenue-df.budget\n",
    "list_director = {}\n",
    "for index, i_row in df[(df.profit>0)].iterrows(): # перебор по строкам\n",
    "    for j_director in i_row.director.split('|'):\n",
    "        if j_director in list_director:\n",
    "            list_director[j_director]+=i_row.profit\n",
    "        else:\n",
    "            list_director[j_director]=i_row.profit\n",
    "df1 = pd.DataFrame(list_director.items(), columns=['director', 'profit']) #делаем из словаря датафрейм и задаем название колонок\n",
    "\n",
    "display(df1[df1.profit == df1.profit.max()].director) "
   ]
  },
  {
   "cell_type": "markdown",
   "id": "045d00bd-e513-48f1-880a-e0cee813bac3",
   "metadata": {},
   "source": [
    "## 16. Какой актер принес больше всего прибыли?"
   ]
  },
  {
   "cell_type": "code",
   "execution_count": null,
   "id": "2a6e9561-823b-4c08-9b8b-9e086345aaa1",
   "metadata": {},
   "outputs": [],
   "source": [
    "df['profit']=df.revenue-df.budget\n",
    "list_cast = {}\n",
    "for index, i_row in df[(df.profit>0)].iterrows(): # перебор по строкам\n",
    "    for j_cast in i_row.cast.split('|'):\n",
    "        if j_cast in list_cast:\n",
    "            list_cast[j_cast]+=i_row.profit\n",
    "        else:\n",
    "            list_cast[j_cast]=i_row.profit\n",
    "df1 = pd.DataFrame(list_cast.items(), columns=['cast', 'profit']) #делаем из словаря датафрейм и задаем название колонок\n",
    "\n",
    "display(df1[df1.profit == df1.profit.max()].cast) "
   ]
  },
  {
   "cell_type": "markdown",
   "id": "4757eff6-db92-4cba-8b52-5ae6ebf58f3e",
   "metadata": {},
   "source": [
    "## 17. Какой актер принес меньше всего прибыли в 2012 году?"
   ]
  },
  {
   "cell_type": "code",
   "execution_count": null,
   "id": "cd3dc398-b04e-4783-8dcf-5347613ef50f",
   "metadata": {},
   "outputs": [],
   "source": [
    "df['profit']=df.revenue-df.budget\n",
    "list_cast = {}\n",
    "for index, i_row in df[(df.release_year==2012)].iterrows(): # перебор по строкам\n",
    "    for j_cast in i_row.cast.split('|'):\n",
    "        if j_cast in list_cast:\n",
    "            list_cast[j_cast]+=i_row.profit\n",
    "        else:\n",
    "            list_cast[j_cast]=i_row.profit\n",
    "df1 = pd.DataFrame(list_cast.items(), columns=['cast', 'profit']) #делаем из словаря датафрейм и задаем название колонок\n",
    "\n",
    "display(df1[df1.profit == df1.profit.min()].cast) "
   ]
  },
  {
   "cell_type": "markdown",
   "id": "a20602fa-0ba6-48b6-a3b2-0a641f9a66f9",
   "metadata": {},
   "source": [
    "## 18. Какой актер снялся в большем количестве высокобюджетных фильмов? (в фильмах где бюджет выше среднего по данной выборке)"
   ]
  },
  {
   "cell_type": "code",
   "execution_count": null,
   "id": "395d002f-b00b-4584-a1a0-5e8b71161ea8",
   "metadata": {},
   "outputs": [],
   "source": [
    "list_cast = []\n",
    "for i in df[(df.budget>df.budget.mean())].cast:\n",
    "    for j in i.split('|'):\n",
    "        list_cast.append(j)\n",
    "df1 = pd.Series(list_cast)\n",
    "​\n",
    "# print(df1.value_counts())\n",
    "print(df1.value_counts().index[0])"
   ]
  },
  {
   "cell_type": "markdown",
   "id": "bb2cc808-c663-48c7-be3f-bb47d6ecd3fd",
   "metadata": {},
   "source": [
    "## 19. В фильмах какого жанра больше всего снимался Nicolas Cage?"
   ]
  },
  {
   "cell_type": "code",
   "execution_count": null,
   "id": "248018dc-8367-4f28-afe5-74aa62f05646",
   "metadata": {},
   "outputs": [],
   "source": [
    "list_genres = []\n",
    "for i in df[(df.cast.str.find('Nicolas Cage') != -1)].genres: #-1 возвращаем если в cast не найден актер\n",
    "    for j in i.split('|'):\n",
    "        list_genres.append(j)\n",
    "df1 = pd.Series(list_genres)\n",
    "\n",
    "#print(df1.value_counts())\n",
    "print(df1.value_counts().index[0])"
   ]
  },
  {
   "cell_type": "markdown",
   "id": "65a674da-ed34-4d2b-b261-00b1e4312e5d",
   "metadata": {},
   "source": [
    "## 20. Какая студия сняла больше всего фильмов?"
   ]
  },
  {
   "cell_type": "code",
   "execution_count": null,
   "id": "be885f13-2dfe-4ff5-98be-bb2255ce84ce",
   "metadata": {},
   "outputs": [],
   "source": [
    "list_production_companies = []\n",
    "for i in df.production_companies:\n",
    "    for j in i.split('|'):\n",
    "        list_production_companies.append(j)\n",
    "df1 = pd.Series(list_production_companies)\n",
    "​\n",
    "# print(df1.value_counts())\n",
    "print(df1.value_counts().index[0])"
   ]
  },
  {
   "cell_type": "markdown",
   "id": "6ba6977f-b1cc-4603-a40a-c8cb6082080a",
   "metadata": {},
   "source": [
    "## 21. Какая студия сняла больше всего фильмов в 2015 году?"
   ]
  },
  {
   "cell_type": "code",
   "execution_count": null,
   "id": "b6a0e8be-e746-471e-9e97-ebe934caa929",
   "metadata": {},
   "outputs": [],
   "source": [
    "list_production_companies = []\n",
    "for i in df[(df.release_year==2015)].production_companies:\n",
    "    for j in i.split('|'):\n",
    "        list_production_companies.append(j)\n",
    "df1 = pd.Series(list_production_companies)\n",
    "\n",
    "# print(df1.value_counts())\n",
    "print(df1.value_counts().index[0])"
   ]
  },
  {
   "cell_type": "markdown",
   "id": "65c697ae-8190-46e4-a309-840771fb60fe",
   "metadata": {},
   "source": [
    "## 22. Какая студия заработала больше всего денег в жанре комедий за все время?"
   ]
  },
  {
   "cell_type": "code",
   "execution_count": null,
   "id": "d611cd6d-0c68-4ef2-afd4-25a0f8affc9f",
   "metadata": {},
   "outputs": [],
   "source": [
    "list_production_companies={}\n",
    "for index, i_row in df[(df.genres.str.find('Comedy') != -1)].iterrows(): # перебор по строкам\n",
    "    for j_production_company in i_row.production_companies.split('|'):\n",
    "        if j_production_company in list_production_companies:\n",
    "            list_production_companies[j_production_company]+=i_row.revenue\n",
    "        else:\n",
    "            list_production_companies[j_production_company]=i_row.revenue\n",
    "\n",
    "df1 = pd.DataFrame(list_production_companies.items(), columns=['production_companies', 'revenue']) #делаем из словаря датафрейм и задаем название колонок\n",
    "display(df1[df1.revenue == df1.revenue.max()].production_companies) "
   ]
  },
  {
   "cell_type": "markdown",
   "id": "ffd80006-abe7-4ce2-b7e8-b88e95d69965",
   "metadata": {},
   "source": [
    "## 23. Какая студия заработала больше всего денег в 2012 году?"
   ]
  },
  {
   "cell_type": "code",
   "execution_count": null,
   "id": "de1ee619-07d5-4e31-a959-86b6e3c65d14",
   "metadata": {},
   "outputs": [],
   "source": [
    "list_production_companies={}\n",
    "for index, i_row in df[(df.release_year==2012)].iterrows(): # перебор по строкам\n",
    "    for j_production_company in i_row.production_companies.split('|'):\n",
    "        if j_production_company in list_production_companies:\n",
    "            list_production_companies[j_production_company]+=i_row.revenue\n",
    "        else:\n",
    "            list_production_companies[j_production_company]=i_row.revenue\n",
    "\n",
    "df1 = pd.DataFrame(list_production_companies.items(), columns=['production_companies', 'revenue']) #делаем из словаря датафрейм и задаем название колонок\n",
    "\n",
    "display(df1[df1.revenue == df1.revenue.max()].production_companies) "
   ]
  },
  {
   "cell_type": "markdown",
   "id": "58d81460-1d94-4125-8e0e-9157a01a591e",
   "metadata": {},
   "source": [
    "## 24. Самый убыточный фильм от Paramount Pictures"
   ]
  },
  {
   "cell_type": "code",
   "execution_count": null,
   "id": "a6906a47-2490-4847-a5a0-0222c7477538",
   "metadata": {},
   "outputs": [],
   "source": [
    "df['loss']=df.budget-df.revenue\n",
    "\n",
    "list_loss = {}\n",
    "for index, i_row in df[(df.production_companies.str.find('Paramount Pictures') != -1)].iterrows():\n",
    "            list_loss[i_row.original_title]=i_row.loss\n",
    "df1 = pd.DataFrame(list_loss.items(), columns=['original_title', 'loss']) #делаем из словаря датафрейм и задаем название колонок\n",
    "\n",
    "display(df1[(df1.loss == df1.loss.max())].original_title)"
   ]
  },
  {
   "cell_type": "markdown",
   "id": "7a8a384e-9f54-4e98-8a38-8e45e10f3d2e",
   "metadata": {},
   "source": [
    "## 25. Какой Самый прибыльный год (заработали больше всего)?"
   ]
  },
  {
   "cell_type": "code",
   "execution_count": null,
   "id": "1d972810-d8e3-4cdd-84a7-da69aa256251",
   "metadata": {},
   "outputs": [],
   "source": [
    "df['profit']=df.revenue-df.budget\n",
    "list_release_year={}\n",
    "for index, i_row in df.iterrows(): # перебор по строкам\n",
    "        if i_row.release_year in list_release_year:\n",
    "            list_release_year[i_row.release_year]+=i_row.profit\n",
    "        else:\n",
    "            list_release_year[i_row.release_year]=i_row.profit\n",
    "\n",
    "df1 = pd.DataFrame(list_release_year.items(), columns=['release_year', 'profit']) #делаем из словаря датафрейм и задаем название колонок\n",
    "\n",
    "display(df1[df1.profit == df1.profit.max()].release_year) "
   ]
  },
  {
   "cell_type": "markdown",
   "id": "5f04e44a-60be-4d4e-a87d-260d73db9e9e",
   "metadata": {},
   "source": [
    "## 26. Какой Самый прибыльный год для студии Warner Bros?"
   ]
  },
  {
   "cell_type": "code",
   "execution_count": null,
   "id": "8cc9ed16-3730-4ce5-b714-b23b45675fa3",
   "metadata": {},
   "outputs": [],
   "source": [
    "df['profit']=df.revenue-df.budget\n",
    "list_release_year={}\n",
    "for index, i_row in df[(df.production_companies.str.find('Warner Bros') != -1)].iterrows(): # перебор по строкам\n",
    "        if i_row.release_year in list_release_year:\n",
    "            list_release_year[i_row.release_year]+=i_row.profit\n",
    "        else:\n",
    "            list_release_year[i_row.release_year]=i_row.profit\n",
    "\n",
    "df1 = pd.DataFrame(list_release_year.items(), columns=['release_year', 'profit']) #делаем из словаря датафрейм и задаем название колонок\n",
    "\n",
    "display(df1[df1.profit == df1.profit.max()].release_year) "
   ]
  },
  {
   "cell_type": "markdown",
   "id": "8a0b977a-d5b0-40cd-ac9c-da84ac9ee4a1",
   "metadata": {},
   "source": [
    "## 27. В каком месяце за все годы суммарно вышло больше всего фильмов?"
   ]
  },
  {
   "cell_type": "code",
   "execution_count": null,
   "id": "069e3dca-6396-4cdc-9a92-1681a2f3f9a7",
   "metadata": {},
   "outputs": [],
   "source": [
    "list_month = []\n",
    "for i in df.release_date:\n",
    "    month = i.split('/')[0]\n",
    "    list_month.append(month)\n",
    "df1 = pd.Series(list_month)\n",
    "\n",
    "#print(df1.value_counts())\n",
    "print(df1.value_counts().index[0])"
   ]
  },
  {
   "cell_type": "markdown",
   "id": "6ee26906-3bcd-4612-a9e5-68cfd8ba74cc",
   "metadata": {},
   "source": [
    "## 28. Сколько суммарно вышло фильмов летом? (за июнь, июль, август)"
   ]
  },
  {
   "cell_type": "code",
   "execution_count": null,
   "id": "bc1f68e3-0edb-4097-86d2-e4fcb6d2d403",
   "metadata": {},
   "outputs": [],
   "source": [
    "list_month = []\n",
    "for i in df.release_date:\n",
    "    month = i.split('/')[0]\n",
    "    list_month.append(month)\n",
    "df1 = pd.Series(list_month)\n",
    "\n",
    "#print(df1.value_counts())\n",
    "print(df1.value_counts().loc['6']+df1.value_counts().loc['7']+df1.value_counts().loc['8'])"
   ]
  },
  {
   "cell_type": "markdown",
   "id": "6977d6cf-adb1-42e1-9ee2-935e400cf09b",
   "metadata": {},
   "source": [
    "## 29. Какой режисер выпускает (суммарно по годам) больше всего фильмов зимой?"
   ]
  },
  {
   "cell_type": "code",
   "execution_count": null,
   "id": "fd739cf1-5fc6-4130-ae7a-9bb4c3e61459",
   "metadata": {},
   "outputs": [],
   "source": [
    "list_director = []\n",
    "for index, i_row in df.iterrows(): # перебор по строкам \n",
    "    month = i_row.release_date.split('/')[0]\n",
    "    if month in ['12', '1', '2']:\n",
    "        for j_director in i_row.director.split('|'):\n",
    "            list_director.append(j_director)\n",
    "df1 = pd.Series(list_director)\n",
    "\n",
    "#print(df1.value_counts())\n",
    "print(df1.value_counts().index[0])"
   ]
  },
  {
   "cell_type": "markdown",
   "id": "8e671c05-3cbd-43dd-95c1-a05d15021d7d",
   "metadata": {},
   "source": [
    "## 30. Какой месяц чаще всего по годам самый прибыльный?"
   ]
  },
  {
   "cell_type": "code",
   "execution_count": null,
   "id": "a64f678a-b1a0-4650-9698-f5f349f803b0",
   "metadata": {},
   "outputs": [],
   "source": [
    "df['profit']=df.revenue-df.budget\n",
    "most_profitable_month=[]\n",
    "list_years = df.release_year.unique()\n",
    "\n",
    "# считаем самый прибыльный месяц дя каждого года\n",
    "for year in list_years:\n",
    "    list_month = {}\n",
    "    for index, i_row in df[df.release_year==year].iterrows(): # перебор по строкам\n",
    "        month = i_row.release_date.split('/')[0]\n",
    "        if month in list_month:\n",
    "            list_month[month]+=i_row.profit\n",
    "        else:\n",
    "            list_month[month]=i_row.profit\n",
    "\n",
    "    df1 = pd.DataFrame(list_month.items(), columns=['month', 'profit']) #делаем из словаря датафрейм и задаем название колонок\n",
    "    most_profitable_month_in_year = df1[df1.profit == df1.profit.max()].month.iloc[0]\n",
    "    most_profitable_month.append(most_profitable_month_in_year)\n",
    "\n",
    "# самый часто встречающийся месяц\n",
    "df2=pd.Series(most_profitable_month)\n",
    "#display(df2.value_counts())   \n",
    "display(df2.value_counts().index[0])   "
   ]
  },
  {
   "cell_type": "markdown",
   "id": "bf2f573a-8e0c-4092-b99c-823ea27c4d8f",
   "metadata": {},
   "source": [
    "## 31. Названия фильмов какой студии в среднем самые длинные по количеству символов?"
   ]
  },
  {
   "cell_type": "code",
   "execution_count": null,
   "id": "841b8106-8707-4740-97b6-5a12d98f0a63",
   "metadata": {},
   "outputs": [],
   "source": [
    "df['col_len']=df['original_title'].str.len()\n",
    "\n",
    "# словарь длин названий фильмов по компании\n",
    "list_production_companies={}\n",
    "for index, i_row in df.iterrows(): # перебор по строкам\n",
    "    for j_production_company in i_row.production_companies.split('|'):\n",
    "            if j_production_company in list_production_companies:\n",
    "                list_production_companies[j_production_company].append(i_row.col_len)\n",
    "            else:\n",
    "                list_production_companies[j_production_company]=[i_row.col_len]\n",
    "\n",
    "# словарь средней длины названий фильмов по компании\n",
    "list_production_companies_mean={}\n",
    "for index, values in list_production_companies.items():\n",
    "    list_production_companies_mean[index]=sum(values)/len(values)\n",
    "\n",
    "df2 = pd.DataFrame(list_production_companies_mean.items(), columns=['production_companies', 'col_mean'])\n",
    "display(df2[df2['col_mean']==df2['col_mean'].max()].production_companies)"
   ]
  },
  {
   "cell_type": "markdown",
   "id": "fe87efd8-ed7d-48ff-9f33-aab5f2d02d78",
   "metadata": {},
   "source": [
    "## 32. Названия фильмов какой студии в среднем самые длинные по количеству слов?"
   ]
  },
  {
   "cell_type": "code",
   "execution_count": null,
   "id": "ee301000-dcf2-4cf9-96f9-c17e446fc939",
   "metadata": {},
   "outputs": [],
   "source": [
    "# словарь длин названий фильмов по кол-ву слов по компании\n",
    "list_production_companies={}\n",
    "for index, i_row in df.iterrows(): # перебор по строкам\n",
    "    col_len = len(i_row.original_title.split(' '))\n",
    "    for j_production_company in i_row.production_companies.split('|'):\n",
    "            if j_production_company in list_production_companies:\n",
    "                list_production_companies[j_production_company].append(col_len)\n",
    "            else:\n",
    "                list_production_companies[j_production_company]=[col_len]\n",
    "\n",
    "# словарь средней длины названий фильмов по кол-ву слов по компании\n",
    "list_production_companies_mean={}\n",
    "for index, values in list_production_companies.items():\n",
    "    list_production_companies_mean[index]=sum(values)/len(values)\n",
    "\n",
    "df2 = pd.DataFrame(list_production_companies_mean.items(), columns=['production_companies', 'col_mean'])\n",
    "display(df2[df2['col_mean']==df2['col_mean'].max()].production_companies)"
   ]
  },
  {
   "cell_type": "markdown",
   "id": "3da20946-234c-44f7-9a49-2899649e703a",
   "metadata": {},
   "source": [
    "## 33. Сколько разных слов используется в названиях фильмов?(без учета регистра)"
   ]
  },
  {
   "cell_type": "code",
   "execution_count": null,
   "id": "ee7bf860-4986-43d0-82ac-12bf16a77a22",
   "metadata": {},
   "outputs": [],
   "source": [
    "list_words = []\n",
    "for i in df.original_title: \n",
    "    for j in i.split(' '):\n",
    "        # фильтруем пустые значения (если была 2 и более пробела подряд)\n",
    "        if (len(j) > 0):\n",
    "            list_words.append(j.lower())\n",
    "df1 = pd.Series(list_words)\n",
    "\n",
    "print(df1.nunique())"
   ]
  },
  {
   "cell_type": "markdown",
   "id": "ce881edd-0efa-4a6a-a0da-63ccdf75be4d",
   "metadata": {},
   "source": [
    "## 34. Какие фильмы входят в 1 процент лучших по рейтингу?"
   ]
  },
  {
   "cell_type": "code",
   "execution_count": null,
   "id": "a82060b1-1b7b-4b3b-8603-f26f5119d532",
   "metadata": {},
   "outputs": [],
   "source": [
    "list_vote_average = []\n",
    "len_df=int(len(df)/100)\n",
    "df_sort=df.vote_average.sort_values().tail(len_df)\n",
    "#print(df_sort)\n",
    "rating_min=df_sort.iloc[0]\n",
    "for i in df[df.vote_average>=rating_min].original_title:\n",
    "        list_vote_average.append(i)\n",
    "print(sorted(list_vote_average))"
   ]
  },
  {
   "cell_type": "markdown",
   "id": "2eedae0f-66e8-4f53-8f45-57af71493eeb",
   "metadata": {},
   "source": [
    "## 35. Какие актеры чаще всего снимаются в одном фильме вместе"
   ]
  },
  {
   "cell_type": "code",
   "execution_count": null,
   "id": "7046fc4a-ecb0-4bbb-a3e1-cf9f4c7d40ad",
   "metadata": {},
   "outputs": [],
   "source": [
    "list_casts = []\n",
    "\n",
    "for i in df.cast: # перебор по строкам\n",
    "    cast = i.split('|')\n",
    "    for actor_1 in cast:\n",
    "        for actor_2 in cast:\n",
    "            if actor_1!=actor_2:\n",
    "                list_casts.append(actor_1+' and '+actor_2)\n",
    "       \n",
    "\n",
    "df1 = pd.Series(list_casts)\n",
    "\n",
    "value_count = df1.value_counts()\n",
    "display(value_count[(value_count==value_count.max())])"
   ]
  },
  {
   "cell_type": "markdown",
   "id": "4538d660-2523-4bcd-ba9f-243f1ffd6f21",
   "metadata": {},
   "source": [
    "## 36. У какого из режиссеров выше вероятность выпустить фильм в прибыли? (5 баллов)101"
   ]
  },
  {
   "cell_type": "code",
   "execution_count": null,
   "id": "fbe8581b-1333-4ed4-825e-d734a3a2cf2d",
   "metadata": {},
   "outputs": [],
   "source": [
    "df['profit']=df.revenue-df.budget\n",
    "df_directors=pd.DataFrame(columns=['director', 'total_movies', 'profitable_movies'])\n",
    "for index, i_row in df.iterrows(): # перебор по строкам\n",
    "    for j_director in i_row.director.split('|'):\n",
    "        if j_director in df_directors.director.values:\n",
    "            #df_directors[df_directors.director==j_director].total_movies+=1\n",
    "            r = 0\n",
    "        else:\n",
    "            df_directors.append(pd.Series([j_director, 1, 0]), ignore_index=True)\n",
    "        if i_row.profit > 0:\n",
    "            df_directors.loc[df_directors.director==j_director].profitable_movies+=1\n",
    "display(df_directors)"
   ]
  }
 ],
 "metadata": {
  "kernelspec": {
   "display_name": "Python 3 (ipykernel)",
   "language": "python",
   "name": "python3"
  },
  "language_info": {
   "codemirror_mode": {
    "name": "ipython",
    "version": 3
   },
   "file_extension": ".py",
   "mimetype": "text/x-python",
   "name": "python",
   "nbconvert_exporter": "python",
   "pygments_lexer": "ipython3",
   "version": "3.9.7"
  }
 },
 "nbformat": 4,
 "nbformat_minor": 5
}
