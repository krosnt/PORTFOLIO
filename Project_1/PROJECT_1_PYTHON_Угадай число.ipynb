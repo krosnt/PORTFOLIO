{
 "cells": [
  {
   "cell_type": "markdown",
   "id": "72c3b211-7d84-4b91-ab82-0845b2385dd8",
   "metadata": {},
   "source": [
    "***Проект \"УГАДАЙ ЧИСЛО\"***"
   ]
  },
  {
   "cell_type": "code",
   "execution_count": 1,
   "id": "1805f6cf-151a-4ad2-ae5f-52dd636d203b",
   "metadata": {},
   "outputs": [
    {
     "name": "stdout",
     "output_type": "stream",
     "text": [
      "Загадано число от 1 до 99\n"
     ]
    },
    {
     "name": "stdin",
     "output_type": "stream",
     "text": [
      " 39\n"
     ]
    },
    {
     "name": "stdout",
     "output_type": "stream",
     "text": [
      "Угадываемое число больше 39\n"
     ]
    },
    {
     "name": "stdin",
     "output_type": "stream",
     "text": [
      " 59\n"
     ]
    },
    {
     "name": "stdout",
     "output_type": "stream",
     "text": [
      "Угадываемое число меньше 59\n"
     ]
    },
    {
     "name": "stdin",
     "output_type": "stream",
     "text": [
      " 45\n"
     ]
    },
    {
     "name": "stdout",
     "output_type": "stream",
     "text": [
      "Угадываемое число меньше 45\n"
     ]
    },
    {
     "name": "stdin",
     "output_type": "stream",
     "text": [
      " 40\n"
     ]
    },
    {
     "name": "stdout",
     "output_type": "stream",
     "text": [
      "Угадываемое число больше 40\n"
     ]
    },
    {
     "name": "stdin",
     "output_type": "stream",
     "text": [
      " 42\n"
     ]
    },
    {
     "name": "stdout",
     "output_type": "stream",
     "text": [
      "Угадываемое число меньше 42\n"
     ]
    },
    {
     "name": "stdin",
     "output_type": "stream",
     "text": [
      " 41\n"
     ]
    },
    {
     "name": "stdout",
     "output_type": "stream",
     "text": [
      "Вы угадали число 41 за 6 попыток.\n"
     ]
    }
   ],
   "source": [
    "import numpy as np\n",
    "#Создадим счетчик попыток\n",
    "count=0\n",
    "#Загадем число\n",
    "number=np.random.randint(1,100)\n",
    "print(\"Загадано число от 1 до 99\")\n",
    "while True:\n",
    "    predict=int(input())\n",
    "    count+=1\n",
    "    if number==predict: break\n",
    "    elif number > predict: print(f\"Угадываемое число больше {predict}\")\n",
    "    elif number < predict: print(f\"Угадываемое число меньше {predict}\")\n",
    "print(f\"Вы угадали число {number} за {count} попыток.\")"
   ]
  },
  {
   "cell_type": "code",
   "execution_count": 2,
   "id": "53ca8b63-8ab8-40bd-b2e0-831a98320662",
   "metadata": {},
   "outputs": [
    {
     "name": "stdout",
     "output_type": "stream",
     "text": [
      "Ваш алгоритм угадывает число в среднем за 5 попыток\n"
     ]
    },
    {
     "data": {
      "text/plain": [
       "5"
      ]
     },
     "execution_count": 2,
     "metadata": {},
     "output_type": "execute_result"
    }
   ],
   "source": [
    "import numpy as np\n",
    "def score_game(game_core_v1):\n",
    "#Запускаем игру 1000 раз, чтоб узнать как быстро игра угадывает число\n",
    "    count_ls=[]\n",
    "    np.random.seed(1)#фиксируем чтобы эксперимент был воспроизводим\n",
    "    random_array=np.random.randint(1, 101, size=(1000))\n",
    "    for number in random_array:\n",
    "        count_ls.append(game_core_v1(number))\n",
    "    score=int(np.mean(count_ls))\n",
    "    print(f\"Ваш алгоритм угадывает число в среднем за {score} попыток\")\n",
    "    return(score)\n",
    "    \n",
    "def game_core_v3(number):\n",
    "    count=0\n",
    "    n1=1\n",
    "    n2=101\n",
    "    predict=0\n",
    "    while number !=predict:\n",
    "        predict=(n1+n2)//2\n",
    "        count+=1\n",
    "        if predict>number:\n",
    "            n2=predict\n",
    "        else:\n",
    "            n1=predict\n",
    "    return(count)\n",
    "score_game(game_core_v3)"
   ]
  },
  {
   "cell_type": "code",
   "execution_count": null,
   "id": "fe6b065e-a4cb-4848-99c6-b0a09a4587bb",
   "metadata": {},
   "outputs": [],
   "source": []
  }
 ],
 "metadata": {
  "kernelspec": {
   "display_name": "Python 3 (ipykernel)",
   "language": "python",
   "name": "python3"
  },
  "language_info": {
   "codemirror_mode": {
    "name": "ipython",
    "version": 3
   },
   "file_extension": ".py",
   "mimetype": "text/x-python",
   "name": "python",
   "nbconvert_exporter": "python",
   "pygments_lexer": "ipython3",
   "version": "3.9.7"
  },
  "toc-autonumbering": true
 },
 "nbformat": 4,
 "nbformat_minor": 5
}
