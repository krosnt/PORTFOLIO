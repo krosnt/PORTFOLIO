{
 "cells": [
  {
   "cell_type": "markdown",
   "id": "c353de9a",
   "metadata": {},
   "source": [
    "# <CENTER> ЗАДАЧА КЛАССИФИКАЦИИ\n",
    "    \n",
    "## <CENTER> PROJECT 4"
   ]
  },
  {
   "cell_type": "markdown",
   "id": "3a6cd1be-ec04-426f-8b34-69b6aa693934",
   "metadata": {},
   "source": [
    "## ЦЕЛЬ:\n",
    "\n",
    "**Построить модель машинного обучения, которая на основе предложенных характеристик клиента будет предсказывать, воспользуется он предложением об открытии депозита или нет.**"
   ]
  },
  {
   "cell_type": "code",
   "execution_count": 1,
   "id": "4a6e54dc",
   "metadata": {},
   "outputs": [],
   "source": [
    "import pandas as pd\n",
    "import numpy as np\n",
    "import matplotlib.pyplot as plt\n",
    "import seaborn as sns\n",
    "from  sklearn.ensemble import IsolationForest\n",
    "import warnings\n",
    "warnings.filterwarnings('ignore')\n",
    "from sklearn.preprocessing  import LabelEncoder\n",
    "from sklearn import linear_model \n",
    "from sklearn import tree \n",
    "from sklearn import ensemble \n",
    "from sklearn import metrics \n",
    "from sklearn import preprocessing \n",
    "from sklearn.model_selection import train_test_split \n",
    "from sklearn.feature_selection import SelectKBest, f_classif"
   ]
  },
  {
   "cell_type": "markdown",
   "id": "71559b60",
   "metadata": {},
   "source": [
    "## Часть 1. Знакомство с данными, обработка пропусков и выбросов"
   ]
  },
  {
   "cell_type": "code",
   "execution_count": 2,
   "id": "20730cd7",
   "metadata": {},
   "outputs": [
    {
     "data": {
      "text/html": [
       "<div>\n",
       "<style scoped>\n",
       "    .dataframe tbody tr th:only-of-type {\n",
       "        vertical-align: middle;\n",
       "    }\n",
       "\n",
       "    .dataframe tbody tr th {\n",
       "        vertical-align: top;\n",
       "    }\n",
       "\n",
       "    .dataframe thead th {\n",
       "        text-align: right;\n",
       "    }\n",
       "</style>\n",
       "<table border=\"1\" class=\"dataframe\">\n",
       "  <thead>\n",
       "    <tr style=\"text-align: right;\">\n",
       "      <th></th>\n",
       "      <th>age</th>\n",
       "      <th>job</th>\n",
       "      <th>marital</th>\n",
       "      <th>education</th>\n",
       "      <th>default</th>\n",
       "      <th>balance</th>\n",
       "      <th>housing</th>\n",
       "      <th>loan</th>\n",
       "      <th>contact</th>\n",
       "      <th>day</th>\n",
       "      <th>month</th>\n",
       "      <th>duration</th>\n",
       "      <th>campaign</th>\n",
       "      <th>pdays</th>\n",
       "      <th>previous</th>\n",
       "      <th>poutcome</th>\n",
       "      <th>deposit</th>\n",
       "    </tr>\n",
       "  </thead>\n",
       "  <tbody>\n",
       "    <tr>\n",
       "      <th>0</th>\n",
       "      <td>59</td>\n",
       "      <td>admin.</td>\n",
       "      <td>married</td>\n",
       "      <td>secondary</td>\n",
       "      <td>no</td>\n",
       "      <td>2 343,00 $</td>\n",
       "      <td>yes</td>\n",
       "      <td>no</td>\n",
       "      <td>unknown</td>\n",
       "      <td>5</td>\n",
       "      <td>may</td>\n",
       "      <td>1042</td>\n",
       "      <td>1</td>\n",
       "      <td>-1</td>\n",
       "      <td>0</td>\n",
       "      <td>unknown</td>\n",
       "      <td>yes</td>\n",
       "    </tr>\n",
       "    <tr>\n",
       "      <th>1</th>\n",
       "      <td>56</td>\n",
       "      <td>admin.</td>\n",
       "      <td>married</td>\n",
       "      <td>secondary</td>\n",
       "      <td>no</td>\n",
       "      <td>45,00 $</td>\n",
       "      <td>no</td>\n",
       "      <td>no</td>\n",
       "      <td>unknown</td>\n",
       "      <td>5</td>\n",
       "      <td>may</td>\n",
       "      <td>1467</td>\n",
       "      <td>1</td>\n",
       "      <td>-1</td>\n",
       "      <td>0</td>\n",
       "      <td>unknown</td>\n",
       "      <td>yes</td>\n",
       "    </tr>\n",
       "    <tr>\n",
       "      <th>2</th>\n",
       "      <td>41</td>\n",
       "      <td>technician</td>\n",
       "      <td>married</td>\n",
       "      <td>secondary</td>\n",
       "      <td>no</td>\n",
       "      <td>1 270,00 $</td>\n",
       "      <td>yes</td>\n",
       "      <td>no</td>\n",
       "      <td>unknown</td>\n",
       "      <td>5</td>\n",
       "      <td>may</td>\n",
       "      <td>1389</td>\n",
       "      <td>1</td>\n",
       "      <td>-1</td>\n",
       "      <td>0</td>\n",
       "      <td>unknown</td>\n",
       "      <td>yes</td>\n",
       "    </tr>\n",
       "    <tr>\n",
       "      <th>3</th>\n",
       "      <td>55</td>\n",
       "      <td>services</td>\n",
       "      <td>married</td>\n",
       "      <td>secondary</td>\n",
       "      <td>no</td>\n",
       "      <td>2 476,00 $</td>\n",
       "      <td>yes</td>\n",
       "      <td>no</td>\n",
       "      <td>unknown</td>\n",
       "      <td>5</td>\n",
       "      <td>may</td>\n",
       "      <td>579</td>\n",
       "      <td>1</td>\n",
       "      <td>-1</td>\n",
       "      <td>0</td>\n",
       "      <td>unknown</td>\n",
       "      <td>yes</td>\n",
       "    </tr>\n",
       "    <tr>\n",
       "      <th>4</th>\n",
       "      <td>54</td>\n",
       "      <td>admin.</td>\n",
       "      <td>married</td>\n",
       "      <td>tertiary</td>\n",
       "      <td>no</td>\n",
       "      <td>184,00 $</td>\n",
       "      <td>no</td>\n",
       "      <td>no</td>\n",
       "      <td>unknown</td>\n",
       "      <td>5</td>\n",
       "      <td>may</td>\n",
       "      <td>673</td>\n",
       "      <td>2</td>\n",
       "      <td>-1</td>\n",
       "      <td>0</td>\n",
       "      <td>unknown</td>\n",
       "      <td>yes</td>\n",
       "    </tr>\n",
       "  </tbody>\n",
       "</table>\n",
       "</div>"
      ],
      "text/plain": [
       "   age         job  marital  education default       balance housing loan  \\\n",
       "0   59      admin.  married  secondary      no   2 343,00 $      yes   no   \n",
       "1   56      admin.  married  secondary      no      45,00 $       no   no   \n",
       "2   41  technician  married  secondary      no   1 270,00 $      yes   no   \n",
       "3   55    services  married  secondary      no   2 476,00 $      yes   no   \n",
       "4   54      admin.  married   tertiary      no     184,00 $       no   no   \n",
       "\n",
       "   contact  day month  duration  campaign  pdays  previous poutcome deposit  \n",
       "0  unknown    5   may      1042         1     -1         0  unknown     yes  \n",
       "1  unknown    5   may      1467         1     -1         0  unknown     yes  \n",
       "2  unknown    5   may      1389         1     -1         0  unknown     yes  \n",
       "3  unknown    5   may       579         1     -1         0  unknown     yes  \n",
       "4  unknown    5   may       673         2     -1         0  unknown     yes  "
      ]
     },
     "execution_count": 2,
     "metadata": {},
     "output_type": "execute_result"
    }
   ],
   "source": [
    "df = pd.read_csv('data/bank_fin.csv', sep = ';')\n",
    "df.head()"
   ]
  },
  {
   "cell_type": "markdown",
   "id": "ee4a43f1-151c-4bae-a42c-ef9cf53dc6a3",
   "metadata": {},
   "source": [
    "**Данные о клиентах банка:**\n",
    "\n",
    "- age (возраст);\n",
    "- job (сфера занятости);\n",
    "- marital (семейное положение);\n",
    "- education (уровень образования);\n",
    "- default (имеется ли просроченный кредит);\n",
    "- housing (имеется ли кредит на жильё);\n",
    "- loan (имеется ли кредит на личные нужды);\n",
    "- balance (баланс).\n",
    "\n",
    "**Данные, связанные с последним контактом в контексте текущей маркетинговой кампании:**\n",
    "\n",
    "- contact (тип контакта с клиентом);\n",
    "- month (месяц, в котором был последний контакт);\n",
    "- day (день, в который был последний контакт);\n",
    "- duration (продолжительность контакта в секундах).\n",
    "\n",
    "**Прочие признаки:**\n",
    "\n",
    "- campaign (количество контактов с этим клиентом в течение текущей кампании);\n",
    "- pdays (количество пропущенных дней с момента последней маркетинговой кампании до контакта в текущей кампании);\n",
    "- previous (количество контактов до текущей кампании)\n",
    "- poutcome (результат прошлой маркетинговой кампании).\n",
    "\n",
    "И, разумеется, наша целевая переменная `deposit`, которая определяет, согласится ли клиент открыть депозит в банке. Именно её мы будем пытаться предсказать в данном кейсе."
   ]
  },
  {
   "cell_type": "markdown",
   "id": "dc197c51-6973-4e94-bf74-7369166e3599",
   "metadata": {},
   "source": [
    "Исследуем данные на предмет пропусков. "
   ]
  },
  {
   "cell_type": "code",
   "execution_count": 3,
   "id": "9205083f-cdaf-40f0-a8db-69d05c430b4b",
   "metadata": {},
   "outputs": [
    {
     "data": {
      "text/plain": [
       "age           0\n",
       "job           0\n",
       "marital       0\n",
       "education     0\n",
       "default       0\n",
       "balance      25\n",
       "housing       0\n",
       "loan          0\n",
       "contact       0\n",
       "day           0\n",
       "month         0\n",
       "duration      0\n",
       "campaign      0\n",
       "pdays         0\n",
       "previous      0\n",
       "poutcome      0\n",
       "deposit       0\n",
       "dtype: int64"
      ]
     },
     "execution_count": 3,
     "metadata": {},
     "output_type": "execute_result"
    }
   ],
   "source": [
    "df.isnull().sum()"
   ]
  },
  {
   "cell_type": "markdown",
   "id": "ec0e966e-9be0-4761-b8b3-f281a287c848",
   "metadata": {},
   "source": [
    "**Есть ли в признаке `job` пропущенные значения? Возможно, они обозначены каким-то специальным словом?**\n"
   ]
  },
  {
   "cell_type": "code",
   "execution_count": 4,
   "id": "73476a5b-1861-4c76-81f2-917d7e56fb5f",
   "metadata": {},
   "outputs": [
    {
     "data": {
      "text/plain": [
       "count          11162\n",
       "unique            12\n",
       "top       management\n",
       "freq            2566\n",
       "Name: job, dtype: object"
      ]
     },
     "execution_count": 4,
     "metadata": {},
     "output_type": "execute_result"
    }
   ],
   "source": [
    "df['job'].describe()"
   ]
  },
  {
   "cell_type": "code",
   "execution_count": 5,
   "id": "0bedc8d0-17dc-41d9-92d6-b0020f5a72f1",
   "metadata": {},
   "outputs": [
    {
     "data": {
      "text/plain": [
       "management       2566\n",
       "blue-collar      1944\n",
       "technician       1823\n",
       "admin.           1334\n",
       "services          923\n",
       "retired           778\n",
       "self-employed     405\n",
       "student           360\n",
       "unemployed        357\n",
       "entrepreneur      328\n",
       "housemaid         274\n",
       "unknown            70\n",
       "Name: job, dtype: int64"
      ]
     },
     "execution_count": 5,
     "metadata": {},
     "output_type": "execute_result"
    }
   ],
   "source": [
    "df['job'].value_counts()"
   ]
  },
  {
   "cell_type": "markdown",
   "id": "9106561f-6d57-471b-9414-ec4c982dff80",
   "metadata": {},
   "source": [
    "**Преобразуем признак `balance` таким образом, чтобы он корректно считывался, как вещественное число (float)**"
   ]
  },
  {
   "cell_type": "code",
   "execution_count": 6,
   "id": "49ed2b31-6f3e-42f2-900b-53db9f1f2cba",
   "metadata": {},
   "outputs": [
    {
     "name": "stdout",
     "output_type": "stream",
     "text": [
      "<class 'pandas.core.frame.DataFrame'>\n",
      "RangeIndex: 11162 entries, 0 to 11161\n",
      "Data columns (total 17 columns):\n",
      " #   Column     Non-Null Count  Dtype \n",
      "---  ------     --------------  ----- \n",
      " 0   age        11162 non-null  int64 \n",
      " 1   job        11162 non-null  object\n",
      " 2   marital    11162 non-null  object\n",
      " 3   education  11162 non-null  object\n",
      " 4   default    11162 non-null  object\n",
      " 5   balance    11137 non-null  object\n",
      " 6   housing    11162 non-null  object\n",
      " 7   loan       11162 non-null  object\n",
      " 8   contact    11162 non-null  object\n",
      " 9   day        11162 non-null  int64 \n",
      " 10  month      11162 non-null  object\n",
      " 11  duration   11162 non-null  int64 \n",
      " 12  campaign   11162 non-null  int64 \n",
      " 13  pdays      11162 non-null  int64 \n",
      " 14  previous   11162 non-null  int64 \n",
      " 15  poutcome   11162 non-null  object\n",
      " 16  deposit    11162 non-null  object\n",
      "dtypes: int64(6), object(11)\n",
      "memory usage: 1.4+ MB\n"
     ]
    }
   ],
   "source": [
    "df.info()\n"
   ]
  },
  {
   "cell_type": "code",
   "execution_count": 7,
   "id": "056f0d2e-adb6-40ef-b290-e30f00560abd",
   "metadata": {},
   "outputs": [
    {
     "data": {
      "text/plain": [
       "0     2 343,00 $ \n",
       "1        45,00 $ \n",
       "2     1 270,00 $ \n",
       "3     2 476,00 $ \n",
       "4       184,00 $ \n",
       "Name: balance, dtype: object"
      ]
     },
     "execution_count": 7,
     "metadata": {},
     "output_type": "execute_result"
    }
   ],
   "source": [
    "df['balance'].head()"
   ]
  },
  {
   "cell_type": "code",
   "execution_count": 8,
   "id": "7e592660-b974-4bf2-b1cb-d457073e6962",
   "metadata": {},
   "outputs": [],
   "source": [
    "df['balance'] = df['balance'].str.replace(',', '.')"
   ]
  },
  {
   "cell_type": "code",
   "execution_count": 9,
   "id": "42cff053-6825-43b3-8d2d-ce744c2332c9",
   "metadata": {},
   "outputs": [],
   "source": [
    "df['balance'] = df['balance'].str.replace('$', '')"
   ]
  },
  {
   "cell_type": "code",
   "execution_count": 10,
   "id": "a8c389cc-1b98-4dd9-bbe0-b278d62438e3",
   "metadata": {},
   "outputs": [],
   "source": [
    "df['balance'] = df['balance'].str.replace(' ', '')"
   ]
  },
  {
   "cell_type": "code",
   "execution_count": 11,
   "id": "baee8302-696d-469a-94db-7e17c20d8d27",
   "metadata": {},
   "outputs": [
    {
     "data": {
      "text/plain": [
       "0          774\n",
       "1.00        39\n",
       "3.00        34\n",
       "2.00        34\n",
       "4.00        29\n",
       "          ... \n",
       "1641.00      1\n",
       "5517.00      1\n",
       "8332.00      1\n",
       "4859.00      1\n",
       "-134.00      1\n",
       "Name: balance, Length: 3802, dtype: int64"
      ]
     },
     "execution_count": 11,
     "metadata": {},
     "output_type": "execute_result"
    }
   ],
   "source": [
    "df['balance'].value_counts()"
   ]
  },
  {
   "cell_type": "code",
   "execution_count": 12,
   "id": "3ea19c44-9faa-453b-bc0a-b914ddbbb1c4",
   "metadata": {},
   "outputs": [
    {
     "data": {
      "text/plain": [
       "count     11137\n",
       "unique     3802\n",
       "top           0\n",
       "freq        774\n",
       "Name: balance, dtype: object"
      ]
     },
     "execution_count": 12,
     "metadata": {},
     "output_type": "execute_result"
    }
   ],
   "source": [
    "df['balance'].describe()"
   ]
  },
  {
   "cell_type": "markdown",
   "id": "96e137f9-396d-41c4-b2a2-9b33d9803020",
   "metadata": {},
   "source": [
    "Теперь поменяем тип признака на `float`"
   ]
  },
  {
   "cell_type": "code",
   "execution_count": 13,
   "id": "b437f949-e25f-469f-9cdb-2e750890ae5a",
   "metadata": {},
   "outputs": [],
   "source": [
    "df['balance'] = df['balance'].map(lambda x: float(x))"
   ]
  },
  {
   "cell_type": "code",
   "execution_count": 14,
   "id": "7fd78785-df6f-4df1-9411-5ccd25da2fb7",
   "metadata": {},
   "outputs": [
    {
     "data": {
      "text/plain": [
       "count    11137.000000\n",
       "mean      1529.129029\n",
       "std       3228.114892\n",
       "min      -6847.000000\n",
       "25%        123.000000\n",
       "50%        550.000000\n",
       "75%       1708.000000\n",
       "max      81204.000000\n",
       "Name: balance, dtype: float64"
      ]
     },
     "execution_count": 14,
     "metadata": {},
     "output_type": "execute_result"
    }
   ],
   "source": [
    "df['balance'].describe()"
   ]
  },
  {
   "cell_type": "markdown",
   "id": "6de63fd7",
   "metadata": {},
   "source": [
    "### Работа с пропусками\n"
   ]
  },
  {
   "cell_type": "markdown",
   "id": "2d4f1177-2bce-4bc6-a764-3aa3d3ac44a3",
   "metadata": {},
   "source": [
    "**Обработаем пропуски в признаки balance , заменив их на медианные значения по данному признаку**\n"
   ]
  },
  {
   "cell_type": "code",
   "execution_count": 15,
   "id": "04e66e4f-4728-47ad-8a08-7e9de0c5a92b",
   "metadata": {},
   "outputs": [],
   "source": [
    "df['balance'].fillna(df['balance'].median(), inplace = True)"
   ]
  },
  {
   "cell_type": "code",
   "execution_count": 16,
   "id": "267b94f3-22ae-40ed-b362-87e17bef4290",
   "metadata": {},
   "outputs": [
    {
     "data": {
      "text/plain": [
       "count    11162.000000\n",
       "mean      1526.936033\n",
       "std       3224.829691\n",
       "min      -6847.000000\n",
       "25%        123.000000\n",
       "50%        550.000000\n",
       "75%       1699.000000\n",
       "max      81204.000000\n",
       "Name: balance, dtype: float64"
      ]
     },
     "execution_count": 16,
     "metadata": {},
     "output_type": "execute_result"
    }
   ],
   "source": [
    "df['balance'].describe()"
   ]
  },
  {
   "cell_type": "markdown",
   "id": "263bfca8-7f62-493c-b371-99dac2b011ed",
   "metadata": {},
   "source": [
    "**Ранее мы выяснили, что в признаке job есть пропущенные значения, которые не отображаются как пропуски в явном виде. Однако нам всё равно важно их обработать. Мы знаем, что для категориальных признаков пропущенные значения заменяются модой по данному признаку.**"
   ]
  },
  {
   "cell_type": "markdown",
   "id": "e2376c4a-d4ff-4c1e-a53d-0bd4ff657e12",
   "metadata": {},
   "source": [
    "**Обработаем пропуски в категориальных признаках: `job` и `education`, заменив их на модальные значения**\n"
   ]
  },
  {
   "cell_type": "code",
   "execution_count": 17,
   "id": "522e49dc-0a83-423c-87f8-63160766d9de",
   "metadata": {},
   "outputs": [],
   "source": [
    "m_col= df['job'].mode()[0]\n",
    "df['job'] = df['job'].apply(lambda x: m_col if x == 'unknown' else x)"
   ]
  },
  {
   "cell_type": "code",
   "execution_count": 18,
   "id": "7fd4fa10-c0ad-4a53-ab9a-e5ba36292a92",
   "metadata": {},
   "outputs": [],
   "source": [
    "m_col= df['education'].mode()[0]\n",
    "df['education'] = df['education'].apply(lambda x: m_col if x == 'unknown' else x)"
   ]
  },
  {
   "cell_type": "markdown",
   "id": "45048e5d-e7ae-4be0-b1f5-62b921ea0965",
   "metadata": {},
   "source": [
    "**После замены пропусков рассчитаем средний баланс для клиентов с самой популярной работой и самым популярным уровнем образования (т. е. для тех, у кого одновременно самая популярная работа и самое популярное образование).**"
   ]
  },
  {
   "cell_type": "code",
   "execution_count": 19,
   "id": "60eeb2e8-c5e4-4ea0-8ef7-887ed044e883",
   "metadata": {},
   "outputs": [
    {
     "data": {
      "text/plain": [
       "management       2636\n",
       "blue-collar      1944\n",
       "technician       1823\n",
       "admin.           1334\n",
       "services          923\n",
       "retired           778\n",
       "self-employed     405\n",
       "student           360\n",
       "unemployed        357\n",
       "entrepreneur      328\n",
       "housemaid         274\n",
       "Name: job, dtype: int64"
      ]
     },
     "execution_count": 19,
     "metadata": {},
     "output_type": "execute_result"
    }
   ],
   "source": [
    "#Посмотрим на самую популярную работу:\n",
    "df['job'].value_counts()"
   ]
  },
  {
   "cell_type": "code",
   "execution_count": 20,
   "id": "2a6d104e-c742-480d-b80d-e370219eff5b",
   "metadata": {},
   "outputs": [
    {
     "data": {
      "text/plain": [
       "secondary    5973\n",
       "tertiary     3689\n",
       "primary      1500\n",
       "Name: education, dtype: int64"
      ]
     },
     "execution_count": 20,
     "metadata": {},
     "output_type": "execute_result"
    }
   ],
   "source": [
    "#Посмотрим на самое популярное образование:\n",
    "df['education'].value_counts()"
   ]
  },
  {
   "cell_type": "code",
   "execution_count": 21,
   "id": "509ea95e-029a-405e-9e6f-cbc92fad47cb",
   "metadata": {},
   "outputs": [
    {
     "data": {
      "text/html": [
       "<div>\n",
       "<style scoped>\n",
       "    .dataframe tbody tr th:only-of-type {\n",
       "        vertical-align: middle;\n",
       "    }\n",
       "\n",
       "    .dataframe tbody tr th {\n",
       "        vertical-align: top;\n",
       "    }\n",
       "\n",
       "    .dataframe thead th {\n",
       "        text-align: right;\n",
       "    }\n",
       "</style>\n",
       "<table border=\"1\" class=\"dataframe\">\n",
       "  <thead>\n",
       "    <tr style=\"text-align: right;\">\n",
       "      <th>education</th>\n",
       "      <th>primary</th>\n",
       "      <th>secondary</th>\n",
       "      <th>tertiary</th>\n",
       "    </tr>\n",
       "    <tr>\n",
       "      <th>job</th>\n",
       "      <th></th>\n",
       "      <th></th>\n",
       "      <th></th>\n",
       "    </tr>\n",
       "  </thead>\n",
       "  <tbody>\n",
       "    <tr>\n",
       "      <th>admin.</th>\n",
       "      <td>775.928571</td>\n",
       "      <td>1189.494662</td>\n",
       "      <td>1343.482143</td>\n",
       "    </tr>\n",
       "    <tr>\n",
       "      <th>blue-collar</th>\n",
       "      <td>1304.818444</td>\n",
       "      <td>1125.866889</td>\n",
       "      <td>1730.062500</td>\n",
       "    </tr>\n",
       "    <tr>\n",
       "      <th>entrepreneur</th>\n",
       "      <td>1314.707317</td>\n",
       "      <td>1304.445161</td>\n",
       "      <td>2090.189394</td>\n",
       "    </tr>\n",
       "    <tr>\n",
       "      <th>housemaid</th>\n",
       "      <td>1366.444444</td>\n",
       "      <td>1018.229885</td>\n",
       "      <td>2069.162791</td>\n",
       "    </tr>\n",
       "    <tr>\n",
       "      <th>management</th>\n",
       "      <td>1841.534247</td>\n",
       "      <td>1598.882979</td>\n",
       "      <td>1826.104710</td>\n",
       "    </tr>\n",
       "    <tr>\n",
       "      <th>retired</th>\n",
       "      <td>2222.631769</td>\n",
       "      <td>2594.966759</td>\n",
       "      <td>2314.992857</td>\n",
       "    </tr>\n",
       "    <tr>\n",
       "      <th>self-employed</th>\n",
       "      <td>1254.928571</td>\n",
       "      <td>1373.517007</td>\n",
       "      <td>2254.047826</td>\n",
       "    </tr>\n",
       "    <tr>\n",
       "      <th>services</th>\n",
       "      <td>1383.554217</td>\n",
       "      <td>1028.724269</td>\n",
       "      <td>1279.754717</td>\n",
       "    </tr>\n",
       "    <tr>\n",
       "      <th>student</th>\n",
       "      <td>1492.047619</td>\n",
       "      <td>1333.574219</td>\n",
       "      <td>2018.722892</td>\n",
       "    </tr>\n",
       "    <tr>\n",
       "      <th>technician</th>\n",
       "      <td>1805.975610</td>\n",
       "      <td>1461.055511</td>\n",
       "      <td>1766.792706</td>\n",
       "    </tr>\n",
       "    <tr>\n",
       "      <th>unemployed</th>\n",
       "      <td>1607.392857</td>\n",
       "      <td>1147.082949</td>\n",
       "      <td>1552.666667</td>\n",
       "    </tr>\n",
       "  </tbody>\n",
       "</table>\n",
       "</div>"
      ],
      "text/plain": [
       "education          primary    secondary     tertiary\n",
       "job                                                 \n",
       "admin.          775.928571  1189.494662  1343.482143\n",
       "blue-collar    1304.818444  1125.866889  1730.062500\n",
       "entrepreneur   1314.707317  1304.445161  2090.189394\n",
       "housemaid      1366.444444  1018.229885  2069.162791\n",
       "management     1841.534247  1598.882979  1826.104710\n",
       "retired        2222.631769  2594.966759  2314.992857\n",
       "self-employed  1254.928571  1373.517007  2254.047826\n",
       "services       1383.554217  1028.724269  1279.754717\n",
       "student        1492.047619  1333.574219  2018.722892\n",
       "technician     1805.975610  1461.055511  1766.792706\n",
       "unemployed     1607.392857  1147.082949  1552.666667"
      ]
     },
     "execution_count": 21,
     "metadata": {},
     "output_type": "execute_result"
    }
   ],
   "source": [
    "df.groupby(['job', 'education'])['balance'].mean().unstack()\n"
   ]
  },
  {
   "cell_type": "markdown",
   "id": "60b760c6-d76e-49cd-8d11-079baba08440",
   "metadata": {},
   "source": [
    "**Итак, средний баланс у нас равен `1598.882979`**"
   ]
  },
  {
   "cell_type": "markdown",
   "id": "02af77c6",
   "metadata": {},
   "source": [
    "### ВЫБРОСЫ"
   ]
  },
  {
   "cell_type": "markdown",
   "id": "1fb6cb0e-2967-4e63-be1b-0daa4efaad03",
   "metadata": {},
   "source": [
    "**Удалим все выбросы для признака `balance`.\n",
    "Найдем верхнюю и нижнюю границы поиска выбросов по методу Тьюки.**\n"
   ]
  },
  {
   "cell_type": "code",
   "execution_count": 22,
   "id": "60223b08-b7a2-47f5-9f3d-6941a40d3b5b",
   "metadata": {},
   "outputs": [
    {
     "data": {
      "text/plain": [
       "<AxesSubplot:>"
      ]
     },
     "execution_count": 22,
     "metadata": {},
     "output_type": "execute_result"
    },
    {
     "data": {
      "image/png": "[encoded data removed]",
      "text/plain": [
       "<Figure size 640x480 with 1 Axes>"
      ]
     },
     "metadata": {},
     "output_type": "display_data"
    }
   ],
   "source": [
    "df['balance'].hist(bins=100)"
   ]
  },
  {
   "cell_type": "code",
   "execution_count": 23,
   "id": "b2a6df48-a2f3-402f-b3b7-28b95ece28ff",
   "metadata": {},
   "outputs": [
    {
     "data": {
      "text/plain": [
       "<AxesSubplot:>"
      ]
     },
     "execution_count": 23,
     "metadata": {},
     "output_type": "execute_result"
    },
    {
     "data": {
      "image/png": "[encoded data removed]",
      "text/plain": [
       "<Figure size 640x480 with 1 Axes>"
      ]
     },
     "metadata": {},
     "output_type": "display_data"
    }
   ],
   "source": [
    "df.boxplot(column=['balance'])"
   ]
  },
  {
   "cell_type": "code",
   "execution_count": 24,
   "id": "586d160b-fcaf-4038-880f-91ab0a291da9",
   "metadata": {},
   "outputs": [
    {
     "data": {
      "text/plain": [
       "count    11162.000000\n",
       "mean      1526.936033\n",
       "std       3224.829691\n",
       "min      -6847.000000\n",
       "25%        123.000000\n",
       "50%        550.000000\n",
       "75%       1699.000000\n",
       "max      81204.000000\n",
       "Name: balance, dtype: float64"
      ]
     },
     "execution_count": 24,
     "metadata": {},
     "output_type": "execute_result"
    }
   ],
   "source": [
    "df['balance'].describe()"
   ]
  },
  {
   "cell_type": "code",
   "execution_count": 25,
   "id": "5c8ca989-a940-43a0-9072-b78fd1e25522",
   "metadata": {},
   "outputs": [
    {
     "name": "stdout",
     "output_type": "stream",
     "text": [
      "Нижняя граница:  -2241.0 Верхняя граница:  4063.0\n",
      "Результирующее число записей:  10105\n"
     ]
    }
   ],
   "source": [
    "def outliers_iqr(data, feature):\n",
    "    x = data[feature]\n",
    "    quartile_1, quartile_3 = x.quantile(0.25), x.quantile(0.75),\n",
    "    iqr = quartile_3 - quartile_1\n",
    "    lower_bound = quartile_1 - (iqr * 1.5)\n",
    "    upper_bound = quartile_3 + (iqr * 1.5)\n",
    "    outliers = data[(x<lower_bound) | (x > upper_bound)]\n",
    "    cleaned = data[(x>lower_bound) & (x < upper_bound)]\n",
    "    print(\"Нижняя граница: \",lower_bound,\"Верхняя граница: \",upper_bound)\n",
    "    return outliers, cleaned\n",
    "\n",
    "outliers, cleaned = outliers_iqr(df, 'balance')\n",
    "print('Результирующее число записей: ', len(df['balance'])- outliers.shape[0])"
   ]
  },
  {
   "cell_type": "markdown",
   "id": "2cb73d25-1ae5-4e3c-aa5d-ddae4cda12b1",
   "metadata": {},
   "source": [
    "**Удалим все выбросы:**\n"
   ]
  },
  {
   "cell_type": "code",
   "execution_count": 26,
   "id": "6a6976e0-5bcb-4b7c-96e8-02cd7a8cb171",
   "metadata": {},
   "outputs": [
    {
     "name": "stdout",
     "output_type": "stream",
     "text": [
      "<class 'pandas.core.frame.DataFrame'>\n",
      "Int64Index: 10105 entries, 0 to 11161\n",
      "Data columns (total 17 columns):\n",
      " #   Column     Non-Null Count  Dtype  \n",
      "---  ------     --------------  -----  \n",
      " 0   age        10105 non-null  int64  \n",
      " 1   job        10105 non-null  object \n",
      " 2   marital    10105 non-null  object \n",
      " 3   education  10105 non-null  object \n",
      " 4   default    10105 non-null  object \n",
      " 5   balance    10105 non-null  float64\n",
      " 6   housing    10105 non-null  object \n",
      " 7   loan       10105 non-null  object \n",
      " 8   contact    10105 non-null  object \n",
      " 9   day        10105 non-null  int64  \n",
      " 10  month      10105 non-null  object \n",
      " 11  duration   10105 non-null  int64  \n",
      " 12  campaign   10105 non-null  int64  \n",
      " 13  pdays      10105 non-null  int64  \n",
      " 14  previous   10105 non-null  int64  \n",
      " 15  poutcome   10105 non-null  object \n",
      " 16  deposit    10105 non-null  object \n",
      "dtypes: float64(1), int64(6), object(10)\n",
      "memory usage: 1.4+ MB\n"
     ]
    }
   ],
   "source": [
    "df = df.drop(outliers.index, axis=0)\n",
    "df.info()"
   ]
  },
  {
   "cell_type": "markdown",
   "id": "5d22b8cd",
   "metadata": {},
   "source": [
    "## Часть 2:  Разведывательный анализ"
   ]
  },
  {
   "cell_type": "markdown",
   "id": "95635f8a-aa9f-496b-854d-e4b4c5eb73ec",
   "metadata": {},
   "source": [
    "**Изучим соотношение классов в ваших данных на предмет несбалансированности, проиллюстрируем результат**\n"
   ]
  },
  {
   "cell_type": "markdown",
   "id": "fe5bd492-9ab8-48ad-8eb7-68827d2741f4",
   "metadata": {},
   "source": [
    "**Посмотрим сколько клиентов открыли депозит?**"
   ]
  },
  {
   "cell_type": "code",
   "execution_count": 27,
   "id": "2febcc0d-43b4-431a-85c0-d9852a7b9615",
   "metadata": {},
   "outputs": [
    {
     "data": {
      "text/plain": [
       "<AxesSubplot:>"
      ]
     },
     "execution_count": 27,
     "metadata": {},
     "output_type": "execute_result"
    },
    {
     "data": {
      "image/png": "[encoded data removed]",
      "text/plain": [
       "<Figure size 640x480 with 1 Axes>"
      ]
     },
     "metadata": {},
     "output_type": "display_data"
    }
   ],
   "source": [
    "df['deposit'].hist()"
   ]
  },
  {
   "cell_type": "markdown",
   "id": "b7776a21-3c28-4b83-85b5-4f36e7478548",
   "metadata": {},
   "source": [
    "**Вывод: Как видим бОльшая часть клиентов все-таки отказалась открывать депозит в этом банке.**"
   ]
  },
  {
   "cell_type": "code",
   "execution_count": 28,
   "id": "205ddc42-3db3-40a8-951d-e0e6d8935655",
   "metadata": {},
   "outputs": [
    {
     "data": {
      "text/plain": [
       "0    yes\n",
       "1    yes\n",
       "2    yes\n",
       "3    yes\n",
       "4    yes\n",
       "Name: deposit, dtype: object"
      ]
     },
     "execution_count": 28,
     "metadata": {},
     "output_type": "execute_result"
    }
   ],
   "source": [
    "df['deposit'].head()"
   ]
  },
  {
   "cell_type": "code",
   "execution_count": 29,
   "id": "d3e65a8c-5f47-480c-8658-9f24d47b76c5",
   "metadata": {},
   "outputs": [
    {
     "name": "stdout",
     "output_type": "stream",
     "text": [
      "4681\n"
     ]
    }
   ],
   "source": [
    "df_yes = df['deposit']\n",
    "count = 0 #задаём начальное количество символов 'yes'\n",
    "#создаём цикл по элементам списка df_yes\n",
    "\n",
    "for i in df_yes:\n",
    "    if i=='yes':\n",
    "        count+=1\n",
    "print(count)"
   ]
  },
  {
   "cell_type": "code",
   "execution_count": 30,
   "id": "0febbdcb-bf1c-403b-b009-08af41a2e46e",
   "metadata": {},
   "outputs": [
    {
     "name": "stdout",
     "output_type": "stream",
     "text": [
      "5424\n"
     ]
    }
   ],
   "source": [
    "df_no = df['deposit']\n",
    "count = 0 #задаём начальное количество символов 'yes'\n",
    "#создаём цикл по элементам списка df_yes\n",
    "\n",
    "for i in df_no:\n",
    "    if i=='no':\n",
    "        count+=1\n",
    "print(count)"
   ]
  },
  {
   "cell_type": "markdown",
   "id": "7cf0c192-7fce-483f-b56d-dc1b63a54543",
   "metadata": {},
   "source": [
    "**Начнём с описательных статистик для количественных переменных.**\n",
    "\n",
    "- Рассчитайте их и продумайте подробную интерпретацию.\n",
    "- Попробуйте описать данные, которые у вас есть, увидеть первые зависимости.\n",
    "- Рассмотрите минимальные и максимальные значения.\n",
    "- Посмотрите на меры разброса и оцените, насколько данные вариативны.\n",
    "- Сравнив меры центральной тенденции, сделайте выводы о том, есть ли аномальные значения с меньшей или большей стороны.\n",
    "- Дополните выводы визуализациями. Вспомните, какие диаграммы могут помочь в иллюстрации распределений количественных данных."
   ]
  },
  {
   "cell_type": "markdown",
   "id": "24e7c188-3a64-4e62-90f5-1cf49df032b2",
   "metadata": {},
   "source": [
    "**Рассчитаем описательные статистики для количественных переменных, проинтерпретируем результат**"
   ]
  },
  {
   "cell_type": "markdown",
   "id": "a2022200-af46-47a5-bcd0-ba6fcb583570",
   "metadata": {},
   "source": [
    "**Посмотрим на максимальный возраст клиента банка?**"
   ]
  },
  {
   "cell_type": "code",
   "execution_count": 31,
   "id": "d7c00393-d1c1-4e7b-8b77-cd6631037a25",
   "metadata": {},
   "outputs": [
    {
     "data": {
      "text/plain": [
       "95"
      ]
     },
     "execution_count": 31,
     "metadata": {},
     "output_type": "execute_result"
    }
   ],
   "source": [
    "df['age'].max()"
   ]
  },
  {
   "cell_type": "code",
   "execution_count": 32,
   "id": "20cf7621-d2a9-49e5-a134-669a1824d8bb",
   "metadata": {},
   "outputs": [
    {
     "data": {
      "text/plain": [
       "<AxesSubplot:>"
      ]
     },
     "execution_count": 32,
     "metadata": {},
     "output_type": "execute_result"
    },
    {
     "data": {
      "image/png": "[encoded data removed]",
      "text/plain": [
       "<Figure size 640x480 with 1 Axes>"
      ]
     },
     "metadata": {},
     "output_type": "display_data"
    }
   ],
   "source": [
    "df['age'].hist()"
   ]
  },
  {
   "cell_type": "markdown",
   "id": "9e8d07a2-d70b-4acf-8452-6202d625e371",
   "metadata": {},
   "source": [
    "**Вывод: в основном депозит открывают в возрасте от 26лет до 64лет**"
   ]
  },
  {
   "cell_type": "markdown",
   "id": "7580f57d-3f70-4b7c-949d-e2ba581c7109",
   "metadata": {},
   "source": [
    "**Какова минимальная продолжительность разговора с клиентом банка?**"
   ]
  },
  {
   "cell_type": "code",
   "execution_count": 33,
   "id": "421d873c-e6c0-4978-a4a7-103d9bedecb5",
   "metadata": {},
   "outputs": [
    {
     "data": {
      "text/plain": [
       "2"
      ]
     },
     "execution_count": 33,
     "metadata": {},
     "output_type": "execute_result"
    }
   ],
   "source": [
    "df['duration'].min()"
   ]
  },
  {
   "cell_type": "code",
   "execution_count": 34,
   "id": "c4da202d-a342-4172-bb84-a3fd3706e9c9",
   "metadata": {},
   "outputs": [
    {
     "data": {
      "text/plain": [
       "<AxesSubplot:>"
      ]
     },
     "execution_count": 34,
     "metadata": {},
     "output_type": "execute_result"
    },
    {
     "data": {
      "image/png": "[encoded data removed]",
      "text/plain": [
       "<Figure size 640x480 with 1 Axes>"
      ]
     },
     "metadata": {},
     "output_type": "display_data"
    }
   ],
   "source": [
    "df['duration'].hist()"
   ]
  },
  {
   "cell_type": "markdown",
   "id": "346927ee-8ae6-4bf7-a06a-1be7928aecce",
   "metadata": {},
   "source": [
    "**Вывод: скорее всего это был срыв звонка.**"
   ]
  },
  {
   "cell_type": "markdown",
   "id": "6a849fb9-4132-4a8c-87f1-fea1f3aa38f6",
   "metadata": {},
   "source": [
    "**Теперь давайте рассмотрим описательные статистики для категориальных переменных.**\n",
    "\n",
    "**Попробуем извлечь максимум информации из тех показателей, которые можете получить. Сколько всего сфер занятости представлено среди клиентов банка? В каждый ли месяц проходила маркетинговая кампания? Какое семейное положение встречается чаще всего? А образование?**"
   ]
  },
  {
   "cell_type": "markdown",
   "id": "7a9d6a14-918b-40d5-814b-11b1fbe8075d",
   "metadata": {},
   "source": [
    "**Рассчитаем описательные статистики для категориальных переменных.\n",
    "Построем визуализации, иллюстрирующие результаты**"
   ]
  },
  {
   "cell_type": "markdown",
   "id": "8560d792-8192-4fea-8b1c-0d53922c098e",
   "metadata": {},
   "source": [
    "**Сколько было месяцев, в которых проводилась маркетинговая кампания?**"
   ]
  },
  {
   "cell_type": "code",
   "execution_count": 35,
   "id": "3d6754de-0399-4910-af9d-1776fc0649ae",
   "metadata": {},
   "outputs": [
    {
     "data": {
      "text/plain": [
       "<AxesSubplot:xlabel='poutcome'>"
      ]
     },
     "execution_count": 35,
     "metadata": {},
     "output_type": "execute_result"
    },
    {
     "data": {
      "image/png": "[encoded data removed]",
      "text/plain": [
       "<Figure size 640x480 with 1 Axes>"
      ]
     },
     "metadata": {},
     "output_type": "display_data"
    }
   ],
   "source": [
    "res = df.groupby(\"poutcome\")['month'].value_counts(normalize=True).unstack()\n",
    "res.plot(kind='bar')"
   ]
  },
  {
   "cell_type": "code",
   "execution_count": 49,
   "id": "aca55f0b-ea37-453e-99c4-ac7567f08cfc",
   "metadata": {},
   "outputs": [
    {
     "data": {
      "text/plain": [
       "<AxesSubplot:xlabel='count', ylabel='month'>"
      ]
     },
     "execution_count": 49,
     "metadata": {},
     "output_type": "execute_result"
    },
    {
     "data": {
      "image/png": "[encoded data removed]",
      "text/plain": [
       "<Figure size 640x480 with 1 Axes>"
      ]
     },
     "metadata": {},
     "output_type": "display_data"
    }
   ],
   "source": [
    "sns.countplot(y='month',data=df)"
   ]
  },
  {
   "cell_type": "code",
   "execution_count": 36,
   "id": "b78b5194-86c0-49d9-90a6-68be90e57bf0",
   "metadata": {},
   "outputs": [
    {
     "data": {
      "text/plain": [
       "10105"
      ]
     },
     "execution_count": 36,
     "metadata": {},
     "output_type": "execute_result"
    }
   ],
   "source": [
    "df['month'].count()"
   ]
  },
  {
   "cell_type": "markdown",
   "id": "f59891ef-f96d-4a82-9b22-66e424183459",
   "metadata": {},
   "source": [
    "**Сколько сфер занятости представлено среди клиентов банка?**"
   ]
  },
  {
   "cell_type": "code",
   "execution_count": 37,
   "id": "7d782be1-0d6a-4a5f-a06a-b9c83b9f0a8c",
   "metadata": {},
   "outputs": [
    {
     "data": {
      "text/plain": [
       "array(['admin.', 'technician', 'services', 'management', 'retired',\n",
       "       'blue-collar', 'unemployed', 'entrepreneur', 'housemaid',\n",
       "       'self-employed', 'student'], dtype=object)"
      ]
     },
     "execution_count": 37,
     "metadata": {},
     "output_type": "execute_result"
    }
   ],
   "source": [
    "df['job'].unique()"
   ]
  },
  {
   "cell_type": "markdown",
   "id": "2bf0a471-d4eb-46d6-aa5b-06a499f92f67",
   "metadata": {},
   "source": [
    "**Узнаем, для какого статуса предыдущей маркетинговой кампании успех в текущей превалирует над количеством неудач.**\n"
   ]
  },
  {
   "cell_type": "code",
   "execution_count": 38,
   "id": "8504dfaf-b1b0-422f-994b-e2dda08cabe9",
   "metadata": {},
   "outputs": [
    {
     "data": {
      "text/plain": [
       "<AxesSubplot:xlabel='poutcome'>"
      ]
     },
     "execution_count": 38,
     "metadata": {},
     "output_type": "execute_result"
    },
    {
     "data": {
      "image/png": "[encoded data removed]",
      "text/plain": [
       "<Figure size 640x480 with 1 Axes>"
      ]
     },
     "metadata": {},
     "output_type": "display_data"
    }
   ],
   "source": [
    "res = df.groupby(\"poutcome\")['deposit'].value_counts(normalize=True).unstack()\n",
    "res.plot(kind='bar')"
   ]
  },
  {
   "cell_type": "markdown",
   "id": "e26e1ad4-272c-45a7-9af7-ab22381337b5",
   "metadata": {},
   "source": [
    "**Узнаем, в каком месяце чаще всего отказывались от предложения открыть депозит**\n"
   ]
  },
  {
   "cell_type": "code",
   "execution_count": 39,
   "id": "99900416-f086-40dc-a9c5-18c28d928321",
   "metadata": {},
   "outputs": [
    {
     "data": {
      "text/plain": [
       "<AxesSubplot:xlabel='month'>"
      ]
     },
     "execution_count": 39,
     "metadata": {},
     "output_type": "execute_result"
    },
    {
     "data": {
      "image/png": "[encoded data removed]",
      "text/plain": [
       "<Figure size 640x480 with 1 Axes>"
      ]
     },
     "metadata": {},
     "output_type": "display_data"
    }
   ],
   "source": [
    "res = df.groupby(\"month\")['deposit'].value_counts(normalize=True).unstack()\n",
    "res.plot(kind='bar')"
   ]
  },
  {
   "cell_type": "markdown",
   "id": "58436f13-54aa-4332-9cb6-8b1aca706d59",
   "metadata": {},
   "source": [
    "**Создадим возрастные группы и определим, в каких группах более склонны открывать депозит, чем отказываться от предложения**"
   ]
  },
  {
   "cell_type": "code",
   "execution_count": 40,
   "id": "c816c3d5-53d7-4067-afc1-5e838739752e",
   "metadata": {},
   "outputs": [
    {
     "data": {
      "text/plain": [
       "<AxesSubplot:xlabel='age_5'>"
      ]
     },
     "execution_count": 40,
     "metadata": {},
     "output_type": "execute_result"
    },
    {
     "data": {
      "image/png": "[encoded data removed]",
      "text/plain": [
       "<Figure size 640x480 with 1 Axes>"
      ]
     },
     "metadata": {},
     "output_type": "display_data"
    },
    {
     "data": {
      "image/png": "[encoded data removed]",
      "text/plain": [
       "<Figure size 640x480 with 1 Axes>"
      ]
     },
     "metadata": {},
     "output_type": "display_data"
    },
    {
     "data": {
      "image/png": "[encoded data removed]",
      "text/plain": [
       "<Figure size 640x480 with 1 Axes>"
      ]
     },
     "metadata": {},
     "output_type": "display_data"
    },
    {
     "data": {
      "image/png": "[encoded data removed]",
      "text/plain": [
       "<Figure size 640x480 with 1 Axes>"
      ]
     },
     "metadata": {},
     "output_type": "display_data"
    },
    {
     "data": {
      "image/png": "[encoded data removed]",
      "text/plain": [
       "<Figure size 640x480 with 1 Axes>"
      ]
     },
     "metadata": {},
     "output_type": "display_data"
    }
   ],
   "source": [
    "df['age_1']=df['age'].apply(lambda x: 1 if x < 30 else 0)\n",
    "df['age_2']=df['age'].apply(lambda x: 1 if ((x > 30) & (x < 40)) else 0)\n",
    "df['age_3']=df['age'].apply(lambda x: 1 if ((x > 40) & (x < 50)) else 0)\n",
    "df['age_4']=df['age'].apply(lambda x: 1 if ((x > 50) & (x < 60)) else 0)\n",
    "df['age_5']=df['age'].apply(lambda x: 1 if x > 60 else 0)\n",
    "\n",
    "res = df.groupby('age_1')['deposit'].value_counts(normalize=True).unstack()\n",
    "res.plot(kind='bar')\n",
    "\n",
    "res = df.groupby('age_2')['deposit'].value_counts(normalize=True).unstack()\n",
    "res.plot(kind='bar')   \n",
    "res = df.groupby('age_3')['deposit'].value_counts(normalize=True).unstack()\n",
    "res.plot(kind='bar')   \n",
    "res = df.groupby('age_4')['deposit'].value_counts(normalize=True).unstack()\n",
    "res.plot(kind='bar')   \n",
    "res = df.groupby('age_5')['deposit'].value_counts(normalize=True).unstack()\n",
    "res.plot(kind='bar')   "
   ]
  },
  {
   "cell_type": "markdown",
   "id": "f14bd558-9a29-4db5-a907-1c269fb65559",
   "metadata": {},
   "source": [
    "**Вывод: Чаще открывают депозит люди до 30 и страше 60 лет**"
   ]
  },
  {
   "cell_type": "markdown",
   "id": "df06d9ea-bb38-480b-bde0-e71bbe4b8df4",
   "metadata": {},
   "source": [
    "**Давайте посмотрим, как зависит соотношение успешных и неуспешных контактов с клиентами от категорий, к которым относятся клиенты:**\n",
    "\n",
    "- семейное положение;\n",
    "- уровень образования;\n",
    "- сфера занятости.\n",
    "\n",
    "**Построим визуализации, отражающие количество тех, кто открыл депозит, и тех, кто его не открыл, для всех категорий предложенных выше трёх признаков. Постараемся оформить диаграммы максимально наглядно и описать полученный результат.**\n",
    "\n",
    "**К каким категориям относится бόльшая часть людей? Среди каких групп населения есть тенденция соглашаться открывать депозит, а среди каких — отказываться?**"
   ]
  },
  {
   "cell_type": "markdown",
   "id": "78189294-89e9-4e48-8eb6-65b96e6b4423",
   "metadata": {},
   "source": [
    "**Построим визуализации для открывших и неоткрывших депозит в зависимости от семейного статуса**"
   ]
  },
  {
   "cell_type": "code",
   "execution_count": 41,
   "id": "aef24dc8-192c-4e1b-88b6-66debc845e4a",
   "metadata": {},
   "outputs": [
    {
     "data": {
      "text/plain": [
       "<AxesSubplot:xlabel='marital'>"
      ]
     },
     "execution_count": 41,
     "metadata": {},
     "output_type": "execute_result"
    },
    {
     "data": {
      "image/png": "[encoded data removed]",
      "text/plain": [
       "<Figure size 640x480 with 1 Axes>"
      ]
     },
     "metadata": {},
     "output_type": "display_data"
    }
   ],
   "source": [
    "res = df.groupby('marital')['deposit'].value_counts(normalize=True).unstack()\n",
    "res.plot(kind='bar')   "
   ]
  },
  {
   "cell_type": "markdown",
   "id": "a279eaff-485e-4290-8f26-2d3fafa482b5",
   "metadata": {},
   "source": [
    "**Вывод: Чаще открывают депозит люди не состоящие никогда в браке**"
   ]
  },
  {
   "cell_type": "markdown",
   "id": "28e697e8-bead-42d2-9215-04611408a463",
   "metadata": {},
   "source": [
    "**Построим визуализации для открывших и неоткрывших депозит в зависимости от образования**"
   ]
  },
  {
   "cell_type": "code",
   "execution_count": 42,
   "id": "cffdaa3a-48b7-4d25-8fba-b4164569d8cd",
   "metadata": {},
   "outputs": [
    {
     "data": {
      "text/plain": [
       "<AxesSubplot:xlabel='education'>"
      ]
     },
     "execution_count": 42,
     "metadata": {},
     "output_type": "execute_result"
    },
    {
     "data": {
      "image/png": "[encoded data removed]",
      "text/plain": [
       "<Figure size 640x480 with 1 Axes>"
      ]
     },
     "metadata": {},
     "output_type": "display_data"
    }
   ],
   "source": [
    "res = df.groupby('education')['deposit'].value_counts(normalize=True).unstack()\n",
    "res.plot(kind='bar') "
   ]
  },
  {
   "cell_type": "markdown",
   "id": "1e2ae3d2-edec-4436-bd25-e697bcfdd60b",
   "metadata": {},
   "source": [
    "**Построим визуализации для открывших и неоткрывших депозит в зависимости от вида профессиональной занятости**"
   ]
  },
  {
   "cell_type": "code",
   "execution_count": 48,
   "id": "7067d9bd-a8db-40c6-869c-e2998d24b72d",
   "metadata": {},
   "outputs": [
    {
     "data": {
      "text/plain": [
       "<AxesSubplot:xlabel='count', ylabel='job'>"
      ]
     },
     "execution_count": 48,
     "metadata": {},
     "output_type": "execute_result"
    },
    {
     "data": {
      "image/png": "[encoded data removed]",
      "text/plain": [
       "<Figure size 640x480 with 1 Axes>"
      ]
     },
     "metadata": {},
     "output_type": "display_data"
    }
   ],
   "source": [
    "sns.countplot(y='job',data=df) "
   ]
  },
  {
   "cell_type": "markdown",
   "id": "62e667dc-77a8-48fc-a93c-3d1dfd868ee0",
   "metadata": {},
   "source": [
    "**Построим сводную таблицу, чтобы определить люди с каким образованием и семейным статусом наиболее многочисленны\n",
    "(если рассматривать тех, кто открыл депозит)**"
   ]
  },
  {
   "cell_type": "code",
   "execution_count": 44,
   "id": "f7232ec3-b086-447b-9880-91753510c574",
   "metadata": {},
   "outputs": [],
   "source": [
    "pos_1 = df[df.deposit == 'yes'][['education','marital','deposit']]\n",
    "pos_2 = df[df.deposit == 'no'][['education','marital','deposit']] "
   ]
  },
  {
   "cell_type": "code",
   "execution_count": 45,
   "id": "82bb73d7-2e59-4b74-a4dc-575355920b2f",
   "metadata": {},
   "outputs": [],
   "source": [
    "cross_1 = pd.crosstab(pos_1['education'], pos_1['marital'])\n",
    "cross_2 = pd.crosstab(pos_2['education'], pos_2['marital'])"
   ]
  },
  {
   "cell_type": "code",
   "execution_count": 46,
   "id": "3c4ec322-ed84-4a19-acb0-9b8d57f61e65",
   "metadata": {},
   "outputs": [
    {
     "data": {
      "text/plain": [
       "<AxesSubplot:xlabel='marital', ylabel='education'>"
      ]
     },
     "execution_count": 46,
     "metadata": {},
     "output_type": "execute_result"
    },
    {
     "data": {
      "image/png": "[encoded data removed]",
      "text/plain": [
       "<Figure size 640x480 with 2 Axes>"
      ]
     },
     "metadata": {},
     "output_type": "display_data"
    }
   ],
   "source": [
    "import seaborn as sns\n",
    "#построим тепловую матрицу, чтобы было легче найти нужные значения\n",
    "sns.heatmap(cross_1)"
   ]
  },
  {
   "cell_type": "code",
   "execution_count": 47,
   "id": "8b69ca02-d8f6-4820-acd9-82ade782675c",
   "metadata": {},
   "outputs": [
    {
     "data": {
      "text/plain": [
       "<AxesSubplot:xlabel='marital', ylabel='education'>"
      ]
     },
     "execution_count": 47,
     "metadata": {},
     "output_type": "execute_result"
    },
    {
     "data": {
      "image/png": "[encoded data removed]",
      "text/plain": [
       "<Figure size 640x480 with 2 Axes>"
      ]
     },
     "metadata": {},
     "output_type": "display_data"
    }
   ],
   "source": [
    "import seaborn as sns\n",
    "#построим тепловую матрицу, чтобы было легче найти нужные значения\n",
    "sns.heatmap(cross_2)"
   ]
  },
  {
   "cell_type": "markdown",
   "id": "d94612e8-aba1-425b-b866-1325222a0a06",
   "metadata": {},
   "source": [
    "**Вывод: Люди с высшим образованием и находящиеся в браке самые многочисленные.**"
   ]
  },
  {
   "cell_type": "markdown",
   "id": "dfd805c0",
   "metadata": {},
   "source": [
    "## Часть 3: преобразование данных"
   ]
  },
  {
   "cell_type": "markdown",
   "id": "49565ed2-6284-4719-8740-f0f03c72a30f",
   "metadata": {},
   "source": [
    "\n",
    "**Начнём с обработки категориального порядкового признака, который отвечает за уровень образования: `education`.\n",
    "Обработаем его с помощью метода LabelEncoder, используя метод без дополнительных настроек.**"
   ]
  },
  {
   "cell_type": "code",
   "execution_count": 54,
   "id": "5056112b-01df-4c0f-8f19-3c8670593893",
   "metadata": {},
   "outputs": [
    {
     "data": {
      "text/plain": [
       "11995"
      ]
     },
     "execution_count": 54,
     "metadata": {},
     "output_type": "execute_result"
    }
   ],
   "source": [
    "from sklearn.preprocessing import OrdinalEncoder, LabelEncoder, OneHotEncoder\n",
    "df['education'] = lab_enc.fit_transform(df['education'])\n",
    "df['education'].sum()"
   ]
  },
  {
   "cell_type": "markdown",
   "id": "507762c4-d84b-4439-83a5-3d64880f8505",
   "metadata": {},
   "source": [
    "**Ранее мы создали порядковую переменную для возраста. Обработаем её по такому же принципу, чтобы её можно было использовать при обучении модели.**"
   ]
  },
  {
   "cell_type": "code",
   "execution_count": 55,
   "id": "06e5d040-d3cc-4329-86e2-98c46c5b5d21",
   "metadata": {},
   "outputs": [],
   "source": [
    "df['age_1'] = lab_enc.fit_transform(df['age_1'])\n",
    "df['age_2'] = lab_enc.fit_transform(df['age_2'])\n",
    "df['age_3'] = lab_enc.fit_transform(df['age_3'])\n",
    "df['age_4'] = lab_enc.fit_transform(df['age_4'])\n",
    "df['age_5'] = lab_enc.fit_transform(df['age_5'])"
   ]
  },
  {
   "cell_type": "markdown",
   "id": "a3d627d0-f5d1-4ff1-8bd3-7aefdb016737",
   "metadata": {},
   "source": [
    "**БИНАРНОЕ КОДИРОВАНИЕ**"
   ]
  },
  {
   "cell_type": "markdown",
   "id": "847d5d52-fd57-4e96-a933-57d4c9d5435b",
   "metadata": {},
   "source": [
    "Обычно в задачах бинарной классификации целевую переменную кодируют как бинарный признак, который принимает значения 1 или 0. Так как наш проект будет соответствовать всем правилам хорошего тона, давайте перекодируем переменную `deposit` таким образом, чтобы вместо yes она принимала значение 1, а вместо no — 0."
   ]
  },
  {
   "cell_type": "markdown",
   "id": "68facae1-828d-47b1-9179-13437d005f42",
   "metadata": {},
   "source": [
    "Напишем соответствующую функцию"
   ]
  },
  {
   "cell_type": "code",
   "execution_count": 56,
   "id": "f0c8a367-e9b8-4c2a-8677-9f9b3033fb09",
   "metadata": {},
   "outputs": [],
   "source": [
    "def bin_func(row):\n",
    "    if row == 'yes':\n",
    "        return 1\n",
    "    else:\n",
    "        return 0\n",
    "\n",
    "df['deposit'] = df['deposit'].apply(bin_func)"
   ]
  },
  {
   "cell_type": "markdown",
   "id": "744821a0-c504-4ce4-83d0-63ec38fdc432",
   "metadata": {},
   "source": [
    "Вычислим стандартное отклонение по преобразованной в корректный вид целевой переменной deposit"
   ]
  },
  {
   "cell_type": "code",
   "execution_count": 57,
   "id": "c5ff1d87-4f16-40ae-bc29-7629164f7c9b",
   "metadata": {},
   "outputs": [
    {
     "data": {
      "text/plain": [
       "0.4986712532451993"
      ]
     },
     "execution_count": 57,
     "metadata": {},
     "output_type": "execute_result"
    }
   ],
   "source": [
    "df['deposit'].std()"
   ]
  },
  {
   "cell_type": "markdown",
   "id": "d9e79c4d-af8b-4e07-a21e-9562039f32a7",
   "metadata": {},
   "source": [
    "Сделаем то же самое для других бинарных переменных, которых у нас три:\n",
    "\n",
    "`'default'`;\n",
    "`'housing'`;\n",
    "`'loan'`.\n",
    "Все три мы будем модифицировать ровно так же: для слова `yes` мы возьмём в качестве значения 1, а для `no` — 0."
   ]
  },
  {
   "cell_type": "code",
   "execution_count": 58,
   "id": "c41aee67-07d7-457a-bf70-fa0ba459d36c",
   "metadata": {},
   "outputs": [
    {
     "data": {
      "text/html": [
       "<div>\n",
       "<style scoped>\n",
       "    .dataframe tbody tr th:only-of-type {\n",
       "        vertical-align: middle;\n",
       "    }\n",
       "\n",
       "    .dataframe tbody tr th {\n",
       "        vertical-align: top;\n",
       "    }\n",
       "\n",
       "    .dataframe thead th {\n",
       "        text-align: right;\n",
       "    }\n",
       "</style>\n",
       "<table border=\"1\" class=\"dataframe\">\n",
       "  <thead>\n",
       "    <tr style=\"text-align: right;\">\n",
       "      <th></th>\n",
       "      <th>age</th>\n",
       "      <th>job</th>\n",
       "      <th>marital</th>\n",
       "      <th>education</th>\n",
       "      <th>default</th>\n",
       "      <th>balance</th>\n",
       "      <th>housing</th>\n",
       "      <th>loan</th>\n",
       "      <th>contact</th>\n",
       "      <th>day</th>\n",
       "      <th>...</th>\n",
       "      <th>campaign</th>\n",
       "      <th>pdays</th>\n",
       "      <th>previous</th>\n",
       "      <th>poutcome</th>\n",
       "      <th>deposit</th>\n",
       "      <th>age_1</th>\n",
       "      <th>age_2</th>\n",
       "      <th>age_3</th>\n",
       "      <th>age_4</th>\n",
       "      <th>age_5</th>\n",
       "    </tr>\n",
       "  </thead>\n",
       "  <tbody>\n",
       "    <tr>\n",
       "      <th>0</th>\n",
       "      <td>59</td>\n",
       "      <td>admin.</td>\n",
       "      <td>married</td>\n",
       "      <td>1</td>\n",
       "      <td>0</td>\n",
       "      <td>2343.0</td>\n",
       "      <td>1</td>\n",
       "      <td>0</td>\n",
       "      <td>unknown</td>\n",
       "      <td>5</td>\n",
       "      <td>...</td>\n",
       "      <td>1</td>\n",
       "      <td>-1</td>\n",
       "      <td>0</td>\n",
       "      <td>unknown</td>\n",
       "      <td>1</td>\n",
       "      <td>0</td>\n",
       "      <td>0</td>\n",
       "      <td>0</td>\n",
       "      <td>1</td>\n",
       "      <td>0</td>\n",
       "    </tr>\n",
       "    <tr>\n",
       "      <th>1</th>\n",
       "      <td>56</td>\n",
       "      <td>admin.</td>\n",
       "      <td>married</td>\n",
       "      <td>1</td>\n",
       "      <td>0</td>\n",
       "      <td>45.0</td>\n",
       "      <td>0</td>\n",
       "      <td>0</td>\n",
       "      <td>unknown</td>\n",
       "      <td>5</td>\n",
       "      <td>...</td>\n",
       "      <td>1</td>\n",
       "      <td>-1</td>\n",
       "      <td>0</td>\n",
       "      <td>unknown</td>\n",
       "      <td>1</td>\n",
       "      <td>0</td>\n",
       "      <td>0</td>\n",
       "      <td>0</td>\n",
       "      <td>1</td>\n",
       "      <td>0</td>\n",
       "    </tr>\n",
       "    <tr>\n",
       "      <th>2</th>\n",
       "      <td>41</td>\n",
       "      <td>technician</td>\n",
       "      <td>married</td>\n",
       "      <td>1</td>\n",
       "      <td>0</td>\n",
       "      <td>1270.0</td>\n",
       "      <td>1</td>\n",
       "      <td>0</td>\n",
       "      <td>unknown</td>\n",
       "      <td>5</td>\n",
       "      <td>...</td>\n",
       "      <td>1</td>\n",
       "      <td>-1</td>\n",
       "      <td>0</td>\n",
       "      <td>unknown</td>\n",
       "      <td>1</td>\n",
       "      <td>0</td>\n",
       "      <td>0</td>\n",
       "      <td>1</td>\n",
       "      <td>0</td>\n",
       "      <td>0</td>\n",
       "    </tr>\n",
       "    <tr>\n",
       "      <th>3</th>\n",
       "      <td>55</td>\n",
       "      <td>services</td>\n",
       "      <td>married</td>\n",
       "      <td>1</td>\n",
       "      <td>0</td>\n",
       "      <td>2476.0</td>\n",
       "      <td>1</td>\n",
       "      <td>0</td>\n",
       "      <td>unknown</td>\n",
       "      <td>5</td>\n",
       "      <td>...</td>\n",
       "      <td>1</td>\n",
       "      <td>-1</td>\n",
       "      <td>0</td>\n",
       "      <td>unknown</td>\n",
       "      <td>1</td>\n",
       "      <td>0</td>\n",
       "      <td>0</td>\n",
       "      <td>0</td>\n",
       "      <td>1</td>\n",
       "      <td>0</td>\n",
       "    </tr>\n",
       "    <tr>\n",
       "      <th>4</th>\n",
       "      <td>54</td>\n",
       "      <td>admin.</td>\n",
       "      <td>married</td>\n",
       "      <td>2</td>\n",
       "      <td>0</td>\n",
       "      <td>184.0</td>\n",
       "      <td>0</td>\n",
       "      <td>0</td>\n",
       "      <td>unknown</td>\n",
       "      <td>5</td>\n",
       "      <td>...</td>\n",
       "      <td>2</td>\n",
       "      <td>-1</td>\n",
       "      <td>0</td>\n",
       "      <td>unknown</td>\n",
       "      <td>1</td>\n",
       "      <td>0</td>\n",
       "      <td>0</td>\n",
       "      <td>0</td>\n",
       "      <td>1</td>\n",
       "      <td>0</td>\n",
       "    </tr>\n",
       "  </tbody>\n",
       "</table>\n",
       "<p>5 rows × 22 columns</p>\n",
       "</div>"
      ],
      "text/plain": [
       "   age         job  marital  education  default  balance  housing  loan  \\\n",
       "0   59      admin.  married          1        0   2343.0        1     0   \n",
       "1   56      admin.  married          1        0     45.0        0     0   \n",
       "2   41  technician  married          1        0   1270.0        1     0   \n",
       "3   55    services  married          1        0   2476.0        1     0   \n",
       "4   54      admin.  married          2        0    184.0        0     0   \n",
       "\n",
       "   contact  day  ... campaign  pdays  previous  poutcome  deposit age_1  \\\n",
       "0  unknown    5  ...        1     -1         0   unknown        1     0   \n",
       "1  unknown    5  ...        1     -1         0   unknown        1     0   \n",
       "2  unknown    5  ...        1     -1         0   unknown        1     0   \n",
       "3  unknown    5  ...        1     -1         0   unknown        1     0   \n",
       "4  unknown    5  ...        2     -1         0   unknown        1     0   \n",
       "\n",
       "   age_2  age_3  age_4  age_5  \n",
       "0      0      0      1      0  \n",
       "1      0      0      1      0  \n",
       "2      0      1      0      0  \n",
       "3      0      0      1      0  \n",
       "4      0      0      1      0  \n",
       "\n",
       "[5 rows x 22 columns]"
      ]
     },
     "execution_count": 58,
     "metadata": {},
     "output_type": "execute_result"
    }
   ],
   "source": [
    "df['default'] = df['default'].apply(bin_func)\n",
    "df['housing'] = df['housing'].apply(bin_func)\n",
    "df['loan'] = df['loan'].apply(bin_func)\n",
    "df.head()"
   ]
  },
  {
   "cell_type": "code",
   "execution_count": 59,
   "id": "3ec877da-473f-4335-bf1a-624bbad15808",
   "metadata": {},
   "outputs": [
    {
     "data": {
      "text/plain": [
       "0.6354280059376547"
      ]
     },
     "execution_count": 59,
     "metadata": {},
     "output_type": "execute_result"
    }
   ],
   "source": [
    "mean_3=df['loan'].mean()+df['housing'].mean()+df['default'].mean()\n",
    "mean_3"
   ]
  },
  {
   "cell_type": "markdown",
   "id": "44a1a880-540e-4bbe-9d9a-d970f0a3d8e2",
   "metadata": {},
   "source": [
    "**Создание dummy-переменных**"
   ]
  },
  {
   "cell_type": "markdown",
   "id": "5371b0b5-6654-46e3-8488-08f62311bab0",
   "metadata": {},
   "source": [
    "Теперь нам необходимо преобразовать номинальные переменные, которые могут принимать несколько различных значений. Это следующие переменные:\n",
    "\n",
    "- 'job';\n",
    "- 'marital';\n",
    "- 'contact';\n",
    "- 'month';\n",
    "- 'poutcome'.\n",
    "\n",
    "Создадим для них dummy-переменные и добавьте их в набор данных."
   ]
  },
  {
   "cell_type": "code",
   "execution_count": 60,
   "id": "b996883f",
   "metadata": {},
   "outputs": [
    {
     "data": {
      "text/html": [
       "<div>\n",
       "<style scoped>\n",
       "    .dataframe tbody tr th:only-of-type {\n",
       "        vertical-align: middle;\n",
       "    }\n",
       "\n",
       "    .dataframe tbody tr th {\n",
       "        vertical-align: top;\n",
       "    }\n",
       "\n",
       "    .dataframe thead th {\n",
       "        text-align: right;\n",
       "    }\n",
       "</style>\n",
       "<table border=\"1\" class=\"dataframe\">\n",
       "  <thead>\n",
       "    <tr style=\"text-align: right;\">\n",
       "      <th></th>\n",
       "      <th>age</th>\n",
       "      <th>job</th>\n",
       "      <th>marital</th>\n",
       "      <th>education</th>\n",
       "      <th>default</th>\n",
       "      <th>balance</th>\n",
       "      <th>housing</th>\n",
       "      <th>loan</th>\n",
       "      <th>contact</th>\n",
       "      <th>day</th>\n",
       "      <th>...</th>\n",
       "      <th>month_jun</th>\n",
       "      <th>month_mar</th>\n",
       "      <th>month_may</th>\n",
       "      <th>month_nov</th>\n",
       "      <th>month_oct</th>\n",
       "      <th>month_sep</th>\n",
       "      <th>poutcome_failure</th>\n",
       "      <th>poutcome_other</th>\n",
       "      <th>poutcome_success</th>\n",
       "      <th>poutcome_unknown</th>\n",
       "    </tr>\n",
       "  </thead>\n",
       "  <tbody>\n",
       "    <tr>\n",
       "      <th>0</th>\n",
       "      <td>59</td>\n",
       "      <td>admin.</td>\n",
       "      <td>married</td>\n",
       "      <td>1</td>\n",
       "      <td>0</td>\n",
       "      <td>2343.0</td>\n",
       "      <td>1</td>\n",
       "      <td>0</td>\n",
       "      <td>unknown</td>\n",
       "      <td>5</td>\n",
       "      <td>...</td>\n",
       "      <td>0</td>\n",
       "      <td>0</td>\n",
       "      <td>1</td>\n",
       "      <td>0</td>\n",
       "      <td>0</td>\n",
       "      <td>0</td>\n",
       "      <td>0</td>\n",
       "      <td>0</td>\n",
       "      <td>0</td>\n",
       "      <td>1</td>\n",
       "    </tr>\n",
       "    <tr>\n",
       "      <th>1</th>\n",
       "      <td>56</td>\n",
       "      <td>admin.</td>\n",
       "      <td>married</td>\n",
       "      <td>1</td>\n",
       "      <td>0</td>\n",
       "      <td>45.0</td>\n",
       "      <td>0</td>\n",
       "      <td>0</td>\n",
       "      <td>unknown</td>\n",
       "      <td>5</td>\n",
       "      <td>...</td>\n",
       "      <td>0</td>\n",
       "      <td>0</td>\n",
       "      <td>1</td>\n",
       "      <td>0</td>\n",
       "      <td>0</td>\n",
       "      <td>0</td>\n",
       "      <td>0</td>\n",
       "      <td>0</td>\n",
       "      <td>0</td>\n",
       "      <td>1</td>\n",
       "    </tr>\n",
       "    <tr>\n",
       "      <th>2</th>\n",
       "      <td>41</td>\n",
       "      <td>technician</td>\n",
       "      <td>married</td>\n",
       "      <td>1</td>\n",
       "      <td>0</td>\n",
       "      <td>1270.0</td>\n",
       "      <td>1</td>\n",
       "      <td>0</td>\n",
       "      <td>unknown</td>\n",
       "      <td>5</td>\n",
       "      <td>...</td>\n",
       "      <td>0</td>\n",
       "      <td>0</td>\n",
       "      <td>1</td>\n",
       "      <td>0</td>\n",
       "      <td>0</td>\n",
       "      <td>0</td>\n",
       "      <td>0</td>\n",
       "      <td>0</td>\n",
       "      <td>0</td>\n",
       "      <td>1</td>\n",
       "    </tr>\n",
       "    <tr>\n",
       "      <th>3</th>\n",
       "      <td>55</td>\n",
       "      <td>services</td>\n",
       "      <td>married</td>\n",
       "      <td>1</td>\n",
       "      <td>0</td>\n",
       "      <td>2476.0</td>\n",
       "      <td>1</td>\n",
       "      <td>0</td>\n",
       "      <td>unknown</td>\n",
       "      <td>5</td>\n",
       "      <td>...</td>\n",
       "      <td>0</td>\n",
       "      <td>0</td>\n",
       "      <td>1</td>\n",
       "      <td>0</td>\n",
       "      <td>0</td>\n",
       "      <td>0</td>\n",
       "      <td>0</td>\n",
       "      <td>0</td>\n",
       "      <td>0</td>\n",
       "      <td>1</td>\n",
       "    </tr>\n",
       "    <tr>\n",
       "      <th>4</th>\n",
       "      <td>54</td>\n",
       "      <td>admin.</td>\n",
       "      <td>married</td>\n",
       "      <td>2</td>\n",
       "      <td>0</td>\n",
       "      <td>184.0</td>\n",
       "      <td>0</td>\n",
       "      <td>0</td>\n",
       "      <td>unknown</td>\n",
       "      <td>5</td>\n",
       "      <td>...</td>\n",
       "      <td>0</td>\n",
       "      <td>0</td>\n",
       "      <td>1</td>\n",
       "      <td>0</td>\n",
       "      <td>0</td>\n",
       "      <td>0</td>\n",
       "      <td>0</td>\n",
       "      <td>0</td>\n",
       "      <td>0</td>\n",
       "      <td>1</td>\n",
       "    </tr>\n",
       "  </tbody>\n",
       "</table>\n",
       "<p>5 rows × 55 columns</p>\n",
       "</div>"
      ],
      "text/plain": [
       "   age         job  marital  education  default  balance  housing  loan  \\\n",
       "0   59      admin.  married          1        0   2343.0        1     0   \n",
       "1   56      admin.  married          1        0     45.0        0     0   \n",
       "2   41  technician  married          1        0   1270.0        1     0   \n",
       "3   55    services  married          1        0   2476.0        1     0   \n",
       "4   54      admin.  married          2        0    184.0        0     0   \n",
       "\n",
       "   contact  day  ... month_jun  month_mar  month_may  month_nov  month_oct  \\\n",
       "0  unknown    5  ...         0          0          1          0          0   \n",
       "1  unknown    5  ...         0          0          1          0          0   \n",
       "2  unknown    5  ...         0          0          1          0          0   \n",
       "3  unknown    5  ...         0          0          1          0          0   \n",
       "4  unknown    5  ...         0          0          1          0          0   \n",
       "\n",
       "  month_sep  poutcome_failure  poutcome_other  poutcome_success  \\\n",
       "0         0                 0               0                 0   \n",
       "1         0                 0               0                 0   \n",
       "2         0                 0               0                 0   \n",
       "3         0                 0               0                 0   \n",
       "4         0                 0               0                 0   \n",
       "\n",
       "   poutcome_unknown  \n",
       "0                 1  \n",
       "1                 1  \n",
       "2                 1  \n",
       "3                 1  \n",
       "4                 1  \n",
       "\n",
       "[5 rows x 55 columns]"
      ]
     },
     "execution_count": 60,
     "metadata": {},
     "output_type": "execute_result"
    }
   ],
   "source": [
    "categorial_features = ['job', 'marital', 'contact', 'month', 'poutcome']\n",
    "df1= pd.get_dummies(df[categorial_features])\n",
    "df = pd.concat([df,df1], axis = 1)\n",
    "\n",
    "df.head()"
   ]
  },
  {
   "cell_type": "markdown",
   "id": "a1ac783c-a8c8-4de3-b341-caa17e6b6931",
   "metadata": {},
   "source": [
    "### Мультиколлинеарность "
   ]
  },
  {
   "cell_type": "markdown",
   "id": "8ef0bd0d-fa2e-4874-855d-1c480aeee916",
   "metadata": {},
   "source": [
    "Теперь давайте оценим мультиколлинеарность и взаимосвязь признаков с целевой переменной.\n",
    "\n",
    "Для этого построим матрицу корреляций. \n",
    "Дополним её тепловой картой, отражающей результат. Для того, чтобы вычислить коэффициенты корреляции, необходимо, чтобы целевая переменная была числовой.\n",
    "\n",
    "Также построим столбчатую диаграмму для ранжированных коэффициентов корреляции."
   ]
  },
  {
   "cell_type": "code",
   "execution_count": 61,
   "id": "1c884c1a",
   "metadata": {},
   "outputs": [
    {
     "data": {
      "image/png": "[encoded data removed]",
      "text/plain": [
       "<Figure size 640x480 with 2 Axes>"
      ]
     },
     "metadata": {},
     "output_type": "display_data"
    }
   ],
   "source": [
    "corr = df.corr()\n",
    "\n",
    "#sns.set(rc={'figure.figsize':(10, 10)})\n",
    "\n",
    "ax = sns.heatmap(\n",
    "    corr, \n",
    "    vmin=-1, vmax=1, center=0,\n",
    "    cmap=sns.diverging_palette(20, 220, n=200),\n",
    "    square=True,\n",
    ")"
   ]
  },
  {
   "cell_type": "code",
   "execution_count": 62,
   "id": "c68953d4-e94a-4553-807a-9a91b9013d50",
   "metadata": {},
   "outputs": [
    {
     "data": {
      "text/html": [
       "<div>\n",
       "<style scoped>\n",
       "    .dataframe tbody tr th:only-of-type {\n",
       "        vertical-align: middle;\n",
       "    }\n",
       "\n",
       "    .dataframe tbody tr th {\n",
       "        vertical-align: top;\n",
       "    }\n",
       "\n",
       "    .dataframe thead th {\n",
       "        text-align: right;\n",
       "    }\n",
       "</style>\n",
       "<table border=\"1\" class=\"dataframe\">\n",
       "  <thead>\n",
       "    <tr style=\"text-align: right;\">\n",
       "      <th></th>\n",
       "      <th>index</th>\n",
       "      <th>deposit</th>\n",
       "    </tr>\n",
       "  </thead>\n",
       "  <tbody>\n",
       "    <tr>\n",
       "      <th>11</th>\n",
       "      <td>deposit</td>\n",
       "      <td>1.000000</td>\n",
       "    </tr>\n",
       "    <tr>\n",
       "      <th>7</th>\n",
       "      <td>duration</td>\n",
       "      <td>0.457818</td>\n",
       "    </tr>\n",
       "    <tr>\n",
       "      <th>48</th>\n",
       "      <td>poutcome_success</td>\n",
       "      <td>0.288491</td>\n",
       "    </tr>\n",
       "    <tr>\n",
       "      <th>31</th>\n",
       "      <td>contact_cellular</td>\n",
       "      <td>0.223944</td>\n",
       "    </tr>\n",
       "    <tr>\n",
       "      <th>16</th>\n",
       "      <td>age_5</td>\n",
       "      <td>0.161247</td>\n",
       "    </tr>\n",
       "  </tbody>\n",
       "</table>\n",
       "</div>"
      ],
      "text/plain": [
       "               index   deposit\n",
       "11           deposit  1.000000\n",
       "7           duration  0.457818\n",
       "48  poutcome_success  0.288491\n",
       "31  contact_cellular  0.223944\n",
       "16             age_5  0.161247"
      ]
     },
     "execution_count": 62,
     "metadata": {},
     "output_type": "execute_result"
    }
   ],
   "source": [
    "new_corr = corr['deposit'].reset_index()\n",
    "sort_corr = new_corr.sort_values('deposit', ascending=False)\n",
    "sort_corr.head()"
   ]
  },
  {
   "cell_type": "code",
   "execution_count": 63,
   "id": "9adbbf86-28b1-495a-ac32-ea25d8878392",
   "metadata": {},
   "outputs": [
    {
     "data": {
      "text/plain": [
       "0.5706367170150847"
      ]
     },
     "execution_count": 63,
     "metadata": {},
     "output_type": "execute_result"
    }
   ],
   "source": [
    "df['age'].corr(df['age_1'], method = 'pearson') #  kendall spearman\n",
    "df['age'].corr(df['age_2'], method = 'pearson') #  kendall spearman\n",
    "df['age'].corr(df['age_3'], method = 'pearson') #  kendall spearman\n",
    "df['age'].corr(df['age_4'], method = 'pearson') #  kendall spearman\n",
    "df['age'].corr(df['age_5'], method = 'pearson') #  kendall spearman"
   ]
  },
  {
   "cell_type": "code",
   "execution_count": 64,
   "id": "f8c5e8f7-f8f5-40b7-813a-67a55bfca311",
   "metadata": {},
   "outputs": [
    {
     "data": {
      "image/png": "[encoded data removed]",
      "text/plain": [
       "<Figure size 640x480 with 1 Axes>"
      ]
     },
     "metadata": {},
     "output_type": "display_data"
    }
   ],
   "source": [
    "corr[\"deposit\"].apply(lambda x: abs(x)).sort_values()[-5:-1].plot.barh()\n",
    "plt.title(\"Correlation with deposit\", fontsize = 16)\n",
    "plt.show()"
   ]
  },
  {
   "cell_type": "markdown",
   "id": "ed2197be-09d5-445f-9317-5d815a2ab8cd",
   "metadata": {},
   "source": [
    "**Теперь  определим целевую переменную и предикторы, а также разделим выборку на обучающую и тестовую.**\n",
    "\n",
    "При разбиении зададим параметр random_state = 42, а размер тестовой выборки возьмем за 0.33, и добавим аргумент, определяющий сохранение соотношений целевого признака."
   ]
  },
  {
   "cell_type": "code",
   "execution_count": 65,
   "id": "181c7b3e-7f70-4623-aa23-16bdca032669",
   "metadata": {},
   "outputs": [],
   "source": [
    "df = df.drop(['job', 'marital', 'contact', 'month', 'poutcome'], axis=1)"
   ]
  },
  {
   "cell_type": "code",
   "execution_count": 66,
   "id": "79f3e432",
   "metadata": {},
   "outputs": [],
   "source": [
    "X = df.drop(['deposit'], axis=1)\n",
    "y = df['deposit']\n",
    " \n",
    "X_train, X_test, y_train, y_test = train_test_split(X, y, stratify=y, random_state = 42, test_size = 0.33)"
   ]
  },
  {
   "cell_type": "markdown",
   "id": "c0b3973f-c4ae-4926-89e6-52f30f5c99ad",
   "metadata": {},
   "source": [
    "Каким получился размер тестовой выборки?\n",
    "\n",
    "Каково среднее значение целевой переменной на тестовой выборке?"
   ]
  },
  {
   "cell_type": "code",
   "execution_count": 67,
   "id": "5e6b2e28-6832-474a-ad25-48950ee713c0",
   "metadata": {},
   "outputs": [
    {
     "name": "stdout",
     "output_type": "stream",
     "text": [
      "(3335,)\n",
      "0.46326836581709147\n"
     ]
    }
   ],
   "source": [
    "print(y_test.shape)\n",
    "print(y_test.mean())"
   ]
  },
  {
   "cell_type": "markdown",
   "id": "493a5e47-0e01-4fc6-b46f-49aec551a412",
   "metadata": {},
   "source": [
    "**На данный момент у нас достаточно много признаков: скорее всего, не все из них будут важны. Давайте оставим лишь те, которые сильнее всего связаны с целевой переменной и точно будут вносить вклад в повышение качества модели.**\n",
    "\n",
    "С помощью SelectKBest отберем 15 признаков, наилучшим образом подходящих для использования в задаче. Отбор реализуем по обучающей выборке, используя параметр `score_func = f_classif`.\n",
    "\n",
    "На данном этапе вам необходимо оставить только те признаки, которые содержат лишь числовые значения."
   ]
  },
  {
   "cell_type": "code",
   "execution_count": 68,
   "id": "0f6e03e0",
   "metadata": {},
   "outputs": [
    {
     "data": {
      "text/plain": [
       "['balance',\n",
       " 'housing',\n",
       " 'duration',\n",
       " 'campaign',\n",
       " 'pdays',\n",
       " 'previous',\n",
       " 'age_5',\n",
       " 'contact_cellular',\n",
       " 'contact_unknown',\n",
       " 'month_mar',\n",
       " 'month_may',\n",
       " 'month_oct',\n",
       " 'month_sep',\n",
       " 'poutcome_success',\n",
       " 'poutcome_unknown']"
      ]
     },
     "execution_count": 68,
     "metadata": {},
     "output_type": "execute_result"
    }
   ],
   "source": [
    "from sklearn.feature_selection import SelectKBest, f_classif\n",
    "select_k_best_classifier = SelectKBest(score_func=f_classif, k=15).fit(X_train, y_train)\n",
    "select_k_best_classifier.get_support()\n",
    "feature_names = list(X_train.columns.values)\n",
    "mask = select_k_best_classifier.get_support()\n",
    "new_features = []\n",
    "\n",
    "for bool, feature in zip(mask, feature_names):\n",
    "    if bool:\n",
    "        new_features.append(feature)\n",
    "new_features"
   ]
  },
  {
   "cell_type": "markdown",
   "id": "60132ef3",
   "metadata": {},
   "source": [
    "### Нормализация"
   ]
  },
  {
   "cell_type": "markdown",
   "id": "94a877f4-71b9-4e5d-912d-7249990479d3",
   "metadata": {},
   "source": [
    "Теперь данные необходимо нормализовать.\n",
    "\n",
    "Есть разные варианты нормализации, но мы будем использовать min-max-нормализацию.\n",
    "\n",
    "Нормализация требуется для предикторов, а не для целевой переменной.\n",
    "\n",
    "Нормализуем предикторы в обучающей и тестовой выборках."
   ]
  },
  {
   "cell_type": "code",
   "execution_count": 70,
   "id": "e91b06f3",
   "metadata": {},
   "outputs": [],
   "source": [
    "df = df[['balance', 'housing', 'duration', 'campaign', 'pdays', \n",
    "         'previous', 'age_5', 'contact_cellular', 'contact_unknown',\n",
    "         'month_mar', 'month_may', 'month_oct', 'month_sep', 'poutcome_success', 'poutcome_unknown', 'deposit']]\n",
    "\n",
    "X = df.drop(['deposit'], axis=1)\n",
    "y = df['deposit']\n",
    " \n",
    "X_train, X_test, y_train, y_test = train_test_split(X, y, stratify=y, random_state = 42, test_size = 0.33)"
   ]
  },
  {
   "cell_type": "code",
   "execution_count": 71,
   "id": "4e13675b-7c56-4ef9-b5d5-ab9abd43cf4a",
   "metadata": {},
   "outputs": [
    {
     "name": "stdout",
     "output_type": "stream",
     "text": [
      "0.46823674223097866\n"
     ]
    }
   ],
   "source": [
    "scaler = preprocessing.MinMaxScaler()\n",
    "scaler.fit(X_train)\n",
    "X_train_scaled = scaler.transform(X_train)\n",
    "X_test_scaled = scaler.transform(X_test)\n",
    "\n",
    "print(X_test_scaled[:, 0].mean())  # для признака balance"
   ]
  },
  {
   "cell_type": "code",
   "execution_count": 72,
   "id": "b39dfdfc-e41f-4bc5-8d01-a5f4d7ebfc5b",
   "metadata": {},
   "outputs": [
    {
     "data": {
      "text/plain": [
       "3335"
      ]
     },
     "execution_count": 72,
     "metadata": {},
     "output_type": "execute_result"
    }
   ],
   "source": [
    "len(X_test_scaled)"
   ]
  },
  {
   "cell_type": "code",
   "execution_count": 73,
   "id": "22bbd5ea-e021-4d95-977c-0453efc171a6",
   "metadata": {},
   "outputs": [
    {
     "data": {
      "text/html": [
       "<div>\n",
       "<style scoped>\n",
       "    .dataframe tbody tr th:only-of-type {\n",
       "        vertical-align: middle;\n",
       "    }\n",
       "\n",
       "    .dataframe tbody tr th {\n",
       "        vertical-align: top;\n",
       "    }\n",
       "\n",
       "    .dataframe thead th {\n",
       "        text-align: right;\n",
       "    }\n",
       "</style>\n",
       "<table border=\"1\" class=\"dataframe\">\n",
       "  <thead>\n",
       "    <tr style=\"text-align: right;\">\n",
       "      <th></th>\n",
       "      <th>balance</th>\n",
       "      <th>housing</th>\n",
       "      <th>duration</th>\n",
       "      <th>campaign</th>\n",
       "      <th>pdays</th>\n",
       "      <th>previous</th>\n",
       "      <th>age_5</th>\n",
       "      <th>contact_cellular</th>\n",
       "      <th>contact_unknown</th>\n",
       "      <th>month_mar</th>\n",
       "      <th>month_may</th>\n",
       "      <th>month_oct</th>\n",
       "      <th>month_sep</th>\n",
       "      <th>poutcome_success</th>\n",
       "      <th>poutcome_unknown</th>\n",
       "      <th>deposit</th>\n",
       "    </tr>\n",
       "  </thead>\n",
       "  <tbody>\n",
       "    <tr>\n",
       "      <th>0</th>\n",
       "      <td>2343.0</td>\n",
       "      <td>1</td>\n",
       "      <td>1042</td>\n",
       "      <td>1</td>\n",
       "      <td>-1</td>\n",
       "      <td>0</td>\n",
       "      <td>0</td>\n",
       "      <td>0</td>\n",
       "      <td>1</td>\n",
       "      <td>0</td>\n",
       "      <td>1</td>\n",
       "      <td>0</td>\n",
       "      <td>0</td>\n",
       "      <td>0</td>\n",
       "      <td>1</td>\n",
       "      <td>1</td>\n",
       "    </tr>\n",
       "    <tr>\n",
       "      <th>1</th>\n",
       "      <td>45.0</td>\n",
       "      <td>0</td>\n",
       "      <td>1467</td>\n",
       "      <td>1</td>\n",
       "      <td>-1</td>\n",
       "      <td>0</td>\n",
       "      <td>0</td>\n",
       "      <td>0</td>\n",
       "      <td>1</td>\n",
       "      <td>0</td>\n",
       "      <td>1</td>\n",
       "      <td>0</td>\n",
       "      <td>0</td>\n",
       "      <td>0</td>\n",
       "      <td>1</td>\n",
       "      <td>1</td>\n",
       "    </tr>\n",
       "    <tr>\n",
       "      <th>2</th>\n",
       "      <td>1270.0</td>\n",
       "      <td>1</td>\n",
       "      <td>1389</td>\n",
       "      <td>1</td>\n",
       "      <td>-1</td>\n",
       "      <td>0</td>\n",
       "      <td>0</td>\n",
       "      <td>0</td>\n",
       "      <td>1</td>\n",
       "      <td>0</td>\n",
       "      <td>1</td>\n",
       "      <td>0</td>\n",
       "      <td>0</td>\n",
       "      <td>0</td>\n",
       "      <td>1</td>\n",
       "      <td>1</td>\n",
       "    </tr>\n",
       "    <tr>\n",
       "      <th>3</th>\n",
       "      <td>2476.0</td>\n",
       "      <td>1</td>\n",
       "      <td>579</td>\n",
       "      <td>1</td>\n",
       "      <td>-1</td>\n",
       "      <td>0</td>\n",
       "      <td>0</td>\n",
       "      <td>0</td>\n",
       "      <td>1</td>\n",
       "      <td>0</td>\n",
       "      <td>1</td>\n",
       "      <td>0</td>\n",
       "      <td>0</td>\n",
       "      <td>0</td>\n",
       "      <td>1</td>\n",
       "      <td>1</td>\n",
       "    </tr>\n",
       "    <tr>\n",
       "      <th>4</th>\n",
       "      <td>184.0</td>\n",
       "      <td>0</td>\n",
       "      <td>673</td>\n",
       "      <td>2</td>\n",
       "      <td>-1</td>\n",
       "      <td>0</td>\n",
       "      <td>0</td>\n",
       "      <td>0</td>\n",
       "      <td>1</td>\n",
       "      <td>0</td>\n",
       "      <td>1</td>\n",
       "      <td>0</td>\n",
       "      <td>0</td>\n",
       "      <td>0</td>\n",
       "      <td>1</td>\n",
       "      <td>1</td>\n",
       "    </tr>\n",
       "  </tbody>\n",
       "</table>\n",
       "</div>"
      ],
      "text/plain": [
       "   balance  housing  duration  campaign  pdays  previous  age_5  \\\n",
       "0   2343.0        1      1042         1     -1         0      0   \n",
       "1     45.0        0      1467         1     -1         0      0   \n",
       "2   1270.0        1      1389         1     -1         0      0   \n",
       "3   2476.0        1       579         1     -1         0      0   \n",
       "4    184.0        0       673         2     -1         0      0   \n",
       "\n",
       "   contact_cellular  contact_unknown  month_mar  month_may  month_oct  \\\n",
       "0                 0                1          0          1          0   \n",
       "1                 0                1          0          1          0   \n",
       "2                 0                1          0          1          0   \n",
       "3                 0                1          0          1          0   \n",
       "4                 0                1          0          1          0   \n",
       "\n",
       "   month_sep  poutcome_success  poutcome_unknown  deposit  \n",
       "0          0                 0                 1        1  \n",
       "1          0                 0                 1        1  \n",
       "2          0                 0                 1        1  \n",
       "3          0                 0                 1        1  \n",
       "4          0                 0                 1        1  "
      ]
     },
     "execution_count": 73,
     "metadata": {},
     "output_type": "execute_result"
    }
   ],
   "source": [
    "df.head()"
   ]
  },
  {
   "cell_type": "markdown",
   "id": "0894c632",
   "metadata": {},
   "source": [
    "# Часть 4: Решение задачи классификации: логистическая регрессия и решающие деревья"
   ]
  },
  {
   "cell_type": "markdown",
   "id": "1d148f14-8cb8-4b78-9b49-dc8636c7f787",
   "metadata": {},
   "source": [
    "### Логистическая регрессия"
   ]
  },
  {
   "cell_type": "markdown",
   "id": "376bfa1c-b461-4a64-a4cd-1d1aa842a114",
   "metadata": {},
   "source": [
    "Для начала реализуем самый простой алгоритм, который нам известен — логистическую регрессию. В качестве алгоритма оптимизации будем использовать `'sag'`, в качестве значения параметра `random_state` возьмём число `42` и запустим `1000` итераций.\n",
    "\n",
    "Оценим качество модели на тестовой выборке."
   ]
  },
  {
   "cell_type": "markdown",
   "id": "aa1c259b-93f5-42eb-998d-15f356880a67",
   "metadata": {},
   "source": [
    "Для получившейся модели вычислите значение accuracy на тестовой выборке"
   ]
  },
  {
   "cell_type": "code",
   "execution_count": 74,
   "id": "8acc0166",
   "metadata": {},
   "outputs": [
    {
     "name": "stdout",
     "output_type": "stream",
     "text": [
      "              precision    recall  f1-score   support\n",
      "\n",
      "           0       0.81      0.88      0.84      3634\n",
      "           1       0.84      0.76      0.80      3136\n",
      "\n",
      "    accuracy                           0.82      6770\n",
      "   macro avg       0.82      0.82      0.82      6770\n",
      "weighted avg       0.82      0.82      0.82      6770\n",
      "\n",
      "              precision    recall  f1-score   support\n",
      "\n",
      "           0       0.79      0.87      0.83      1790\n",
      "           1       0.83      0.74      0.78      1545\n",
      "\n",
      "    accuracy                           0.81      3335\n",
      "   macro avg       0.81      0.80      0.80      3335\n",
      "weighted avg       0.81      0.81      0.80      3335\n",
      "\n",
      "Test accuracy: 0.81\n"
     ]
    }
   ],
   "source": [
    "log_reg = linear_model.LogisticRegression(\n",
    "    solver='sag', random_state=42, max_iter=1000 )\n",
    "\n",
    "log_reg.fit(X_train_scaled, y_train)\n",
    "y_train_pred = log_reg.predict(X_train_scaled)\n",
    "\n",
    "print(metrics.classification_report(y_train, y_train_pred))\n",
    "\n",
    "y_test_pred = log_reg.predict(X_test_scaled)\n",
    "\n",
    "print(metrics.classification_report(y_test, y_test_pred))\n",
    "print('Test accuracy: {:.2f}'.format(metrics.accuracy_score(y_test, y_test_pred)))"
   ]
  },
  {
   "cell_type": "markdown",
   "id": "29b7e0ba",
   "metadata": {},
   "source": [
    "### Решающие деревья"
   ]
  },
  {
   "cell_type": "markdown",
   "id": "91f3fd83-1a35-4a98-af5e-9dc2e0a9881a",
   "metadata": {},
   "source": [
    "Простой алгоритм обучен. Теперь давайте обучим ещё один алгоритм — решающие деревья. В качестве параметров для начала возьмём следующие:\n",
    "\n",
    "- criterion = 'entropy';\n",
    "- random_state = 42.\n",
    "\n",
    "Остальные параметры оставим по умолчанию."
   ]
  },
  {
   "cell_type": "code",
   "execution_count": 75,
   "id": "c91a588b",
   "metadata": {},
   "outputs": [
    {
     "name": "stdout",
     "output_type": "stream",
     "text": [
      "Train: 0.81\n",
      "Test: 0.80\n"
     ]
    }
   ],
   "source": [
    "dt = tree.DecisionTreeClassifier(\n",
    "    criterion='entropy',\n",
    "    random_state=42,\n",
    "    max_depth = 6\n",
    ")\n",
    "dt.fit(X_train_scaled, y_train)\n",
    "y_train_pred = dt.predict(X_train_scaled)\n",
    "\n",
    "print('Train: {:.2f}'.format(metrics.accuracy_score(y_train, y_train_pred)))\n",
    "\n",
    "y_test_pred = dt.predict(X_test_scaled)\n",
    "\n",
    "print('Test: {:.2f}'.format(metrics.accuracy_score(y_test, y_test_pred)))"
   ]
  },
  {
   "cell_type": "markdown",
   "id": "fe823c18",
   "metadata": {},
   "source": [
    "### Оптимизация"
   ]
  },
  {
   "cell_type": "markdown",
   "id": "ba88a8d1-39ce-4cae-8f18-b6ab5c17a6c6",
   "metadata": {},
   "source": [
    "Разумеется, у каждой модели может быть множество параметров. Перебирать их вручную, чтобы получить наилучшее качество, долго и трудозатратно. Поэтому мы можем использовать оптимизацию: можно перебрать сразу большое количество комбинаций различных параметров и выбрать тот вариант, при котором модель будет давать наиболее точный прогноз.\n",
    "\n",
    "Давайте реализуем оптимизацию гиперпараметров с помощью `GridSearch`, перебрав следующие параметры:\n",
    "\n",
    "`'min_samples_split'`: [2, 5, 7, 10];\n",
    "`'max_depth'`:[3,5,7]."
   ]
  },
  {
   "cell_type": "code",
   "execution_count": 76,
   "id": "63574943",
   "metadata": {},
   "outputs": [
    {
     "name": "stdout",
     "output_type": "stream",
     "text": [
      "Наилучшие значения параметров: {'max_depth': 7, 'min_samples_split': 5}\n",
      "f1_score на тестовом наборе: 0.78\n"
     ]
    }
   ],
   "source": [
    "from sklearn.model_selection import GridSearchCV\n",
    "parameters =  {'min_samples_split': [2, 5, 7, 10], 'max_depth':[3,5,7]}\n",
    "model_cv = GridSearchCV(tree.DecisionTreeClassifier(), parameters,\n",
    " cv=3, scoring=('f1'), return_train_score=True)\n",
    "model_cv.fit(X_train_scaled, y_train)\n",
    "\n",
    "print(\"Наилучшие значения параметров: {}\".format(model_cv.best_params_))\n",
    "\n",
    "y_test_pred = model_cv.predict(X_test_scaled)\n",
    "\n",
    "print('f1_score на тестовом наборе: {:.2f}'.format(metrics.f1_score(y_test, y_test_pred)))"
   ]
  },
  {
   "cell_type": "code",
   "execution_count": 77,
   "id": "3c397448-6e98-420d-bee7-1950c368f006",
   "metadata": {},
   "outputs": [
    {
     "name": "stdout",
     "output_type": "stream",
     "text": [
      "              precision    recall  f1-score   support\n",
      "\n",
      "           0       0.80      0.84      0.82      1790\n",
      "           1       0.80      0.76      0.78      1545\n",
      "\n",
      "    accuracy                           0.80      3335\n",
      "   macro avg       0.80      0.80      0.80      3335\n",
      "weighted avg       0.80      0.80      0.80      3335\n",
      "\n"
     ]
    }
   ],
   "source": [
    "print(metrics.classification_report(y_test, y_test_pred))"
   ]
  },
  {
   "cell_type": "markdown",
   "id": "bbc03d8d-7432-4aef-aa7a-1a9fc8653213",
   "metadata": {},
   "source": [
    "**По сути, мы уже решили задачу классификации: отобрали признаки, обучили модель, сделали прогноз и оценили его качество. Однако не будем останавливаться на достигнутом — попробуем более сложные модели и варианты оптимизации**"
   ]
  },
  {
   "cell_type": "markdown",
   "id": "ed0fc831",
   "metadata": {},
   "source": [
    "# Часть 5: Решение задачи классификации: ансамбли моделей и построение прогноза"
   ]
  },
  {
   "cell_type": "markdown",
   "id": "f9e36ff2",
   "metadata": {},
   "source": [
    "### Случайный лес"
   ]
  },
  {
   "cell_type": "markdown",
   "id": "1845d1f6-468f-44ec-98f2-32cd40a8c4d4",
   "metadata": {},
   "source": [
    "Обучим случайный лес со следующими параметрами:\n",
    "\n",
    "- n_estimators = 100;\n",
    "- criterion = 'gini';\n",
    "- min_samples_leaf = 5;\n",
    "- max_depth = 10;\n",
    "- random_state = 42."
   ]
  },
  {
   "cell_type": "code",
   "execution_count": 78,
   "id": "2c9d5007-0e95-4e46-a69f-f3ddf6fe340c",
   "metadata": {},
   "outputs": [
    {
     "name": "stdout",
     "output_type": "stream",
     "text": [
      "Train: 0.85\n",
      "Test accuracy: 0.82\n",
      "\n",
      "Train: 0.84\n",
      "Test recall: 0.82\n"
     ]
    }
   ],
   "source": [
    "rf = ensemble.RandomForestClassifier(\n",
    "    n_estimators=100,\n",
    "    criterion='gini',\n",
    "    min_samples_leaf=5,\n",
    "    max_depth=10,\n",
    "    random_state=42\n",
    ")\n",
    "#Обучаем модель\n",
    "rf.fit(X_train_scaled, y_train)\n",
    "#Выводим значения метрики \n",
    "y_train_pred = rf.predict(X_train_scaled)\n",
    "print('Train: {:.2f}'.format(metrics.accuracy_score(y_train, y_train_pred)))\n",
    "y_test_pred = rf.predict(X_test_scaled)\n",
    "print('Test accuracy: {:.2f}'.format(metrics.accuracy_score(y_test, y_test_pred)))\n",
    "print()\n",
    "print('Train: {:.2f}'.format(metrics.recall_score(y_train, y_train_pred)))\n",
    "print('Test recall: {:.2f}'.format(metrics.recall_score(y_test, y_test_pred)))"
   ]
  },
  {
   "cell_type": "markdown",
   "id": "71d7b13d",
   "metadata": {},
   "source": [
    "### Градиентный бустинг"
   ]
  },
  {
   "cell_type": "markdown",
   "id": "aa286fd7-58ed-4743-8e90-e6c639f1c044",
   "metadata": {},
   "source": [
    "Дата-сайентист не должен останавливаться на одной модели — он должен пробовать все доступные варианты. Поэтому теперь предлагаем вам сравнить полученные результаты с моделью градиентного бустинга. Используйте градиентный бустинг для решения задачи классификации, задав для него следующие параметры:\n",
    "\n",
    "- learning_rate = 0.05;\n",
    "- n_estimators = 300;\n",
    "- min_samples_leaf = 5;\n",
    "- max_depth = 5;\n",
    "- random_state = 42."
   ]
  },
  {
   "cell_type": "code",
   "execution_count": 79,
   "id": "ee025aed-5cf0-46eb-b263-ce1937de1988",
   "metadata": {},
   "outputs": [
    {
     "name": "stdout",
     "output_type": "stream",
     "text": [
      "Train: 0.87\n",
      "Test: 0.81\n"
     ]
    }
   ],
   "source": [
    "gb = ensemble.GradientBoostingClassifier(\n",
    "    learning_rate=0.05,\n",
    "    n_estimators=300,\n",
    "    min_samples_leaf=5,\n",
    "    max_depth=5,\n",
    "    random_state=42\n",
    ")\n",
    "gb.fit(X_train_scaled, y_train)\n",
    "\n",
    "y_train_pred = gb.predict(X_train_scaled)\n",
    "\n",
    "print('Train: {:.2f}'.format(metrics.f1_score(y_train, y_train_pred)))\n",
    "\n",
    "y_test_pred = gb.predict(X_test_scaled)\n",
    "print('Test: {:.2f}'.format(metrics.f1_score(y_test, y_test_pred)))"
   ]
  },
  {
   "cell_type": "markdown",
   "id": "cffea691-aa4f-4bb8-8733-c04c1ae2711f",
   "metadata": {},
   "source": [
    "### Стекинг"
   ]
  },
  {
   "cell_type": "markdown",
   "id": "98de93af-fc5c-4d11-bbdb-db83fe84f7cb",
   "metadata": {},
   "source": [
    "Мы уже попробовали построить разные модели, и теперь пришло время построить ансамбль из моделей разного типа.\n",
    "\n",
    "Используем стекинг, объединив те алгоритмы, которые мы уже использовали ранее: решающие деревья, логистическую регрессию и градиентный бустинг. В качестве метамодели используем модель логистической регрессии.\n",
    "\n",
    "Параметры оставим те же, что были в наших алгоритмах выше."
   ]
  },
  {
   "cell_type": "code",
   "execution_count": 80,
   "id": "09ece778-ac7d-491e-8024-5a1070051b37",
   "metadata": {},
   "outputs": [
    {
     "name": "stdout",
     "output_type": "stream",
     "text": [
      "              precision    recall  f1-score   support\n",
      "\n",
      "           0       0.83      0.84      0.83      1790\n",
      "           1       0.81      0.80      0.80      1545\n",
      "\n",
      "    accuracy                           0.82      3335\n",
      "   macro avg       0.82      0.82      0.82      3335\n",
      "weighted avg       0.82      0.82      0.82      3335\n",
      "\n"
     ]
    }
   ],
   "source": [
    "estimators = [\n",
    "    ('dt', tree.DecisionTreeClassifier(\n",
    "        criterion='entropy',\n",
    "        min_samples_leaf=5,\n",
    "        max_depth=6,\n",
    "        random_state=42\n",
    "        )\n",
    "    ),\n",
    "    ('log_reg', linear_model.LogisticRegression(\n",
    "        solver='sag',\n",
    "        random_state=42 \n",
    "        )\n",
    "    ),\n",
    "    ('gb', ensemble.GradientBoostingClassifier(\n",
    "        learning_rate=0.05,\n",
    "        n_estimators=300,\n",
    "        min_samples_leaf=5,\n",
    "        max_depth=5,\n",
    "        random_state=42\n",
    "        )\n",
    "    )\n",
    "]\n",
    "\n",
    "stack = ensemble.StackingClassifier(\n",
    "    estimators,\n",
    "    final_estimator=linear_model.LogisticRegression(random_state=42)\n",
    ")\n",
    "stack.fit(X_train_scaled, y_train)\n",
    "\n",
    "y_train_pred = stack.predict(X_train_scaled)\n",
    "#print('Train: {:.2f}'.format(metrics.precision(y_train, y_train_pred)))\n",
    "y_test_pred = stack.predict(X_test_scaled)\n",
    "#print('Test: {:.2f}'.format(metrics.precision(y_test, y_test_pred)))\n",
    "\n",
    "print(metrics.classification_report(y_test, y_test_pred))"
   ]
  },
  {
   "cell_type": "markdown",
   "id": "b08718ae",
   "metadata": {},
   "source": [
    "### Отбор признаков"
   ]
  },
  {
   "cell_type": "markdown",
   "id": "0babbb7f-d6de-4ed2-af44-f08d29f995ed",
   "metadata": {},
   "source": [
    "Разумеется, не все признаки одинаково хорошо предсказывают результат маркетинговой кампании. Для того чтобы отобрать наиболее значимые для нас аспекты, на которые надо будет обратить внимание при реализации следующей акции, давайте выберем три признака, дающих наибольший вклад."
   ]
  },
  {
   "cell_type": "code",
   "execution_count": 81,
   "id": "fd8245bd-4ce3-4fc6-8f0f-49d580df8799",
   "metadata": {},
   "outputs": [
    {
     "name": "stdout",
     "output_type": "stream",
     "text": [
      "F1 Train: 0.86\n",
      "F1 Test: 0.81\n"
     ]
    }
   ],
   "source": [
    "estimators = [\n",
    "('dtc', tree.DecisionTreeClassifier(criterion='entropy', random_state=42, max_depth=6)),\n",
    "('rf', ensemble.RandomForestClassifier(\n",
    "    n_estimators=100,\n",
    "    criterion='gini',\n",
    "    min_samples_leaf=5,\n",
    "    max_depth=10,\n",
    "    random_state=42\n",
    ")),\n",
    "('gb', ensemble.GradientBoostingClassifier(min_samples_leaf=5, learning_rate=0.05, n_estimators=300, max_depth=5, random_state=42))\n",
    "]\n",
    "#Создаем объект класса стекинг\n",
    "reg = ensemble.StackingClassifier(\n",
    "    estimators=estimators,\n",
    "    final_estimator=linear_model.LogisticRegression(random_state=42))\n",
    "\n",
    "#Обучаем модель\n",
    "reg.fit(X_train_scaled, y_train)\n",
    "\n",
    "# Выводим значения метрики\n",
    "y_train_pred = reg.predict(X_train_scaled)\n",
    "print('F1 Train: {:.2f}'.format(metrics.f1_score(y_train, y_train_pred)))\n",
    "y_test_pred = reg.predict(X_test_scaled)\n",
    "print('F1 Test: {:.2f}'.format(metrics.f1_score(y_test, y_test_pred)))"
   ]
  },
  {
   "cell_type": "markdown",
   "id": "8471bfab-9b8d-47cd-9e2f-7c0154728c30",
   "metadata": {},
   "source": [
    "**Оценим, какие признаки демонстрируют наибольшую  важность в модели градиентного бустинга**"
   ]
  },
  {
   "cell_type": "code",
   "execution_count": 82,
   "id": "0bd600b4-8188-4b84-8c64-e3cc1d4e06b5",
   "metadata": {},
   "outputs": [
    {
     "name": "stdout",
     "output_type": "stream",
     "text": [
      "Feature: 0, Score: 0.05965\n",
      "Feature: 1, Score: 0.04567\n",
      "Feature: 2, Score: 0.50975\n",
      "Feature: 3, Score: 0.01852\n",
      "Feature: 4, Score: 0.05377\n",
      "Feature: 5, Score: 0.00739\n",
      "Feature: 6, Score: 0.02703\n",
      "Feature: 7, Score: 0.00454\n",
      "Feature: 8, Score: 0.07949\n",
      "Feature: 9, Score: 0.02734\n",
      "Feature: 10, Score: 0.01448\n",
      "Feature: 11, Score: 0.01926\n",
      "Feature: 12, Score: 0.01275\n",
      "Feature: 13, Score: 0.12010\n",
      "Feature: 14, Score: 0.00027\n"
     ]
    },
    {
     "data": {
      "image/png": "[encoded data removed]",
      "text/plain": [
       "<Figure size 640x480 with 1 Axes>"
      ]
     },
     "metadata": {},
     "output_type": "display_data"
    }
   ],
   "source": [
    "import matplotlib.pyplot  as plt\n",
    "importance = gb.feature_importances_\n",
    "for i,v in enumerate(importance):\n",
    "  print('Feature: %0d, Score: %.5f' % (i,v))\n",
    "plt.bar([x for x in range(len(importance))], importance)\n",
    "plt.show()"
   ]
  },
  {
   "cell_type": "markdown",
   "id": "96974dda",
   "metadata": {},
   "source": [
    "### Оптимизация гиперпараметров"
   ]
  },
  {
   "cell_type": "markdown",
   "id": "655facd3-d511-4cd7-9bed-88a842d39a32",
   "metadata": {},
   "source": [
    "Ранее мы уже рассматривали оптимизацию гиперпараметров при помощи `GridSearch`. Однако мы знаем, что это не единственный способ. Один из более продвинутых вариантов оптимизации гиперпараметров — фреймворк Optuna. Применим его для оптимизации гиперпараметров. Для перебора возьмем случайный лес и следующие параметры:\n",
    "\n",
    "n_estimators = trial.suggest_int('n_estimators', 100, 200, 1);\n",
    "max_depth = trial.suggest_int('max_depth', 10, 30, 1);\n",
    "min_samples_leaf = trial.suggest_int('min_samples_leaf', 2, 10, 1)."
   ]
  },
  {
   "cell_type": "code",
   "execution_count": null,
   "id": "ec916a10-534a-4c11-9e6f-72271956bb4f",
   "metadata": {},
   "outputs": [],
   "source": [
    "#!pip install optuna"
   ]
  },
  {
   "cell_type": "code",
   "execution_count": 83,
   "id": "a53aa5fc-220a-4be7-97fa-2404a4a03fb3",
   "metadata": {},
   "outputs": [
    {
     "name": "stderr",
     "output_type": "stream",
     "text": [
      "\u001b[32m[I 2022-11-19 16:40:49,432]\u001b[0m A new study created in memory with name: no-name-760f752b-77ec-448c-be05-c5a2e12368ce\u001b[0m\n",
      "\u001b[32m[I 2022-11-19 16:40:50,044]\u001b[0m Trial 0 finished with value: 0.8398486759142497 and parameters: {'n_estimators': 185, 'max_depth': 11, 'min_samples_leaf': 7}. Best is trial 0 with value: 0.8398486759142497.\u001b[0m\n",
      "\u001b[32m[I 2022-11-19 16:40:50,629]\u001b[0m Trial 1 finished with value: 0.8438287153652394 and parameters: {'n_estimators': 175, 'max_depth': 30, 'min_samples_leaf': 9}. Best is trial 0 with value: 0.8398486759142497.\u001b[0m\n",
      "\u001b[32m[I 2022-11-19 16:40:51,560]\u001b[0m Trial 2 finished with value: 0.917717528373266 and parameters: {'n_estimators': 197, 'max_depth': 24, 'min_samples_leaf': 2}. Best is trial 0 with value: 0.8398486759142497.\u001b[0m\n",
      "\u001b[32m[I 2022-11-19 16:40:52,185]\u001b[0m Trial 3 finished with value: 0.8606801441780286 and parameters: {'n_estimators': 166, 'max_depth': 17, 'min_samples_leaf': 5}. Best is trial 0 with value: 0.8398486759142497.\u001b[0m\n",
      "\u001b[32m[I 2022-11-19 16:40:52,839]\u001b[0m Trial 4 finished with value: 0.8375019663363221 and parameters: {'n_estimators': 197, 'max_depth': 14, 'min_samples_leaf': 10}. Best is trial 4 with value: 0.8375019663363221.\u001b[0m\n",
      "\u001b[32m[I 2022-11-19 16:40:53,270]\u001b[0m Trial 5 finished with value: 0.8517350157728706 and parameters: {'n_estimators': 116, 'max_depth': 23, 'min_samples_leaf': 7}. Best is trial 4 with value: 0.8375019663363221.\u001b[0m\n",
      "\u001b[32m[I 2022-11-19 16:40:53,863]\u001b[0m Trial 6 finished with value: 0.8490952006294257 and parameters: {'n_estimators': 169, 'max_depth': 16, 'min_samples_leaf': 7}. Best is trial 4 with value: 0.8375019663363221.\u001b[0m\n",
      "\u001b[32m[I 2022-11-19 16:40:54,233]\u001b[0m Trial 7 finished with value: 0.8549329123914758 and parameters: {'n_estimators': 102, 'max_depth': 20, 'min_samples_leaf': 6}. Best is trial 4 with value: 0.8375019663363221.\u001b[0m\n",
      "\u001b[32m[I 2022-11-19 16:40:54,917]\u001b[0m Trial 8 finished with value: 0.8494572911750825 and parameters: {'n_estimators': 183, 'max_depth': 14, 'min_samples_leaf': 6}. Best is trial 4 with value: 0.8375019663363221.\u001b[0m\n",
      "\u001b[32m[I 2022-11-19 16:40:55,382]\u001b[0m Trial 9 finished with value: 0.860831234256927 and parameters: {'n_estimators': 111, 'max_depth': 27, 'min_samples_leaf': 5}. Best is trial 4 with value: 0.8375019663363221.\u001b[0m\n",
      "\u001b[32m[I 2022-11-19 16:40:55,825]\u001b[0m Trial 10 finished with value: 0.8308671439936356 and parameters: {'n_estimators': 140, 'max_depth': 10, 'min_samples_leaf': 10}. Best is trial 10 with value: 0.8308671439936356.\u001b[0m\n",
      "\u001b[32m[I 2022-11-19 16:40:56,331]\u001b[0m Trial 11 finished with value: 0.8347250669607689 and parameters: {'n_estimators': 143, 'max_depth': 11, 'min_samples_leaf': 10}. Best is trial 10 with value: 0.8308671439936356.\u001b[0m\n",
      "\u001b[32m[I 2022-11-19 16:40:56,818]\u001b[0m Trial 12 finished with value: 0.8359436797975005 and parameters: {'n_estimators': 141, 'max_depth': 12, 'min_samples_leaf': 10}. Best is trial 10 with value: 0.8308671439936356.\u001b[0m\n",
      "\u001b[32m[I 2022-11-19 16:40:57,285]\u001b[0m Trial 13 finished with value: 0.8325647956749881 and parameters: {'n_estimators': 139, 'max_depth': 10, 'min_samples_leaf': 9}. Best is trial 10 with value: 0.8308671439936356.\u001b[0m\n",
      "\u001b[32m[I 2022-11-19 16:40:57,727]\u001b[0m Trial 14 finished with value: 0.8310531339484569 and parameters: {'n_estimators': 131, 'max_depth': 10, 'min_samples_leaf': 9}. Best is trial 10 with value: 0.8308671439936356.\u001b[0m\n",
      "\u001b[32m[I 2022-11-19 16:40:58,195]\u001b[0m Trial 15 finished with value: 0.8479522987603955 and parameters: {'n_estimators': 126, 'max_depth': 18, 'min_samples_leaf': 8}. Best is trial 10 with value: 0.8308671439936356.\u001b[0m\n",
      "\u001b[32m[I 2022-11-19 16:40:58,874]\u001b[0m Trial 16 finished with value: 0.8758686039166139 and parameters: {'n_estimators': 157, 'max_depth': 14, 'min_samples_leaf': 2}. Best is trial 10 with value: 0.8308671439936356.\u001b[0m\n",
      "\u001b[32m[I 2022-11-19 16:40:59,311]\u001b[0m Trial 17 finished with value: 0.8312390647367582 and parameters: {'n_estimators': 130, 'max_depth': 10, 'min_samples_leaf': 9}. Best is trial 10 with value: 0.8308671439936356.\u001b[0m\n",
      "\u001b[32m[I 2022-11-19 16:40:59,853]\u001b[0m Trial 18 finished with value: 0.8497652582159624 and parameters: {'n_estimators': 154, 'max_depth': 20, 'min_samples_leaf': 8}. Best is trial 10 with value: 0.8308671439936356.\u001b[0m\n",
      "\u001b[32m[I 2022-11-19 16:41:00,320]\u001b[0m Trial 19 finished with value: 0.8537624230951254 and parameters: {'n_estimators': 128, 'max_depth': 13, 'min_samples_leaf': 4}. Best is trial 10 with value: 0.8308671439936356.\u001b[0m\n"
     ]
    },
    {
     "name": "stdout",
     "output_type": "stream",
     "text": [
      "accuracy на тестовом наборе: 0.822\n",
      "f1_score на тестовом наборе: 0.809\n"
     ]
    }
   ],
   "source": [
    "import optuna\n",
    "\n",
    "def optuna_rf(trial):\n",
    "  n_estimators = trial.suggest_int('n_estimators', 100, 200, 1)\n",
    "  max_depth = trial.suggest_int('max_depth', 10, 30, 1)\n",
    "  min_samples_leaf = trial.suggest_int('min_samples_leaf', 2, 10, 1)\n",
    "\n",
    "  model = ensemble.RandomForestClassifier(n_estimators=n_estimators,\n",
    "                                          max_depth=max_depth,\n",
    "                                          min_samples_leaf=min_samples_leaf,\n",
    "                                          random_state=42)\n",
    "  model.fit(X_train_scaled, y_train)\n",
    "  score = metrics.f1_score(y_train, model.predict(X_train_scaled))\n",
    "\n",
    "  return score\n",
    "\n",
    "study = optuna.create_study()\n",
    "\n",
    "study.optimize(optuna_rf, n_trials=20)\n",
    "model = ensemble.RandomForestClassifier(**study.best_params,random_state=42, )\n",
    "model.fit(X_train_scaled, y_train)\n",
    "y_train_pred = model.predict(X_train_scaled)\n",
    "\n",
    "print(\"accuracy на тестовом наборе: {:.3f}\".format(model.score(X_test_scaled, y_test)))\n",
    "y_test_pred = model.predict(X_test_scaled)\n",
    "print('f1_score на тестовом наборе: {:.3f}'.format(metrics.f1_score(y_test, y_test_pred)))\n",
    "\n"
   ]
  },
  {
   "cell_type": "code",
   "execution_count": 85,
   "id": "1df1bc58-b78d-40a4-9ec0-488960062172",
   "metadata": {},
   "outputs": [
    {
     "name": "stderr",
     "output_type": "stream",
     "text": [
      "\u001b[32m[I 2022-11-19 22:30:24,834]\u001b[0m A new study created in memory with name: RandomForestClassifier\u001b[0m\n",
      "\u001b[32m[I 2022-11-19 22:30:25,338]\u001b[0m Trial 0 finished with value: 0.8495769351300533 and parameters: {'n_estimators': 129, 'max_depth': 29, 'min_samples_leaf': 8}. Best is trial 0 with value: 0.8495769351300533.\u001b[0m\n",
      "\u001b[32m[I 2022-11-19 22:30:26,017]\u001b[0m Trial 1 finished with value: 0.8513980521520578 and parameters: {'n_estimators': 194, 'max_depth': 29, 'min_samples_leaf': 7}. Best is trial 1 with value: 0.8513980521520578.\u001b[0m\n",
      "\u001b[32m[I 2022-11-19 22:30:26,742]\u001b[0m Trial 2 finished with value: 0.8476925500078752 and parameters: {'n_estimators': 188, 'max_depth': 17, 'min_samples_leaf': 7}. Best is trial 1 with value: 0.8513980521520578.\u001b[0m\n",
      "\u001b[32m[I 2022-11-19 22:30:27,390]\u001b[0m Trial 3 finished with value: 0.8866238042966913 and parameters: {'n_estimators': 150, 'max_depth': 20, 'min_samples_leaf': 3}. Best is trial 3 with value: 0.8866238042966913.\u001b[0m\n",
      "\u001b[32m[I 2022-11-19 22:30:28,066]\u001b[0m Trial 4 finished with value: 0.8884711779448621 and parameters: {'n_estimators': 166, 'max_depth': 30, 'min_samples_leaf': 3}. Best is trial 4 with value: 0.8884711779448621.\u001b[0m\n",
      "\u001b[32m[I 2022-11-19 22:30:28,499]\u001b[0m Trial 5 finished with value: 0.871859296482412 and parameters: {'n_estimators': 103, 'max_depth': 25, 'min_samples_leaf': 4}. Best is trial 4 with value: 0.8884711779448621.\u001b[0m\n",
      "\u001b[32m[I 2022-11-19 22:30:29,066]\u001b[0m Trial 6 finished with value: 0.8478260869565217 and parameters: {'n_estimators': 143, 'max_depth': 15, 'min_samples_leaf': 7}. Best is trial 4 with value: 0.8884711779448621.\u001b[0m\n",
      "\u001b[32m[I 2022-11-19 22:30:29,620]\u001b[0m Trial 7 finished with value: 0.8371946414499606 and parameters: {'n_estimators': 170, 'max_depth': 10, 'min_samples_leaf': 7}. Best is trial 4 with value: 0.8884711779448621.\u001b[0m\n",
      "\u001b[32m[I 2022-11-19 22:30:30,317]\u001b[0m Trial 8 finished with value: 0.8472440944881889 and parameters: {'n_estimators': 191, 'max_depth': 12, 'min_samples_leaf': 6}. Best is trial 4 with value: 0.8884711779448621.\u001b[0m\n",
      "\u001b[32m[I 2022-11-19 22:30:30,961]\u001b[0m Trial 9 finished with value: 0.8636006906294145 and parameters: {'n_estimators': 173, 'max_depth': 21, 'min_samples_leaf': 5}. Best is trial 4 with value: 0.8884711779448621.\u001b[0m\n",
      "\u001b[32m[I 2022-11-19 22:30:31,407]\u001b[0m Trial 10 finished with value: 0.8399306103138305 and parameters: {'n_estimators': 123, 'max_depth': 24, 'min_samples_leaf': 10}. Best is trial 4 with value: 0.8884711779448621.\u001b[0m\n",
      "\u001b[32m[I 2022-11-19 22:30:32,103]\u001b[0m Trial 11 finished with value: 0.9115002366303834 and parameters: {'n_estimators': 152, 'max_depth': 21, 'min_samples_leaf': 2}. Best is trial 11 with value: 0.9115002366303834.\u001b[0m\n",
      "\u001b[32m[I 2022-11-19 22:30:32,835]\u001b[0m Trial 12 finished with value: 0.9170209415840025 and parameters: {'n_estimators': 166, 'max_depth': 25, 'min_samples_leaf': 2}. Best is trial 12 with value: 0.9170209415840025.\u001b[0m\n",
      "\u001b[32m[I 2022-11-19 22:30:33,579]\u001b[0m Trial 13 finished with value: 0.9176507636592663 and parameters: {'n_estimators': 160, 'max_depth': 25, 'min_samples_leaf': 2}. Best is trial 13 with value: 0.9176507636592663.\u001b[0m\n",
      "\u001b[32m[I 2022-11-19 22:30:34,288]\u001b[0m Trial 14 finished with value: 0.9172837561052465 and parameters: {'n_estimators': 161, 'max_depth': 25, 'min_samples_leaf': 2}. Best is trial 13 with value: 0.9176507636592663.\u001b[0m\n",
      "\u001b[32m[I 2022-11-19 22:30:34,876]\u001b[0m Trial 15 finished with value: 0.873137839109299 and parameters: {'n_estimators': 140, 'max_depth': 26, 'min_samples_leaf': 4}. Best is trial 13 with value: 0.9176507636592663.\u001b[0m\n",
      "\u001b[32m[I 2022-11-19 22:30:35,731]\u001b[0m Trial 16 finished with value: 0.9184413945417259 and parameters: {'n_estimators': 178, 'max_depth': 23, 'min_samples_leaf': 2}. Best is trial 16 with value: 0.9184413945417259.\u001b[0m\n",
      "\u001b[32m[I 2022-11-19 22:30:36,473]\u001b[0m Trial 17 finished with value: 0.8672955974842768 and parameters: {'n_estimators': 181, 'max_depth': 19, 'min_samples_leaf': 4}. Best is trial 16 with value: 0.9184413945417259.\u001b[0m\n",
      "\u001b[32m[I 2022-11-19 22:30:37,141]\u001b[0m Trial 18 finished with value: 0.8407983655508408 and parameters: {'n_estimators': 200, 'max_depth': 23, 'min_samples_leaf': 10}. Best is trial 16 with value: 0.9184413945417259.\u001b[0m\n",
      "\u001b[32m[I 2022-11-19 22:30:37,915]\u001b[0m Trial 19 finished with value: 0.8884012539184953 and parameters: {'n_estimators': 179, 'max_depth': 27, 'min_samples_leaf': 3}. Best is trial 16 with value: 0.9184413945417259.\u001b[0m\n"
     ]
    }
   ],
   "source": [
    "def optuna_rf(trial):\n",
    "  # задаем пространства поиска гиперпараметров\n",
    "  n_estimators = trial.suggest_int('n_estimators', 100, 200, 1)\n",
    "  max_depth = trial.suggest_int('max_depth', 10, 30, 1)\n",
    "  min_samples_leaf = trial.suggest_int('min_samples_leaf', 2, 10, 1)\n",
    "  # создаем модель\n",
    "  model = ensemble.RandomForestClassifier(n_estimators=n_estimators,\n",
    "                                          max_depth=max_depth,\n",
    "                                          min_samples_leaf=min_samples_leaf,\n",
    "                                          random_state=42\n",
    "                                          )\n",
    "  # обучаем модель\n",
    "  model.fit(X_train_scaled, y_train)\n",
    "  score = metrics.f1_score(y_train, model.predict(X_train_scaled))\n",
    "  return score\n",
    "\n",
    "study = optuna.create_study(study_name=\"RandomForestClassifier\", direction=\"maximize\")\n",
    "study.optimize(optuna_rf, n_trials=20)"
   ]
  },
  {
   "cell_type": "code",
   "execution_count": null,
   "id": "0e6a43bd-99a4-4c08-86f2-1194fef51091",
   "metadata": {},
   "outputs": [],
   "source": []
  }
 ],
 "metadata": {
  "kernelspec": {
   "display_name": "Python 3 (ipykernel)",
   "language": "python",
   "name": "python3"
  },
  "language_info": {
   "codemirror_mode": {
    "name": "ipython",
    "version": 3
   },
   "file_extension": ".py",
   "mimetype": "text/x-python",
   "name": "python",
   "nbconvert_exporter": "python",
   "pygments_lexer": "ipython3",
   "version": "3.9.7"
  }
 },
 "nbformat": 4,
 "nbformat_minor": 5
}
