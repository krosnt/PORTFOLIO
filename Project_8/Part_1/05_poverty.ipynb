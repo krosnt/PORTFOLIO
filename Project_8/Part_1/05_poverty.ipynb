{
 "cells": [
  {
   "cell_type": "markdown",
   "id": "32c092fc-c7aa-4ed8-b7ca-a684882ebcee",
   "metadata": {},
   "source": [
    "### `5.Процент людей, живущих за чертой бедности (с денежными доходами ниже величины прожиточного минимума),оценка за год по регионам.`"
   ]
  },
  {
   "cell_type": "code",
   "execution_count": 1,
   "id": "a008b416-aa0c-4ee8-9c5c-c9efb3a57050",
   "metadata": {},
   "outputs": [
    {
     "name": "stdout",
     "output_type": "stream",
     "text": [
      "85\n"
     ]
    }
   ],
   "source": [
    "#создадим список регионов и будем с ним сверяться:\n",
    "region=(\n",
    "'Алтайский край',\n",
    " 'Амурская область',\n",
    " 'Архангельская область',\n",
    " 'Астраханская область',\n",
    " 'Белгородская область',\n",
    " 'Брянская область',\n",
    " 'Владимирская область',\n",
    " 'Волгоградская область',\n",
    " 'Вологодская область',\n",
    " 'Воронежская область',\n",
    " 'Город Москва',\n",
    " 'Город Санкт-Петербург',\n",
    " 'Город Севастополь',\n",
    " 'Еврейская автономная область',\n",
    " 'Забайкальский край',\n",
    " 'Ивановская область',\n",
    " 'Иркутская область',\n",
    " 'Кабардино-Балкарская Республика',\n",
    " 'Калининградская область',\n",
    " 'Калужская область',\n",
    " 'Камчатский край',\n",
    " 'Карачаево-Черкесская Республика',\n",
    " 'Кемеровская область',\n",
    " 'Кировская область',\n",
    " 'Костромская область',\n",
    " 'Краснодарский край',\n",
    " 'Красноярский край',\n",
    " 'Курганская область',\n",
    " 'Курская область',\n",
    " 'Ленинградская область',\n",
    " 'Липецкая область',\n",
    " 'Магаданская область',\n",
    " 'Московская область',\n",
    " 'Мурманская область',\n",
    " 'Ненецкий автономный округ',\n",
    " 'Нижегородская область',\n",
    " 'Новгородская область',\n",
    " 'Новосибирская область',\n",
    " 'Омская область',\n",
    " 'Оренбургская область',\n",
    " 'Орловская область',\n",
    " 'Пензенская область',\n",
    " 'Пермский край',\n",
    " 'Приморский край',\n",
    " 'Псковская область',\n",
    " 'Республика Адыгея',\n",
    " 'Республика Алтай',\n",
    " 'Республика Башкортостан',\n",
    " 'Республика Бурятия',\n",
    " 'Республика Дагестан',\n",
    " 'Республика Ингушетия',\n",
    " 'Республика Калмыкия',\n",
    " 'Республика Карелия',\n",
    " 'Республика Коми',\n",
    " 'Республика Крым',\n",
    " 'Республика Марий Эл',\n",
    " 'Республика Мордовия',\n",
    " 'Республика Саха (Якутия)',\n",
    " 'Республика Северная Осетия-Алания',\n",
    " 'Республика Татарстан',\n",
    " 'Республика Тыва',\n",
    " 'Республика Хакасия',\n",
    " 'Ростовская область',\n",
    " 'Рязанская область',\n",
    " 'Самарская область',\n",
    " 'Саратовская область',\n",
    " 'Сахалинская область',\n",
    " 'Свердловская область',\n",
    " 'Смоленская область',\n",
    " 'Ставропольский край',\n",
    " 'Тамбовская область',\n",
    " 'Тверская область',\n",
    " 'Томская область',\n",
    " 'Тульская область',\n",
    " 'Тюменская область',\n",
    " 'Удмуртская Республика',\n",
    " 'Ульяновская область',\n",
    " 'Хабаровский край',\n",
    " 'Ханты-Мансийский автономный округ - Югра',\n",
    " 'Челябинская область',\n",
    " 'Чеченская Республика',\n",
    " 'Чукотский автономный округ',\n",
    " 'Чувашская Республика',\n",
    " 'Ямало-Ненецкий автономный округ',\n",
    " 'Ярославская область')\n",
    "print(len(region))"
   ]
  },
  {
   "cell_type": "code",
   "execution_count": 2,
   "id": "8c10412c-f45a-4592-84bf-3e89d47080f9",
   "metadata": {},
   "outputs": [],
   "source": [
    "#Составим словарь для замены некоторынх названий регионов:\n",
    "regions={\n",
    " 'Архангельская область (кроме Ненецкого автономного округа)':'Архангельская область',\n",
    " 'Архангельская обл. без данных по Ненецкому авт. окр.': 'Архангельская область',\n",
    " 'Архангельская область без\\nавтономного округа': 'Архангельская область',\n",
    " 'Архангельская область (без АО)': 'Архангельская область',\n",
    " 'Архангельская область без авт. округа': 'Архангельская область',\n",
    " 'Bолгоградская область': 'Волгоградская область',\n",
    " 'Bологодская область': 'Вологодская область',\n",
    " 'Bладимирская область': 'Владимирская область',\n",
    " 'Bоронежская область': 'Воронежская область',\n",
    " 'Город Москва столица Российской Федерации город федерального значения': 'Город Москва',\n",
    " 'Город Москва столица Российской Федерации город Федерального значения': 'Город Москва',\n",
    " 'г.Москва': 'Город Москва',\n",
    " 'город Москва': 'Город Москва',\n",
    " 'г. Москва': 'Город Москва',\n",
    " 'Город Санкт-Петербург город федерального значения':'Город Санкт-Петербург',\n",
    " 'г.Санкт-Петербург':'Город Санкт-Петербург',\n",
    " 'город Санкт-Петербург': 'Город Санкт-Петербург',\n",
    " 'г. Санкт-Петербург': 'Город Санкт-Петербург',\n",
    " 'Город федерального значения Севастополь': 'Город Севастополь',\n",
    " 'г.Севастополь': 'Город Севастополь',\n",
    " 'город Севастополь': 'Город Севастополь',\n",
    " 'г. Севастополь': 'Город Севастополь',\n",
    " 'Еврейская авт. область': 'Еврейская автономная область',\n",
    " 'Кабардино-Балкарская\\nРеспублика': 'Кабардино-Балкарская Республика',\n",
    " 'Кемеровская область (Кузбасс)': 'Кемеровская область',\n",
    " 'Кемеровская область - Кузбасс': 'Кемеровская область',  \n",
    " 'Карачаево-Черкесская\\nРеспублика': 'Карачаево-Черкесская Республика',\n",
    " 'Ненецкий автономный округ (Архангельская область)': 'Ненецкий автономный округ',\n",
    " 'Республика Адыгея (Адыгея)': 'Республика Адыгея',\n",
    " 'Республика Татарстан (Татарстан)': 'Республика Татарстан',\n",
    " 'Республика Северная\\nОсетия-Алания': 'Республика Северная Осетия-Алания',\n",
    " 'Тюменская область (кроме Ханты-Мансийского автономного округа-Югры и Ямало-Ненецкого автономного округа)': 'Тюменская область',\n",
    " 'Тюменская обл.без данных по Ханты-Мансийскому и Ямало-Ненецкому авт. окр.': 'Тюменская область',\n",
    " 'Тюменская область без\\nавтономных округов': 'Тюменская область',\n",
    " 'Тюменская область (без АО)': 'Тюменская область',\n",
    " 'Тюменская область без авт. округов': 'Тюменская область',\n",
    " 'Ханты-Мансийский автономный округ - Югра (Тюменская область)': 'Ханты-Мансийский автономный округ - Югра',\n",
    " 'Ханты-Мансийский \\nавтономный округ - Югра': 'Ханты-Мансийский автономный округ - Югра',\n",
    " 'Ханты-Мансийский авт. округ': 'Ханты-Мансийский автономный округ - Югра',\n",
    " 'Чувашская Республика - Чувашия': 'Чувашская Республика',\n",
    " 'Чеченская и Ингушская Республики': 'Чеченская Республика',\n",
    " 'Чукотский авт. округ': 'Чукотский автономный округ',\n",
    " 'Ямало-Ненецкий автономный округ (Тюменская область)': 'Ямало-Ненецкий автономный округ',\n",
    " 'Ямало-Ненецкий \\nавтономный округ': 'Ямало-Ненецкий автономный округ',\n",
    " 'Ямало-Ненецкий авт. округ': 'Ямало-Ненецкий автономный округ'\n",
    "}\n",
    "\n",
    "# Напишем функцию смены названия региона, если он есть в этом словаре:\n",
    "def region_name(name):\n",
    "    for i in regions:\n",
    "        if i in name:\n",
    "            return regions[i]\n",
    "    return name"
   ]
  },
  {
   "cell_type": "code",
   "execution_count": 3,
   "id": "b480c9b4-9949-40ce-a76b-f417280101ad",
   "metadata": {},
   "outputs": [],
   "source": [
    "import numpy as np\n",
    "import pandas as pd\n",
    "import matplotlib.pyplot as plt\n",
    "import seaborn as sns\n",
    "import warnings\n",
    "import plotly.express as px\n",
    "warnings.filterwarnings('ignore') "
   ]
  },
  {
   "cell_type": "code",
   "execution_count": 44,
   "id": "fefe7a98-538d-4b99-82c6-03901953689a",
   "metadata": {},
   "outputs": [
    {
     "data": {
      "text/html": [
       "<div>\n",
       "<style scoped>\n",
       "    .dataframe tbody tr th:only-of-type {\n",
       "        vertical-align: middle;\n",
       "    }\n",
       "\n",
       "    .dataframe tbody tr th {\n",
       "        vertical-align: top;\n",
       "    }\n",
       "\n",
       "    .dataframe thead th {\n",
       "        text-align: right;\n",
       "    }\n",
       "</style>\n",
       "<table border=\"1\" class=\"dataframe\">\n",
       "  <thead>\n",
       "    <tr style=\"text-align: right;\">\n",
       "      <th></th>\n",
       "      <th>region</th>\n",
       "      <th>year</th>\n",
       "      <th>poverty_percent</th>\n",
       "    </tr>\n",
       "  </thead>\n",
       "  <tbody>\n",
       "    <tr>\n",
       "      <th>0</th>\n",
       "      <td>Российская Федерация</td>\n",
       "      <td>1992</td>\n",
       "      <td>33.5</td>\n",
       "    </tr>\n",
       "    <tr>\n",
       "      <th>1</th>\n",
       "      <td>Российская Федерация</td>\n",
       "      <td>1993</td>\n",
       "      <td>31.3</td>\n",
       "    </tr>\n",
       "    <tr>\n",
       "      <th>2</th>\n",
       "      <td>Российская Федерация</td>\n",
       "      <td>1994</td>\n",
       "      <td>22.4</td>\n",
       "    </tr>\n",
       "  </tbody>\n",
       "</table>\n",
       "</div>"
      ],
      "text/plain": [
       "                 region  year  poverty_percent\n",
       "0  Российская Федерация  1992             33.5\n",
       "1  Российская Федерация  1993             31.3\n",
       "2  Российская Федерация  1994             22.4"
      ]
     },
     "metadata": {},
     "output_type": "display_data"
    }
   ],
   "source": [
    "poverty = pd.read_csv('data/poverty_percent_by_regions_1992_2020.csv')\n",
    "display(poverty.head(3))"
   ]
  },
  {
   "cell_type": "code",
   "execution_count": 45,
   "id": "be7d35f1-7fa7-4596-ab43-fd8c667ddda7",
   "metadata": {},
   "outputs": [],
   "source": [
    "#Переименуем столбец с регионами и уберем в нем лишние символы\n",
    "poverty.rename(columns={'region':\"Регион\"}, inplace=True)\n",
    "poverty.rename(columns={'year':\"Год\"}, inplace=True)\n",
    "poverty.rename(columns={'poverty_percent':\"Poverty_percent\"}, inplace=True)\n",
    "\n",
    "poverty['Регион'].replace(r'\\s+|\\\\n', ' ', regex=True, inplace=True)\n",
    "poverty['Регион'] = poverty['Регион'].str.strip()"
   ]
  },
  {
   "cell_type": "code",
   "execution_count": 46,
   "id": "e7492f83-352b-443e-a78c-31e9144e17c3",
   "metadata": {},
   "outputs": [],
   "source": [
    "poverty_fed = poverty[poverty['Регион'].str.contains('федеральный округ|Федерация|район')].index\n",
    "poverty.drop(poverty_fed, axis = 0, inplace=True)\n",
    "\n",
    "#Удалим Архангельскую и Тюменскую области:\n",
    "poverty_ar = poverty[poverty['Регион']== 'Архангельская область'].index\n",
    "poverty_tu = poverty[poverty['Регион']== 'Тюменская область'].index\n",
    "poverty.drop(poverty_ar, axis = 0, inplace=True) \n",
    "poverty.drop(poverty_tu, axis = 0, inplace=True) "
   ]
  },
  {
   "cell_type": "code",
   "execution_count": 47,
   "id": "40e897ad-c93c-4788-b1d2-fa0b104d2a50",
   "metadata": {},
   "outputs": [],
   "source": [
    "#sorted(poverty['Регион'])"
   ]
  },
  {
   "cell_type": "code",
   "execution_count": 48,
   "id": "2ff7ff20-b26e-4ee4-ae4c-94c25cc12012",
   "metadata": {},
   "outputs": [],
   "source": [
    "poverty['Регион'] = poverty['Регион'].apply(region_name)"
   ]
  },
  {
   "cell_type": "code",
   "execution_count": 49,
   "id": "7aff53a9-e755-4441-a1b4-d02790f72800",
   "metadata": {},
   "outputs": [
    {
     "name": "stdout",
     "output_type": "stream",
     "text": [
      "85\n"
     ]
    }
   ],
   "source": [
    "#Сделаем проверку на соответствие регионов:\n",
    "poverty['mask'] = poverty['Регион'].apply(lambda x: 1 if x in region else 0)\n",
    "print(len(poverty['Регион'].unique()))\n",
    "#print(poverty['mask'])"
   ]
  },
  {
   "cell_type": "markdown",
   "id": "7eac0648-febf-4b81-8e9f-cefdf68bda22",
   "metadata": {},
   "source": [
    "Хорошо, количество регионов и названия у нас совпадает."
   ]
  },
  {
   "cell_type": "code",
   "execution_count": 50,
   "id": "383f8ddc-a600-401d-b72e-8ddf0be0082b",
   "metadata": {},
   "outputs": [],
   "source": [
    "#Больше нам этот столбец не нужен:\n",
    "poverty = poverty.drop(['mask'], axis=1)"
   ]
  },
  {
   "cell_type": "code",
   "execution_count": 51,
   "id": "8c76d1ab-0588-42bf-8ffc-a3ea7a775fc3",
   "metadata": {},
   "outputs": [
    {
     "data": {
      "text/html": [
       "<div>\n",
       "<style scoped>\n",
       "    .dataframe tbody tr th:only-of-type {\n",
       "        vertical-align: middle;\n",
       "    }\n",
       "\n",
       "    .dataframe tbody tr th {\n",
       "        vertical-align: top;\n",
       "    }\n",
       "\n",
       "    .dataframe thead th {\n",
       "        text-align: right;\n",
       "    }\n",
       "</style>\n",
       "<table border=\"1\" class=\"dataframe\">\n",
       "  <thead>\n",
       "    <tr style=\"text-align: right;\">\n",
       "      <th>Год</th>\n",
       "      <th>Регион</th>\n",
       "      <th>1995</th>\n",
       "      <th>1996</th>\n",
       "      <th>1997</th>\n",
       "      <th>1998</th>\n",
       "      <th>1999</th>\n",
       "      <th>2000</th>\n",
       "      <th>2001</th>\n",
       "      <th>2002</th>\n",
       "      <th>2003</th>\n",
       "      <th>...</th>\n",
       "      <th>2011</th>\n",
       "      <th>2012</th>\n",
       "      <th>2013</th>\n",
       "      <th>2014</th>\n",
       "      <th>2015</th>\n",
       "      <th>2016</th>\n",
       "      <th>2017</th>\n",
       "      <th>2018</th>\n",
       "      <th>2019</th>\n",
       "      <th>2020</th>\n",
       "    </tr>\n",
       "  </thead>\n",
       "  <tbody>\n",
       "    <tr>\n",
       "      <th>0</th>\n",
       "      <td>Алтайский край</td>\n",
       "      <td>33.7</td>\n",
       "      <td>46.8</td>\n",
       "      <td>45.7</td>\n",
       "      <td>52.9</td>\n",
       "      <td>53.8</td>\n",
       "      <td>53.9</td>\n",
       "      <td>47.3</td>\n",
       "      <td>38.9</td>\n",
       "      <td>33.9</td>\n",
       "      <td>...</td>\n",
       "      <td>22.6</td>\n",
       "      <td>20.6</td>\n",
       "      <td>17.6</td>\n",
       "      <td>17.1</td>\n",
       "      <td>18.0</td>\n",
       "      <td>17.8</td>\n",
       "      <td>17.5</td>\n",
       "      <td>17.4</td>\n",
       "      <td>17.6</td>\n",
       "      <td>17.5</td>\n",
       "    </tr>\n",
       "    <tr>\n",
       "      <th>1</th>\n",
       "      <td>Амурская область</td>\n",
       "      <td>36.1</td>\n",
       "      <td>28.2</td>\n",
       "      <td>26.3</td>\n",
       "      <td>31.2</td>\n",
       "      <td>38.0</td>\n",
       "      <td>47.7</td>\n",
       "      <td>45.3</td>\n",
       "      <td>44.6</td>\n",
       "      <td>35.6</td>\n",
       "      <td>...</td>\n",
       "      <td>20.4</td>\n",
       "      <td>16.0</td>\n",
       "      <td>16.2</td>\n",
       "      <td>14.8</td>\n",
       "      <td>15.2</td>\n",
       "      <td>17.0</td>\n",
       "      <td>16.7</td>\n",
       "      <td>15.6</td>\n",
       "      <td>15.7</td>\n",
       "      <td>15.2</td>\n",
       "    </tr>\n",
       "    <tr>\n",
       "      <th>2</th>\n",
       "      <td>Архангельская область</td>\n",
       "      <td>NaN</td>\n",
       "      <td>NaN</td>\n",
       "      <td>NaN</td>\n",
       "      <td>NaN</td>\n",
       "      <td>NaN</td>\n",
       "      <td>NaN</td>\n",
       "      <td>NaN</td>\n",
       "      <td>NaN</td>\n",
       "      <td>NaN</td>\n",
       "      <td>...</td>\n",
       "      <td>NaN</td>\n",
       "      <td>13.0</td>\n",
       "      <td>14.5</td>\n",
       "      <td>14.5</td>\n",
       "      <td>16.2</td>\n",
       "      <td>14.9</td>\n",
       "      <td>13.9</td>\n",
       "      <td>12.5</td>\n",
       "      <td>12.7</td>\n",
       "      <td>12.3</td>\n",
       "    </tr>\n",
       "  </tbody>\n",
       "</table>\n",
       "<p>3 rows × 27 columns</p>\n",
       "</div>"
      ],
      "text/plain": [
       "Год                 Регион  1995  1996  1997  1998  1999  2000  2001  2002  \\\n",
       "0           Алтайский край  33.7  46.8  45.7  52.9  53.8  53.9  47.3  38.9   \n",
       "1         Амурская область  36.1  28.2  26.3  31.2  38.0  47.7  45.3  44.6   \n",
       "2    Архангельская область   NaN   NaN   NaN   NaN   NaN   NaN   NaN   NaN   \n",
       "\n",
       "Год  2003  ...  2011  2012  2013  2014  2015  2016  2017  2018  2019  2020  \n",
       "0    33.9  ...  22.6  20.6  17.6  17.1  18.0  17.8  17.5  17.4  17.6  17.5  \n",
       "1    35.6  ...  20.4  16.0  16.2  14.8  15.2  17.0  16.7  15.6  15.7  15.2  \n",
       "2     NaN  ...   NaN  13.0  14.5  14.5  16.2  14.9  13.9  12.5  12.7  12.3  \n",
       "\n",
       "[3 rows x 27 columns]"
      ]
     },
     "execution_count": 51,
     "metadata": {},
     "output_type": "execute_result"
    }
   ],
   "source": [
    "poverty = poverty.groupby(['Регион','Год'])['Poverty_percent'].sum().unstack().reset_index()\n",
    "poverty.head(3)"
   ]
  },
  {
   "cell_type": "code",
   "execution_count": 52,
   "id": "54c9bcb5-dcc8-40cf-aaa1-b754347582c5",
   "metadata": {},
   "outputs": [
    {
     "data": {
      "text/html": [
       "<div>\n",
       "<style scoped>\n",
       "    .dataframe tbody tr th:only-of-type {\n",
       "        vertical-align: middle;\n",
       "    }\n",
       "\n",
       "    .dataframe tbody tr th {\n",
       "        vertical-align: top;\n",
       "    }\n",
       "\n",
       "    .dataframe thead th {\n",
       "        text-align: right;\n",
       "    }\n",
       "</style>\n",
       "<table border=\"1\" class=\"dataframe\">\n",
       "  <thead>\n",
       "    <tr style=\"text-align: right;\">\n",
       "      <th>Год</th>\n",
       "      <th>1995</th>\n",
       "      <th>1996</th>\n",
       "      <th>1997</th>\n",
       "      <th>1998</th>\n",
       "      <th>1999</th>\n",
       "      <th>2000</th>\n",
       "      <th>2001</th>\n",
       "      <th>2002</th>\n",
       "      <th>2003</th>\n",
       "      <th>2004</th>\n",
       "      <th>...</th>\n",
       "      <th>2011</th>\n",
       "      <th>2012</th>\n",
       "      <th>2013</th>\n",
       "      <th>2014</th>\n",
       "      <th>2015</th>\n",
       "      <th>2016</th>\n",
       "      <th>2017</th>\n",
       "      <th>2018</th>\n",
       "      <th>2019</th>\n",
       "      <th>2020</th>\n",
       "    </tr>\n",
       "    <tr>\n",
       "      <th>Регион</th>\n",
       "      <th></th>\n",
       "      <th></th>\n",
       "      <th></th>\n",
       "      <th></th>\n",
       "      <th></th>\n",
       "      <th></th>\n",
       "      <th></th>\n",
       "      <th></th>\n",
       "      <th></th>\n",
       "      <th></th>\n",
       "      <th></th>\n",
       "      <th></th>\n",
       "      <th></th>\n",
       "      <th></th>\n",
       "      <th></th>\n",
       "      <th></th>\n",
       "      <th></th>\n",
       "      <th></th>\n",
       "      <th></th>\n",
       "      <th></th>\n",
       "      <th></th>\n",
       "    </tr>\n",
       "  </thead>\n",
       "  <tbody>\n",
       "    <tr>\n",
       "      <th>Алтайский край</th>\n",
       "      <td>33.7</td>\n",
       "      <td>46.8</td>\n",
       "      <td>45.7</td>\n",
       "      <td>52.9</td>\n",
       "      <td>53.8</td>\n",
       "      <td>53.9</td>\n",
       "      <td>47.3</td>\n",
       "      <td>38.9</td>\n",
       "      <td>33.9</td>\n",
       "      <td>30.9</td>\n",
       "      <td>...</td>\n",
       "      <td>22.6</td>\n",
       "      <td>20.6</td>\n",
       "      <td>17.6</td>\n",
       "      <td>17.1</td>\n",
       "      <td>18.0</td>\n",
       "      <td>17.8</td>\n",
       "      <td>17.5</td>\n",
       "      <td>17.4</td>\n",
       "      <td>17.6</td>\n",
       "      <td>17.5</td>\n",
       "    </tr>\n",
       "    <tr>\n",
       "      <th>Амурская область</th>\n",
       "      <td>36.1</td>\n",
       "      <td>28.2</td>\n",
       "      <td>26.3</td>\n",
       "      <td>31.2</td>\n",
       "      <td>38.0</td>\n",
       "      <td>47.7</td>\n",
       "      <td>45.3</td>\n",
       "      <td>44.6</td>\n",
       "      <td>35.6</td>\n",
       "      <td>33.8</td>\n",
       "      <td>...</td>\n",
       "      <td>20.4</td>\n",
       "      <td>16.0</td>\n",
       "      <td>16.2</td>\n",
       "      <td>14.8</td>\n",
       "      <td>15.2</td>\n",
       "      <td>17.0</td>\n",
       "      <td>16.7</td>\n",
       "      <td>15.6</td>\n",
       "      <td>15.7</td>\n",
       "      <td>15.2</td>\n",
       "    </tr>\n",
       "    <tr>\n",
       "      <th>Архангельская область</th>\n",
       "      <td>NaN</td>\n",
       "      <td>NaN</td>\n",
       "      <td>NaN</td>\n",
       "      <td>NaN</td>\n",
       "      <td>NaN</td>\n",
       "      <td>NaN</td>\n",
       "      <td>NaN</td>\n",
       "      <td>NaN</td>\n",
       "      <td>NaN</td>\n",
       "      <td>NaN</td>\n",
       "      <td>...</td>\n",
       "      <td>NaN</td>\n",
       "      <td>13.0</td>\n",
       "      <td>14.5</td>\n",
       "      <td>14.5</td>\n",
       "      <td>16.2</td>\n",
       "      <td>14.9</td>\n",
       "      <td>13.9</td>\n",
       "      <td>12.5</td>\n",
       "      <td>12.7</td>\n",
       "      <td>12.3</td>\n",
       "    </tr>\n",
       "  </tbody>\n",
       "</table>\n",
       "<p>3 rows × 26 columns</p>\n",
       "</div>"
      ],
      "text/plain": [
       "Год                    1995  1996  1997  1998  1999  2000  2001  2002  2003  \\\n",
       "Регион                                                                        \n",
       "Алтайский край         33.7  46.8  45.7  52.9  53.8  53.9  47.3  38.9  33.9   \n",
       "Амурская область       36.1  28.2  26.3  31.2  38.0  47.7  45.3  44.6  35.6   \n",
       "Архангельская область   NaN   NaN   NaN   NaN   NaN   NaN   NaN   NaN   NaN   \n",
       "\n",
       "Год                    2004  ...  2011  2012  2013  2014  2015  2016  2017  \\\n",
       "Регион                       ...                                             \n",
       "Алтайский край         30.9  ...  22.6  20.6  17.6  17.1  18.0  17.8  17.5   \n",
       "Амурская область       33.8  ...  20.4  16.0  16.2  14.8  15.2  17.0  16.7   \n",
       "Архангельская область   NaN  ...   NaN  13.0  14.5  14.5  16.2  14.9  13.9   \n",
       "\n",
       "Год                    2018  2019  2020  \n",
       "Регион                                   \n",
       "Алтайский край         17.4  17.6  17.5  \n",
       "Амурская область       15.6  15.7  15.2  \n",
       "Архангельская область  12.5  12.7  12.3  \n",
       "\n",
       "[3 rows x 26 columns]"
      ]
     },
     "execution_count": 52,
     "metadata": {},
     "output_type": "execute_result"
    }
   ],
   "source": [
    "#Сделаем столбец Регион индексом\n",
    "poverty[\"Регион\"] = poverty[\"Регион\"].str.strip()\n",
    "poverty.set_index('Регион', inplace=True)\n",
    "poverty.head(3)"
   ]
  },
  {
   "cell_type": "code",
   "execution_count": 53,
   "id": "4b370be9-2802-4f4e-b636-90f67ffa0c98",
   "metadata": {},
   "outputs": [
    {
     "data": {
      "text/plain": [
       "82"
      ]
     },
     "execution_count": 53,
     "metadata": {},
     "output_type": "execute_result"
    }
   ],
   "source": [
    "#Посмотрим на количество пропусков:\n",
    "poverty.isnull().sum().sum()"
   ]
  },
  {
   "cell_type": "code",
   "execution_count": 54,
   "id": "d0a6a154-28dd-4ab1-bd8c-611a62171ac8",
   "metadata": {},
   "outputs": [],
   "source": [
    "#Заменим пропуски медианой во всей таблице:\n",
    "for col in poverty.columns:\n",
    "    poverty[col] = poverty[col].fillna(poverty[col].median())"
   ]
  },
  {
   "cell_type": "code",
   "execution_count": 55,
   "id": "b4ee7ee8-cffd-41c3-9e4a-dc9082421161",
   "metadata": {},
   "outputs": [],
   "source": [
    "#Удалим лишние года:\n",
    "poverty = poverty.drop(columns=[1995, 1996,\n",
    "                                        1997, 1998, 1999]) "
   ]
  },
  {
   "cell_type": "code",
   "execution_count": 56,
   "id": "be6738fc-4d70-46a8-a8be-d5a8b426ad51",
   "metadata": {},
   "outputs": [],
   "source": [
    "#Добавим недостающий год, заменив пустые значения медианой ближайшего года\n",
    "poverty[2021]=poverty[2020].median()"
   ]
  },
  {
   "cell_type": "markdown",
   "id": "6cbce47b-c699-45ef-b118-12445ab11767",
   "metadata": {},
   "source": [
    "Создадим ДатаФрейм со средним значением c 2000 по 2021 год:"
   ]
  },
  {
   "cell_type": "code",
   "execution_count": 58,
   "id": "00f7b877-061c-4044-a1f9-0e3a808e77d5",
   "metadata": {},
   "outputs": [],
   "source": [
    "#Для начала создалим такой столбец:\n",
    "poverty['mean'] = poverty[[2000, 2001, 2002, 2003, 2004, 2005, 2006, \n",
    "                                   2007, 2008, 2009, 2010, 2011, 2012, 2013, \n",
    "                                   2014, 2015, 2016, 2017, 2018, 2019, 2020, 2021]].mean(axis=1).round(2)"
   ]
  },
  {
   "cell_type": "code",
   "execution_count": 59,
   "id": "3a2c9b39-c37c-4489-91cc-a5d3e910c4f7",
   "metadata": {},
   "outputs": [
    {
     "data": {
      "text/html": [
       "<div>\n",
       "<style scoped>\n",
       "    .dataframe tbody tr th:only-of-type {\n",
       "        vertical-align: middle;\n",
       "    }\n",
       "\n",
       "    .dataframe tbody tr th {\n",
       "        vertical-align: top;\n",
       "    }\n",
       "\n",
       "    .dataframe thead th {\n",
       "        text-align: right;\n",
       "    }\n",
       "</style>\n",
       "<table border=\"1\" class=\"dataframe\">\n",
       "  <thead>\n",
       "    <tr style=\"text-align: right;\">\n",
       "      <th>Год</th>\n",
       "      <th>Poverty_percent</th>\n",
       "    </tr>\n",
       "    <tr>\n",
       "      <th>Регион</th>\n",
       "      <th></th>\n",
       "    </tr>\n",
       "  </thead>\n",
       "  <tbody>\n",
       "    <tr>\n",
       "      <th>Алтайский край</th>\n",
       "      <td>24.25</td>\n",
       "    </tr>\n",
       "    <tr>\n",
       "      <th>Амурская область</th>\n",
       "      <td>24.29</td>\n",
       "    </tr>\n",
       "    <tr>\n",
       "      <th>Архангельская область</th>\n",
       "      <td>18.82</td>\n",
       "    </tr>\n",
       "  </tbody>\n",
       "</table>\n",
       "</div>"
      ],
      "text/plain": [
       "Год                    Poverty_percent\n",
       "Регион                                \n",
       "Алтайский край                   24.25\n",
       "Амурская область                 24.29\n",
       "Архангельская область            18.82"
      ]
     },
     "execution_count": 59,
     "metadata": {},
     "output_type": "execute_result"
    }
   ],
   "source": [
    "df_poverty= poverty[['mean']]\n",
    "df_poverty.rename(columns={'mean':\"Poverty_percent\"}, inplace=True)\n",
    "df_poverty.head(3)"
   ]
  },
  {
   "cell_type": "code",
   "execution_count": 61,
   "id": "017c3710-e96d-491d-a7e6-78839b0e65bf",
   "metadata": {},
   "outputs": [
    {
     "data": {
      "image/png": "[encoded data removed]",
      "text/plain": [
       "<Figure size 1000x300 with 1 Axes>"
      ]
     },
     "metadata": {},
     "output_type": "display_data"
    }
   ],
   "source": [
    "#Посмотрим на средние значения:\n",
    "df_poverty.hist(figsize = (10,3), grid = False);\n",
    "plt.show()"
   ]
  },
  {
   "cell_type": "code",
   "execution_count": 62,
   "id": "7b4d53e1-d32b-43a9-ae52-3ead2aa148a6",
   "metadata": {},
   "outputs": [
    {
     "data": {
      "application/vnd.plotly.v1+json": {
       "config": {
        "plotlyServerURL": "https://plot.ly"
       },
       "data": [
        {
         "hovertemplate": "Регион=%{x}<br>Poverty_percent=%{y}<extra></extra>",
         "legendgroup": "",
         "line": {
          "color": "#636efa",
          "dash": "solid"
         },
         "marker": {
          "symbol": "circle"
         },
         "mode": "lines",
         "name": "",
         "orientation": "v",
         "showlegend": false,
         "type": "scatter",
         "x": [
          "Алтайский край",
          "Амурская область",
          "Архангельская область",
          "Астраханская область",
          "Белгородская область",
          "Брянская область",
          "Владимирская область",
          "Волгоградская область",
          "Вологодская область",
          "Воронежская область",
          "Город Москва",
          "Город Санкт-Петербург",
          "Город Севастополь",
          "Еврейская автономная область",
          "Забайкальский край",
          "Ивановская область",
          "Иркутская область",
          "Кабардино-Балкарская Республика",
          "Калининградская область",
          "Калужская область",
          "Камчатский край",
          "Карачаево-Черкесская Республика",
          "Кемеровская область",
          "Кировская область",
          "Костромская область",
          "Краснодарский край",
          "Красноярский край",
          "Курганская область",
          "Курская область",
          "Ленинградская область",
          "Липецкая область",
          "Магаданская область",
          "Московская область",
          "Мурманская область",
          "Ненецкий автономный округ",
          "Нижегородская область",
          "Новгородская область",
          "Новосибирская область",
          "Омская область",
          "Оренбургская область",
          "Орловская область",
          "Пензенская область",
          "Пермский край",
          "Приморский край",
          "Псковская область",
          "Республика Адыгея",
          "Республика Алтай",
          "Республика Башкортостан",
          "Республика Бурятия",
          "Республика Дагестан",
          "Республика Ингушетия",
          "Республика Калмыкия",
          "Республика Карелия",
          "Республика Коми",
          "Республика Крым",
          "Республика Марий Эл",
          "Республика Мордовия",
          "Республика Саха (Якутия)",
          "Республика Северная Осетия-Алания",
          "Республика Татарстан",
          "Республика Тыва",
          "Республика Хакасия",
          "Ростовская область",
          "Рязанская область",
          "Самарская область",
          "Саратовская область",
          "Сахалинская область",
          "Свердловская область",
          "Смоленская область",
          "Ставропольский край",
          "Тамбовская область",
          "Тверская область",
          "Томская область",
          "Тульская область",
          "Тюменская область",
          "Удмуртская Республика",
          "Ульяновская область",
          "Хабаровский край",
          "Ханты-Мансийский автономный округ - Югра",
          "Челябинская область",
          "Чеченская Республика",
          "Чувашская Республика",
          "Чукотский автономный округ",
          "Ямало-Ненецкий автономный округ",
          "Ярославская область"
         ],
         "xaxis": "x",
         "y": [
          24.25,
          24.29,
          18.82,
          17.65,
          13.47,
          18.6,
          21.38,
          16.45,
          16.46,
          18.22,
          12.05,
          11.44,
          18.12,
          26.86,
          26.11,
          28.82,
          21.5,
          24.42,
          18.15,
          17.04,
          18.05,
          26.21,
          15.05,
          20.78,
          19.84,
          18.7,
          18.92,
          24.81,
          16.55,
          18.45,
          13.3,
          15.39,
          13.82,
          14.93,
          11.3,
          14.88,
          18.76,
          21.38,
          16.92,
          19.06,
          19.1,
          20.8,
          15.93,
          23.34,
          19.69,
          21.63,
          29.44,
          15.01,
          25.64,
          22.5,
          40.97,
          38.44,
          16.35,
          16.24,
          20.23,
          30.03,
          25.12,
          19.56,
          17.52,
          11.78,
          38.39,
          22.3,
          17.39,
          19.24,
          16.86,
          21.29,
          15.64,
          13.02,
          18.42,
          21.38,
          15.8,
          19.11,
          16.75,
          14.45,
          18.71,
          17.91,
          22.03,
          17.84,
          9.86,
          15.75,
          13.2,
          23.28,
          14.71,
          7.4,
          14.73
         ],
         "yaxis": "y"
        }
       ],
       "layout": {
        "autosize": true,
        "legend": {
         "tracegroupgap": 0
        },
        "template": {
         "data": {
          "bar": [
           {
            "error_x": {
             "color": "#2a3f5f"
            },
            "error_y": {
             "color": "#2a3f5f"
            },
            "marker": {
             "line": {
              "color": "#E5ECF6",
              "width": 0.5
             },
             "pattern": {
              "fillmode": "overlay",
              "size": 10,
              "solidity": 0.2
             }
            },
            "type": "bar"
           }
          ],
          "barpolar": [
           {
            "marker": {
             "line": {
              "color": "#E5ECF6",
              "width": 0.5
             },
             "pattern": {
              "fillmode": "overlay",
              "size": 10,
              "solidity": 0.2
             }
            },
            "type": "barpolar"
           }
          ],
          "carpet": [
           {
            "aaxis": {
             "endlinecolor": "#2a3f5f",
             "gridcolor": "white",
             "linecolor": "white",
             "minorgridcolor": "white",
             "startlinecolor": "#2a3f5f"
            },
            "baxis": {
             "endlinecolor": "#2a3f5f",
             "gridcolor": "white",
             "linecolor": "white",
             "minorgridcolor": "white",
             "startlinecolor": "#2a3f5f"
            },
            "type": "carpet"
           }
          ],
          "choropleth": [
           {
            "colorbar": {
             "outlinewidth": 0,
             "ticks": ""
            },
            "type": "choropleth"
           }
          ],
          "contour": [
           {
            "colorbar": {
             "outlinewidth": 0,
             "ticks": ""
            },
            "colorscale": [
             [
              0,
              "#0d0887"
             ],
             [
              0.1111111111111111,
              "#46039f"
             ],
             [
              0.2222222222222222,
              "#7201a8"
             ],
             [
              0.3333333333333333,
              "#9c179e"
             ],
             [
              0.4444444444444444,
              "#bd3786"
             ],
             [
              0.5555555555555556,
              "#d8576b"
             ],
             [
              0.6666666666666666,
              "#ed7953"
             ],
             [
              0.7777777777777778,
              "#fb9f3a"
             ],
             [
              0.8888888888888888,
              "#fdca26"
             ],
             [
              1,
              "#f0f921"
             ]
            ],
            "type": "contour"
           }
          ],
          "contourcarpet": [
           {
            "colorbar": {
             "outlinewidth": 0,
             "ticks": ""
            },
            "type": "contourcarpet"
           }
          ],
          "heatmap": [
           {
            "colorbar": {
             "outlinewidth": 0,
             "ticks": ""
            },
            "colorscale": [
             [
              0,
              "#0d0887"
             ],
             [
              0.1111111111111111,
              "#46039f"
             ],
             [
              0.2222222222222222,
              "#7201a8"
             ],
             [
              0.3333333333333333,
              "#9c179e"
             ],
             [
              0.4444444444444444,
              "#bd3786"
             ],
             [
              0.5555555555555556,
              "#d8576b"
             ],
             [
              0.6666666666666666,
              "#ed7953"
             ],
             [
              0.7777777777777778,
              "#fb9f3a"
             ],
             [
              0.8888888888888888,
              "#fdca26"
             ],
             [
              1,
              "#f0f921"
             ]
            ],
            "type": "heatmap"
           }
          ],
          "heatmapgl": [
           {
            "colorbar": {
             "outlinewidth": 0,
             "ticks": ""
            },
            "colorscale": [
             [
              0,
              "#0d0887"
             ],
             [
              0.1111111111111111,
              "#46039f"
             ],
             [
              0.2222222222222222,
              "#7201a8"
             ],
             [
              0.3333333333333333,
              "#9c179e"
             ],
             [
              0.4444444444444444,
              "#bd3786"
             ],
             [
              0.5555555555555556,
              "#d8576b"
             ],
             [
              0.6666666666666666,
              "#ed7953"
             ],
             [
              0.7777777777777778,
              "#fb9f3a"
             ],
             [
              0.8888888888888888,
              "#fdca26"
             ],
             [
              1,
              "#f0f921"
             ]
            ],
            "type": "heatmapgl"
           }
          ],
          "histogram": [
           {
            "marker": {
             "pattern": {
              "fillmode": "overlay",
              "size": 10,
              "solidity": 0.2
             }
            },
            "type": "histogram"
           }
          ],
          "histogram2d": [
           {
            "colorbar": {
             "outlinewidth": 0,
             "ticks": ""
            },
            "colorscale": [
             [
              0,
              "#0d0887"
             ],
             [
              0.1111111111111111,
              "#46039f"
             ],
             [
              0.2222222222222222,
              "#7201a8"
             ],
             [
              0.3333333333333333,
              "#9c179e"
             ],
             [
              0.4444444444444444,
              "#bd3786"
             ],
             [
              0.5555555555555556,
              "#d8576b"
             ],
             [
              0.6666666666666666,
              "#ed7953"
             ],
             [
              0.7777777777777778,
              "#fb9f3a"
             ],
             [
              0.8888888888888888,
              "#fdca26"
             ],
             [
              1,
              "#f0f921"
             ]
            ],
            "type": "histogram2d"
           }
          ],
          "histogram2dcontour": [
           {
            "colorbar": {
             "outlinewidth": 0,
             "ticks": ""
            },
            "colorscale": [
             [
              0,
              "#0d0887"
             ],
             [
              0.1111111111111111,
              "#46039f"
             ],
             [
              0.2222222222222222,
              "#7201a8"
             ],
             [
              0.3333333333333333,
              "#9c179e"
             ],
             [
              0.4444444444444444,
              "#bd3786"
             ],
             [
              0.5555555555555556,
              "#d8576b"
             ],
             [
              0.6666666666666666,
              "#ed7953"
             ],
             [
              0.7777777777777778,
              "#fb9f3a"
             ],
             [
              0.8888888888888888,
              "#fdca26"
             ],
             [
              1,
              "#f0f921"
             ]
            ],
            "type": "histogram2dcontour"
           }
          ],
          "mesh3d": [
           {
            "colorbar": {
             "outlinewidth": 0,
             "ticks": ""
            },
            "type": "mesh3d"
           }
          ],
          "parcoords": [
           {
            "line": {
             "colorbar": {
              "outlinewidth": 0,
              "ticks": ""
             }
            },
            "type": "parcoords"
           }
          ],
          "pie": [
           {
            "automargin": true,
            "type": "pie"
           }
          ],
          "scatter": [
           {
            "fillpattern": {
             "fillmode": "overlay",
             "size": 10,
             "solidity": 0.2
            },
            "type": "scatter"
           }
          ],
          "scatter3d": [
           {
            "line": {
             "colorbar": {
              "outlinewidth": 0,
              "ticks": ""
             }
            },
            "marker": {
             "colorbar": {
              "outlinewidth": 0,
              "ticks": ""
             }
            },
            "type": "scatter3d"
           }
          ],
          "scattercarpet": [
           {
            "marker": {
             "colorbar": {
              "outlinewidth": 0,
              "ticks": ""
             }
            },
            "type": "scattercarpet"
           }
          ],
          "scattergeo": [
           {
            "marker": {
             "colorbar": {
              "outlinewidth": 0,
              "ticks": ""
             }
            },
            "type": "scattergeo"
           }
          ],
          "scattergl": [
           {
            "marker": {
             "colorbar": {
              "outlinewidth": 0,
              "ticks": ""
             }
            },
            "type": "scattergl"
           }
          ],
          "scattermapbox": [
           {
            "marker": {
             "colorbar": {
              "outlinewidth": 0,
              "ticks": ""
             }
            },
            "type": "scattermapbox"
           }
          ],
          "scatterpolar": [
           {
            "marker": {
             "colorbar": {
              "outlinewidth": 0,
              "ticks": ""
             }
            },
            "type": "scatterpolar"
           }
          ],
          "scatterpolargl": [
           {
            "marker": {
             "colorbar": {
              "outlinewidth": 0,
              "ticks": ""
             }
            },
            "type": "scatterpolargl"
           }
          ],
          "scatterternary": [
           {
            "marker": {
             "colorbar": {
              "outlinewidth": 0,
              "ticks": ""
             }
            },
            "type": "scatterternary"
           }
          ],
          "surface": [
           {
            "colorbar": {
             "outlinewidth": 0,
             "ticks": ""
            },
            "colorscale": [
             [
              0,
              "#0d0887"
             ],
             [
              0.1111111111111111,
              "#46039f"
             ],
             [
              0.2222222222222222,
              "#7201a8"
             ],
             [
              0.3333333333333333,
              "#9c179e"
             ],
             [
              0.4444444444444444,
              "#bd3786"
             ],
             [
              0.5555555555555556,
              "#d8576b"
             ],
             [
              0.6666666666666666,
              "#ed7953"
             ],
             [
              0.7777777777777778,
              "#fb9f3a"
             ],
             [
              0.8888888888888888,
              "#fdca26"
             ],
             [
              1,
              "#f0f921"
             ]
            ],
            "type": "surface"
           }
          ],
          "table": [
           {
            "cells": {
             "fill": {
              "color": "#EBF0F8"
             },
             "line": {
              "color": "white"
             }
            },
            "header": {
             "fill": {
              "color": "#C8D4E3"
             },
             "line": {
              "color": "white"
             }
            },
            "type": "table"
           }
          ]
         },
         "layout": {
          "annotationdefaults": {
           "arrowcolor": "#2a3f5f",
           "arrowhead": 0,
           "arrowwidth": 1
          },
          "autotypenumbers": "strict",
          "coloraxis": {
           "colorbar": {
            "outlinewidth": 0,
            "ticks": ""
           }
          },
          "colorscale": {
           "diverging": [
            [
             0,
             "#8e0152"
            ],
            [
             0.1,
             "#c51b7d"
            ],
            [
             0.2,
             "#de77ae"
            ],
            [
             0.3,
             "#f1b6da"
            ],
            [
             0.4,
             "#fde0ef"
            ],
            [
             0.5,
             "#f7f7f7"
            ],
            [
             0.6,
             "#e6f5d0"
            ],
            [
             0.7,
             "#b8e186"
            ],
            [
             0.8,
             "#7fbc41"
            ],
            [
             0.9,
             "#4d9221"
            ],
            [
             1,
             "#276419"
            ]
           ],
           "sequential": [
            [
             0,
             "#0d0887"
            ],
            [
             0.1111111111111111,
             "#46039f"
            ],
            [
             0.2222222222222222,
             "#7201a8"
            ],
            [
             0.3333333333333333,
             "#9c179e"
            ],
            [
             0.4444444444444444,
             "#bd3786"
            ],
            [
             0.5555555555555556,
             "#d8576b"
            ],
            [
             0.6666666666666666,
             "#ed7953"
            ],
            [
             0.7777777777777778,
             "#fb9f3a"
            ],
            [
             0.8888888888888888,
             "#fdca26"
            ],
            [
             1,
             "#f0f921"
            ]
           ],
           "sequentialminus": [
            [
             0,
             "#0d0887"
            ],
            [
             0.1111111111111111,
             "#46039f"
            ],
            [
             0.2222222222222222,
             "#7201a8"
            ],
            [
             0.3333333333333333,
             "#9c179e"
            ],
            [
             0.4444444444444444,
             "#bd3786"
            ],
            [
             0.5555555555555556,
             "#d8576b"
            ],
            [
             0.6666666666666666,
             "#ed7953"
            ],
            [
             0.7777777777777778,
             "#fb9f3a"
            ],
            [
             0.8888888888888888,
             "#fdca26"
            ],
            [
             1,
             "#f0f921"
            ]
           ]
          },
          "colorway": [
           "#636efa",
           "#EF553B",
           "#00cc96",
           "#ab63fa",
           "#FFA15A",
           "#19d3f3",
           "#FF6692",
           "#B6E880",
           "#FF97FF",
           "#FECB52"
          ],
          "font": {
           "color": "#2a3f5f"
          },
          "geo": {
           "bgcolor": "white",
           "lakecolor": "white",
           "landcolor": "#E5ECF6",
           "showlakes": true,
           "showland": true,
           "subunitcolor": "white"
          },
          "hoverlabel": {
           "align": "left"
          },
          "hovermode": "closest",
          "mapbox": {
           "style": "light"
          },
          "paper_bgcolor": "white",
          "plot_bgcolor": "#E5ECF6",
          "polar": {
           "angularaxis": {
            "gridcolor": "white",
            "linecolor": "white",
            "ticks": ""
           },
           "bgcolor": "#E5ECF6",
           "radialaxis": {
            "gridcolor": "white",
            "linecolor": "white",
            "ticks": ""
           }
          },
          "scene": {
           "xaxis": {
            "backgroundcolor": "#E5ECF6",
            "gridcolor": "white",
            "gridwidth": 2,
            "linecolor": "white",
            "showbackground": true,
            "ticks": "",
            "zerolinecolor": "white"
           },
           "yaxis": {
            "backgroundcolor": "#E5ECF6",
            "gridcolor": "white",
            "gridwidth": 2,
            "linecolor": "white",
            "showbackground": true,
            "ticks": "",
            "zerolinecolor": "white"
           },
           "zaxis": {
            "backgroundcolor": "#E5ECF6",
            "gridcolor": "white",
            "gridwidth": 2,
            "linecolor": "white",
            "showbackground": true,
            "ticks": "",
            "zerolinecolor": "white"
           }
          },
          "shapedefaults": {
           "line": {
            "color": "#2a3f5f"
           }
          },
          "ternary": {
           "aaxis": {
            "gridcolor": "white",
            "linecolor": "white",
            "ticks": ""
           },
           "baxis": {
            "gridcolor": "white",
            "linecolor": "white",
            "ticks": ""
           },
           "bgcolor": "#E5ECF6",
           "caxis": {
            "gridcolor": "white",
            "linecolor": "white",
            "ticks": ""
           }
          },
          "title": {
           "x": 0.05
          },
          "xaxis": {
           "automargin": true,
           "gridcolor": "white",
           "linecolor": "white",
           "ticks": "",
           "title": {
            "standoff": 15
           },
           "zerolinecolor": "white",
           "zerolinewidth": 2
          },
          "yaxis": {
           "automargin": true,
           "gridcolor": "white",
           "linecolor": "white",
           "ticks": "",
           "title": {
            "standoff": 15
           },
           "zerolinecolor": "white",
           "zerolinewidth": 2
          }
         }
        },
        "title": {
         "text": "Процент бедности"
        },
        "xaxis": {
         "anchor": "y",
         "autorange": true,
         "domain": [
          0,
          1
         ],
         "range": [
          0,
          84
         ],
         "title": {
          "text": "Регион"
         },
         "type": "category"
        },
        "yaxis": {
         "anchor": "x",
         "autorange": true,
         "domain": [
          0,
          1
         ],
         "range": [
          5.535,
          42.835
         ],
         "title": {
          "text": "Poverty_percent"
         },
         "type": "linear"
        }
       }
      },
      "image/png": "[encoded data removed]",
      "text/html": [
       "<div>                            <div id=\"eaf520c0-3fa4-444c-b7e0-ab83c5fdb24d\" class=\"plotly-graph-div\" style=\"height:525px; width:900px;\"></div>            <script type=\"text/javascript\">                require([\"plotly\"], function(Plotly) {                    window.PLOTLYENV=window.PLOTLYENV || {};                                    if (document.getElementById(\"eaf520c0-3fa4-444c-b7e0-ab83c5fdb24d\")) {                    Plotly.newPlot(                        \"eaf520c0-3fa4-444c-b7e0-ab83c5fdb24d\",                        [{\"hovertemplate\":\"\\u0420\\u0435\\u0433\\u0438\\u043e\\u043d=%{x}<br>Poverty_percent=%{y}<extra></extra>\",\"legendgroup\":\"\",\"line\":{\"color\":\"#636efa\",\"dash\":\"solid\"},\"marker\":{\"symbol\":\"circle\"},\"mode\":\"lines\",\"name\":\"\",\"orientation\":\"v\",\"showlegend\":false,\"x\":[\"\\u0410\\u043b\\u0442\\u0430\\u0439\\u0441\\u043a\\u0438\\u0439 \\u043a\\u0440\\u0430\\u0439\",\"\\u0410\\u043c\\u0443\\u0440\\u0441\\u043a\\u0430\\u044f \\u043e\\u0431\\u043b\\u0430\\u0441\\u0442\\u044c\",\"\\u0410\\u0440\\u0445\\u0430\\u043d\\u0433\\u0435\\u043b\\u044c\\u0441\\u043a\\u0430\\u044f \\u043e\\u0431\\u043b\\u0430\\u0441\\u0442\\u044c\",\"\\u0410\\u0441\\u0442\\u0440\\u0430\\u0445\\u0430\\u043d\\u0441\\u043a\\u0430\\u044f \\u043e\\u0431\\u043b\\u0430\\u0441\\u0442\\u044c\",\"\\u0411\\u0435\\u043b\\u0433\\u043e\\u0440\\u043e\\u0434\\u0441\\u043a\\u0430\\u044f \\u043e\\u0431\\u043b\\u0430\\u0441\\u0442\\u044c\",\"\\u0411\\u0440\\u044f\\u043d\\u0441\\u043a\\u0430\\u044f \\u043e\\u0431\\u043b\\u0430\\u0441\\u0442\\u044c\",\"\\u0412\\u043b\\u0430\\u0434\\u0438\\u043c\\u0438\\u0440\\u0441\\u043a\\u0430\\u044f \\u043e\\u0431\\u043b\\u0430\\u0441\\u0442\\u044c\",\"\\u0412\\u043e\\u043b\\u0433\\u043e\\u0433\\u0440\\u0430\\u0434\\u0441\\u043a\\u0430\\u044f \\u043e\\u0431\\u043b\\u0430\\u0441\\u0442\\u044c\",\"\\u0412\\u043e\\u043b\\u043e\\u0433\\u043e\\u0434\\u0441\\u043a\\u0430\\u044f \\u043e\\u0431\\u043b\\u0430\\u0441\\u0442\\u044c\",\"\\u0412\\u043e\\u0440\\u043e\\u043d\\u0435\\u0436\\u0441\\u043a\\u0430\\u044f \\u043e\\u0431\\u043b\\u0430\\u0441\\u0442\\u044c\",\"\\u0413\\u043e\\u0440\\u043e\\u0434 \\u041c\\u043e\\u0441\\u043a\\u0432\\u0430\",\"\\u0413\\u043e\\u0440\\u043e\\u0434 \\u0421\\u0430\\u043d\\u043a\\u0442-\\u041f\\u0435\\u0442\\u0435\\u0440\\u0431\\u0443\\u0440\\u0433\",\"\\u0413\\u043e\\u0440\\u043e\\u0434 \\u0421\\u0435\\u0432\\u0430\\u0441\\u0442\\u043e\\u043f\\u043e\\u043b\\u044c\",\"\\u0415\\u0432\\u0440\\u0435\\u0439\\u0441\\u043a\\u0430\\u044f \\u0430\\u0432\\u0442\\u043e\\u043d\\u043e\\u043c\\u043d\\u0430\\u044f \\u043e\\u0431\\u043b\\u0430\\u0441\\u0442\\u044c\",\"\\u0417\\u0430\\u0431\\u0430\\u0439\\u043a\\u0430\\u043b\\u044c\\u0441\\u043a\\u0438\\u0439 \\u043a\\u0440\\u0430\\u0439\",\"\\u0418\\u0432\\u0430\\u043d\\u043e\\u0432\\u0441\\u043a\\u0430\\u044f \\u043e\\u0431\\u043b\\u0430\\u0441\\u0442\\u044c\",\"\\u0418\\u0440\\u043a\\u0443\\u0442\\u0441\\u043a\\u0430\\u044f \\u043e\\u0431\\u043b\\u0430\\u0441\\u0442\\u044c\",\"\\u041a\\u0430\\u0431\\u0430\\u0440\\u0434\\u0438\\u043d\\u043e-\\u0411\\u0430\\u043b\\u043a\\u0430\\u0440\\u0441\\u043a\\u0430\\u044f \\u0420\\u0435\\u0441\\u043f\\u0443\\u0431\\u043b\\u0438\\u043a\\u0430\",\"\\u041a\\u0430\\u043b\\u0438\\u043d\\u0438\\u043d\\u0433\\u0440\\u0430\\u0434\\u0441\\u043a\\u0430\\u044f \\u043e\\u0431\\u043b\\u0430\\u0441\\u0442\\u044c\",\"\\u041a\\u0430\\u043b\\u0443\\u0436\\u0441\\u043a\\u0430\\u044f \\u043e\\u0431\\u043b\\u0430\\u0441\\u0442\\u044c\",\"\\u041a\\u0430\\u043c\\u0447\\u0430\\u0442\\u0441\\u043a\\u0438\\u0439 \\u043a\\u0440\\u0430\\u0439\",\"\\u041a\\u0430\\u0440\\u0430\\u0447\\u0430\\u0435\\u0432\\u043e-\\u0427\\u0435\\u0440\\u043a\\u0435\\u0441\\u0441\\u043a\\u0430\\u044f \\u0420\\u0435\\u0441\\u043f\\u0443\\u0431\\u043b\\u0438\\u043a\\u0430\",\"\\u041a\\u0435\\u043c\\u0435\\u0440\\u043e\\u0432\\u0441\\u043a\\u0430\\u044f \\u043e\\u0431\\u043b\\u0430\\u0441\\u0442\\u044c\",\"\\u041a\\u0438\\u0440\\u043e\\u0432\\u0441\\u043a\\u0430\\u044f \\u043e\\u0431\\u043b\\u0430\\u0441\\u0442\\u044c\",\"\\u041a\\u043e\\u0441\\u0442\\u0440\\u043e\\u043c\\u0441\\u043a\\u0430\\u044f \\u043e\\u0431\\u043b\\u0430\\u0441\\u0442\\u044c\",\"\\u041a\\u0440\\u0430\\u0441\\u043d\\u043e\\u0434\\u0430\\u0440\\u0441\\u043a\\u0438\\u0439 \\u043a\\u0440\\u0430\\u0439\",\"\\u041a\\u0440\\u0430\\u0441\\u043d\\u043e\\u044f\\u0440\\u0441\\u043a\\u0438\\u0439 \\u043a\\u0440\\u0430\\u0439\",\"\\u041a\\u0443\\u0440\\u0433\\u0430\\u043d\\u0441\\u043a\\u0430\\u044f \\u043e\\u0431\\u043b\\u0430\\u0441\\u0442\\u044c\",\"\\u041a\\u0443\\u0440\\u0441\\u043a\\u0430\\u044f \\u043e\\u0431\\u043b\\u0430\\u0441\\u0442\\u044c\",\"\\u041b\\u0435\\u043d\\u0438\\u043d\\u0433\\u0440\\u0430\\u0434\\u0441\\u043a\\u0430\\u044f \\u043e\\u0431\\u043b\\u0430\\u0441\\u0442\\u044c\",\"\\u041b\\u0438\\u043f\\u0435\\u0446\\u043a\\u0430\\u044f \\u043e\\u0431\\u043b\\u0430\\u0441\\u0442\\u044c\",\"\\u041c\\u0430\\u0433\\u0430\\u0434\\u0430\\u043d\\u0441\\u043a\\u0430\\u044f \\u043e\\u0431\\u043b\\u0430\\u0441\\u0442\\u044c\",\"\\u041c\\u043e\\u0441\\u043a\\u043e\\u0432\\u0441\\u043a\\u0430\\u044f \\u043e\\u0431\\u043b\\u0430\\u0441\\u0442\\u044c\",\"\\u041c\\u0443\\u0440\\u043c\\u0430\\u043d\\u0441\\u043a\\u0430\\u044f \\u043e\\u0431\\u043b\\u0430\\u0441\\u0442\\u044c\",\"\\u041d\\u0435\\u043d\\u0435\\u0446\\u043a\\u0438\\u0439 \\u0430\\u0432\\u0442\\u043e\\u043d\\u043e\\u043c\\u043d\\u044b\\u0439 \\u043e\\u043a\\u0440\\u0443\\u0433\",\"\\u041d\\u0438\\u0436\\u0435\\u0433\\u043e\\u0440\\u043e\\u0434\\u0441\\u043a\\u0430\\u044f \\u043e\\u0431\\u043b\\u0430\\u0441\\u0442\\u044c\",\"\\u041d\\u043e\\u0432\\u0433\\u043e\\u0440\\u043e\\u0434\\u0441\\u043a\\u0430\\u044f \\u043e\\u0431\\u043b\\u0430\\u0441\\u0442\\u044c\",\"\\u041d\\u043e\\u0432\\u043e\\u0441\\u0438\\u0431\\u0438\\u0440\\u0441\\u043a\\u0430\\u044f \\u043e\\u0431\\u043b\\u0430\\u0441\\u0442\\u044c\",\"\\u041e\\u043c\\u0441\\u043a\\u0430\\u044f \\u043e\\u0431\\u043b\\u0430\\u0441\\u0442\\u044c\",\"\\u041e\\u0440\\u0435\\u043d\\u0431\\u0443\\u0440\\u0433\\u0441\\u043a\\u0430\\u044f \\u043e\\u0431\\u043b\\u0430\\u0441\\u0442\\u044c\",\"\\u041e\\u0440\\u043b\\u043e\\u0432\\u0441\\u043a\\u0430\\u044f \\u043e\\u0431\\u043b\\u0430\\u0441\\u0442\\u044c\",\"\\u041f\\u0435\\u043d\\u0437\\u0435\\u043d\\u0441\\u043a\\u0430\\u044f \\u043e\\u0431\\u043b\\u0430\\u0441\\u0442\\u044c\",\"\\u041f\\u0435\\u0440\\u043c\\u0441\\u043a\\u0438\\u0439 \\u043a\\u0440\\u0430\\u0439\",\"\\u041f\\u0440\\u0438\\u043c\\u043e\\u0440\\u0441\\u043a\\u0438\\u0439 \\u043a\\u0440\\u0430\\u0439\",\"\\u041f\\u0441\\u043a\\u043e\\u0432\\u0441\\u043a\\u0430\\u044f \\u043e\\u0431\\u043b\\u0430\\u0441\\u0442\\u044c\",\"\\u0420\\u0435\\u0441\\u043f\\u0443\\u0431\\u043b\\u0438\\u043a\\u0430 \\u0410\\u0434\\u044b\\u0433\\u0435\\u044f\",\"\\u0420\\u0435\\u0441\\u043f\\u0443\\u0431\\u043b\\u0438\\u043a\\u0430 \\u0410\\u043b\\u0442\\u0430\\u0439\",\"\\u0420\\u0435\\u0441\\u043f\\u0443\\u0431\\u043b\\u0438\\u043a\\u0430 \\u0411\\u0430\\u0448\\u043a\\u043e\\u0440\\u0442\\u043e\\u0441\\u0442\\u0430\\u043d\",\"\\u0420\\u0435\\u0441\\u043f\\u0443\\u0431\\u043b\\u0438\\u043a\\u0430 \\u0411\\u0443\\u0440\\u044f\\u0442\\u0438\\u044f\",\"\\u0420\\u0435\\u0441\\u043f\\u0443\\u0431\\u043b\\u0438\\u043a\\u0430 \\u0414\\u0430\\u0433\\u0435\\u0441\\u0442\\u0430\\u043d\",\"\\u0420\\u0435\\u0441\\u043f\\u0443\\u0431\\u043b\\u0438\\u043a\\u0430 \\u0418\\u043d\\u0433\\u0443\\u0448\\u0435\\u0442\\u0438\\u044f\",\"\\u0420\\u0435\\u0441\\u043f\\u0443\\u0431\\u043b\\u0438\\u043a\\u0430 \\u041a\\u0430\\u043b\\u043c\\u044b\\u043a\\u0438\\u044f\",\"\\u0420\\u0435\\u0441\\u043f\\u0443\\u0431\\u043b\\u0438\\u043a\\u0430 \\u041a\\u0430\\u0440\\u0435\\u043b\\u0438\\u044f\",\"\\u0420\\u0435\\u0441\\u043f\\u0443\\u0431\\u043b\\u0438\\u043a\\u0430 \\u041a\\u043e\\u043c\\u0438\",\"\\u0420\\u0435\\u0441\\u043f\\u0443\\u0431\\u043b\\u0438\\u043a\\u0430 \\u041a\\u0440\\u044b\\u043c\",\"\\u0420\\u0435\\u0441\\u043f\\u0443\\u0431\\u043b\\u0438\\u043a\\u0430 \\u041c\\u0430\\u0440\\u0438\\u0439 \\u042d\\u043b\",\"\\u0420\\u0435\\u0441\\u043f\\u0443\\u0431\\u043b\\u0438\\u043a\\u0430 \\u041c\\u043e\\u0440\\u0434\\u043e\\u0432\\u0438\\u044f\",\"\\u0420\\u0435\\u0441\\u043f\\u0443\\u0431\\u043b\\u0438\\u043a\\u0430 \\u0421\\u0430\\u0445\\u0430 (\\u042f\\u043a\\u0443\\u0442\\u0438\\u044f)\",\"\\u0420\\u0435\\u0441\\u043f\\u0443\\u0431\\u043b\\u0438\\u043a\\u0430 \\u0421\\u0435\\u0432\\u0435\\u0440\\u043d\\u0430\\u044f \\u041e\\u0441\\u0435\\u0442\\u0438\\u044f-\\u0410\\u043b\\u0430\\u043d\\u0438\\u044f\",\"\\u0420\\u0435\\u0441\\u043f\\u0443\\u0431\\u043b\\u0438\\u043a\\u0430 \\u0422\\u0430\\u0442\\u0430\\u0440\\u0441\\u0442\\u0430\\u043d\",\"\\u0420\\u0435\\u0441\\u043f\\u0443\\u0431\\u043b\\u0438\\u043a\\u0430 \\u0422\\u044b\\u0432\\u0430\",\"\\u0420\\u0435\\u0441\\u043f\\u0443\\u0431\\u043b\\u0438\\u043a\\u0430 \\u0425\\u0430\\u043a\\u0430\\u0441\\u0438\\u044f\",\"\\u0420\\u043e\\u0441\\u0442\\u043e\\u0432\\u0441\\u043a\\u0430\\u044f \\u043e\\u0431\\u043b\\u0430\\u0441\\u0442\\u044c\",\"\\u0420\\u044f\\u0437\\u0430\\u043d\\u0441\\u043a\\u0430\\u044f \\u043e\\u0431\\u043b\\u0430\\u0441\\u0442\\u044c\",\"\\u0421\\u0430\\u043c\\u0430\\u0440\\u0441\\u043a\\u0430\\u044f \\u043e\\u0431\\u043b\\u0430\\u0441\\u0442\\u044c\",\"\\u0421\\u0430\\u0440\\u0430\\u0442\\u043e\\u0432\\u0441\\u043a\\u0430\\u044f \\u043e\\u0431\\u043b\\u0430\\u0441\\u0442\\u044c\",\"\\u0421\\u0430\\u0445\\u0430\\u043b\\u0438\\u043d\\u0441\\u043a\\u0430\\u044f \\u043e\\u0431\\u043b\\u0430\\u0441\\u0442\\u044c\",\"\\u0421\\u0432\\u0435\\u0440\\u0434\\u043b\\u043e\\u0432\\u0441\\u043a\\u0430\\u044f \\u043e\\u0431\\u043b\\u0430\\u0441\\u0442\\u044c\",\"\\u0421\\u043c\\u043e\\u043b\\u0435\\u043d\\u0441\\u043a\\u0430\\u044f \\u043e\\u0431\\u043b\\u0430\\u0441\\u0442\\u044c\",\"\\u0421\\u0442\\u0430\\u0432\\u0440\\u043e\\u043f\\u043e\\u043b\\u044c\\u0441\\u043a\\u0438\\u0439 \\u043a\\u0440\\u0430\\u0439\",\"\\u0422\\u0430\\u043c\\u0431\\u043e\\u0432\\u0441\\u043a\\u0430\\u044f \\u043e\\u0431\\u043b\\u0430\\u0441\\u0442\\u044c\",\"\\u0422\\u0432\\u0435\\u0440\\u0441\\u043a\\u0430\\u044f \\u043e\\u0431\\u043b\\u0430\\u0441\\u0442\\u044c\",\"\\u0422\\u043e\\u043c\\u0441\\u043a\\u0430\\u044f \\u043e\\u0431\\u043b\\u0430\\u0441\\u0442\\u044c\",\"\\u0422\\u0443\\u043b\\u044c\\u0441\\u043a\\u0430\\u044f \\u043e\\u0431\\u043b\\u0430\\u0441\\u0442\\u044c\",\"\\u0422\\u044e\\u043c\\u0435\\u043d\\u0441\\u043a\\u0430\\u044f \\u043e\\u0431\\u043b\\u0430\\u0441\\u0442\\u044c\",\"\\u0423\\u0434\\u043c\\u0443\\u0440\\u0442\\u0441\\u043a\\u0430\\u044f \\u0420\\u0435\\u0441\\u043f\\u0443\\u0431\\u043b\\u0438\\u043a\\u0430\",\"\\u0423\\u043b\\u044c\\u044f\\u043d\\u043e\\u0432\\u0441\\u043a\\u0430\\u044f \\u043e\\u0431\\u043b\\u0430\\u0441\\u0442\\u044c\",\"\\u0425\\u0430\\u0431\\u0430\\u0440\\u043e\\u0432\\u0441\\u043a\\u0438\\u0439 \\u043a\\u0440\\u0430\\u0439\",\"\\u0425\\u0430\\u043d\\u0442\\u044b-\\u041c\\u0430\\u043d\\u0441\\u0438\\u0439\\u0441\\u043a\\u0438\\u0439 \\u0430\\u0432\\u0442\\u043e\\u043d\\u043e\\u043c\\u043d\\u044b\\u0439 \\u043e\\u043a\\u0440\\u0443\\u0433 - \\u042e\\u0433\\u0440\\u0430\",\"\\u0427\\u0435\\u043b\\u044f\\u0431\\u0438\\u043d\\u0441\\u043a\\u0430\\u044f \\u043e\\u0431\\u043b\\u0430\\u0441\\u0442\\u044c\",\"\\u0427\\u0435\\u0447\\u0435\\u043d\\u0441\\u043a\\u0430\\u044f \\u0420\\u0435\\u0441\\u043f\\u0443\\u0431\\u043b\\u0438\\u043a\\u0430\",\"\\u0427\\u0443\\u0432\\u0430\\u0448\\u0441\\u043a\\u0430\\u044f \\u0420\\u0435\\u0441\\u043f\\u0443\\u0431\\u043b\\u0438\\u043a\\u0430\",\"\\u0427\\u0443\\u043a\\u043e\\u0442\\u0441\\u043a\\u0438\\u0439 \\u0430\\u0432\\u0442\\u043e\\u043d\\u043e\\u043c\\u043d\\u044b\\u0439 \\u043e\\u043a\\u0440\\u0443\\u0433\",\"\\u042f\\u043c\\u0430\\u043b\\u043e-\\u041d\\u0435\\u043d\\u0435\\u0446\\u043a\\u0438\\u0439 \\u0430\\u0432\\u0442\\u043e\\u043d\\u043e\\u043c\\u043d\\u044b\\u0439 \\u043e\\u043a\\u0440\\u0443\\u0433\",\"\\u042f\\u0440\\u043e\\u0441\\u043b\\u0430\\u0432\\u0441\\u043a\\u0430\\u044f \\u043e\\u0431\\u043b\\u0430\\u0441\\u0442\\u044c\"],\"xaxis\":\"x\",\"y\":[24.25,24.29,18.82,17.65,13.47,18.6,21.38,16.45,16.46,18.22,12.05,11.44,18.12,26.86,26.11,28.82,21.5,24.42,18.15,17.04,18.05,26.21,15.05,20.78,19.84,18.7,18.92,24.81,16.55,18.45,13.3,15.39,13.82,14.93,11.3,14.88,18.76,21.38,16.92,19.06,19.1,20.8,15.93,23.34,19.69,21.63,29.44,15.01,25.64,22.5,40.97,38.44,16.35,16.24,20.23,30.03,25.12,19.56,17.52,11.78,38.39,22.3,17.39,19.24,16.86,21.29,15.64,13.02,18.42,21.38,15.8,19.11,16.75,14.45,18.71,17.91,22.03,17.84,9.86,15.75,13.2,23.28,14.71,7.4,14.73],\"yaxis\":\"y\",\"type\":\"scatter\"}],                        {\"template\":{\"data\":{\"histogram2dcontour\":[{\"type\":\"histogram2dcontour\",\"colorbar\":{\"outlinewidth\":0,\"ticks\":\"\"},\"colorscale\":[[0.0,\"#0d0887\"],[0.1111111111111111,\"#46039f\"],[0.2222222222222222,\"#7201a8\"],[0.3333333333333333,\"#9c179e\"],[0.4444444444444444,\"#bd3786\"],[0.5555555555555556,\"#d8576b\"],[0.6666666666666666,\"#ed7953\"],[0.7777777777777778,\"#fb9f3a\"],[0.8888888888888888,\"#fdca26\"],[1.0,\"#f0f921\"]]}],\"choropleth\":[{\"type\":\"choropleth\",\"colorbar\":{\"outlinewidth\":0,\"ticks\":\"\"}}],\"histogram2d\":[{\"type\":\"histogram2d\",\"colorbar\":{\"outlinewidth\":0,\"ticks\":\"\"},\"colorscale\":[[0.0,\"#0d0887\"],[0.1111111111111111,\"#46039f\"],[0.2222222222222222,\"#7201a8\"],[0.3333333333333333,\"#9c179e\"],[0.4444444444444444,\"#bd3786\"],[0.5555555555555556,\"#d8576b\"],[0.6666666666666666,\"#ed7953\"],[0.7777777777777778,\"#fb9f3a\"],[0.8888888888888888,\"#fdca26\"],[1.0,\"#f0f921\"]]}],\"heatmap\":[{\"type\":\"heatmap\",\"colorbar\":{\"outlinewidth\":0,\"ticks\":\"\"},\"colorscale\":[[0.0,\"#0d0887\"],[0.1111111111111111,\"#46039f\"],[0.2222222222222222,\"#7201a8\"],[0.3333333333333333,\"#9c179e\"],[0.4444444444444444,\"#bd3786\"],[0.5555555555555556,\"#d8576b\"],[0.6666666666666666,\"#ed7953\"],[0.7777777777777778,\"#fb9f3a\"],[0.8888888888888888,\"#fdca26\"],[1.0,\"#f0f921\"]]}],\"heatmapgl\":[{\"type\":\"heatmapgl\",\"colorbar\":{\"outlinewidth\":0,\"ticks\":\"\"},\"colorscale\":[[0.0,\"#0d0887\"],[0.1111111111111111,\"#46039f\"],[0.2222222222222222,\"#7201a8\"],[0.3333333333333333,\"#9c179e\"],[0.4444444444444444,\"#bd3786\"],[0.5555555555555556,\"#d8576b\"],[0.6666666666666666,\"#ed7953\"],[0.7777777777777778,\"#fb9f3a\"],[0.8888888888888888,\"#fdca26\"],[1.0,\"#f0f921\"]]}],\"contourcarpet\":[{\"type\":\"contourcarpet\",\"colorbar\":{\"outlinewidth\":0,\"ticks\":\"\"}}],\"contour\":[{\"type\":\"contour\",\"colorbar\":{\"outlinewidth\":0,\"ticks\":\"\"},\"colorscale\":[[0.0,\"#0d0887\"],[0.1111111111111111,\"#46039f\"],[0.2222222222222222,\"#7201a8\"],[0.3333333333333333,\"#9c179e\"],[0.4444444444444444,\"#bd3786\"],[0.5555555555555556,\"#d8576b\"],[0.6666666666666666,\"#ed7953\"],[0.7777777777777778,\"#fb9f3a\"],[0.8888888888888888,\"#fdca26\"],[1.0,\"#f0f921\"]]}],\"surface\":[{\"type\":\"surface\",\"colorbar\":{\"outlinewidth\":0,\"ticks\":\"\"},\"colorscale\":[[0.0,\"#0d0887\"],[0.1111111111111111,\"#46039f\"],[0.2222222222222222,\"#7201a8\"],[0.3333333333333333,\"#9c179e\"],[0.4444444444444444,\"#bd3786\"],[0.5555555555555556,\"#d8576b\"],[0.6666666666666666,\"#ed7953\"],[0.7777777777777778,\"#fb9f3a\"],[0.8888888888888888,\"#fdca26\"],[1.0,\"#f0f921\"]]}],\"mesh3d\":[{\"type\":\"mesh3d\",\"colorbar\":{\"outlinewidth\":0,\"ticks\":\"\"}}],\"scatter\":[{\"fillpattern\":{\"fillmode\":\"overlay\",\"size\":10,\"solidity\":0.2},\"type\":\"scatter\"}],\"parcoords\":[{\"type\":\"parcoords\",\"line\":{\"colorbar\":{\"outlinewidth\":0,\"ticks\":\"\"}}}],\"scatterpolargl\":[{\"type\":\"scatterpolargl\",\"marker\":{\"colorbar\":{\"outlinewidth\":0,\"ticks\":\"\"}}}],\"bar\":[{\"error_x\":{\"color\":\"#2a3f5f\"},\"error_y\":{\"color\":\"#2a3f5f\"},\"marker\":{\"line\":{\"color\":\"#E5ECF6\",\"width\":0.5},\"pattern\":{\"fillmode\":\"overlay\",\"size\":10,\"solidity\":0.2}},\"type\":\"bar\"}],\"scattergeo\":[{\"type\":\"scattergeo\",\"marker\":{\"colorbar\":{\"outlinewidth\":0,\"ticks\":\"\"}}}],\"scatterpolar\":[{\"type\":\"scatterpolar\",\"marker\":{\"colorbar\":{\"outlinewidth\":0,\"ticks\":\"\"}}}],\"histogram\":[{\"marker\":{\"pattern\":{\"fillmode\":\"overlay\",\"size\":10,\"solidity\":0.2}},\"type\":\"histogram\"}],\"scattergl\":[{\"type\":\"scattergl\",\"marker\":{\"colorbar\":{\"outlinewidth\":0,\"ticks\":\"\"}}}],\"scatter3d\":[{\"type\":\"scatter3d\",\"line\":{\"colorbar\":{\"outlinewidth\":0,\"ticks\":\"\"}},\"marker\":{\"colorbar\":{\"outlinewidth\":0,\"ticks\":\"\"}}}],\"scattermapbox\":[{\"type\":\"scattermapbox\",\"marker\":{\"colorbar\":{\"outlinewidth\":0,\"ticks\":\"\"}}}],\"scatterternary\":[{\"type\":\"scatterternary\",\"marker\":{\"colorbar\":{\"outlinewidth\":0,\"ticks\":\"\"}}}],\"scattercarpet\":[{\"type\":\"scattercarpet\",\"marker\":{\"colorbar\":{\"outlinewidth\":0,\"ticks\":\"\"}}}],\"carpet\":[{\"aaxis\":{\"endlinecolor\":\"#2a3f5f\",\"gridcolor\":\"white\",\"linecolor\":\"white\",\"minorgridcolor\":\"white\",\"startlinecolor\":\"#2a3f5f\"},\"baxis\":{\"endlinecolor\":\"#2a3f5f\",\"gridcolor\":\"white\",\"linecolor\":\"white\",\"minorgridcolor\":\"white\",\"startlinecolor\":\"#2a3f5f\"},\"type\":\"carpet\"}],\"table\":[{\"cells\":{\"fill\":{\"color\":\"#EBF0F8\"},\"line\":{\"color\":\"white\"}},\"header\":{\"fill\":{\"color\":\"#C8D4E3\"},\"line\":{\"color\":\"white\"}},\"type\":\"table\"}],\"barpolar\":[{\"marker\":{\"line\":{\"color\":\"#E5ECF6\",\"width\":0.5},\"pattern\":{\"fillmode\":\"overlay\",\"size\":10,\"solidity\":0.2}},\"type\":\"barpolar\"}],\"pie\":[{\"automargin\":true,\"type\":\"pie\"}]},\"layout\":{\"autotypenumbers\":\"strict\",\"colorway\":[\"#636efa\",\"#EF553B\",\"#00cc96\",\"#ab63fa\",\"#FFA15A\",\"#19d3f3\",\"#FF6692\",\"#B6E880\",\"#FF97FF\",\"#FECB52\"],\"font\":{\"color\":\"#2a3f5f\"},\"hovermode\":\"closest\",\"hoverlabel\":{\"align\":\"left\"},\"paper_bgcolor\":\"white\",\"plot_bgcolor\":\"#E5ECF6\",\"polar\":{\"bgcolor\":\"#E5ECF6\",\"angularaxis\":{\"gridcolor\":\"white\",\"linecolor\":\"white\",\"ticks\":\"\"},\"radialaxis\":{\"gridcolor\":\"white\",\"linecolor\":\"white\",\"ticks\":\"\"}},\"ternary\":{\"bgcolor\":\"#E5ECF6\",\"aaxis\":{\"gridcolor\":\"white\",\"linecolor\":\"white\",\"ticks\":\"\"},\"baxis\":{\"gridcolor\":\"white\",\"linecolor\":\"white\",\"ticks\":\"\"},\"caxis\":{\"gridcolor\":\"white\",\"linecolor\":\"white\",\"ticks\":\"\"}},\"coloraxis\":{\"colorbar\":{\"outlinewidth\":0,\"ticks\":\"\"}},\"colorscale\":{\"sequential\":[[0.0,\"#0d0887\"],[0.1111111111111111,\"#46039f\"],[0.2222222222222222,\"#7201a8\"],[0.3333333333333333,\"#9c179e\"],[0.4444444444444444,\"#bd3786\"],[0.5555555555555556,\"#d8576b\"],[0.6666666666666666,\"#ed7953\"],[0.7777777777777778,\"#fb9f3a\"],[0.8888888888888888,\"#fdca26\"],[1.0,\"#f0f921\"]],\"sequentialminus\":[[0.0,\"#0d0887\"],[0.1111111111111111,\"#46039f\"],[0.2222222222222222,\"#7201a8\"],[0.3333333333333333,\"#9c179e\"],[0.4444444444444444,\"#bd3786\"],[0.5555555555555556,\"#d8576b\"],[0.6666666666666666,\"#ed7953\"],[0.7777777777777778,\"#fb9f3a\"],[0.8888888888888888,\"#fdca26\"],[1.0,\"#f0f921\"]],\"diverging\":[[0,\"#8e0152\"],[0.1,\"#c51b7d\"],[0.2,\"#de77ae\"],[0.3,\"#f1b6da\"],[0.4,\"#fde0ef\"],[0.5,\"#f7f7f7\"],[0.6,\"#e6f5d0\"],[0.7,\"#b8e186\"],[0.8,\"#7fbc41\"],[0.9,\"#4d9221\"],[1,\"#276419\"]]},\"xaxis\":{\"gridcolor\":\"white\",\"linecolor\":\"white\",\"ticks\":\"\",\"title\":{\"standoff\":15},\"zerolinecolor\":\"white\",\"automargin\":true,\"zerolinewidth\":2},\"yaxis\":{\"gridcolor\":\"white\",\"linecolor\":\"white\",\"ticks\":\"\",\"title\":{\"standoff\":15},\"zerolinecolor\":\"white\",\"automargin\":true,\"zerolinewidth\":2},\"scene\":{\"xaxis\":{\"backgroundcolor\":\"#E5ECF6\",\"gridcolor\":\"white\",\"linecolor\":\"white\",\"showbackground\":true,\"ticks\":\"\",\"zerolinecolor\":\"white\",\"gridwidth\":2},\"yaxis\":{\"backgroundcolor\":\"#E5ECF6\",\"gridcolor\":\"white\",\"linecolor\":\"white\",\"showbackground\":true,\"ticks\":\"\",\"zerolinecolor\":\"white\",\"gridwidth\":2},\"zaxis\":{\"backgroundcolor\":\"#E5ECF6\",\"gridcolor\":\"white\",\"linecolor\":\"white\",\"showbackground\":true,\"ticks\":\"\",\"zerolinecolor\":\"white\",\"gridwidth\":2}},\"shapedefaults\":{\"line\":{\"color\":\"#2a3f5f\"}},\"annotationdefaults\":{\"arrowcolor\":\"#2a3f5f\",\"arrowhead\":0,\"arrowwidth\":1},\"geo\":{\"bgcolor\":\"white\",\"landcolor\":\"#E5ECF6\",\"subunitcolor\":\"white\",\"showland\":true,\"showlakes\":true,\"lakecolor\":\"white\"},\"title\":{\"x\":0.05},\"mapbox\":{\"style\":\"light\"}}},\"xaxis\":{\"anchor\":\"y\",\"domain\":[0.0,1.0],\"title\":{\"text\":\"\\u0420\\u0435\\u0433\\u0438\\u043e\\u043d\"}},\"yaxis\":{\"anchor\":\"x\",\"domain\":[0.0,1.0],\"title\":{\"text\":\"Poverty_percent\"}},\"legend\":{\"tracegroupgap\":0},\"title\":{\"text\":\"\\u041f\\u0440\\u043e\\u0446\\u0435\\u043d\\u0442 \\u0431\\u0435\\u0434\\u043d\\u043e\\u0441\\u0442\\u0438\"},\"width\":900},                        {\"responsive\": true}                    ).then(function(){\n",
       "                            \n",
       "var gd = document.getElementById('eaf520c0-3fa4-444c-b7e0-ab83c5fdb24d');\n",
       "var x = new MutationObserver(function (mutations, observer) {{\n",
       "        var display = window.getComputedStyle(gd).display;\n",
       "        if (!display || display === 'none') {{\n",
       "            console.log([gd, 'removed!']);\n",
       "            Plotly.purge(gd);\n",
       "            observer.disconnect();\n",
       "        }}\n",
       "}});\n",
       "\n",
       "// Listen for the removal of the full notebook cells\n",
       "var notebookContainer = gd.closest('#notebook-container');\n",
       "if (notebookContainer) {{\n",
       "    x.observe(notebookContainer, {childList: true});\n",
       "}}\n",
       "\n",
       "// Listen for the clearing of the current output cell\n",
       "var outputEl = gd.closest('.output');\n",
       "if (outputEl) {{\n",
       "    x.observe(outputEl, {childList: true});\n",
       "}}\n",
       "\n",
       "                        })                };                });            </script>        </div>"
      ]
     },
     "metadata": {},
     "output_type": "display_data"
    }
   ],
   "source": [
    "fig = px.line(df_poverty, y='Poverty_percent', width = 900, title = 'Процент бедности')\n",
    "fig.show()"
   ]
  },
  {
   "cell_type": "code",
   "execution_count": 63,
   "id": "d010a68b-bead-48a8-9a83-051218751fb4",
   "metadata": {},
   "outputs": [
    {
     "data": {
      "image/png": "[encoded data removed]",
      "text/plain": [
       "<Figure size 900x200 with 1 Axes>"
      ]
     },
     "metadata": {},
     "output_type": "display_data"
    }
   ],
   "source": [
    "#визуализируем топ-10 регионов\n",
    "grouped_df_poverty = df_poverty.groupby(['Регион'])['Poverty_percent'].max()\n",
    "grouped_df_poverty = grouped_df_poverty.nlargest(10)\n",
    "grouped_df_poverty.plot(\n",
    "    kind='bar',\n",
    "    grid=True,\n",
    "    figsize=(9, 2),\n",
    "    colormap='plasma'\n",
    ");"
   ]
  },
  {
   "cell_type": "code",
   "execution_count": 64,
   "id": "34f48744-5a02-40f0-af71-e5281be3dbd1",
   "metadata": {},
   "outputs": [
    {
     "data": {
      "text/plain": [
       "Год\n",
       "Poverty_percent    40.97\n",
       "Name: Республика Ингушетия, dtype: float64"
      ]
     },
     "execution_count": 64,
     "metadata": {},
     "output_type": "execute_result"
    }
   ],
   "source": [
    "#Посмотрим где больше всего\n",
    "df_poverty.loc[df_poverty['Poverty_percent'].idxmax()]"
   ]
  },
  {
   "cell_type": "code",
   "execution_count": 65,
   "id": "b555396b-4623-48fd-aaf4-5b92906b7286",
   "metadata": {},
   "outputs": [
    {
     "data": {
      "text/plain": [
       "Год\n",
       "Poverty_percent    7.4\n",
       "Name: Ямало-Ненецкий автономный округ, dtype: float64"
      ]
     },
     "execution_count": 65,
     "metadata": {},
     "output_type": "execute_result"
    }
   ],
   "source": [
    "#посмотреть где меньше всего\n",
    "df_poverty.loc[df_poverty['Poverty_percent'].idxmin()]"
   ]
  },
  {
   "cell_type": "code",
   "execution_count": 66,
   "id": "deca9c48-2a76-4071-ac6b-6f83fc592ce3",
   "metadata": {},
   "outputs": [
    {
     "name": "stdout",
     "output_type": "stream",
     "text": [
      "Год\n",
      "Poverty_percent    19.36\n",
      "dtype: float64\n"
     ]
    }
   ],
   "source": [
    "#Среднее значение по всем регионам:\n",
    "print(df_poverty.mean().round(2))"
   ]
  },
  {
   "cell_type": "code",
   "execution_count": 67,
   "id": "0c59296d-5ea5-44b4-99c2-0b6c39765783",
   "metadata": {},
   "outputs": [
    {
     "data": {
      "text/html": [
       "<div>\n",
       "<style scoped>\n",
       "    .dataframe tbody tr th:only-of-type {\n",
       "        vertical-align: middle;\n",
       "    }\n",
       "\n",
       "    .dataframe tbody tr th {\n",
       "        vertical-align: top;\n",
       "    }\n",
       "\n",
       "    .dataframe thead th {\n",
       "        text-align: right;\n",
       "    }\n",
       "</style>\n",
       "<table border=\"1\" class=\"dataframe\">\n",
       "  <thead>\n",
       "    <tr style=\"text-align: right;\">\n",
       "      <th>Год</th>\n",
       "      <th>Регион</th>\n",
       "      <th>Poverty_percent</th>\n",
       "    </tr>\n",
       "  </thead>\n",
       "  <tbody>\n",
       "    <tr>\n",
       "      <th>0</th>\n",
       "      <td>Алтайский край</td>\n",
       "      <td>24.25</td>\n",
       "    </tr>\n",
       "    <tr>\n",
       "      <th>1</th>\n",
       "      <td>Амурская область</td>\n",
       "      <td>24.29</td>\n",
       "    </tr>\n",
       "    <tr>\n",
       "      <th>2</th>\n",
       "      <td>Архангельская область</td>\n",
       "      <td>18.82</td>\n",
       "    </tr>\n",
       "  </tbody>\n",
       "</table>\n",
       "</div>"
      ],
      "text/plain": [
       "Год                 Регион  Poverty_percent\n",
       "0           Алтайский край            24.25\n",
       "1         Амурская область            24.29\n",
       "2    Архангельская область            18.82"
      ]
     },
     "execution_count": 67,
     "metadata": {},
     "output_type": "execute_result"
    }
   ],
   "source": [
    "#Сохраним данную таблицу для дальнейшей работы:\n",
    "df_poverty.reset_index(inplace=True)\n",
    "df_poverty.to_csv('data/total/05_df_poverty.csv', index=False)\n",
    "df_poverty.head(3)"
   ]
  },
  {
   "cell_type": "markdown",
   "id": "3025caaa-91d1-43f3-ba9d-d5e6d1aa320b",
   "metadata": {},
   "source": [
    "**Вывод: Процент людей, живущих за чертой бедности выше всего в Ингушетии (41%), а также Калмыкия и Тыва, а ниже всего в Ямало-Ненецком автономном округе(7%). Среднее значение 19%**"
   ]
  },
  {
   "cell_type": "markdown",
   "id": "a9fb89e5-d6dc-4ee1-86c6-4ed5b660e4a5",
   "metadata": {},
   "source": [
    "Проверим правильность сохранения"
   ]
  },
  {
   "cell_type": "code",
   "execution_count": 69,
   "id": "3e68b7fb-820a-460f-9e92-8d6d8b468a15",
   "metadata": {},
   "outputs": [
    {
     "data": {
      "text/html": [
       "<div>\n",
       "<style scoped>\n",
       "    .dataframe tbody tr th:only-of-type {\n",
       "        vertical-align: middle;\n",
       "    }\n",
       "\n",
       "    .dataframe tbody tr th {\n",
       "        vertical-align: top;\n",
       "    }\n",
       "\n",
       "    .dataframe thead th {\n",
       "        text-align: right;\n",
       "    }\n",
       "</style>\n",
       "<table border=\"1\" class=\"dataframe\">\n",
       "  <thead>\n",
       "    <tr style=\"text-align: right;\">\n",
       "      <th></th>\n",
       "      <th>Регион</th>\n",
       "      <th>Poverty_percent</th>\n",
       "    </tr>\n",
       "  </thead>\n",
       "  <tbody>\n",
       "    <tr>\n",
       "      <th>0</th>\n",
       "      <td>Алтайский край</td>\n",
       "      <td>24.25</td>\n",
       "    </tr>\n",
       "    <tr>\n",
       "      <th>1</th>\n",
       "      <td>Амурская область</td>\n",
       "      <td>24.29</td>\n",
       "    </tr>\n",
       "    <tr>\n",
       "      <th>2</th>\n",
       "      <td>Архангельская область</td>\n",
       "      <td>18.82</td>\n",
       "    </tr>\n",
       "  </tbody>\n",
       "</table>\n",
       "</div>"
      ],
      "text/plain": [
       "                  Регион  Poverty_percent\n",
       "0         Алтайский край            24.25\n",
       "1       Амурская область            24.29\n",
       "2  Архангельская область            18.82"
      ]
     },
     "execution_count": 69,
     "metadata": {},
     "output_type": "execute_result"
    }
   ],
   "source": [
    "df_poverty = pd.read_csv('data/total/05_df_poverty.csv')\n",
    "df_poverty.head(3)"
   ]
  }
 ],
 "metadata": {
  "kernelspec": {
   "display_name": "Python 3 (ipykernel)",
   "language": "python",
   "name": "python3"
  },
  "language_info": {
   "codemirror_mode": {
    "name": "ipython",
    "version": 3
   },
   "file_extension": ".py",
   "mimetype": "text/x-python",
   "name": "python",
   "nbconvert_exporter": "python",
   "pygments_lexer": "ipython3",
   "version": "3.9.7"
  }
 },
 "nbformat": 4,
 "nbformat_minor": 5
}
