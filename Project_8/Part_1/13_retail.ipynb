{
 "cells": [
  {
   "cell_type": "markdown",
   "id": "32c092fc-c7aa-4ed8-b7ca-a684882ebcee",
   "metadata": {},
   "source": [
    "### `13. Оборот розничной торговли на душу населения, в рублях.`"
   ]
  },
  {
   "cell_type": "code",
   "execution_count": 39,
   "id": "a008b416-aa0c-4ee8-9c5c-c9efb3a57050",
   "metadata": {},
   "outputs": [
    {
     "name": "stdout",
     "output_type": "stream",
     "text": [
      "85\n"
     ]
    }
   ],
   "source": [
    "#создадим список регионов и будем с ним сверяться:\n",
    "region=(\n",
    "'Алтайский край',\n",
    " 'Амурская область',\n",
    " 'Архангельская область',\n",
    " 'Астраханская область',\n",
    " 'Белгородская область',\n",
    " 'Брянская область',\n",
    " 'Владимирская область',\n",
    " 'Волгоградская область',\n",
    " 'Вологодская область',\n",
    " 'Воронежская область',\n",
    " 'Город Москва',\n",
    " 'Город Санкт-Петербург',\n",
    " 'Город Севастополь',\n",
    " 'Еврейская автономная область',\n",
    " 'Забайкальский край',\n",
    " 'Ивановская область',\n",
    " 'Иркутская область',\n",
    " 'Кабардино-Балкарская Республика',\n",
    " 'Калининградская область',\n",
    " 'Калужская область',\n",
    " 'Камчатский край',\n",
    " 'Карачаево-Черкесская Республика',\n",
    " 'Кемеровская область',\n",
    " 'Кировская область',\n",
    " 'Костромская область',\n",
    " 'Краснодарский край',\n",
    " 'Красноярский край',\n",
    " 'Курганская область',\n",
    " 'Курская область',\n",
    " 'Ленинградская область',\n",
    " 'Липецкая область',\n",
    " 'Магаданская область',\n",
    " 'Московская область',\n",
    " 'Мурманская область',\n",
    " 'Ненецкий автономный округ',\n",
    " 'Нижегородская область',\n",
    " 'Новгородская область',\n",
    " 'Новосибирская область',\n",
    " 'Омская область',\n",
    " 'Оренбургская область',\n",
    " 'Орловская область',\n",
    " 'Пензенская область',\n",
    " 'Пермский край',\n",
    " 'Приморский край',\n",
    " 'Псковская область',\n",
    " 'Республика Адыгея',\n",
    " 'Республика Алтай',\n",
    " 'Республика Башкортостан',\n",
    " 'Республика Бурятия',\n",
    " 'Республика Дагестан',\n",
    " 'Республика Ингушетия',\n",
    " 'Республика Калмыкия',\n",
    " 'Республика Карелия',\n",
    " 'Республика Коми',\n",
    " 'Республика Крым',\n",
    " 'Республика Марий Эл',\n",
    " 'Республика Мордовия',\n",
    " 'Республика Саха (Якутия)',\n",
    " 'Республика Северная Осетия-Алания',\n",
    " 'Республика Татарстан',\n",
    " 'Республика Тыва',\n",
    " 'Республика Хакасия',\n",
    " 'Ростовская область',\n",
    " 'Рязанская область',\n",
    " 'Самарская область',\n",
    " 'Саратовская область',\n",
    " 'Сахалинская область',\n",
    " 'Свердловская область',\n",
    " 'Смоленская область',\n",
    " 'Ставропольский край',\n",
    " 'Тамбовская область',\n",
    " 'Тверская область',\n",
    " 'Томская область',\n",
    " 'Тульская область',\n",
    " 'Тюменская область',\n",
    " 'Удмуртская Республика',\n",
    " 'Ульяновская область',\n",
    " 'Хабаровский край',\n",
    " 'Ханты-Мансийский автономный округ - Югра',\n",
    " 'Челябинская область',\n",
    " 'Чеченская Республика',\n",
    " 'Чукотский автономный округ',\n",
    " 'Чувашская Республика',\n",
    " 'Ямало-Ненецкий автономный округ',\n",
    " 'Ярославская область')\n",
    "print(len(region))"
   ]
  },
  {
   "cell_type": "code",
   "execution_count": 40,
   "id": "8c10412c-f45a-4592-84bf-3e89d47080f9",
   "metadata": {},
   "outputs": [],
   "source": [
    "#Составим словарь для замены некоторынх названий регионов:\n",
    "regions={\n",
    " 'Архангельская область (кроме Ненецкого автономного округа)':'Архангельская область',\n",
    " 'Архангельская обл. без данных по Ненецкому авт. окр.': 'Архангельская область',\n",
    " 'Архангельская область без\\nавтономного округа': 'Архангельская область',\n",
    " 'Архангельская область (без АО)': 'Архангельская область',\n",
    " 'Архангельская область без авт. округа': 'Архангельская область',\n",
    " 'Bолгоградская область': 'Волгоградская область',\n",
    " 'Bологодская область': 'Вологодская область',\n",
    " 'Bладимирская область': 'Владимирская область',\n",
    " 'Bоронежская область': 'Воронежская область',\n",
    " 'Город Москва столица Российской Федерации город федерального значения': 'Город Москва',\n",
    " 'Город Москва столица Российской Федерации город Федерального значения': 'Город Москва',\n",
    " 'г.Москва': 'Город Москва',\n",
    " 'город Москва': 'Город Москва',\n",
    " 'г. Москва': 'Город Москва',\n",
    " 'Город Санкт-Петербург город федерального значения':'Город Санкт-Петербург',\n",
    " 'г.Санкт-Петербург':'Город Санкт-Петербург',\n",
    " 'город Санкт-Петербург': 'Город Санкт-Петербург',\n",
    " 'г. Санкт-Петербург': 'Город Санкт-Петербург',\n",
    " 'Город федерального значения Севастополь': 'Город Севастополь',\n",
    " 'г.Севастополь': 'Город Севастополь',\n",
    " 'город Севастополь': 'Город Севастополь',\n",
    " 'г. Севастополь': 'Город Севастополь',\n",
    " 'Еврейская авт. область': 'Еврейская автономная область',\n",
    " 'Кабардино-Балкарская\\nРеспублика': 'Кабардино-Балкарская Республика',\n",
    " 'Кемеровская область (Кузбасс)': 'Кемеровская область',\n",
    " 'Кемеровская область - Кузбасс': 'Кемеровская область',  \n",
    " 'Карачаево-Черкесская\\nРеспублика': 'Карачаево-Черкесская Республика',\n",
    " 'Ненецкий автономный округ (Архангельская область)': 'Ненецкий автономный округ',\n",
    " 'Республика Адыгея (Адыгея)': 'Республика Адыгея',\n",
    " 'Республика Татарстан (Татарстан)': 'Республика Татарстан',\n",
    " 'Республика Северная\\nОсетия-Алания': 'Республика Северная Осетия-Алания',\n",
    " 'Тюменская область (кроме Ханты-Мансийского автономного округа-Югры и Ямало-Ненецкого автономного округа)': 'Тюменская область',\n",
    " 'Тюменская обл.без данных по Ханты-Мансийскому и Ямало-Ненецкому авт. окр.': 'Тюменская область',\n",
    " 'Тюменская область без\\nавтономных округов': 'Тюменская область',\n",
    " 'Тюменская область (без АО)': 'Тюменская область',\n",
    " 'Тюменская область без авт. округов': 'Тюменская область',\n",
    " 'Ханты-Мансийский автономный округ - Югра (Тюменская область)': 'Ханты-Мансийский автономный округ - Югра',\n",
    " 'Ханты-Мансийский \\nавтономный округ - Югра': 'Ханты-Мансийский автономный округ - Югра',\n",
    " 'Ханты-Мансийский авт. округ': 'Ханты-Мансийский автономный округ - Югра',\n",
    " 'Чувашская Республика - Чувашия': 'Чувашская Республика',\n",
    " 'Чеченская и Ингушская Республики': 'Чеченская Республика',\n",
    " 'Чукотский авт. округ': 'Чукотский автономный округ',\n",
    " 'Ямало-Ненецкий автономный округ (Тюменская область)': 'Ямало-Ненецкий автономный округ',\n",
    " 'Ямало-Ненецкий \\nавтономный округ': 'Ямало-Ненецкий автономный округ',\n",
    " 'Ямало-Ненецкий авт. округ': 'Ямало-Ненецкий автономный округ'\n",
    "}\n",
    "\n",
    "# Напишем функцию смены названия региона, если он есть в этом словаре:\n",
    "def region_name(name):\n",
    "    for i in regions:\n",
    "        if i in name:\n",
    "            return regions[i]\n",
    "    return name"
   ]
  },
  {
   "cell_type": "code",
   "execution_count": 41,
   "id": "b480c9b4-9949-40ce-a76b-f417280101ad",
   "metadata": {},
   "outputs": [],
   "source": [
    "import numpy as np\n",
    "import pandas as pd\n",
    "import matplotlib.pyplot as plt\n",
    "import seaborn as sns\n",
    "import warnings\n",
    "import plotly.express as px\n",
    "warnings.filterwarnings('ignore') "
   ]
  },
  {
   "cell_type": "code",
   "execution_count": 52,
   "id": "fefe7a98-538d-4b99-82c6-03901953689a",
   "metadata": {},
   "outputs": [
    {
     "data": {
      "text/html": [
       "<div>\n",
       "<style scoped>\n",
       "    .dataframe tbody tr th:only-of-type {\n",
       "        vertical-align: middle;\n",
       "    }\n",
       "\n",
       "    .dataframe tbody tr th {\n",
       "        vertical-align: top;\n",
       "    }\n",
       "\n",
       "    .dataframe thead th {\n",
       "        text-align: right;\n",
       "    }\n",
       "</style>\n",
       "<table border=\"1\" class=\"dataframe\">\n",
       "  <thead>\n",
       "    <tr style=\"text-align: right;\">\n",
       "      <th></th>\n",
       "      <th>Unnamed: 0</th>\n",
       "      <th>Unnamed: 1</th>\n",
       "      <th>2000</th>\n",
       "      <th>2001</th>\n",
       "      <th>2002</th>\n",
       "      <th>2003</th>\n",
       "      <th>2004</th>\n",
       "      <th>2005</th>\n",
       "      <th>2006</th>\n",
       "      <th>2007</th>\n",
       "      <th>...</th>\n",
       "      <th>2012</th>\n",
       "      <th>2013</th>\n",
       "      <th>2014</th>\n",
       "      <th>2015</th>\n",
       "      <th>2016</th>\n",
       "      <th>2017</th>\n",
       "      <th>2018</th>\n",
       "      <th>2019</th>\n",
       "      <th>2020</th>\n",
       "      <th>2021</th>\n",
       "    </tr>\n",
       "  </thead>\n",
       "  <tbody>\n",
       "    <tr>\n",
       "      <th>0</th>\n",
       "      <td>NaN</td>\n",
       "      <td>NaN</td>\n",
       "      <td>значение показателя за год</td>\n",
       "      <td>значение показателя за год</td>\n",
       "      <td>значение показателя за год</td>\n",
       "      <td>значение показателя за год</td>\n",
       "      <td>значение показателя за год</td>\n",
       "      <td>значение показателя за год</td>\n",
       "      <td>значение показателя за год</td>\n",
       "      <td>значение показателя за год</td>\n",
       "      <td>...</td>\n",
       "      <td>значение показателя за год</td>\n",
       "      <td>значение показателя за год</td>\n",
       "      <td>значение показателя за год</td>\n",
       "      <td>значение показателя за год</td>\n",
       "      <td>значение показателя за год</td>\n",
       "      <td>значение показателя за год</td>\n",
       "      <td>значение показателя за год</td>\n",
       "      <td>значение показателя за год</td>\n",
       "      <td>значение показателя за год</td>\n",
       "      <td>значение показателя за год</td>\n",
       "    </tr>\n",
       "    <tr>\n",
       "      <th>1</th>\n",
       "      <td>Российская Федерация</td>\n",
       "      <td>рубль</td>\n",
       "      <td>16046</td>\n",
       "      <td>21031</td>\n",
       "      <td>25913</td>\n",
       "      <td>31557</td>\n",
       "      <td>39166</td>\n",
       "      <td>49063</td>\n",
       "      <td>60901</td>\n",
       "      <td>76111</td>\n",
       "      <td>...</td>\n",
       "      <td>149401</td>\n",
       "      <td>165051</td>\n",
       "      <td>180410</td>\n",
       "      <td>188017</td>\n",
       "      <td>192541</td>\n",
       "      <td>202568</td>\n",
       "      <td>215074</td>\n",
       "      <td>229104</td>\n",
       "      <td>231283</td>\n",
       "      <td>270606</td>\n",
       "    </tr>\n",
       "    <tr>\n",
       "      <th>2</th>\n",
       "      <td>Центральный федеральный округ</td>\n",
       "      <td>рубль</td>\n",
       "      <td>26062</td>\n",
       "      <td>33630</td>\n",
       "      <td>40010</td>\n",
       "      <td>46760</td>\n",
       "      <td>57011</td>\n",
       "      <td>68302</td>\n",
       "      <td>81774</td>\n",
       "      <td>97965</td>\n",
       "      <td>...</td>\n",
       "      <td>188757</td>\n",
       "      <td>207394</td>\n",
       "      <td>231873</td>\n",
       "      <td>237737</td>\n",
       "      <td>243426</td>\n",
       "      <td>258278</td>\n",
       "      <td>277011</td>\n",
       "      <td>296368</td>\n",
       "      <td>301192</td>\n",
       "      <td>354141</td>\n",
       "    </tr>\n",
       "  </tbody>\n",
       "</table>\n",
       "<p>3 rows × 24 columns</p>\n",
       "</div>"
      ],
      "text/plain": [
       "                          Unnamed: 0 Unnamed: 1                        2000  \\\n",
       "0                                NaN        NaN  значение показателя за год   \n",
       "1               Российская Федерация      рубль                       16046   \n",
       "2      Центральный федеральный округ      рубль                       26062   \n",
       "\n",
       "                         2001                        2002  \\\n",
       "0  значение показателя за год  значение показателя за год   \n",
       "1                       21031                       25913   \n",
       "2                       33630                       40010   \n",
       "\n",
       "                         2003                        2004  \\\n",
       "0  значение показателя за год  значение показателя за год   \n",
       "1                       31557                       39166   \n",
       "2                       46760                       57011   \n",
       "\n",
       "                         2005                        2006  \\\n",
       "0  значение показателя за год  значение показателя за год   \n",
       "1                       49063                       60901   \n",
       "2                       68302                       81774   \n",
       "\n",
       "                         2007  ...                        2012  \\\n",
       "0  значение показателя за год  ...  значение показателя за год   \n",
       "1                       76111  ...                      149401   \n",
       "2                       97965  ...                      188757   \n",
       "\n",
       "                         2013                        2014  \\\n",
       "0  значение показателя за год  значение показателя за год   \n",
       "1                      165051                      180410   \n",
       "2                      207394                      231873   \n",
       "\n",
       "                         2015                        2016  \\\n",
       "0  значение показателя за год  значение показателя за год   \n",
       "1                      188017                      192541   \n",
       "2                      237737                      243426   \n",
       "\n",
       "                         2017                        2018  \\\n",
       "0  значение показателя за год  значение показателя за год   \n",
       "1                      202568                      215074   \n",
       "2                      258278                      277011   \n",
       "\n",
       "                         2019                        2020  \\\n",
       "0  значение показателя за год  значение показателя за год   \n",
       "1                      229104                      231283   \n",
       "2                      296368                      301192   \n",
       "\n",
       "                         2021  \n",
       "0  значение показателя за год  \n",
       "1                      270606  \n",
       "2                      354141  \n",
       "\n",
       "[3 rows x 24 columns]"
      ]
     },
     "metadata": {},
     "output_type": "display_data"
    }
   ],
   "source": [
    "retail = pd.read_excel('data/retail_turnover_per_capita_2000_2021.xls', skiprows=2)\n",
    "display(retail.head(3))"
   ]
  },
  {
   "cell_type": "code",
   "execution_count": 53,
   "id": "be7d35f1-7fa7-4596-ab43-fd8c667ddda7",
   "metadata": {},
   "outputs": [
    {
     "data": {
      "text/plain": [
       "108"
      ]
     },
     "metadata": {},
     "output_type": "display_data"
    }
   ],
   "source": [
    "#Переименуем столбец с регионами и уберем в нем лишние символы\n",
    "retail.rename(columns={'Unnamed: 0':\"Регион\"}, inplace=True)\n",
    "retail[\"Регион\"] = retail[\"Регион\"].str.strip()\n",
    "retail=retail.drop(['Unnamed: 1'], axis = 1)\n",
    "retail=retail.drop([0], axis = 0)\n",
    "retail['Регион'].replace(r'\\s+|\\\\n', ' ', regex=True, inplace=True)\n",
    "retail['Регион'] = retail['Регион'].apply(lambda x: ' '.join(x.split()))\n",
    "display(len(retail['Регион']))"
   ]
  },
  {
   "cell_type": "code",
   "execution_count": 54,
   "id": "40e897ad-c93c-4788-b1d2-fa0b104d2a50",
   "metadata": {},
   "outputs": [],
   "source": [
    "#sorted(retail['Регион'])"
   ]
  },
  {
   "cell_type": "code",
   "execution_count": 55,
   "id": "8732cdf2-3fa0-4e97-bd6c-35a4b6fc05cf",
   "metadata": {},
   "outputs": [
    {
     "data": {
      "text/plain": [
       "(85, 23)"
      ]
     },
     "execution_count": 55,
     "metadata": {},
     "output_type": "execute_result"
    }
   ],
   "source": [
    "#Преобразуем регионы:\n",
    "retail_fed = retail[retail['Регион'].str.contains('федеральный округ|Федерация|район|Агинский|границах|Коми-Пермяцкий|Корякский|Таймырский|Усть-Ордынский|Эвенкийский')].index\n",
    "retail.drop(retail_fed, axis = 0, inplace=True)   \n",
    "#Удалим Архангельскую и Тюменскую области:\n",
    "retail_ar = retail[retail['Регион']== 'Архангельская область (без АО)'].index\n",
    "retail_tu = retail[retail['Регион']== 'Тюменская область (без АО)'].index\n",
    "retail.drop(retail_ar, axis = 0, inplace=True) \n",
    "retail.drop(retail_tu, axis = 0, inplace=True) \n",
    "retail_ar2 = retail[retail['Регион']== 'Архангельская область'].index\n",
    "retail_tu2 = retail[retail['Регион']== 'Тюменская область'].index\n",
    "retail.drop(retail_ar2, axis = 0, inplace=True) \n",
    "retail.drop(retail_tu2, axis = 0, inplace=True)\n",
    "\n",
    "#Посмотрим теперь на размерность:\n",
    "retail.shape"
   ]
  },
  {
   "cell_type": "code",
   "execution_count": 56,
   "id": "3c1f4d99-db65-4f12-bbc3-fc5b5f8cf18b",
   "metadata": {},
   "outputs": [],
   "source": [
    "#Применим нашу функцию:\n",
    "retail['Регион'] = retail['Регион'].apply(region_name)"
   ]
  },
  {
   "cell_type": "code",
   "execution_count": 57,
   "id": "ea8e0ce2-4648-4265-b5e2-f81e7861d20c",
   "metadata": {},
   "outputs": [
    {
     "name": "stdout",
     "output_type": "stream",
     "text": [
      "85\n",
      "3      1\n",
      "4      1\n",
      "5      1\n",
      "6      1\n",
      "7      1\n",
      "      ..\n",
      "103    1\n",
      "104    1\n",
      "105    1\n",
      "106    1\n",
      "107    1\n",
      "Name: mask, Length: 85, dtype: int64\n"
     ]
    }
   ],
   "source": [
    "#Сделаем проверку на соответствие регионов:\n",
    "retail['mask'] = retail['Регион'].apply(lambda x: 1 if x in region else 0)\n",
    "print(len(retail['Регион'].unique()))\n",
    "#print(retail['mask'])"
   ]
  },
  {
   "cell_type": "markdown",
   "id": "7eac0648-febf-4b81-8e9f-cefdf68bda22",
   "metadata": {},
   "source": [
    "Хорошо, количество регионов и названия у нас совпадает."
   ]
  },
  {
   "cell_type": "code",
   "execution_count": 58,
   "id": "383f8ddc-a600-401d-b72e-8ddf0be0082b",
   "metadata": {},
   "outputs": [],
   "source": [
    "#Больше нам этот столбец не нужен:\n",
    "retail = retail.drop(['mask'], axis=1)"
   ]
  },
  {
   "cell_type": "markdown",
   "id": "26084584-5be5-4131-b1d0-4fc22c0349b1",
   "metadata": {},
   "source": [
    "Количество лет у нас достаточное."
   ]
  },
  {
   "cell_type": "code",
   "execution_count": 59,
   "id": "92d5cb1c-c360-4086-b613-ace73b811e1f",
   "metadata": {},
   "outputs": [
    {
     "data": {
      "text/html": [
       "<div>\n",
       "<style scoped>\n",
       "    .dataframe tbody tr th:only-of-type {\n",
       "        vertical-align: middle;\n",
       "    }\n",
       "\n",
       "    .dataframe tbody tr th {\n",
       "        vertical-align: top;\n",
       "    }\n",
       "\n",
       "    .dataframe thead th {\n",
       "        text-align: right;\n",
       "    }\n",
       "</style>\n",
       "<table border=\"1\" class=\"dataframe\">\n",
       "  <thead>\n",
       "    <tr style=\"text-align: right;\">\n",
       "      <th></th>\n",
       "      <th>Регион</th>\n",
       "      <th>2000</th>\n",
       "      <th>2001</th>\n",
       "      <th>2002</th>\n",
       "      <th>2003</th>\n",
       "      <th>2004</th>\n",
       "      <th>2005</th>\n",
       "      <th>2006</th>\n",
       "      <th>2007</th>\n",
       "      <th>2008</th>\n",
       "      <th>...</th>\n",
       "      <th>2012</th>\n",
       "      <th>2013</th>\n",
       "      <th>2014</th>\n",
       "      <th>2015</th>\n",
       "      <th>2016</th>\n",
       "      <th>2017</th>\n",
       "      <th>2018</th>\n",
       "      <th>2019</th>\n",
       "      <th>2020</th>\n",
       "      <th>2021</th>\n",
       "    </tr>\n",
       "  </thead>\n",
       "  <tbody>\n",
       "    <tr>\n",
       "      <th>3</th>\n",
       "      <td>Белгородская область</td>\n",
       "      <td>11820</td>\n",
       "      <td>13837</td>\n",
       "      <td>16366</td>\n",
       "      <td>19222</td>\n",
       "      <td>24168</td>\n",
       "      <td>30174</td>\n",
       "      <td>41387</td>\n",
       "      <td>55460</td>\n",
       "      <td>74599</td>\n",
       "      <td>...</td>\n",
       "      <td>129904</td>\n",
       "      <td>144992</td>\n",
       "      <td>164079</td>\n",
       "      <td>178097</td>\n",
       "      <td>192504</td>\n",
       "      <td>203298</td>\n",
       "      <td>217059</td>\n",
       "      <td>230704</td>\n",
       "      <td>237076</td>\n",
       "      <td>259151</td>\n",
       "    </tr>\n",
       "    <tr>\n",
       "      <th>4</th>\n",
       "      <td>Брянская область</td>\n",
       "      <td>8267</td>\n",
       "      <td>10951</td>\n",
       "      <td>14312</td>\n",
       "      <td>17988</td>\n",
       "      <td>22849</td>\n",
       "      <td>28892</td>\n",
       "      <td>36931</td>\n",
       "      <td>48448</td>\n",
       "      <td>64977</td>\n",
       "      <td>...</td>\n",
       "      <td>121136</td>\n",
       "      <td>138669</td>\n",
       "      <td>158501</td>\n",
       "      <td>177048</td>\n",
       "      <td>179767</td>\n",
       "      <td>192775</td>\n",
       "      <td>209987</td>\n",
       "      <td>225818</td>\n",
       "      <td>225643</td>\n",
       "      <td>257679</td>\n",
       "    </tr>\n",
       "    <tr>\n",
       "      <th>5</th>\n",
       "      <td>Владимирская область</td>\n",
       "      <td>7442</td>\n",
       "      <td>9403</td>\n",
       "      <td>10984</td>\n",
       "      <td>13357</td>\n",
       "      <td>16584</td>\n",
       "      <td>21140</td>\n",
       "      <td>29719</td>\n",
       "      <td>42497</td>\n",
       "      <td>56943</td>\n",
       "      <td>...</td>\n",
       "      <td>103848</td>\n",
       "      <td>116202</td>\n",
       "      <td>129564</td>\n",
       "      <td>139408</td>\n",
       "      <td>143643</td>\n",
       "      <td>153088</td>\n",
       "      <td>164519</td>\n",
       "      <td>175251</td>\n",
       "      <td>177680</td>\n",
       "      <td>207670</td>\n",
       "    </tr>\n",
       "    <tr>\n",
       "      <th>6</th>\n",
       "      <td>Воронежская область</td>\n",
       "      <td>11713</td>\n",
       "      <td>15777</td>\n",
       "      <td>18238</td>\n",
       "      <td>22189</td>\n",
       "      <td>28294</td>\n",
       "      <td>35245</td>\n",
       "      <td>39692</td>\n",
       "      <td>49708</td>\n",
       "      <td>71127</td>\n",
       "      <td>...</td>\n",
       "      <td>139133</td>\n",
       "      <td>158218</td>\n",
       "      <td>181499</td>\n",
       "      <td>198814</td>\n",
       "      <td>208638</td>\n",
       "      <td>221302</td>\n",
       "      <td>236953</td>\n",
       "      <td>251882</td>\n",
       "      <td>252416</td>\n",
       "      <td>296665</td>\n",
       "    </tr>\n",
       "    <tr>\n",
       "      <th>7</th>\n",
       "      <td>Ивановская область</td>\n",
       "      <td>6687</td>\n",
       "      <td>8235</td>\n",
       "      <td>10452</td>\n",
       "      <td>12413</td>\n",
       "      <td>15505</td>\n",
       "      <td>19064</td>\n",
       "      <td>26811</td>\n",
       "      <td>34985</td>\n",
       "      <td>53683</td>\n",
       "      <td>...</td>\n",
       "      <td>109822</td>\n",
       "      <td>121813</td>\n",
       "      <td>138185</td>\n",
       "      <td>143349</td>\n",
       "      <td>143568</td>\n",
       "      <td>153993</td>\n",
       "      <td>163290</td>\n",
       "      <td>178517</td>\n",
       "      <td>180314</td>\n",
       "      <td>211546</td>\n",
       "    </tr>\n",
       "  </tbody>\n",
       "</table>\n",
       "<p>5 rows × 23 columns</p>\n",
       "</div>"
      ],
      "text/plain": [
       "                 Регион   2000   2001   2002   2003   2004   2005   2006  \\\n",
       "3  Белгородская область  11820  13837  16366  19222  24168  30174  41387   \n",
       "4      Брянская область   8267  10951  14312  17988  22849  28892  36931   \n",
       "5  Владимирская область   7442   9403  10984  13357  16584  21140  29719   \n",
       "6   Воронежская область  11713  15777  18238  22189  28294  35245  39692   \n",
       "7    Ивановская область   6687   8235  10452  12413  15505  19064  26811   \n",
       "\n",
       "    2007   2008  ...    2012    2013    2014    2015    2016    2017    2018  \\\n",
       "3  55460  74599  ...  129904  144992  164079  178097  192504  203298  217059   \n",
       "4  48448  64977  ...  121136  138669  158501  177048  179767  192775  209987   \n",
       "5  42497  56943  ...  103848  116202  129564  139408  143643  153088  164519   \n",
       "6  49708  71127  ...  139133  158218  181499  198814  208638  221302  236953   \n",
       "7  34985  53683  ...  109822  121813  138185  143349  143568  153993  163290   \n",
       "\n",
       "     2019    2020    2021  \n",
       "3  230704  237076  259151  \n",
       "4  225818  225643  257679  \n",
       "5  175251  177680  207670  \n",
       "6  251882  252416  296665  \n",
       "7  178517  180314  211546  \n",
       "\n",
       "[5 rows x 23 columns]"
      ]
     },
     "execution_count": 59,
     "metadata": {},
     "output_type": "execute_result"
    }
   ],
   "source": [
    "retail.head()"
   ]
  },
  {
   "cell_type": "code",
   "execution_count": 60,
   "id": "e9f8a6f7-6065-420c-9d2a-b58e9a92a7ca",
   "metadata": {},
   "outputs": [
    {
     "data": {
      "text/plain": [
       "['Алтайский край',\n",
       " 'Амурская область',\n",
       " 'Архангельская область',\n",
       " 'Астраханская область',\n",
       " 'Белгородская область',\n",
       " 'Брянская область',\n",
       " 'Владимирская область',\n",
       " 'Волгоградская область',\n",
       " 'Вологодская область',\n",
       " 'Воронежская область',\n",
       " 'Город Москва',\n",
       " 'Город Санкт-Петербург',\n",
       " 'Город Севастополь',\n",
       " 'Еврейская автономная область',\n",
       " 'Забайкальский край',\n",
       " 'Ивановская область',\n",
       " 'Иркутская область',\n",
       " 'Кабардино-Балкарская Республика',\n",
       " 'Калининградская область',\n",
       " 'Калужская область',\n",
       " 'Камчатский край',\n",
       " 'Карачаево-Черкесская Республика',\n",
       " 'Кемеровская область',\n",
       " 'Кировская область',\n",
       " 'Костромская область',\n",
       " 'Краснодарский край',\n",
       " 'Красноярский край',\n",
       " 'Курганская область',\n",
       " 'Курская область',\n",
       " 'Ленинградская область',\n",
       " 'Липецкая область',\n",
       " 'Магаданская область',\n",
       " 'Московская область',\n",
       " 'Мурманская область',\n",
       " 'Ненецкий автономный округ',\n",
       " 'Нижегородская область',\n",
       " 'Новгородская область',\n",
       " 'Новосибирская область',\n",
       " 'Омская область',\n",
       " 'Оренбургская область',\n",
       " 'Орловская область',\n",
       " 'Пензенская область',\n",
       " 'Пермский край',\n",
       " 'Приморский край',\n",
       " 'Псковская область',\n",
       " 'Республика Адыгея',\n",
       " 'Республика Алтай',\n",
       " 'Республика Башкортостан',\n",
       " 'Республика Бурятия',\n",
       " 'Республика Дагестан',\n",
       " 'Республика Ингушетия',\n",
       " 'Республика Калмыкия',\n",
       " 'Республика Карелия',\n",
       " 'Республика Коми',\n",
       " 'Республика Крым',\n",
       " 'Республика Марий Эл',\n",
       " 'Республика Мордовия',\n",
       " 'Республика Саха (Якутия)',\n",
       " 'Республика Северная Осетия-Алания',\n",
       " 'Республика Татарстан',\n",
       " 'Республика Тыва',\n",
       " 'Республика Хакасия',\n",
       " 'Ростовская область',\n",
       " 'Рязанская область',\n",
       " 'Самарская область',\n",
       " 'Саратовская область',\n",
       " 'Сахалинская область',\n",
       " 'Свердловская область',\n",
       " 'Смоленская область',\n",
       " 'Ставропольский край',\n",
       " 'Тамбовская область',\n",
       " 'Тверская область',\n",
       " 'Томская область',\n",
       " 'Тульская область',\n",
       " 'Тюменская область',\n",
       " 'Удмуртская Республика',\n",
       " 'Ульяновская область',\n",
       " 'Хабаровский край',\n",
       " 'Ханты-Мансийский автономный округ - Югра',\n",
       " 'Челябинская область',\n",
       " 'Чеченская Республика',\n",
       " 'Чувашская Республика',\n",
       " 'Чукотский автономный округ',\n",
       " 'Ямало-Ненецкий автономный округ',\n",
       " 'Ярославская область']"
      ]
     },
     "execution_count": 60,
     "metadata": {},
     "output_type": "execute_result"
    }
   ],
   "source": [
    "sorted(retail['Регион'])"
   ]
  },
  {
   "cell_type": "code",
   "execution_count": 61,
   "id": "431b5820-ed70-477e-ae71-3a5ca6324f79",
   "metadata": {},
   "outputs": [],
   "source": [
    "#Сделаем столбец Регион индексом\n",
    "retail[\"Регион\"] = retail[\"Регион\"].str.strip()\n",
    "retail.set_index('Регион', inplace=True)"
   ]
  },
  {
   "cell_type": "code",
   "execution_count": 62,
   "id": "97e1d259-b008-4fc6-b6ae-4a7340138857",
   "metadata": {},
   "outputs": [
    {
     "data": {
      "text/plain": [
       "28"
      ]
     },
     "execution_count": 62,
     "metadata": {},
     "output_type": "execute_result"
    }
   ],
   "source": [
    "#Посмотрим на количество пропусков:\n",
    "retail.isnull().sum().sum()"
   ]
  },
  {
   "cell_type": "code",
   "execution_count": 63,
   "id": "d047ffb3-e9d9-445c-b269-b51835726152",
   "metadata": {},
   "outputs": [],
   "source": [
    "#Заменим пропуски медианой во всей таблице:\n",
    "for col in retail.columns:\n",
    "    retail[col] = retail[col].fillna(retail[col].median())"
   ]
  },
  {
   "cell_type": "markdown",
   "id": "f6da2686-1dfc-4a83-a5c7-79c433e3a8ae",
   "metadata": {},
   "source": [
    "Создадим ДатаФрейм со средним значением c 2000 по 2021 год:"
   ]
  },
  {
   "cell_type": "code",
   "execution_count": 64,
   "id": "00f7b877-061c-4044-a1f9-0e3a808e77d5",
   "metadata": {},
   "outputs": [],
   "source": [
    "#Для начала создалим такой столбец:\n",
    "retail['mean'] = retail[['2000', '2001', '2002', '2003', '2004', '2005', '2006', \n",
    "                                   '2007', '2008', '2009', '2010', '2011', '2012', '2013', \n",
    "                                   '2014', '2015', '2016', '2017', '2018', '2019', '2020', '2021']].mean(axis=1).round(2)"
   ]
  },
  {
   "cell_type": "code",
   "execution_count": 65,
   "id": "3a2c9b39-c37c-4489-91cc-a5d3e910c4f7",
   "metadata": {},
   "outputs": [
    {
     "data": {
      "text/html": [
       "<div>\n",
       "<style scoped>\n",
       "    .dataframe tbody tr th:only-of-type {\n",
       "        vertical-align: middle;\n",
       "    }\n",
       "\n",
       "    .dataframe tbody tr th {\n",
       "        vertical-align: top;\n",
       "    }\n",
       "\n",
       "    .dataframe thead th {\n",
       "        text-align: right;\n",
       "    }\n",
       "</style>\n",
       "<table border=\"1\" class=\"dataframe\">\n",
       "  <thead>\n",
       "    <tr style=\"text-align: right;\">\n",
       "      <th></th>\n",
       "      <th>Retail</th>\n",
       "    </tr>\n",
       "    <tr>\n",
       "      <th>Регион</th>\n",
       "      <th></th>\n",
       "    </tr>\n",
       "  </thead>\n",
       "  <tbody>\n",
       "    <tr>\n",
       "      <th>Белгородская область</th>\n",
       "      <td>114915.23</td>\n",
       "    </tr>\n",
       "    <tr>\n",
       "      <th>Брянская область</th>\n",
       "      <td>109399.95</td>\n",
       "    </tr>\n",
       "    <tr>\n",
       "      <th>Владимирская область</th>\n",
       "      <td>87961.45</td>\n",
       "    </tr>\n",
       "  </tbody>\n",
       "</table>\n",
       "</div>"
      ],
      "text/plain": [
       "                         Retail\n",
       "Регион                         \n",
       "Белгородская область  114915.23\n",
       "Брянская область      109399.95\n",
       "Владимирская область   87961.45"
      ]
     },
     "execution_count": 65,
     "metadata": {},
     "output_type": "execute_result"
    }
   ],
   "source": [
    "df_retail= retail[['mean']]\n",
    "df_retail.rename(columns={'mean':\"Retail\"}, inplace=True)\n",
    "df_retail.head(3)"
   ]
  },
  {
   "cell_type": "code",
   "execution_count": 66,
   "id": "abb52f7c-0169-4950-aced-076821a7025e",
   "metadata": {},
   "outputs": [
    {
     "data": {
      "image/png": "[encoded data removed]",
      "text/plain": [
       "<Figure size 1500x600 with 1 Axes>"
      ]
     },
     "metadata": {},
     "output_type": "display_data"
    }
   ],
   "source": [
    "#Посмотрим на общую тенденцию:\n",
    "df_retail.hist(figsize = (15,6), grid = False);\n",
    "plt.show()"
   ]
  },
  {
   "cell_type": "code",
   "execution_count": 67,
   "id": "017c3710-e96d-491d-a7e6-78839b0e65bf",
   "metadata": {},
   "outputs": [
    {
     "data": {
      "image/png": "[encoded data removed]",
      "text/plain": [
       "<Figure size 1000x300 with 1 Axes>"
      ]
     },
     "metadata": {},
     "output_type": "display_data"
    }
   ],
   "source": [
    "#Посмотрим на средние значения:\n",
    "df_retail.hist(figsize = (10,3), grid = False);\n",
    "plt.show()"
   ]
  },
  {
   "cell_type": "code",
   "execution_count": 68,
   "id": "7b4d53e1-d32b-43a9-ae52-3ead2aa148a6",
   "metadata": {},
   "outputs": [
    {
     "data": {
      "application/vnd.plotly.v1+json": {
       "config": {
        "plotlyServerURL": "https://plot.ly"
       },
       "data": [
        {
         "hovertemplate": "Регион=%{x}<br>Retail=%{y}<extra></extra>",
         "legendgroup": "",
         "line": {
          "color": "#636efa",
          "dash": "solid"
         },
         "marker": {
          "symbol": "circle"
         },
         "mode": "lines",
         "name": "",
         "orientation": "v",
         "showlegend": false,
         "type": "scatter",
         "x": [
          "Белгородская область",
          "Брянская область",
          "Владимирская область",
          "Воронежская область",
          "Ивановская область",
          "Калужская область",
          "Костромская область",
          "Курская область",
          "Липецкая область",
          "Московская область",
          "Орловская область",
          "Рязанская область",
          "Смоленская область",
          "Тамбовская область",
          "Тверская область",
          "Тульская область",
          "Ярославская область",
          "Город Москва",
          "Республика Карелия",
          "Республика Коми",
          "Ненецкий автономный округ",
          "Архангельская область",
          "Вологодская область",
          "Калининградская область",
          "Ленинградская область",
          "Мурманская область",
          "Новгородская область",
          "Псковская область",
          "Город Санкт-Петербург",
          "Республика Адыгея",
          "Республика Калмыкия",
          "Республика Крым",
          "Краснодарский край",
          "Астраханская область",
          "Волгоградская область",
          "Ростовская область",
          "Город Севастополь",
          "Республика Дагестан",
          "Республика Ингушетия",
          "Кабардино-Балкарская Республика",
          "Карачаево-Черкесская Республика",
          "Республика Северная Осетия-Алания",
          "Чеченская Республика",
          "Ставропольский край",
          "Республика Башкортостан",
          "Республика Марий Эл",
          "Республика Мордовия",
          "Республика Татарстан",
          "Удмуртская Республика",
          "Чувашская Республика",
          "Пермский край",
          "Кировская область",
          "Нижегородская область",
          "Оренбургская область",
          "Пензенская область",
          "Самарская область",
          "Саратовская область",
          "Ульяновская область",
          "Курганская область",
          "Свердловская область",
          "Ханты-Мансийский автономный округ - Югра",
          "Ямало-Ненецкий автономный округ",
          "Тюменская область",
          "Челябинская область",
          "Республика Алтай",
          "Республика Тыва",
          "Республика Хакасия",
          "Алтайский край",
          "Красноярский край",
          "Иркутская область",
          "Кемеровская область",
          "Новосибирская область",
          "Омская область",
          "Томская область",
          "Республика Бурятия",
          "Забайкальский край",
          "Республика Саха (Якутия)",
          "Камчатский край",
          "Приморский край",
          "Хабаровский край",
          "Амурская область",
          "Магаданская область",
          "Сахалинская область",
          "Еврейская автономная область",
          "Чукотский автономный округ"
         ],
         "xaxis": "x",
         "y": [
          114915.23,
          109399.95,
          87961.45,
          123738.77,
          88192.55,
          110888.09,
          87367.36,
          104151.41,
          120019.55,
          168525.77,
          96507.59,
          97543.86,
          103980.36,
          107379,
          104100.45,
          106610.68,
          102977.18,
          259127.77,
          111382,
          126171.55,
          126194.95,
          88427.77,
          88530.82,
          100728.59,
          119200.45,
          135377.45,
          107421.77,
          102377.82,
          152576.77,
          109737.41,
          42670.09,
          84756.5,
          137914.77,
          102558.32,
          91871.14,
          125862.91,
          88431.73,
          110395.18,
          27395.95,
          84027.45,
          54332.36,
          88782.23,
          57404.73,
          106453.32,
          128387.86,
          71105.27,
          64560.82,
          132898.18,
          86086.36,
          72901.5,
          124223.95,
          84770.32,
          126687.64,
          88219.14,
          90187.14,
          132992.23,
          84509.59,
          87984.55,
          82368.91,
          154066.41,
          166221.55,
          170317.45,
          99959.5,
          101583,
          68047.5,
          43275.55,
          86272.36,
          87268.23,
          115866.18,
          90223.41,
          94027.95,
          116826,
          104224.27,
          89622.91,
          103175.82,
          90280.5,
          132482.86,
          109651.09,
          113732.59,
          131946.32,
          114297.32,
          122143.05,
          177910,
          88365.09,
          105641.32
         ],
         "yaxis": "y"
        }
       ],
       "layout": {
        "autosize": true,
        "legend": {
         "tracegroupgap": 0
        },
        "template": {
         "data": {
          "bar": [
           {
            "error_x": {
             "color": "#2a3f5f"
            },
            "error_y": {
             "color": "#2a3f5f"
            },
            "marker": {
             "line": {
              "color": "#E5ECF6",
              "width": 0.5
             },
             "pattern": {
              "fillmode": "overlay",
              "size": 10,
              "solidity": 0.2
             }
            },
            "type": "bar"
           }
          ],
          "barpolar": [
           {
            "marker": {
             "line": {
              "color": "#E5ECF6",
              "width": 0.5
             },
             "pattern": {
              "fillmode": "overlay",
              "size": 10,
              "solidity": 0.2
             }
            },
            "type": "barpolar"
           }
          ],
          "carpet": [
           {
            "aaxis": {
             "endlinecolor": "#2a3f5f",
             "gridcolor": "white",
             "linecolor": "white",
             "minorgridcolor": "white",
             "startlinecolor": "#2a3f5f"
            },
            "baxis": {
             "endlinecolor": "#2a3f5f",
             "gridcolor": "white",
             "linecolor": "white",
             "minorgridcolor": "white",
             "startlinecolor": "#2a3f5f"
            },
            "type": "carpet"
           }
          ],
          "choropleth": [
           {
            "colorbar": {
             "outlinewidth": 0,
             "ticks": ""
            },
            "type": "choropleth"
           }
          ],
          "contour": [
           {
            "colorbar": {
             "outlinewidth": 0,
             "ticks": ""
            },
            "colorscale": [
             [
              0,
              "#0d0887"
             ],
             [
              0.1111111111111111,
              "#46039f"
             ],
             [
              0.2222222222222222,
              "#7201a8"
             ],
             [
              0.3333333333333333,
              "#9c179e"
             ],
             [
              0.4444444444444444,
              "#bd3786"
             ],
             [
              0.5555555555555556,
              "#d8576b"
             ],
             [
              0.6666666666666666,
              "#ed7953"
             ],
             [
              0.7777777777777778,
              "#fb9f3a"
             ],
             [
              0.8888888888888888,
              "#fdca26"
             ],
             [
              1,
              "#f0f921"
             ]
            ],
            "type": "contour"
           }
          ],
          "contourcarpet": [
           {
            "colorbar": {
             "outlinewidth": 0,
             "ticks": ""
            },
            "type": "contourcarpet"
           }
          ],
          "heatmap": [
           {
            "colorbar": {
             "outlinewidth": 0,
             "ticks": ""
            },
            "colorscale": [
             [
              0,
              "#0d0887"
             ],
             [
              0.1111111111111111,
              "#46039f"
             ],
             [
              0.2222222222222222,
              "#7201a8"
             ],
             [
              0.3333333333333333,
              "#9c179e"
             ],
             [
              0.4444444444444444,
              "#bd3786"
             ],
             [
              0.5555555555555556,
              "#d8576b"
             ],
             [
              0.6666666666666666,
              "#ed7953"
             ],
             [
              0.7777777777777778,
              "#fb9f3a"
             ],
             [
              0.8888888888888888,
              "#fdca26"
             ],
             [
              1,
              "#f0f921"
             ]
            ],
            "type": "heatmap"
           }
          ],
          "heatmapgl": [
           {
            "colorbar": {
             "outlinewidth": 0,
             "ticks": ""
            },
            "colorscale": [
             [
              0,
              "#0d0887"
             ],
             [
              0.1111111111111111,
              "#46039f"
             ],
             [
              0.2222222222222222,
              "#7201a8"
             ],
             [
              0.3333333333333333,
              "#9c179e"
             ],
             [
              0.4444444444444444,
              "#bd3786"
             ],
             [
              0.5555555555555556,
              "#d8576b"
             ],
             [
              0.6666666666666666,
              "#ed7953"
             ],
             [
              0.7777777777777778,
              "#fb9f3a"
             ],
             [
              0.8888888888888888,
              "#fdca26"
             ],
             [
              1,
              "#f0f921"
             ]
            ],
            "type": "heatmapgl"
           }
          ],
          "histogram": [
           {
            "marker": {
             "pattern": {
              "fillmode": "overlay",
              "size": 10,
              "solidity": 0.2
             }
            },
            "type": "histogram"
           }
          ],
          "histogram2d": [
           {
            "colorbar": {
             "outlinewidth": 0,
             "ticks": ""
            },
            "colorscale": [
             [
              0,
              "#0d0887"
             ],
             [
              0.1111111111111111,
              "#46039f"
             ],
             [
              0.2222222222222222,
              "#7201a8"
             ],
             [
              0.3333333333333333,
              "#9c179e"
             ],
             [
              0.4444444444444444,
              "#bd3786"
             ],
             [
              0.5555555555555556,
              "#d8576b"
             ],
             [
              0.6666666666666666,
              "#ed7953"
             ],
             [
              0.7777777777777778,
              "#fb9f3a"
             ],
             [
              0.8888888888888888,
              "#fdca26"
             ],
             [
              1,
              "#f0f921"
             ]
            ],
            "type": "histogram2d"
           }
          ],
          "histogram2dcontour": [
           {
            "colorbar": {
             "outlinewidth": 0,
             "ticks": ""
            },
            "colorscale": [
             [
              0,
              "#0d0887"
             ],
             [
              0.1111111111111111,
              "#46039f"
             ],
             [
              0.2222222222222222,
              "#7201a8"
             ],
             [
              0.3333333333333333,
              "#9c179e"
             ],
             [
              0.4444444444444444,
              "#bd3786"
             ],
             [
              0.5555555555555556,
              "#d8576b"
             ],
             [
              0.6666666666666666,
              "#ed7953"
             ],
             [
              0.7777777777777778,
              "#fb9f3a"
             ],
             [
              0.8888888888888888,
              "#fdca26"
             ],
             [
              1,
              "#f0f921"
             ]
            ],
            "type": "histogram2dcontour"
           }
          ],
          "mesh3d": [
           {
            "colorbar": {
             "outlinewidth": 0,
             "ticks": ""
            },
            "type": "mesh3d"
           }
          ],
          "parcoords": [
           {
            "line": {
             "colorbar": {
              "outlinewidth": 0,
              "ticks": ""
             }
            },
            "type": "parcoords"
           }
          ],
          "pie": [
           {
            "automargin": true,
            "type": "pie"
           }
          ],
          "scatter": [
           {
            "fillpattern": {
             "fillmode": "overlay",
             "size": 10,
             "solidity": 0.2
            },
            "type": "scatter"
           }
          ],
          "scatter3d": [
           {
            "line": {
             "colorbar": {
              "outlinewidth": 0,
              "ticks": ""
             }
            },
            "marker": {
             "colorbar": {
              "outlinewidth": 0,
              "ticks": ""
             }
            },
            "type": "scatter3d"
           }
          ],
          "scattercarpet": [
           {
            "marker": {
             "colorbar": {
              "outlinewidth": 0,
              "ticks": ""
             }
            },
            "type": "scattercarpet"
           }
          ],
          "scattergeo": [
           {
            "marker": {
             "colorbar": {
              "outlinewidth": 0,
              "ticks": ""
             }
            },
            "type": "scattergeo"
           }
          ],
          "scattergl": [
           {
            "marker": {
             "colorbar": {
              "outlinewidth": 0,
              "ticks": ""
             }
            },
            "type": "scattergl"
           }
          ],
          "scattermapbox": [
           {
            "marker": {
             "colorbar": {
              "outlinewidth": 0,
              "ticks": ""
             }
            },
            "type": "scattermapbox"
           }
          ],
          "scatterpolar": [
           {
            "marker": {
             "colorbar": {
              "outlinewidth": 0,
              "ticks": ""
             }
            },
            "type": "scatterpolar"
           }
          ],
          "scatterpolargl": [
           {
            "marker": {
             "colorbar": {
              "outlinewidth": 0,
              "ticks": ""
             }
            },
            "type": "scatterpolargl"
           }
          ],
          "scatterternary": [
           {
            "marker": {
             "colorbar": {
              "outlinewidth": 0,
              "ticks": ""
             }
            },
            "type": "scatterternary"
           }
          ],
          "surface": [
           {
            "colorbar": {
             "outlinewidth": 0,
             "ticks": ""
            },
            "colorscale": [
             [
              0,
              "#0d0887"
             ],
             [
              0.1111111111111111,
              "#46039f"
             ],
             [
              0.2222222222222222,
              "#7201a8"
             ],
             [
              0.3333333333333333,
              "#9c179e"
             ],
             [
              0.4444444444444444,
              "#bd3786"
             ],
             [
              0.5555555555555556,
              "#d8576b"
             ],
             [
              0.6666666666666666,
              "#ed7953"
             ],
             [
              0.7777777777777778,
              "#fb9f3a"
             ],
             [
              0.8888888888888888,
              "#fdca26"
             ],
             [
              1,
              "#f0f921"
             ]
            ],
            "type": "surface"
           }
          ],
          "table": [
           {
            "cells": {
             "fill": {
              "color": "#EBF0F8"
             },
             "line": {
              "color": "white"
             }
            },
            "header": {
             "fill": {
              "color": "#C8D4E3"
             },
             "line": {
              "color": "white"
             }
            },
            "type": "table"
           }
          ]
         },
         "layout": {
          "annotationdefaults": {
           "arrowcolor": "#2a3f5f",
           "arrowhead": 0,
           "arrowwidth": 1
          },
          "autotypenumbers": "strict",
          "coloraxis": {
           "colorbar": {
            "outlinewidth": 0,
            "ticks": ""
           }
          },
          "colorscale": {
           "diverging": [
            [
             0,
             "#8e0152"
            ],
            [
             0.1,
             "#c51b7d"
            ],
            [
             0.2,
             "#de77ae"
            ],
            [
             0.3,
             "#f1b6da"
            ],
            [
             0.4,
             "#fde0ef"
            ],
            [
             0.5,
             "#f7f7f7"
            ],
            [
             0.6,
             "#e6f5d0"
            ],
            [
             0.7,
             "#b8e186"
            ],
            [
             0.8,
             "#7fbc41"
            ],
            [
             0.9,
             "#4d9221"
            ],
            [
             1,
             "#276419"
            ]
           ],
           "sequential": [
            [
             0,
             "#0d0887"
            ],
            [
             0.1111111111111111,
             "#46039f"
            ],
            [
             0.2222222222222222,
             "#7201a8"
            ],
            [
             0.3333333333333333,
             "#9c179e"
            ],
            [
             0.4444444444444444,
             "#bd3786"
            ],
            [
             0.5555555555555556,
             "#d8576b"
            ],
            [
             0.6666666666666666,
             "#ed7953"
            ],
            [
             0.7777777777777778,
             "#fb9f3a"
            ],
            [
             0.8888888888888888,
             "#fdca26"
            ],
            [
             1,
             "#f0f921"
            ]
           ],
           "sequentialminus": [
            [
             0,
             "#0d0887"
            ],
            [
             0.1111111111111111,
             "#46039f"
            ],
            [
             0.2222222222222222,
             "#7201a8"
            ],
            [
             0.3333333333333333,
             "#9c179e"
            ],
            [
             0.4444444444444444,
             "#bd3786"
            ],
            [
             0.5555555555555556,
             "#d8576b"
            ],
            [
             0.6666666666666666,
             "#ed7953"
            ],
            [
             0.7777777777777778,
             "#fb9f3a"
            ],
            [
             0.8888888888888888,
             "#fdca26"
            ],
            [
             1,
             "#f0f921"
            ]
           ]
          },
          "colorway": [
           "#636efa",
           "#EF553B",
           "#00cc96",
           "#ab63fa",
           "#FFA15A",
           "#19d3f3",
           "#FF6692",
           "#B6E880",
           "#FF97FF",
           "#FECB52"
          ],
          "font": {
           "color": "#2a3f5f"
          },
          "geo": {
           "bgcolor": "white",
           "lakecolor": "white",
           "landcolor": "#E5ECF6",
           "showlakes": true,
           "showland": true,
           "subunitcolor": "white"
          },
          "hoverlabel": {
           "align": "left"
          },
          "hovermode": "closest",
          "mapbox": {
           "style": "light"
          },
          "paper_bgcolor": "white",
          "plot_bgcolor": "#E5ECF6",
          "polar": {
           "angularaxis": {
            "gridcolor": "white",
            "linecolor": "white",
            "ticks": ""
           },
           "bgcolor": "#E5ECF6",
           "radialaxis": {
            "gridcolor": "white",
            "linecolor": "white",
            "ticks": ""
           }
          },
          "scene": {
           "xaxis": {
            "backgroundcolor": "#E5ECF6",
            "gridcolor": "white",
            "gridwidth": 2,
            "linecolor": "white",
            "showbackground": true,
            "ticks": "",
            "zerolinecolor": "white"
           },
           "yaxis": {
            "backgroundcolor": "#E5ECF6",
            "gridcolor": "white",
            "gridwidth": 2,
            "linecolor": "white",
            "showbackground": true,
            "ticks": "",
            "zerolinecolor": "white"
           },
           "zaxis": {
            "backgroundcolor": "#E5ECF6",
            "gridcolor": "white",
            "gridwidth": 2,
            "linecolor": "white",
            "showbackground": true,
            "ticks": "",
            "zerolinecolor": "white"
           }
          },
          "shapedefaults": {
           "line": {
            "color": "#2a3f5f"
           }
          },
          "ternary": {
           "aaxis": {
            "gridcolor": "white",
            "linecolor": "white",
            "ticks": ""
           },
           "baxis": {
            "gridcolor": "white",
            "linecolor": "white",
            "ticks": ""
           },
           "bgcolor": "#E5ECF6",
           "caxis": {
            "gridcolor": "white",
            "linecolor": "white",
            "ticks": ""
           }
          },
          "title": {
           "x": 0.05
          },
          "xaxis": {
           "automargin": true,
           "gridcolor": "white",
           "linecolor": "white",
           "ticks": "",
           "title": {
            "standoff": 15
           },
           "zerolinecolor": "white",
           "zerolinewidth": 2
          },
          "yaxis": {
           "automargin": true,
           "gridcolor": "white",
           "linecolor": "white",
           "ticks": "",
           "title": {
            "standoff": 15
           },
           "zerolinecolor": "white",
           "zerolinewidth": 2
          }
         }
        },
        "title": {
         "text": "Оборот розничной торговли"
        },
        "xaxis": {
         "anchor": "y",
         "autorange": true,
         "domain": [
          0,
          1
         ],
         "range": [
          0,
          84
         ],
         "title": {
          "text": "Регион"
         },
         "type": "category"
        },
        "yaxis": {
         "anchor": "x",
         "autorange": true,
         "domain": [
          0,
          1
         ],
         "range": [
          14521.960000000001,
          272001.76
         ],
         "title": {
          "text": "Retail"
         },
         "type": "linear"
        }
       }
      },
      "image/png": "[encoded data removed]",
      "text/html": [
       "<div>                            <div id=\"d7e5221b-af00-42a0-8ac5-1f13c1cea826\" class=\"plotly-graph-div\" style=\"height:525px; width:900px;\"></div>            <script type=\"text/javascript\">                require([\"plotly\"], function(Plotly) {                    window.PLOTLYENV=window.PLOTLYENV || {};                                    if (document.getElementById(\"d7e5221b-af00-42a0-8ac5-1f13c1cea826\")) {                    Plotly.newPlot(                        \"d7e5221b-af00-42a0-8ac5-1f13c1cea826\",                        [{\"hovertemplate\":\"\\u0420\\u0435\\u0433\\u0438\\u043e\\u043d=%{x}<br>Retail=%{y}<extra></extra>\",\"legendgroup\":\"\",\"line\":{\"color\":\"#636efa\",\"dash\":\"solid\"},\"marker\":{\"symbol\":\"circle\"},\"mode\":\"lines\",\"name\":\"\",\"orientation\":\"v\",\"showlegend\":false,\"x\":[\"\\u0411\\u0435\\u043b\\u0433\\u043e\\u0440\\u043e\\u0434\\u0441\\u043a\\u0430\\u044f \\u043e\\u0431\\u043b\\u0430\\u0441\\u0442\\u044c\",\"\\u0411\\u0440\\u044f\\u043d\\u0441\\u043a\\u0430\\u044f \\u043e\\u0431\\u043b\\u0430\\u0441\\u0442\\u044c\",\"\\u0412\\u043b\\u0430\\u0434\\u0438\\u043c\\u0438\\u0440\\u0441\\u043a\\u0430\\u044f \\u043e\\u0431\\u043b\\u0430\\u0441\\u0442\\u044c\",\"\\u0412\\u043e\\u0440\\u043e\\u043d\\u0435\\u0436\\u0441\\u043a\\u0430\\u044f \\u043e\\u0431\\u043b\\u0430\\u0441\\u0442\\u044c\",\"\\u0418\\u0432\\u0430\\u043d\\u043e\\u0432\\u0441\\u043a\\u0430\\u044f \\u043e\\u0431\\u043b\\u0430\\u0441\\u0442\\u044c\",\"\\u041a\\u0430\\u043b\\u0443\\u0436\\u0441\\u043a\\u0430\\u044f \\u043e\\u0431\\u043b\\u0430\\u0441\\u0442\\u044c\",\"\\u041a\\u043e\\u0441\\u0442\\u0440\\u043e\\u043c\\u0441\\u043a\\u0430\\u044f \\u043e\\u0431\\u043b\\u0430\\u0441\\u0442\\u044c\",\"\\u041a\\u0443\\u0440\\u0441\\u043a\\u0430\\u044f \\u043e\\u0431\\u043b\\u0430\\u0441\\u0442\\u044c\",\"\\u041b\\u0438\\u043f\\u0435\\u0446\\u043a\\u0430\\u044f \\u043e\\u0431\\u043b\\u0430\\u0441\\u0442\\u044c\",\"\\u041c\\u043e\\u0441\\u043a\\u043e\\u0432\\u0441\\u043a\\u0430\\u044f \\u043e\\u0431\\u043b\\u0430\\u0441\\u0442\\u044c\",\"\\u041e\\u0440\\u043b\\u043e\\u0432\\u0441\\u043a\\u0430\\u044f \\u043e\\u0431\\u043b\\u0430\\u0441\\u0442\\u044c\",\"\\u0420\\u044f\\u0437\\u0430\\u043d\\u0441\\u043a\\u0430\\u044f \\u043e\\u0431\\u043b\\u0430\\u0441\\u0442\\u044c\",\"\\u0421\\u043c\\u043e\\u043b\\u0435\\u043d\\u0441\\u043a\\u0430\\u044f \\u043e\\u0431\\u043b\\u0430\\u0441\\u0442\\u044c\",\"\\u0422\\u0430\\u043c\\u0431\\u043e\\u0432\\u0441\\u043a\\u0430\\u044f \\u043e\\u0431\\u043b\\u0430\\u0441\\u0442\\u044c\",\"\\u0422\\u0432\\u0435\\u0440\\u0441\\u043a\\u0430\\u044f \\u043e\\u0431\\u043b\\u0430\\u0441\\u0442\\u044c\",\"\\u0422\\u0443\\u043b\\u044c\\u0441\\u043a\\u0430\\u044f \\u043e\\u0431\\u043b\\u0430\\u0441\\u0442\\u044c\",\"\\u042f\\u0440\\u043e\\u0441\\u043b\\u0430\\u0432\\u0441\\u043a\\u0430\\u044f \\u043e\\u0431\\u043b\\u0430\\u0441\\u0442\\u044c\",\"\\u0413\\u043e\\u0440\\u043e\\u0434 \\u041c\\u043e\\u0441\\u043a\\u0432\\u0430\",\"\\u0420\\u0435\\u0441\\u043f\\u0443\\u0431\\u043b\\u0438\\u043a\\u0430 \\u041a\\u0430\\u0440\\u0435\\u043b\\u0438\\u044f\",\"\\u0420\\u0435\\u0441\\u043f\\u0443\\u0431\\u043b\\u0438\\u043a\\u0430 \\u041a\\u043e\\u043c\\u0438\",\"\\u041d\\u0435\\u043d\\u0435\\u0446\\u043a\\u0438\\u0439 \\u0430\\u0432\\u0442\\u043e\\u043d\\u043e\\u043c\\u043d\\u044b\\u0439 \\u043e\\u043a\\u0440\\u0443\\u0433\",\"\\u0410\\u0440\\u0445\\u0430\\u043d\\u0433\\u0435\\u043b\\u044c\\u0441\\u043a\\u0430\\u044f \\u043e\\u0431\\u043b\\u0430\\u0441\\u0442\\u044c\",\"\\u0412\\u043e\\u043b\\u043e\\u0433\\u043e\\u0434\\u0441\\u043a\\u0430\\u044f \\u043e\\u0431\\u043b\\u0430\\u0441\\u0442\\u044c\",\"\\u041a\\u0430\\u043b\\u0438\\u043d\\u0438\\u043d\\u0433\\u0440\\u0430\\u0434\\u0441\\u043a\\u0430\\u044f \\u043e\\u0431\\u043b\\u0430\\u0441\\u0442\\u044c\",\"\\u041b\\u0435\\u043d\\u0438\\u043d\\u0433\\u0440\\u0430\\u0434\\u0441\\u043a\\u0430\\u044f \\u043e\\u0431\\u043b\\u0430\\u0441\\u0442\\u044c\",\"\\u041c\\u0443\\u0440\\u043c\\u0430\\u043d\\u0441\\u043a\\u0430\\u044f \\u043e\\u0431\\u043b\\u0430\\u0441\\u0442\\u044c\",\"\\u041d\\u043e\\u0432\\u0433\\u043e\\u0440\\u043e\\u0434\\u0441\\u043a\\u0430\\u044f \\u043e\\u0431\\u043b\\u0430\\u0441\\u0442\\u044c\",\"\\u041f\\u0441\\u043a\\u043e\\u0432\\u0441\\u043a\\u0430\\u044f \\u043e\\u0431\\u043b\\u0430\\u0441\\u0442\\u044c\",\"\\u0413\\u043e\\u0440\\u043e\\u0434 \\u0421\\u0430\\u043d\\u043a\\u0442-\\u041f\\u0435\\u0442\\u0435\\u0440\\u0431\\u0443\\u0440\\u0433\",\"\\u0420\\u0435\\u0441\\u043f\\u0443\\u0431\\u043b\\u0438\\u043a\\u0430 \\u0410\\u0434\\u044b\\u0433\\u0435\\u044f\",\"\\u0420\\u0435\\u0441\\u043f\\u0443\\u0431\\u043b\\u0438\\u043a\\u0430 \\u041a\\u0430\\u043b\\u043c\\u044b\\u043a\\u0438\\u044f\",\"\\u0420\\u0435\\u0441\\u043f\\u0443\\u0431\\u043b\\u0438\\u043a\\u0430 \\u041a\\u0440\\u044b\\u043c\",\"\\u041a\\u0440\\u0430\\u0441\\u043d\\u043e\\u0434\\u0430\\u0440\\u0441\\u043a\\u0438\\u0439 \\u043a\\u0440\\u0430\\u0439\",\"\\u0410\\u0441\\u0442\\u0440\\u0430\\u0445\\u0430\\u043d\\u0441\\u043a\\u0430\\u044f \\u043e\\u0431\\u043b\\u0430\\u0441\\u0442\\u044c\",\"\\u0412\\u043e\\u043b\\u0433\\u043e\\u0433\\u0440\\u0430\\u0434\\u0441\\u043a\\u0430\\u044f \\u043e\\u0431\\u043b\\u0430\\u0441\\u0442\\u044c\",\"\\u0420\\u043e\\u0441\\u0442\\u043e\\u0432\\u0441\\u043a\\u0430\\u044f \\u043e\\u0431\\u043b\\u0430\\u0441\\u0442\\u044c\",\"\\u0413\\u043e\\u0440\\u043e\\u0434 \\u0421\\u0435\\u0432\\u0430\\u0441\\u0442\\u043e\\u043f\\u043e\\u043b\\u044c\",\"\\u0420\\u0435\\u0441\\u043f\\u0443\\u0431\\u043b\\u0438\\u043a\\u0430 \\u0414\\u0430\\u0433\\u0435\\u0441\\u0442\\u0430\\u043d\",\"\\u0420\\u0435\\u0441\\u043f\\u0443\\u0431\\u043b\\u0438\\u043a\\u0430 \\u0418\\u043d\\u0433\\u0443\\u0448\\u0435\\u0442\\u0438\\u044f\",\"\\u041a\\u0430\\u0431\\u0430\\u0440\\u0434\\u0438\\u043d\\u043e-\\u0411\\u0430\\u043b\\u043a\\u0430\\u0440\\u0441\\u043a\\u0430\\u044f \\u0420\\u0435\\u0441\\u043f\\u0443\\u0431\\u043b\\u0438\\u043a\\u0430\",\"\\u041a\\u0430\\u0440\\u0430\\u0447\\u0430\\u0435\\u0432\\u043e-\\u0427\\u0435\\u0440\\u043a\\u0435\\u0441\\u0441\\u043a\\u0430\\u044f \\u0420\\u0435\\u0441\\u043f\\u0443\\u0431\\u043b\\u0438\\u043a\\u0430\",\"\\u0420\\u0435\\u0441\\u043f\\u0443\\u0431\\u043b\\u0438\\u043a\\u0430 \\u0421\\u0435\\u0432\\u0435\\u0440\\u043d\\u0430\\u044f \\u041e\\u0441\\u0435\\u0442\\u0438\\u044f-\\u0410\\u043b\\u0430\\u043d\\u0438\\u044f\",\"\\u0427\\u0435\\u0447\\u0435\\u043d\\u0441\\u043a\\u0430\\u044f \\u0420\\u0435\\u0441\\u043f\\u0443\\u0431\\u043b\\u0438\\u043a\\u0430\",\"\\u0421\\u0442\\u0430\\u0432\\u0440\\u043e\\u043f\\u043e\\u043b\\u044c\\u0441\\u043a\\u0438\\u0439 \\u043a\\u0440\\u0430\\u0439\",\"\\u0420\\u0435\\u0441\\u043f\\u0443\\u0431\\u043b\\u0438\\u043a\\u0430 \\u0411\\u0430\\u0448\\u043a\\u043e\\u0440\\u0442\\u043e\\u0441\\u0442\\u0430\\u043d\",\"\\u0420\\u0435\\u0441\\u043f\\u0443\\u0431\\u043b\\u0438\\u043a\\u0430 \\u041c\\u0430\\u0440\\u0438\\u0439 \\u042d\\u043b\",\"\\u0420\\u0435\\u0441\\u043f\\u0443\\u0431\\u043b\\u0438\\u043a\\u0430 \\u041c\\u043e\\u0440\\u0434\\u043e\\u0432\\u0438\\u044f\",\"\\u0420\\u0435\\u0441\\u043f\\u0443\\u0431\\u043b\\u0438\\u043a\\u0430 \\u0422\\u0430\\u0442\\u0430\\u0440\\u0441\\u0442\\u0430\\u043d\",\"\\u0423\\u0434\\u043c\\u0443\\u0440\\u0442\\u0441\\u043a\\u0430\\u044f \\u0420\\u0435\\u0441\\u043f\\u0443\\u0431\\u043b\\u0438\\u043a\\u0430\",\"\\u0427\\u0443\\u0432\\u0430\\u0448\\u0441\\u043a\\u0430\\u044f \\u0420\\u0435\\u0441\\u043f\\u0443\\u0431\\u043b\\u0438\\u043a\\u0430\",\"\\u041f\\u0435\\u0440\\u043c\\u0441\\u043a\\u0438\\u0439 \\u043a\\u0440\\u0430\\u0439\",\"\\u041a\\u0438\\u0440\\u043e\\u0432\\u0441\\u043a\\u0430\\u044f \\u043e\\u0431\\u043b\\u0430\\u0441\\u0442\\u044c\",\"\\u041d\\u0438\\u0436\\u0435\\u0433\\u043e\\u0440\\u043e\\u0434\\u0441\\u043a\\u0430\\u044f \\u043e\\u0431\\u043b\\u0430\\u0441\\u0442\\u044c\",\"\\u041e\\u0440\\u0435\\u043d\\u0431\\u0443\\u0440\\u0433\\u0441\\u043a\\u0430\\u044f \\u043e\\u0431\\u043b\\u0430\\u0441\\u0442\\u044c\",\"\\u041f\\u0435\\u043d\\u0437\\u0435\\u043d\\u0441\\u043a\\u0430\\u044f \\u043e\\u0431\\u043b\\u0430\\u0441\\u0442\\u044c\",\"\\u0421\\u0430\\u043c\\u0430\\u0440\\u0441\\u043a\\u0430\\u044f \\u043e\\u0431\\u043b\\u0430\\u0441\\u0442\\u044c\",\"\\u0421\\u0430\\u0440\\u0430\\u0442\\u043e\\u0432\\u0441\\u043a\\u0430\\u044f \\u043e\\u0431\\u043b\\u0430\\u0441\\u0442\\u044c\",\"\\u0423\\u043b\\u044c\\u044f\\u043d\\u043e\\u0432\\u0441\\u043a\\u0430\\u044f \\u043e\\u0431\\u043b\\u0430\\u0441\\u0442\\u044c\",\"\\u041a\\u0443\\u0440\\u0433\\u0430\\u043d\\u0441\\u043a\\u0430\\u044f \\u043e\\u0431\\u043b\\u0430\\u0441\\u0442\\u044c\",\"\\u0421\\u0432\\u0435\\u0440\\u0434\\u043b\\u043e\\u0432\\u0441\\u043a\\u0430\\u044f \\u043e\\u0431\\u043b\\u0430\\u0441\\u0442\\u044c\",\"\\u0425\\u0430\\u043d\\u0442\\u044b-\\u041c\\u0430\\u043d\\u0441\\u0438\\u0439\\u0441\\u043a\\u0438\\u0439 \\u0430\\u0432\\u0442\\u043e\\u043d\\u043e\\u043c\\u043d\\u044b\\u0439 \\u043e\\u043a\\u0440\\u0443\\u0433 - \\u042e\\u0433\\u0440\\u0430\",\"\\u042f\\u043c\\u0430\\u043b\\u043e-\\u041d\\u0435\\u043d\\u0435\\u0446\\u043a\\u0438\\u0439 \\u0430\\u0432\\u0442\\u043e\\u043d\\u043e\\u043c\\u043d\\u044b\\u0439 \\u043e\\u043a\\u0440\\u0443\\u0433\",\"\\u0422\\u044e\\u043c\\u0435\\u043d\\u0441\\u043a\\u0430\\u044f \\u043e\\u0431\\u043b\\u0430\\u0441\\u0442\\u044c\",\"\\u0427\\u0435\\u043b\\u044f\\u0431\\u0438\\u043d\\u0441\\u043a\\u0430\\u044f \\u043e\\u0431\\u043b\\u0430\\u0441\\u0442\\u044c\",\"\\u0420\\u0435\\u0441\\u043f\\u0443\\u0431\\u043b\\u0438\\u043a\\u0430 \\u0410\\u043b\\u0442\\u0430\\u0439\",\"\\u0420\\u0435\\u0441\\u043f\\u0443\\u0431\\u043b\\u0438\\u043a\\u0430 \\u0422\\u044b\\u0432\\u0430\",\"\\u0420\\u0435\\u0441\\u043f\\u0443\\u0431\\u043b\\u0438\\u043a\\u0430 \\u0425\\u0430\\u043a\\u0430\\u0441\\u0438\\u044f\",\"\\u0410\\u043b\\u0442\\u0430\\u0439\\u0441\\u043a\\u0438\\u0439 \\u043a\\u0440\\u0430\\u0439\",\"\\u041a\\u0440\\u0430\\u0441\\u043d\\u043e\\u044f\\u0440\\u0441\\u043a\\u0438\\u0439 \\u043a\\u0440\\u0430\\u0439\",\"\\u0418\\u0440\\u043a\\u0443\\u0442\\u0441\\u043a\\u0430\\u044f \\u043e\\u0431\\u043b\\u0430\\u0441\\u0442\\u044c\",\"\\u041a\\u0435\\u043c\\u0435\\u0440\\u043e\\u0432\\u0441\\u043a\\u0430\\u044f \\u043e\\u0431\\u043b\\u0430\\u0441\\u0442\\u044c\",\"\\u041d\\u043e\\u0432\\u043e\\u0441\\u0438\\u0431\\u0438\\u0440\\u0441\\u043a\\u0430\\u044f \\u043e\\u0431\\u043b\\u0430\\u0441\\u0442\\u044c\",\"\\u041e\\u043c\\u0441\\u043a\\u0430\\u044f \\u043e\\u0431\\u043b\\u0430\\u0441\\u0442\\u044c\",\"\\u0422\\u043e\\u043c\\u0441\\u043a\\u0430\\u044f \\u043e\\u0431\\u043b\\u0430\\u0441\\u0442\\u044c\",\"\\u0420\\u0435\\u0441\\u043f\\u0443\\u0431\\u043b\\u0438\\u043a\\u0430 \\u0411\\u0443\\u0440\\u044f\\u0442\\u0438\\u044f\",\"\\u0417\\u0430\\u0431\\u0430\\u0439\\u043a\\u0430\\u043b\\u044c\\u0441\\u043a\\u0438\\u0439 \\u043a\\u0440\\u0430\\u0439\",\"\\u0420\\u0435\\u0441\\u043f\\u0443\\u0431\\u043b\\u0438\\u043a\\u0430 \\u0421\\u0430\\u0445\\u0430 (\\u042f\\u043a\\u0443\\u0442\\u0438\\u044f)\",\"\\u041a\\u0430\\u043c\\u0447\\u0430\\u0442\\u0441\\u043a\\u0438\\u0439 \\u043a\\u0440\\u0430\\u0439\",\"\\u041f\\u0440\\u0438\\u043c\\u043e\\u0440\\u0441\\u043a\\u0438\\u0439 \\u043a\\u0440\\u0430\\u0439\",\"\\u0425\\u0430\\u0431\\u0430\\u0440\\u043e\\u0432\\u0441\\u043a\\u0438\\u0439 \\u043a\\u0440\\u0430\\u0439\",\"\\u0410\\u043c\\u0443\\u0440\\u0441\\u043a\\u0430\\u044f \\u043e\\u0431\\u043b\\u0430\\u0441\\u0442\\u044c\",\"\\u041c\\u0430\\u0433\\u0430\\u0434\\u0430\\u043d\\u0441\\u043a\\u0430\\u044f \\u043e\\u0431\\u043b\\u0430\\u0441\\u0442\\u044c\",\"\\u0421\\u0430\\u0445\\u0430\\u043b\\u0438\\u043d\\u0441\\u043a\\u0430\\u044f \\u043e\\u0431\\u043b\\u0430\\u0441\\u0442\\u044c\",\"\\u0415\\u0432\\u0440\\u0435\\u0439\\u0441\\u043a\\u0430\\u044f \\u0430\\u0432\\u0442\\u043e\\u043d\\u043e\\u043c\\u043d\\u0430\\u044f \\u043e\\u0431\\u043b\\u0430\\u0441\\u0442\\u044c\",\"\\u0427\\u0443\\u043a\\u043e\\u0442\\u0441\\u043a\\u0438\\u0439 \\u0430\\u0432\\u0442\\u043e\\u043d\\u043e\\u043c\\u043d\\u044b\\u0439 \\u043e\\u043a\\u0440\\u0443\\u0433\"],\"xaxis\":\"x\",\"y\":[114915.23,109399.95,87961.45,123738.77,88192.55,110888.09,87367.36,104151.41,120019.55,168525.77,96507.59,97543.86,103980.36,107379.0,104100.45,106610.68,102977.18,259127.77,111382.0,126171.55,126194.95,88427.77,88530.82,100728.59,119200.45,135377.45,107421.77,102377.82,152576.77,109737.41,42670.09,84756.5,137914.77,102558.32,91871.14,125862.91,88431.73,110395.18,27395.95,84027.45,54332.36,88782.23,57404.73,106453.32,128387.86,71105.27,64560.82,132898.18,86086.36,72901.5,124223.95,84770.32,126687.64,88219.14,90187.14,132992.23,84509.59,87984.55,82368.91,154066.41,166221.55,170317.45,99959.5,101583.0,68047.5,43275.55,86272.36,87268.23,115866.18,90223.41,94027.95,116826.0,104224.27,89622.91,103175.82,90280.5,132482.86,109651.09,113732.59,131946.32,114297.32,122143.05,177910.0,88365.09,105641.32],\"yaxis\":\"y\",\"type\":\"scatter\"}],                        {\"template\":{\"data\":{\"histogram2dcontour\":[{\"type\":\"histogram2dcontour\",\"colorbar\":{\"outlinewidth\":0,\"ticks\":\"\"},\"colorscale\":[[0.0,\"#0d0887\"],[0.1111111111111111,\"#46039f\"],[0.2222222222222222,\"#7201a8\"],[0.3333333333333333,\"#9c179e\"],[0.4444444444444444,\"#bd3786\"],[0.5555555555555556,\"#d8576b\"],[0.6666666666666666,\"#ed7953\"],[0.7777777777777778,\"#fb9f3a\"],[0.8888888888888888,\"#fdca26\"],[1.0,\"#f0f921\"]]}],\"choropleth\":[{\"type\":\"choropleth\",\"colorbar\":{\"outlinewidth\":0,\"ticks\":\"\"}}],\"histogram2d\":[{\"type\":\"histogram2d\",\"colorbar\":{\"outlinewidth\":0,\"ticks\":\"\"},\"colorscale\":[[0.0,\"#0d0887\"],[0.1111111111111111,\"#46039f\"],[0.2222222222222222,\"#7201a8\"],[0.3333333333333333,\"#9c179e\"],[0.4444444444444444,\"#bd3786\"],[0.5555555555555556,\"#d8576b\"],[0.6666666666666666,\"#ed7953\"],[0.7777777777777778,\"#fb9f3a\"],[0.8888888888888888,\"#fdca26\"],[1.0,\"#f0f921\"]]}],\"heatmap\":[{\"type\":\"heatmap\",\"colorbar\":{\"outlinewidth\":0,\"ticks\":\"\"},\"colorscale\":[[0.0,\"#0d0887\"],[0.1111111111111111,\"#46039f\"],[0.2222222222222222,\"#7201a8\"],[0.3333333333333333,\"#9c179e\"],[0.4444444444444444,\"#bd3786\"],[0.5555555555555556,\"#d8576b\"],[0.6666666666666666,\"#ed7953\"],[0.7777777777777778,\"#fb9f3a\"],[0.8888888888888888,\"#fdca26\"],[1.0,\"#f0f921\"]]}],\"heatmapgl\":[{\"type\":\"heatmapgl\",\"colorbar\":{\"outlinewidth\":0,\"ticks\":\"\"},\"colorscale\":[[0.0,\"#0d0887\"],[0.1111111111111111,\"#46039f\"],[0.2222222222222222,\"#7201a8\"],[0.3333333333333333,\"#9c179e\"],[0.4444444444444444,\"#bd3786\"],[0.5555555555555556,\"#d8576b\"],[0.6666666666666666,\"#ed7953\"],[0.7777777777777778,\"#fb9f3a\"],[0.8888888888888888,\"#fdca26\"],[1.0,\"#f0f921\"]]}],\"contourcarpet\":[{\"type\":\"contourcarpet\",\"colorbar\":{\"outlinewidth\":0,\"ticks\":\"\"}}],\"contour\":[{\"type\":\"contour\",\"colorbar\":{\"outlinewidth\":0,\"ticks\":\"\"},\"colorscale\":[[0.0,\"#0d0887\"],[0.1111111111111111,\"#46039f\"],[0.2222222222222222,\"#7201a8\"],[0.3333333333333333,\"#9c179e\"],[0.4444444444444444,\"#bd3786\"],[0.5555555555555556,\"#d8576b\"],[0.6666666666666666,\"#ed7953\"],[0.7777777777777778,\"#fb9f3a\"],[0.8888888888888888,\"#fdca26\"],[1.0,\"#f0f921\"]]}],\"surface\":[{\"type\":\"surface\",\"colorbar\":{\"outlinewidth\":0,\"ticks\":\"\"},\"colorscale\":[[0.0,\"#0d0887\"],[0.1111111111111111,\"#46039f\"],[0.2222222222222222,\"#7201a8\"],[0.3333333333333333,\"#9c179e\"],[0.4444444444444444,\"#bd3786\"],[0.5555555555555556,\"#d8576b\"],[0.6666666666666666,\"#ed7953\"],[0.7777777777777778,\"#fb9f3a\"],[0.8888888888888888,\"#fdca26\"],[1.0,\"#f0f921\"]]}],\"mesh3d\":[{\"type\":\"mesh3d\",\"colorbar\":{\"outlinewidth\":0,\"ticks\":\"\"}}],\"scatter\":[{\"fillpattern\":{\"fillmode\":\"overlay\",\"size\":10,\"solidity\":0.2},\"type\":\"scatter\"}],\"parcoords\":[{\"type\":\"parcoords\",\"line\":{\"colorbar\":{\"outlinewidth\":0,\"ticks\":\"\"}}}],\"scatterpolargl\":[{\"type\":\"scatterpolargl\",\"marker\":{\"colorbar\":{\"outlinewidth\":0,\"ticks\":\"\"}}}],\"bar\":[{\"error_x\":{\"color\":\"#2a3f5f\"},\"error_y\":{\"color\":\"#2a3f5f\"},\"marker\":{\"line\":{\"color\":\"#E5ECF6\",\"width\":0.5},\"pattern\":{\"fillmode\":\"overlay\",\"size\":10,\"solidity\":0.2}},\"type\":\"bar\"}],\"scattergeo\":[{\"type\":\"scattergeo\",\"marker\":{\"colorbar\":{\"outlinewidth\":0,\"ticks\":\"\"}}}],\"scatterpolar\":[{\"type\":\"scatterpolar\",\"marker\":{\"colorbar\":{\"outlinewidth\":0,\"ticks\":\"\"}}}],\"histogram\":[{\"marker\":{\"pattern\":{\"fillmode\":\"overlay\",\"size\":10,\"solidity\":0.2}},\"type\":\"histogram\"}],\"scattergl\":[{\"type\":\"scattergl\",\"marker\":{\"colorbar\":{\"outlinewidth\":0,\"ticks\":\"\"}}}],\"scatter3d\":[{\"type\":\"scatter3d\",\"line\":{\"colorbar\":{\"outlinewidth\":0,\"ticks\":\"\"}},\"marker\":{\"colorbar\":{\"outlinewidth\":0,\"ticks\":\"\"}}}],\"scattermapbox\":[{\"type\":\"scattermapbox\",\"marker\":{\"colorbar\":{\"outlinewidth\":0,\"ticks\":\"\"}}}],\"scatterternary\":[{\"type\":\"scatterternary\",\"marker\":{\"colorbar\":{\"outlinewidth\":0,\"ticks\":\"\"}}}],\"scattercarpet\":[{\"type\":\"scattercarpet\",\"marker\":{\"colorbar\":{\"outlinewidth\":0,\"ticks\":\"\"}}}],\"carpet\":[{\"aaxis\":{\"endlinecolor\":\"#2a3f5f\",\"gridcolor\":\"white\",\"linecolor\":\"white\",\"minorgridcolor\":\"white\",\"startlinecolor\":\"#2a3f5f\"},\"baxis\":{\"endlinecolor\":\"#2a3f5f\",\"gridcolor\":\"white\",\"linecolor\":\"white\",\"minorgridcolor\":\"white\",\"startlinecolor\":\"#2a3f5f\"},\"type\":\"carpet\"}],\"table\":[{\"cells\":{\"fill\":{\"color\":\"#EBF0F8\"},\"line\":{\"color\":\"white\"}},\"header\":{\"fill\":{\"color\":\"#C8D4E3\"},\"line\":{\"color\":\"white\"}},\"type\":\"table\"}],\"barpolar\":[{\"marker\":{\"line\":{\"color\":\"#E5ECF6\",\"width\":0.5},\"pattern\":{\"fillmode\":\"overlay\",\"size\":10,\"solidity\":0.2}},\"type\":\"barpolar\"}],\"pie\":[{\"automargin\":true,\"type\":\"pie\"}]},\"layout\":{\"autotypenumbers\":\"strict\",\"colorway\":[\"#636efa\",\"#EF553B\",\"#00cc96\",\"#ab63fa\",\"#FFA15A\",\"#19d3f3\",\"#FF6692\",\"#B6E880\",\"#FF97FF\",\"#FECB52\"],\"font\":{\"color\":\"#2a3f5f\"},\"hovermode\":\"closest\",\"hoverlabel\":{\"align\":\"left\"},\"paper_bgcolor\":\"white\",\"plot_bgcolor\":\"#E5ECF6\",\"polar\":{\"bgcolor\":\"#E5ECF6\",\"angularaxis\":{\"gridcolor\":\"white\",\"linecolor\":\"white\",\"ticks\":\"\"},\"radialaxis\":{\"gridcolor\":\"white\",\"linecolor\":\"white\",\"ticks\":\"\"}},\"ternary\":{\"bgcolor\":\"#E5ECF6\",\"aaxis\":{\"gridcolor\":\"white\",\"linecolor\":\"white\",\"ticks\":\"\"},\"baxis\":{\"gridcolor\":\"white\",\"linecolor\":\"white\",\"ticks\":\"\"},\"caxis\":{\"gridcolor\":\"white\",\"linecolor\":\"white\",\"ticks\":\"\"}},\"coloraxis\":{\"colorbar\":{\"outlinewidth\":0,\"ticks\":\"\"}},\"colorscale\":{\"sequential\":[[0.0,\"#0d0887\"],[0.1111111111111111,\"#46039f\"],[0.2222222222222222,\"#7201a8\"],[0.3333333333333333,\"#9c179e\"],[0.4444444444444444,\"#bd3786\"],[0.5555555555555556,\"#d8576b\"],[0.6666666666666666,\"#ed7953\"],[0.7777777777777778,\"#fb9f3a\"],[0.8888888888888888,\"#fdca26\"],[1.0,\"#f0f921\"]],\"sequentialminus\":[[0.0,\"#0d0887\"],[0.1111111111111111,\"#46039f\"],[0.2222222222222222,\"#7201a8\"],[0.3333333333333333,\"#9c179e\"],[0.4444444444444444,\"#bd3786\"],[0.5555555555555556,\"#d8576b\"],[0.6666666666666666,\"#ed7953\"],[0.7777777777777778,\"#fb9f3a\"],[0.8888888888888888,\"#fdca26\"],[1.0,\"#f0f921\"]],\"diverging\":[[0,\"#8e0152\"],[0.1,\"#c51b7d\"],[0.2,\"#de77ae\"],[0.3,\"#f1b6da\"],[0.4,\"#fde0ef\"],[0.5,\"#f7f7f7\"],[0.6,\"#e6f5d0\"],[0.7,\"#b8e186\"],[0.8,\"#7fbc41\"],[0.9,\"#4d9221\"],[1,\"#276419\"]]},\"xaxis\":{\"gridcolor\":\"white\",\"linecolor\":\"white\",\"ticks\":\"\",\"title\":{\"standoff\":15},\"zerolinecolor\":\"white\",\"automargin\":true,\"zerolinewidth\":2},\"yaxis\":{\"gridcolor\":\"white\",\"linecolor\":\"white\",\"ticks\":\"\",\"title\":{\"standoff\":15},\"zerolinecolor\":\"white\",\"automargin\":true,\"zerolinewidth\":2},\"scene\":{\"xaxis\":{\"backgroundcolor\":\"#E5ECF6\",\"gridcolor\":\"white\",\"linecolor\":\"white\",\"showbackground\":true,\"ticks\":\"\",\"zerolinecolor\":\"white\",\"gridwidth\":2},\"yaxis\":{\"backgroundcolor\":\"#E5ECF6\",\"gridcolor\":\"white\",\"linecolor\":\"white\",\"showbackground\":true,\"ticks\":\"\",\"zerolinecolor\":\"white\",\"gridwidth\":2},\"zaxis\":{\"backgroundcolor\":\"#E5ECF6\",\"gridcolor\":\"white\",\"linecolor\":\"white\",\"showbackground\":true,\"ticks\":\"\",\"zerolinecolor\":\"white\",\"gridwidth\":2}},\"shapedefaults\":{\"line\":{\"color\":\"#2a3f5f\"}},\"annotationdefaults\":{\"arrowcolor\":\"#2a3f5f\",\"arrowhead\":0,\"arrowwidth\":1},\"geo\":{\"bgcolor\":\"white\",\"landcolor\":\"#E5ECF6\",\"subunitcolor\":\"white\",\"showland\":true,\"showlakes\":true,\"lakecolor\":\"white\"},\"title\":{\"x\":0.05},\"mapbox\":{\"style\":\"light\"}}},\"xaxis\":{\"anchor\":\"y\",\"domain\":[0.0,1.0],\"title\":{\"text\":\"\\u0420\\u0435\\u0433\\u0438\\u043e\\u043d\"}},\"yaxis\":{\"anchor\":\"x\",\"domain\":[0.0,1.0],\"title\":{\"text\":\"Retail\"}},\"legend\":{\"tracegroupgap\":0},\"title\":{\"text\":\"\\u041e\\u0431\\u043e\\u0440\\u043e\\u0442 \\u0440\\u043e\\u0437\\u043d\\u0438\\u0447\\u043d\\u043e\\u0439 \\u0442\\u043e\\u0440\\u0433\\u043e\\u0432\\u043b\\u0438\"},\"width\":900},                        {\"responsive\": true}                    ).then(function(){\n",
       "                            \n",
       "var gd = document.getElementById('d7e5221b-af00-42a0-8ac5-1f13c1cea826');\n",
       "var x = new MutationObserver(function (mutations, observer) {{\n",
       "        var display = window.getComputedStyle(gd).display;\n",
       "        if (!display || display === 'none') {{\n",
       "            console.log([gd, 'removed!']);\n",
       "            Plotly.purge(gd);\n",
       "            observer.disconnect();\n",
       "        }}\n",
       "}});\n",
       "\n",
       "// Listen for the removal of the full notebook cells\n",
       "var notebookContainer = gd.closest('#notebook-container');\n",
       "if (notebookContainer) {{\n",
       "    x.observe(notebookContainer, {childList: true});\n",
       "}}\n",
       "\n",
       "// Listen for the clearing of the current output cell\n",
       "var outputEl = gd.closest('.output');\n",
       "if (outputEl) {{\n",
       "    x.observe(outputEl, {childList: true});\n",
       "}}\n",
       "\n",
       "                        })                };                });            </script>        </div>"
      ]
     },
     "metadata": {},
     "output_type": "display_data"
    }
   ],
   "source": [
    "fig = px.line(df_retail, y='Retail', width = 900, title = 'Оборот розничной торговли')\n",
    "fig.show()"
   ]
  },
  {
   "cell_type": "code",
   "execution_count": 69,
   "id": "d010a68b-bead-48a8-9a83-051218751fb4",
   "metadata": {},
   "outputs": [
    {
     "data": {
      "image/png": "[encoded data removed]",
      "text/plain": [
       "<Figure size 900x200 with 1 Axes>"
      ]
     },
     "metadata": {},
     "output_type": "display_data"
    }
   ],
   "source": [
    "#визуализируем топ-10 регионов\n",
    "grouped_df_retail = df_retail.groupby(['Регион'])['Retail'].max()\n",
    "grouped_df_retail = grouped_df_retail.nlargest(10)\n",
    "grouped_df_retail.plot(\n",
    "    kind='bar',\n",
    "    grid=True,\n",
    "    figsize=(9, 2),\n",
    "    colormap='plasma'\n",
    ");"
   ]
  },
  {
   "cell_type": "code",
   "execution_count": 70,
   "id": "34f48744-5a02-40f0-af71-e5281be3dbd1",
   "metadata": {},
   "outputs": [
    {
     "data": {
      "text/plain": [
       "Retail    259127.77\n",
       "Name: Город Москва, dtype: float64"
      ]
     },
     "execution_count": 70,
     "metadata": {},
     "output_type": "execute_result"
    }
   ],
   "source": [
    "#Посмотрим где больше всего\n",
    "df_retail.loc[df_retail['Retail'].idxmax()]"
   ]
  },
  {
   "cell_type": "code",
   "execution_count": 71,
   "id": "b555396b-4623-48fd-aaf4-5b92906b7286",
   "metadata": {},
   "outputs": [
    {
     "data": {
      "text/plain": [
       "Retail    27395.95\n",
       "Name: Республика Ингушетия, dtype: float64"
      ]
     },
     "execution_count": 71,
     "metadata": {},
     "output_type": "execute_result"
    }
   ],
   "source": [
    "#посмотреть где меньше всего\n",
    "df_retail.loc[df_retail['Retail'].idxmin()]"
   ]
  },
  {
   "cell_type": "code",
   "execution_count": 72,
   "id": "deca9c48-2a76-4071-ac6b-6f83fc592ce3",
   "metadata": {},
   "outputs": [
    {
     "name": "stdout",
     "output_type": "stream",
     "text": [
      "Retail    105878.62\n",
      "dtype: float64\n"
     ]
    }
   ],
   "source": [
    "#Среднее значение по всем регионам:\n",
    "print(df_retail.mean().round(2))"
   ]
  },
  {
   "cell_type": "code",
   "execution_count": 73,
   "id": "0c59296d-5ea5-44b4-99c2-0b6c39765783",
   "metadata": {},
   "outputs": [
    {
     "data": {
      "text/html": [
       "<div>\n",
       "<style scoped>\n",
       "    .dataframe tbody tr th:only-of-type {\n",
       "        vertical-align: middle;\n",
       "    }\n",
       "\n",
       "    .dataframe tbody tr th {\n",
       "        vertical-align: top;\n",
       "    }\n",
       "\n",
       "    .dataframe thead th {\n",
       "        text-align: right;\n",
       "    }\n",
       "</style>\n",
       "<table border=\"1\" class=\"dataframe\">\n",
       "  <thead>\n",
       "    <tr style=\"text-align: right;\">\n",
       "      <th></th>\n",
       "      <th>Регион</th>\n",
       "      <th>Retail</th>\n",
       "    </tr>\n",
       "  </thead>\n",
       "  <tbody>\n",
       "    <tr>\n",
       "      <th>0</th>\n",
       "      <td>Белгородская область</td>\n",
       "      <td>114915.23</td>\n",
       "    </tr>\n",
       "    <tr>\n",
       "      <th>1</th>\n",
       "      <td>Брянская область</td>\n",
       "      <td>109399.95</td>\n",
       "    </tr>\n",
       "    <tr>\n",
       "      <th>2</th>\n",
       "      <td>Владимирская область</td>\n",
       "      <td>87961.45</td>\n",
       "    </tr>\n",
       "  </tbody>\n",
       "</table>\n",
       "</div>"
      ],
      "text/plain": [
       "                 Регион     Retail\n",
       "0  Белгородская область  114915.23\n",
       "1      Брянская область  109399.95\n",
       "2  Владимирская область   87961.45"
      ]
     },
     "execution_count": 73,
     "metadata": {},
     "output_type": "execute_result"
    }
   ],
   "source": [
    "#Сохраним данную таблицу для дальнейшей работы:\n",
    "df_retail.reset_index(inplace=True)\n",
    "df_retail.to_csv('data/total/13_df_retail.csv', index=False)\n",
    "df_retail.head(3)"
   ]
  },
  {
   "cell_type": "markdown",
   "id": "3025caaa-91d1-43f3-ba9d-d5e6d1aa320b",
   "metadata": {},
   "source": [
    "**Вывод: Лидером конечно же является Москва, несмотря на то что среднее значение за 20 лет сильно отличается от сегодняшней ситуации, на втором месте Сахалин, тк там очень дорогая доставка. Меньше всего в Республика Ингушетия автономном округе**"
   ]
  },
  {
   "cell_type": "markdown",
   "id": "4dc0e500-8985-47c8-b708-5006a4c8879d",
   "metadata": {},
   "source": [
    "Проверим правильность сохранения"
   ]
  },
  {
   "cell_type": "code",
   "execution_count": 74,
   "id": "7ffcaf98-d633-4965-aae1-bad56e981626",
   "metadata": {},
   "outputs": [
    {
     "data": {
      "text/html": [
       "<div>\n",
       "<style scoped>\n",
       "    .dataframe tbody tr th:only-of-type {\n",
       "        vertical-align: middle;\n",
       "    }\n",
       "\n",
       "    .dataframe tbody tr th {\n",
       "        vertical-align: top;\n",
       "    }\n",
       "\n",
       "    .dataframe thead th {\n",
       "        text-align: right;\n",
       "    }\n",
       "</style>\n",
       "<table border=\"1\" class=\"dataframe\">\n",
       "  <thead>\n",
       "    <tr style=\"text-align: right;\">\n",
       "      <th></th>\n",
       "      <th>Регион</th>\n",
       "      <th>Retail</th>\n",
       "    </tr>\n",
       "  </thead>\n",
       "  <tbody>\n",
       "    <tr>\n",
       "      <th>0</th>\n",
       "      <td>Белгородская область</td>\n",
       "      <td>114915.23</td>\n",
       "    </tr>\n",
       "    <tr>\n",
       "      <th>1</th>\n",
       "      <td>Брянская область</td>\n",
       "      <td>109399.95</td>\n",
       "    </tr>\n",
       "    <tr>\n",
       "      <th>2</th>\n",
       "      <td>Владимирская область</td>\n",
       "      <td>87961.45</td>\n",
       "    </tr>\n",
       "  </tbody>\n",
       "</table>\n",
       "</div>"
      ],
      "text/plain": [
       "                 Регион     Retail\n",
       "0  Белгородская область  114915.23\n",
       "1      Брянская область  109399.95\n",
       "2  Владимирская область   87961.45"
      ]
     },
     "execution_count": 74,
     "metadata": {},
     "output_type": "execute_result"
    }
   ],
   "source": [
    "df_retail = pd.read_csv('data/total/13_df_retail.csv')\n",
    "df_retail.head(3)"
   ]
  },
  {
   "cell_type": "code",
   "execution_count": null,
   "id": "d746d50a-78c3-41ea-87fb-7820552ebdda",
   "metadata": {},
   "outputs": [],
   "source": []
  }
 ],
 "metadata": {
  "kernelspec": {
   "display_name": "Python 3 (ipykernel)",
   "language": "python",
   "name": "python3"
  },
  "language_info": {
   "codemirror_mode": {
    "name": "ipython",
    "version": 3
   },
   "file_extension": ".py",
   "mimetype": "text/x-python",
   "name": "python",
   "nbconvert_exporter": "python",
   "pygments_lexer": "ipython3",
   "version": "3.9.7"
  }
 },
 "nbformat": 4,
 "nbformat_minor": 5
}
