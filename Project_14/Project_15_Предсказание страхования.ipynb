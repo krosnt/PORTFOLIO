{
 "cells": [
  {
   "cell_type": "markdown",
   "id": "06590674-0bf7-45ac-928c-63e79891eb73",
   "metadata": {},
   "source": [
    "# <CENTER> ML-2. Предсказание медицинских расходов по страховке"
   ]
  },
  {
   "cell_type": "markdown",
   "id": "db710f2f-fc11-487b-9eda-fe1e3040b409",
   "metadata": {},
   "source": [
    "В этот раз мы коснёмся мира медицинского страхования. Нашей целью будет предсказать индивидуальные медицинские расходы граждан США, оплачиваемые медицинской страховкой."
   ]
  },
  {
   "cell_type": "code",
   "execution_count": 1,
   "id": "4f150419-4232-4622-9787-37b25c94d9bf",
   "metadata": {},
   "outputs": [],
   "source": [
    "#импорт библиотек\n",
    "import numpy as np #для матричных вычислений\n",
    "import pandas as pd #для анализа и предобработки данных\n",
    "import matplotlib.pyplot as plt #для визуализации\n",
    "import seaborn as sns #для визуализации\n",
    "\n",
    "from sklearn import linear_model #линейные модели\n",
    "from sklearn import metrics #метрики\n",
    "from sklearn import preprocessing #предобработка\n",
    "from sklearn.model_selection import train_test_split #сплитование выборки\n",
    "%matplotlib inline\n",
    "plt.style.use('seaborn')"
   ]
  },
  {
   "cell_type": "code",
   "execution_count": 2,
   "id": "578bd5fc-5060-4634-8d3b-927c6c49d53e",
   "metadata": {},
   "outputs": [
    {
     "data": {
      "text/html": [
       "<div>\n",
       "<style scoped>\n",
       "    .dataframe tbody tr th:only-of-type {\n",
       "        vertical-align: middle;\n",
       "    }\n",
       "\n",
       "    .dataframe tbody tr th {\n",
       "        vertical-align: top;\n",
       "    }\n",
       "\n",
       "    .dataframe thead th {\n",
       "        text-align: right;\n",
       "    }\n",
       "</style>\n",
       "<table border=\"1\" class=\"dataframe\">\n",
       "  <thead>\n",
       "    <tr style=\"text-align: right;\">\n",
       "      <th></th>\n",
       "      <th>age</th>\n",
       "      <th>sex</th>\n",
       "      <th>bmi</th>\n",
       "      <th>children</th>\n",
       "      <th>smoker</th>\n",
       "      <th>region</th>\n",
       "      <th>charges</th>\n",
       "    </tr>\n",
       "  </thead>\n",
       "  <tbody>\n",
       "    <tr>\n",
       "      <th>0</th>\n",
       "      <td>19</td>\n",
       "      <td>female</td>\n",
       "      <td>27.900</td>\n",
       "      <td>0</td>\n",
       "      <td>yes</td>\n",
       "      <td>southwest</td>\n",
       "      <td>16884.92400</td>\n",
       "    </tr>\n",
       "    <tr>\n",
       "      <th>1</th>\n",
       "      <td>18</td>\n",
       "      <td>male</td>\n",
       "      <td>33.770</td>\n",
       "      <td>1</td>\n",
       "      <td>no</td>\n",
       "      <td>southeast</td>\n",
       "      <td>1725.55230</td>\n",
       "    </tr>\n",
       "    <tr>\n",
       "      <th>2</th>\n",
       "      <td>28</td>\n",
       "      <td>male</td>\n",
       "      <td>33.000</td>\n",
       "      <td>3</td>\n",
       "      <td>no</td>\n",
       "      <td>southeast</td>\n",
       "      <td>4449.46200</td>\n",
       "    </tr>\n",
       "    <tr>\n",
       "      <th>3</th>\n",
       "      <td>33</td>\n",
       "      <td>male</td>\n",
       "      <td>22.705</td>\n",
       "      <td>0</td>\n",
       "      <td>no</td>\n",
       "      <td>northwest</td>\n",
       "      <td>21984.47061</td>\n",
       "    </tr>\n",
       "    <tr>\n",
       "      <th>4</th>\n",
       "      <td>32</td>\n",
       "      <td>male</td>\n",
       "      <td>28.880</td>\n",
       "      <td>0</td>\n",
       "      <td>no</td>\n",
       "      <td>northwest</td>\n",
       "      <td>3866.85520</td>\n",
       "    </tr>\n",
       "  </tbody>\n",
       "</table>\n",
       "</div>"
      ],
      "text/plain": [
       "   age     sex     bmi  children smoker     region      charges\n",
       "0   19  female  27.900         0    yes  southwest  16884.92400\n",
       "1   18    male  33.770         1     no  southeast   1725.55230\n",
       "2   28    male  33.000         3     no  southeast   4449.46200\n",
       "3   33    male  22.705         0     no  northwest  21984.47061\n",
       "4   32    male  28.880         0     no  northwest   3866.85520"
      ]
     },
     "execution_count": 2,
     "metadata": {},
     "output_type": "execute_result"
    }
   ],
   "source": [
    "#читаем выданные данные\n",
    "data = pd.read_csv('data/insurance.csv')\n",
    "data.head()"
   ]
  },
  {
   "cell_type": "markdown",
   "id": "45e13dc1-26ff-429d-bd54-609ad489a3fb",
   "metadata": {},
   "source": [
    "- age — возраст основного бенефициара;\n",
    "- sex — пол страхового подрядчика;\n",
    "- bmi — индекс массы тела (\n",
    "к\n",
    "г\n",
    "м\n",
    "), в идеале — от 18.5 до 24.9;\n",
    "- children — количество детей, охваченных медицинской страховкой;\n",
    "- smoker — является ли человек курящим;\n",
    "- region — жилой район США (северо-восток, юго-восток, северо-запад, юго-запад);\n",
    "- charges (целевой признак) — индивидуальные медицинские расходы, оплачиваемые медицинской страховкой."
   ]
  },
  {
   "cell_type": "code",
   "execution_count": 3,
   "id": "97313f26-f0f1-4940-8fb8-03936ce50aad",
   "metadata": {},
   "outputs": [
    {
     "name": "stdout",
     "output_type": "stream",
     "text": [
      "(1338, 7)\n"
     ]
    }
   ],
   "source": [
    "print(data.shape)"
   ]
  },
  {
   "cell_type": "code",
   "execution_count": 4,
   "id": "40f7bbc5-1698-4695-83ff-af801b4a4400",
   "metadata": {},
   "outputs": [
    {
     "data": {
      "text/plain": [
       "age         0\n",
       "sex         0\n",
       "bmi         0\n",
       "children    0\n",
       "smoker      0\n",
       "region      0\n",
       "charges     0\n",
       "dtype: int64"
      ]
     },
     "metadata": {},
     "output_type": "display_data"
    }
   ],
   "source": [
    "#Выведем информацию о пропусках, так как наличие пропусков не позволит нам построить модель линейной регрессии:\n",
    "display(data.isnull().sum())"
   ]
  },
  {
   "cell_type": "code",
   "execution_count": 5,
   "id": "9301e24c-4009-405c-9aff-ac5865f3c5c9",
   "metadata": {},
   "outputs": [
    {
     "data": {
      "text/plain": [
       "age           int64\n",
       "sex          object\n",
       "bmi         float64\n",
       "children      int64\n",
       "smoker       object\n",
       "region       object\n",
       "charges     float64\n",
       "dtype: object"
      ]
     },
     "metadata": {},
     "output_type": "display_data"
    }
   ],
   "source": [
    "#Посмотрим на типы данных:\n",
    "display(data.dtypes)"
   ]
  },
  {
   "cell_type": "markdown",
   "id": "f4b26426-4365-4f70-b10a-70f79abdd8de",
   "metadata": {},
   "source": [
    "Мы знаем, что модель линейной регрессии не умеет работать с категориальными признаками, поэтому категории необходимо перекодировать.\n",
    "\n",
    "Кодировку будем совершать по следующему принципу:\n",
    "\n",
    "- smoker — переведём в бинарные значения (0 — некурящий, 1 — курящий);\n",
    "- sex — аналогично (0 — female, 1 — male);\n",
    "- region — используем OneHot-кодирование (воспользуемся функцией get_dummies)."
   ]
  },
  {
   "cell_type": "code",
   "execution_count": 6,
   "id": "95786f06-adf8-44fe-ac65-3f01283ca57b",
   "metadata": {},
   "outputs": [
    {
     "data": {
      "text/html": [
       "<div>\n",
       "<style scoped>\n",
       "    .dataframe tbody tr th:only-of-type {\n",
       "        vertical-align: middle;\n",
       "    }\n",
       "\n",
       "    .dataframe tbody tr th {\n",
       "        vertical-align: top;\n",
       "    }\n",
       "\n",
       "    .dataframe thead th {\n",
       "        text-align: right;\n",
       "    }\n",
       "</style>\n",
       "<table border=\"1\" class=\"dataframe\">\n",
       "  <thead>\n",
       "    <tr style=\"text-align: right;\">\n",
       "      <th></th>\n",
       "      <th>age</th>\n",
       "      <th>sex</th>\n",
       "      <th>bmi</th>\n",
       "      <th>children</th>\n",
       "      <th>smoker</th>\n",
       "      <th>charges</th>\n",
       "      <th>region_northeast</th>\n",
       "      <th>region_northwest</th>\n",
       "      <th>region_southeast</th>\n",
       "      <th>region_southwest</th>\n",
       "    </tr>\n",
       "  </thead>\n",
       "  <tbody>\n",
       "    <tr>\n",
       "      <th>0</th>\n",
       "      <td>19</td>\n",
       "      <td>0</td>\n",
       "      <td>27.900</td>\n",
       "      <td>0</td>\n",
       "      <td>1</td>\n",
       "      <td>16884.92400</td>\n",
       "      <td>0</td>\n",
       "      <td>0</td>\n",
       "      <td>0</td>\n",
       "      <td>1</td>\n",
       "    </tr>\n",
       "    <tr>\n",
       "      <th>1</th>\n",
       "      <td>18</td>\n",
       "      <td>1</td>\n",
       "      <td>33.770</td>\n",
       "      <td>1</td>\n",
       "      <td>0</td>\n",
       "      <td>1725.55230</td>\n",
       "      <td>0</td>\n",
       "      <td>0</td>\n",
       "      <td>1</td>\n",
       "      <td>0</td>\n",
       "    </tr>\n",
       "    <tr>\n",
       "      <th>2</th>\n",
       "      <td>28</td>\n",
       "      <td>1</td>\n",
       "      <td>33.000</td>\n",
       "      <td>3</td>\n",
       "      <td>0</td>\n",
       "      <td>4449.46200</td>\n",
       "      <td>0</td>\n",
       "      <td>0</td>\n",
       "      <td>1</td>\n",
       "      <td>0</td>\n",
       "    </tr>\n",
       "    <tr>\n",
       "      <th>3</th>\n",
       "      <td>33</td>\n",
       "      <td>1</td>\n",
       "      <td>22.705</td>\n",
       "      <td>0</td>\n",
       "      <td>0</td>\n",
       "      <td>21984.47061</td>\n",
       "      <td>0</td>\n",
       "      <td>1</td>\n",
       "      <td>0</td>\n",
       "      <td>0</td>\n",
       "    </tr>\n",
       "    <tr>\n",
       "      <th>4</th>\n",
       "      <td>32</td>\n",
       "      <td>1</td>\n",
       "      <td>28.880</td>\n",
       "      <td>0</td>\n",
       "      <td>0</td>\n",
       "      <td>3866.85520</td>\n",
       "      <td>0</td>\n",
       "      <td>1</td>\n",
       "      <td>0</td>\n",
       "      <td>0</td>\n",
       "    </tr>\n",
       "  </tbody>\n",
       "</table>\n",
       "</div>"
      ],
      "text/plain": [
       "   age  sex     bmi  children  smoker      charges  region_northeast  \\\n",
       "0   19    0  27.900         0       1  16884.92400                 0   \n",
       "1   18    1  33.770         1       0   1725.55230                 0   \n",
       "2   28    1  33.000         3       0   4449.46200                 0   \n",
       "3   33    1  22.705         0       0  21984.47061                 0   \n",
       "4   32    1  28.880         0       0   3866.85520                 0   \n",
       "\n",
       "   region_northwest  region_southeast  region_southwest  \n",
       "0                 0                 0                 1  \n",
       "1                 0                 1                 0  \n",
       "2                 0                 1                 0  \n",
       "3                 1                 0                 0  \n",
       "4                 1                 0                 0  "
      ]
     },
     "execution_count": 6,
     "metadata": {},
     "output_type": "execute_result"
    }
   ],
   "source": [
    "#кодируем бинарные категориальные признаки\n",
    "data['smoker'] = data['smoker'].apply(lambda x: 0 if x == 'no' else 1)\n",
    "data['sex'] = data['sex'].apply(lambda x: 0 if x == 'female' else 1)\n",
    "#оставшиеся категориальные признаки кодируем с помощью OneHot\n",
    "data = pd.get_dummies(data)\n",
    "data.head()"
   ]
  },
  {
   "cell_type": "code",
   "execution_count": 7,
   "id": "6df6f7c0-9808-4b4e-ac15-0fab95e4755e",
   "metadata": {},
   "outputs": [],
   "source": [
    "#Выделим факторы и целевой признак в отдельные таблицы:\n",
    "\n",
    "features = data.drop('charges', axis=1).columns\n",
    "X, y = data[features], data['charges']"
   ]
  },
  {
   "cell_type": "markdown",
   "id": "ca1a02c5-2cf8-4b49-b081-0f283f05de04",
   "metadata": {},
   "source": [
    "**Задание 6.1\n",
    "Прежде чем переходить к этапу моделирования, нам необходимо позаботиться о создании выборки для тестирования модели.\n",
    "Разделите набор данных на тренировочную и тестовую выборки в соотношении 80/20. Воспользуйтесь функцией train_test_split.\n",
    "В качестве значения параметра random_state укажите число 42.\n",
    "Чему равно количество наблюдений в тестовом наборе данных?**"
   ]
  },
  {
   "cell_type": "code",
   "execution_count": 8,
   "id": "4ad83e64-2671-4566-af47-3c048273fcf7",
   "metadata": {},
   "outputs": [
    {
     "name": "stdout",
     "output_type": "stream",
     "text": [
      "Train: (1070, 9)\n",
      "Test: (268, 9)\n"
     ]
    }
   ],
   "source": [
    "features = data.drop('charges', axis=1).columns\n",
    "X, y = data[features], data['charges']\n",
    "X_train, X_test, y_train, y_test = train_test_split(X, y, random_state=42, test_size=0.2)\n",
    "print('Train:', X_train.shape)\n",
    "print('Test:', X_test.shape)"
   ]
  },
  {
   "cell_type": "markdown",
   "id": "6d4695b7-1b2a-4ec2-957c-03fe96390172",
   "metadata": {},
   "source": [
    "**Задание 6.2\n",
    "Обучите модель линейной регрессии аналитическим методом (LinearRegression) на тренировочном наборе данных. Все параметры оставьте по умолчанию.\n",
    "Чему равен свободный член (intercept) обученной модели? Ответ округлите до сотых.**"
   ]
  },
  {
   "cell_type": "code",
   "execution_count": 12,
   "id": "460034e7-f498-4f5c-9b5d-2e61ded0a916",
   "metadata": {},
   "outputs": [
    {
     "name": "stdout",
     "output_type": "stream",
     "text": [
      "-12390.8\n"
     ]
    }
   ],
   "source": [
    "lr_model = linear_model.LinearRegression()\n",
    "lr_model.fit(X_train, y_train)\n",
    "print(np.round(lr_model.intercept_, 2))\n",
    "y_train_predict = lr_model.predict(X_train)\n",
    "y_test_predict = lr_model.predict(X_test)"
   ]
  },
  {
   "cell_type": "markdown",
   "id": "0d1dea0e-d512-4ded-8a26-0086052b5058",
   "metadata": {},
   "source": [
    "**Задание 6.3\n",
    "С помощью модели, полученной в предыдущем задании, сделайте предсказание на тренировочной и тестовой выборке. Рассчитайте метрики. Не забудьте привести значение MAPE к процентам.\n",
    "Значение R2 округлите до трёх знаков после точки-разделителя, а значения MAE и MAPE — до целого числа.\n",
    "Чему равны значения метрик на тренировочной и тестовой выборках?**"
   ]
  },
  {
   "cell_type": "code",
   "execution_count": 13,
   "id": "d866fd34-f466-4d0c-84ae-5be86d841f50",
   "metadata": {},
   "outputs": [],
   "source": [
    "def print_metrics(y_train, y_train_predict, y_test, y_test_predict):\n",
    "    print('Train R^2: {:.3f}'.format(metrics.r2_score(y_train, y_train_predict)))\n",
    "    print('Train MAE: {:.0f}'.format(metrics.mean_absolute_error(y_train, y_train_predict)))\n",
    "    print('Train MAPE: {:.0f}'.format(metrics.mean_absolute_percentage_error(y_train, y_train_predict)*100))\n",
    "    print('\\n')\n",
    "    print('Test R^2: {:.3f}'.format(metrics.r2_score(y_test, y_test_predict)))\n",
    "    print('Test MAE: {:.0f}'.format(metrics.mean_absolute_error(y_test, y_test_predict)))\n",
    "    print('Test MAPE: {:.0f}'.format(metrics.mean_absolute_percentage_error(y_test, y_test_predict)*100))"
   ]
  },
  {
   "cell_type": "code",
   "execution_count": 14,
   "id": "33dc57d2-cd99-4cb9-a88e-175e5445fe49",
   "metadata": {},
   "outputs": [
    {
     "name": "stdout",
     "output_type": "stream",
     "text": [
      "Train R^2: 0.742\n",
      "Train MAE: 4208\n",
      "Train MAPE: 42\n",
      "\n",
      "\n",
      "Test R^2: 0.784\n",
      "Test MAE: 4181\n",
      "Test MAPE: 47\n"
     ]
    }
   ],
   "source": [
    "#Инициализируем объект класса линейная регрессия\n",
    "lr = linear_model.LinearRegression()\n",
    "#Обучаем модель - ищем параметры\n",
    "lr.fit(X_train, y_train)\n",
    "#Делаем предсказание для каждой из выборок\n",
    "y_train_pred = lr.predict(X_train)\n",
    "y_test_pred = lr.predict(X_test)\n",
    "#Выводим результирующие метрики\n",
    "print_metrics(y_train, y_train_pred, y_test, y_test_pred)"
   ]
  },
  {
   "cell_type": "markdown",
   "id": "b63154b6-8fc3-4c44-a6dc-2baa68f6b23e",
   "metadata": {},
   "source": [
    "**Задание 6.4\n",
    "Постройте диаграмму boxplot для визуализации ошибок модели линейной регрессии на тренировочной и тестовой выборках. В качестве ошибки возьмите разницу между истинным ответом и предсказанием:  (без модуля).**"
   ]
  },
  {
   "cell_type": "code",
   "execution_count": 15,
   "id": "e242050f-678b-47cc-89a4-522984975309",
   "metadata": {},
   "outputs": [
    {
     "data": {
      "image/png": "[encoded data removed]",
      "text/plain": [
       "<Figure size 864x432 with 1 Axes>"
      ]
     },
     "metadata": {},
     "output_type": "display_data"
    }
   ],
   "source": [
    "\n",
    "#Визуализируем ошибки\n",
    "fig, ax = plt.subplots(figsize=(12, 6)) #фигура + координатная плоскость\n",
    "#Ошибки модели на тренировочной выборке \n",
    "y_train_errors = y_train - lr_model.predict(X_train)\n",
    "#Ошибки модели на тестовой выборке\n",
    "y_test_errors = y_test - lr_model.predict(X_test)\n",
    "#Для удобства визуализации составим DataFrame из ошибок\n",
    "predict_df = pd.DataFrame(\n",
    "    {'Train errors': y_train_errors, \n",
    "     'Test errors': y_test_errors\n",
    "    }\n",
    ")\n",
    "#Строим boxplot для ошибок\n",
    "sns.boxplot(data=predict_df, orient='h', ax=ax)\n",
    "ax.set_xlabel('Model errors') #название оси абсцисс\n",
    "ax.set_ylabel('Model'); #название оси ординат"
   ]
  },
  {
   "cell_type": "markdown",
   "id": "21886c1b-4819-4908-8350-b37dcabf80bc",
   "metadata": {},
   "source": [
    "**Задание 6.5\n",
    "Нормализуйте тренировочную и тестовую выборки с помощью min-max-нормализации (MinMaxScaler). Расчёт параметров нормализации (fit) произведите на тренировочной выборке.\n",
    "Примечание. Min-max-нормализация не искажает изначальный вид бинарных категориальных признаков, в отличие от стандартизации.\n",
    "На нормализованных данных сгенерируйте полиномиальные признаки степени 2. Воспользуйтесь классом PolynomialFeatures из библиотеки sklearn. Значение параметра include_bias выставите на False.\n",
    "Чему равно результирующее количество столбцов?**"
   ]
  },
  {
   "cell_type": "code",
   "execution_count": 16,
   "id": "5e1985b4-3e16-444d-8895-ba23e64db1d2",
   "metadata": {},
   "outputs": [
    {
     "name": "stdout",
     "output_type": "stream",
     "text": [
      "(1070, 54)\n"
     ]
    }
   ],
   "source": [
    "scaler = preprocessing.MinMaxScaler()\n",
    "scaler.fit(X_train)\n",
    "X_train_scaled = scaler.transform(X_train)\n",
    "X_test_scaled = scaler.transform(X_test)\n",
    "\n",
    "poly = preprocessing.PolynomialFeatures(degree=2, include_bias=False)\n",
    "poly.fit(X_train_scaled)\n",
    "X_train_scaled_poly = poly.transform(X_train_scaled)\n",
    "X_test_scaled_poly = poly.transform(X_test_scaled)\n",
    "print(X_train_scaled_poly.shape)"
   ]
  },
  {
   "cell_type": "markdown",
   "id": "ac08bbd6-a62d-4c33-9a75-cced9322b446",
   "metadata": {},
   "source": [
    "**Задание 6.6\n",
    "Обучите модель линейной регрессии на полиномиальных признаках.\n",
    "Чему равно значение метрики R2 на тестовой выборке?\n",
    "Значение R2 округлите до трёх знаков после запятой.**"
   ]
  },
  {
   "cell_type": "code",
   "execution_count": 17,
   "id": "6ab48c3b-6c1b-493a-9cb5-22029a06e38f",
   "metadata": {},
   "outputs": [
    {
     "name": "stdout",
     "output_type": "stream",
     "text": [
      "Train R^2: 0.842\n",
      "Train MAE: 2889\n",
      "Train MAPE: 29\n",
      "\n",
      "\n",
      "Test R^2: 0.866\n",
      "Test MAE: 2729\n",
      "Test MAPE: 30\n"
     ]
    }
   ],
   "source": [
    "lr_poly = linear_model.LinearRegression()\n",
    "lr_poly.fit(X_train_scaled_poly, y_train)\n",
    "\n",
    "y_train_predict = lr_poly.predict(X_train_scaled_poly)\n",
    "y_test_predict = lr_poly.predict(X_test_scaled_poly)\n",
    "print_metrics(y_train, y_train_predict, y_test, y_test_predict)"
   ]
  },
  {
   "cell_type": "markdown",
   "id": "12dc0adc-f0cd-49e7-b739-96dbf1b60624",
   "metadata": {},
   "source": [
    "**Задание 6.7\n",
    "Выведите значения коэффициентов полученной модели. Посмотрите на степени коэффициентов.\n",
    "Какой вывод можно сделать?**"
   ]
  },
  {
   "cell_type": "code",
   "execution_count": 18,
   "id": "8f271ee0-5dfe-4489-8fe4-84df5dba33e1",
   "metadata": {},
   "outputs": [
    {
     "name": "stdout",
     "output_type": "stream",
     "text": [
      "[ 5.37291384e+15  1.22699888e+16 -1.30044415e+16  3.55439573e+15\n",
      "  1.97365561e+16 -3.84512981e+16 -3.45575635e+16  6.62059015e+15\n",
      "  9.53658262e+16  8.41200000e+03  8.24000000e+02  8.44000000e+02\n",
      " -1.59200000e+03  1.10000000e+02 -5.37291384e+15 -5.37291384e+15\n",
      " -5.37291384e+15 -5.37291384e+15 -7.66905167e+14  6.08000000e+02\n",
      " -1.26600000e+03  3.24000000e+02 -1.15030836e+16 -1.15030836e+16\n",
      " -1.15030836e+16 -1.15030836e+16 -9.67000000e+03  1.62700000e+03\n",
      "  5.47555000e+04  1.30044415e+16  1.30044415e+16  1.30044415e+16\n",
      "  1.30044415e+16 -2.11200000e+03 -2.25500000e+03 -3.55439573e+15\n",
      " -3.55439573e+15 -3.55439573e+15 -3.55439573e+15 -2.01952638e+16\n",
      "  4.58707638e+14  4.58707638e+14  4.58707638e+14  4.58707638e+14\n",
      " -3.12600221e+16  0.00000000e+00  0.00000000e+00  0.00000000e+00\n",
      " -3.51537567e+16  0.00000000e+00  0.00000000e+00 -7.63319104e+16\n",
      "  0.00000000e+00 -1.65077146e+17]\n"
     ]
    }
   ],
   "source": [
    "print(lr_poly.coef_)"
   ]
  },
  {
   "cell_type": "markdown",
   "id": "11f9c28d-4b9f-44e2-9a5d-e609fad51738",
   "metadata": {},
   "source": [
    "Вывод: Значения коэффициентов очень высокие, модель неустойчива, необходима регуляризация. верно"
   ]
  },
  {
   "cell_type": "markdown",
   "id": "0bd1d1b0-7659-4ef5-9048-e7f1e710dcb5",
   "metadata": {},
   "source": [
    "**Задание 6.8\n",
    "Постройте линейную регрессию с L1-регуляризацией (Lasso) на полиномиальных признаках. В качестве параметра alpha используйте значение по умолчанию, параметр max_iter установите в значение 2000.\n",
    "Чему равны метрики ,  и  на тестовой выборке?\n",
    "Значение  округлите до трёх знаков после запятой, а значения  и  до целого числа.**"
   ]
  },
  {
   "cell_type": "code",
   "execution_count": 19,
   "id": "adaf07f1-7420-4f9e-8e48-b9511e335e17",
   "metadata": {},
   "outputs": [
    {
     "name": "stdout",
     "output_type": "stream",
     "text": [
      "Train R^2: 0.842\n",
      "Train MAE: 2889\n",
      "Train MAPE: 29\n",
      "\n",
      "\n",
      "Test R^2: 0.867\n",
      "Test MAE: 2718\n",
      "Test MAPE: 30\n",
      "[ 3254.29444013  -497.77667434  5082.44296811  4579.96903719\n",
      " 11174.5885881     92.27997327  -474.0824118    585.76537158\n",
      "  -243.94757338  8291.3159849    776.44311147   834.79828593\n",
      " -1211.25190072   133.7834509  -1044.725423      -0.\n",
      "  1169.28596708  1614.02590931    -0.           511.03215486\n",
      " -1132.38078219   266.01794461 -1221.18415878     0.\n",
      "   239.00186822  -577.34015094 -8185.15426742  1294.30664583\n",
      " 54733.92609325  3582.81956575  2403.95450092  -968.57471909\n",
      "    -0.         -1670.63577613 -2056.02514315  1943.04187366\n",
      "  1954.4503939      0.         -1061.93641958 -8575.11156654\n",
      "    -0.          -592.75085202  -851.52193562  1359.94923273\n",
      "   723.55006857     0.             0.             0.\n",
      "    -0.             0.             0.             0.\n",
      "     0.            -0.        ]\n"
     ]
    },
    {
     "name": "stderr",
     "output_type": "stream",
     "text": [
      "/opt/anaconda3/lib/python3.9/site-packages/sklearn/linear_model/_coordinate_descent.py:530: ConvergenceWarning: Objective did not converge. You might want to increase the number of iterations. Duality gap: 1292406126.1226006, tolerance: 15443697.546846814\n",
      "  model = cd_fast.enet_coordinate_descent(\n"
     ]
    }
   ],
   "source": [
    "lasso_lr_poly = linear_model.Lasso()\n",
    "lasso_lr_poly.fit(X_train_scaled_poly, y_train)\n",
    "\n",
    "y_train_predict = lasso_lr_poly.predict(X_train_scaled_poly)\n",
    "y_test_predict = lasso_lr_poly.predict(X_test_scaled_poly)\n",
    "\n",
    "print_metrics(y_train, y_train_predict, y_test, y_test_predict)\n",
    "\n",
    "print(lasso_lr_poly.coef_)"
   ]
  },
  {
   "cell_type": "markdown",
   "id": "8fa610ea-2112-4c90-b5b6-37fe78a07b37",
   "metadata": {},
   "source": [
    "Вывод: параметры пришли к нормальным значениям, что говорит об устойчивости модели."
   ]
  },
  {
   "cell_type": "markdown",
   "id": "c889432c-fc88-4bb6-ab34-1a60186cb41b",
   "metadata": {},
   "source": [
    "**Задание 6.9\n",
    "Постройте линейную регрессию с L2-регуляризацией на полиномиальных признаках. В качестве параметра alpha используйте значение по умолчанию.\n",
    "Чему равны метрики ,  и  на тестовой выборке?\n",
    "Значение  округлите до трёх знаков после запятой, а значения  и  до целого числа.**"
   ]
  },
  {
   "cell_type": "code",
   "execution_count": 20,
   "id": "6a8e8cc9-f72e-4fa4-9957-cd72c467f877",
   "metadata": {},
   "outputs": [
    {
     "name": "stdout",
     "output_type": "stream",
     "text": [
      "Train R^2: 0.839\n",
      "Train MAE: 2949\n",
      "Train MAPE: 30\n",
      "\n",
      "\n",
      "Test R^2: 0.863\n",
      "Test MAE: 2861\n",
      "Test MAPE: 31\n"
     ]
    }
   ],
   "source": [
    "ridge_lr_poly = linear_model.Ridge()\n",
    "ridge_lr_poly.fit(X_train_scaled_poly, y_train)\n",
    "\n",
    "y_train_predict = ridge_lr_poly.predict(X_train_scaled_poly)\n",
    "y_test_predict = ridge_lr_poly.predict(X_test_scaled_poly)\n",
    "\n",
    "print_metrics(y_train, y_train_predict, y_test, y_test_predict)"
   ]
  },
  {
   "cell_type": "code",
   "execution_count": null,
   "id": "b7ac8aa0-f727-40d5-bc14-ee6125650bb5",
   "metadata": {},
   "outputs": [],
   "source": []
  }
 ],
 "metadata": {
  "kernelspec": {
   "display_name": "Python 3 (ipykernel)",
   "language": "python",
   "name": "python3"
  },
  "language_info": {
   "codemirror_mode": {
    "name": "ipython",
    "version": 3
   },
   "file_extension": ".py",
   "mimetype": "text/x-python",
   "name": "python",
   "nbconvert_exporter": "python",
   "pygments_lexer": "ipython3",
   "version": "3.9.7"
  }
 },
 "nbformat": 4,
 "nbformat_minor": 5
}
